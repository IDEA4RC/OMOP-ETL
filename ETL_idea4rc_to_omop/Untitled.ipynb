{
 "cells": [
  {
   "cell_type": "markdown",
   "id": "2580f112",
   "metadata": {},
   "source": [
    "# HOSPITAL to OMOP CDM\n"
   ]
  },
  {
   "cell_type": "markdown",
   "id": "16a9143f",
   "metadata": {},
   "source": [
    "Reservo este espacio para anotaciones y dudas"
   ]
  },
  {
   "cell_type": "code",
   "execution_count": null,
   "id": "af35e52e",
   "metadata": {},
   "outputs": [],
   "source": [
    "import pandas as pd\n",
    "import psycopg2\n",
    "import random\n",
    "import numpy as np\n",
    "from datetime import datetime, timedelta\n",
    "\n",
    "def get_random_value(val):\n",
    "    if isinstance(val, tuple):\n",
    "        return np.random.choice(val)\n",
    "    return val"
   ]
  },
  {
   "cell_type": "code",
   "execution_count": null,
   "id": "18179aa6",
   "metadata": {},
   "outputs": [],
   "source": [
    "# Leer datos del archivo CSV\n",
    "df_hospital_IDEA4RC = pd.read_csv(\"./IDEA4RC-data/hospitalDataIDEA4RC.csv\")\n",
    "df_hospital_IDEA4RC.head(5)"
   ]
  },
  {
   "cell_type": "code",
   "execution_count": null,
   "id": "f79e19cb",
   "metadata": {},
   "outputs": [],
   "source": [
    "# Conexión a la base de datos OMOP CDM\n",
    "conn = psycopg2.connect(\n",
    "    dbname=\"omopdb\",\n",
    "    user=\"postgres\",\n",
    "    password=\"mysecretpassword\",\n",
    "    host=\"omop_postgres\",\n",
    "    port=\"5432\"\n",
    ")\n",
    "\n",
    "# Comando para hacer el mapeo (insercción de datos del IDEA4RC.csv a OMOP)\n",
    "cur = conn.cursor()"
   ]
  },
  {
   "cell_type": "code",
   "execution_count": null,
   "id": "84e6c726-23e1-4bdc-9e91-c3711e0ec3e0",
   "metadata": {},
   "outputs": [],
   "source": [
    "hospital_mapping = 'Hospital Name'\n",
    "df_table = pd.DataFrame()\n",
    "df_table.index = range(len(df_hospital_IDEA4RC))\n",
    "sql = \"\"\"\n",
    "    INSERT INTO omopcdm.care_site (care_site_name)\n",
    "    VALUES (%s)\n",
    "\"\"\"\n",
    "\n",
    "cur.executemany(sql, zip(df_hospital_IDEA4RC['Hospital Name']))\n",
    "conn.commit()\n",
    "#Partiendo de todo lo que está ya hecho, esto debería de tener sentido."
   ]
  }
 ],
 "metadata": {
  "kernelspec": {
   "display_name": "Python 3 (ipykernel)",
   "language": "python",
   "name": "python3"
  },
  "language_info": {
   "codemirror_mode": {
    "name": "ipython",
    "version": 3
   },
   "file_extension": ".py",
   "mimetype": "text/x-python",
   "name": "python",
   "nbconvert_exporter": "python",
   "pygments_lexer": "ipython3",
   "version": "3.10.12"
  }
 },
 "nbformat": 4,
 "nbformat_minor": 5
}
