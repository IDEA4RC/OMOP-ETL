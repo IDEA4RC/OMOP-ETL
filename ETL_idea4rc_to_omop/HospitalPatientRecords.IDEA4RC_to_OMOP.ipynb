{
 "cells": [
  {
   "cell_type": "code",
   "execution_count": null,
   "id": "c7a7e612-d4ca-4010-be5d-b224459b37db",
   "metadata": {},
   "outputs": [],
   "source": [
    "import pandas as pd\n",
    "import psycopg2\n",
    "import random\n",
    "import numpy as np\n",
    "from datetime import datetime, timedelta"
   ]
  },
  {
   "cell_type": "code",
   "execution_count": null,
   "id": "994dbb57-7e09-44a7-b50b-bb054f636716",
   "metadata": {},
   "outputs": [],
   "source": [
    "#Leemos el CSV generado con datos aleatorios antes\n",
    "df_hospitalPatientRecords_IDEA4RC = pd.read_csv(\"./IDEA4RC-data/hospitalPatientsRecordIDEA4RC.csv\")\n",
    "df_hospitalPatientRecords_IDEA4RC.head(5)"
   ]
  },
  {
   "cell_type": "markdown",
   "id": "65161602-de44-4203-a9b0-1d748fc7aed1",
   "metadata": {},
   "source": [
    "Ahora vamos a querer comprobar que la conexión se estableció correctamente"
   ]
  },
  {
   "cell_type": "code",
   "execution_count": null,
   "id": "c706f395-f799-44d2-917a-31038cfe1da0",
   "metadata": {},
   "outputs": [],
   "source": [
    "conn_params = {\n",
    "    'dbname': 'omopdb',\n",
    "    'user': 'postgres',\n",
    "    'password': 'mysecretpassword',\n",
    "    'host': 'omop_postgres',\n",
    "    'port': '5432'\n",
    "}\n",
    "\n",
    "try:\n",
    "    # Conexión a la base de datos\n",
    "    conn = psycopag2.connect(**conn_params)\n",
    "    cur = conn.cursor()\n",
    "    \n",
    "    # Verifica la base de datos actual\n",
    "    cur.execute(\"SELECT current_database();\")\n",
    "    current_db = cur.fetchone()[0]\n",
    "    print(\"Base de datos actual:\", current_db)\n",
    "    \n",
    "    # Verifica el esquema y tablas disponibles\n",
    "    cur.execute(\"SELECT table_schema, table_name FROM information_schema.tables WHERE table_name = 'visit_occurrence';\")\n",
    "    tables = cur.fetchall()\n",
    "    if not tables:\n",
    "        print(\"La tabla 'care_site' no existe.\")\n",
    "    else:\n",
    "        print(\"Tabla 'care_site' encontrada en los siguientes esquemas:\", tables)\n",
    "    \n",
    "except Exception as e:\n",
    "    print(\"Ocurrió un error:\", e)"
   ]
  },
  {
   "cell_type": "code",
   "execution_count": null,
   "id": "de9280ec-cda9-4c5a-922b-9e719afca744",
   "metadata": {},
   "outputs": [],
   "source": [
    "df_table = pd.DataFrame()\n",
    "df_table.index = range(len(df_hospitalPatientRecords_IDEA4RC))\n",
    "sql = \"\"\"\n",
    "    INSERT INTO public.visit_occurence (visit_occurrence_id,person_id,care_site_id,visit_start_date)\n",
    "    VALUES (%s,%s,%s,%s)\n",
    "\"\"\"\n",
    "cur.executemany(sql, zip(df_hospitalPatientRecords_IDEA4RC['id'],df_hospitalPatientRecords_IDEA4RC['Patient'],\n",
    "                         df_hospitalPatientRecords_IDEA4RC['Hospital'],df_hospitalPatientRecords_IDEA4RC['Date of first contact with the hospital']))\n",
    "conn.commit()\n",
    "#Partiendo de todo lo que está ya hecho, esto debería de tener sentido."
   ]
  }
 ],
 "metadata": {
  "kernelspec": {
   "display_name": "Python 3 (ipykernel)",
   "language": "python",
   "name": "python3"
  },
  "language_info": {
   "codemirror_mode": {
    "name": "ipython",
    "version": 3
   },
   "file_extension": ".py",
   "mimetype": "text/x-python",
   "name": "python",
   "nbconvert_exporter": "python",
   "pygments_lexer": "ipython3",
   "version": "3.10.12"
  }
 },
 "nbformat": 4,
 "nbformat_minor": 5
}
