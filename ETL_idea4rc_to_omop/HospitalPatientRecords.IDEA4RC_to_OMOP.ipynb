{
 "cells": [
  {
   "cell_type": "markdown",
   "id": "c8ec626c",
   "metadata": {},
   "source": [
    "# HOSPITAL PATIENT RECORDS to OMOP\n",
    "\n",
    "This is mainly mapped to visit occurrence following: https://docs.google.com/spreadsheets/d/1Vw1Dr2K4oG__cDQTutGaJhZvGUvQTLwc4qWreP6qMSs/edit?gid=571393688#gid=571393688\n",
    "\n",
    "We still need visit_concept_id"
   ]
  },
  {
   "cell_type": "code",
   "execution_count": null,
   "id": "c7a7e612-d4ca-4010-be5d-b224459b37db",
   "metadata": {},
   "outputs": [],
   "source": [
    "import mysql.connector\n",
    "import pandas as pd\n",
    "import psycopg2\n",
    "import random\n",
    "import numpy as np\n",
    "from datetime import datetime, timedelta"
   ]
  },
  {
   "cell_type": "code",
   "execution_count": null,
   "id": "994dbb57-7e09-44a7-b50b-bb054f636716",
   "metadata": {},
   "outputs": [],
   "source": [
    "df_hospitalPatientRecords_IDEA4RC = pd.read_csv(\"./IDEA4RC-data/hospitalPatientsRecordIDEA4RC.csv\")\n",
    "df_hospitalPatientRecords_IDEA4RC.head(5)"
   ]
  },
  {
   "cell_type": "markdown",
   "id": "65161602-de44-4203-a9b0-1d748fc7aed1",
   "metadata": {},
   "source": [
    "### Hospital Patient Records to Visit Occurrence"
   ]
  },
  {
   "cell_type": "code",
   "execution_count": null,
   "id": "c706f395-f799-44d2-917a-31038cfe1da0",
   "metadata": {},
   "outputs": [],
   "source": [
    "conn_params = {\n",
    "    'dbname': 'omopdb',\n",
    "    'user': 'postgres',\n",
    "    'password': 'mysecretpassword',\n",
    "    'host': 'omop_postgres',\n",
    "    'port': '5432'\n",
    "}\n",
    "\n",
    "try:\n",
    "    conn = psycopg2.connect(**conn_params)\n",
    "    cur = conn.cursor()\n",
    "    \n",
    "    cur.execute(\"SELECT current_database();\")\n",
    "    current_db = cur.fetchone()[0]\n",
    "    print(\"Base de datos actual:\", current_db)\n",
    "    \n",
    "    cur.execute(\"SELECT table_schema, table_name FROM information_schema.tables WHERE table_name = 'visit_occurrence';\")\n",
    "    tables = cur.fetchall()\n",
    "    if not tables:\n",
    "        print(\"Table does not exist\")\n",
    "    else:\n",
    "        print(\"Table found in:\", tables)\n",
    "    \n",
    "except Exception as e:\n",
    "    print(\"Ocurrió un error:\", e)"
   ]
  },
  {
   "cell_type": "markdown",
   "id": "503b92c9",
   "metadata": {},
   "source": [
    "### From Hospital Patient Records to Visit Occurrence"
   ]
  },
  {
   "cell_type": "code",
   "execution_count": null,
   "id": "de9280ec-cda9-4c5a-922b-9e719afca744",
   "metadata": {},
   "outputs": [],
   "source": [
    "df_table = pd.DataFrame()\n",
    "df_table.index = range(len(df_hospitalPatientRecords_IDEA4RC))\n",
    "sql = \"\"\"\n",
    "    INSERT INTO public.visit_occurence (person_id,care_site_id,visit_start_date,visit_concept_id)\n",
    "    VALUES (%s,%s,%s)\n",
    "\"\"\"\n",
    "sqlGetCareSite = \"\"\"\n",
    "    SELECT care_site_id FROM care_site WHERE care_site_name = %s\n",
    "\"\"\"\n",
    "for index, row in df_hospitalPatientRecords_IDEA4RC.iterrows():\n",
    "    cur.execute(sqlGetCareSite, (row['Hospital']))\n",
    "    care_site_id = cur.fetchone()[0]\n",
    "    visit_concept_id=???\n",
    "    cur.execute(sql, (row['Patient'],care_site_id,row['Date of first contact with the hospital'],visit_concept_id))\n",
    "    conn.commit()\n",
    "\n",
    "cur.close()"
   ]
  }
 ],
 "metadata": {
  "kernelspec": {
   "display_name": "Python 3 (ipykernel)",
   "language": "python",
   "name": "python3"
  },
  "language_info": {
   "codemirror_mode": {
    "name": "ipython",
    "version": 3
   },
   "file_extension": ".py",
   "mimetype": "text/x-python",
   "name": "python",
   "nbconvert_exporter": "python",
   "pygments_lexer": "ipython3",
   "version": "3.10.12"
  }
 },
 "nbformat": 4,
 "nbformat_minor": 5
}
