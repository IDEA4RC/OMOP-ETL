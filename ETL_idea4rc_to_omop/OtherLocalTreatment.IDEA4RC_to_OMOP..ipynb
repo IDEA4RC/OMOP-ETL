{
 "cells": [
  {
   "cell_type": "markdown",
   "id": "fb36b6f5-0d70-4b9e-a7b0-5bb93d3f4e88",
   "metadata": {},
   "source": [
    "# Other Local Treatment to OMOP"
   ]
  },
  {
   "cell_type": "markdown",
   "id": "e0b841c4",
   "metadata": {},
   "source": [
    "For the treatments, we follow the mapping in https://docs.google.com/spreadsheets/d/1Vw1Dr2K4oG__cDQTutGaJhZvGUvQTLwc4qWreP6qMSs/edit?gid=857671519#gid=857671519\n",
    "\n",
    "This is mainly mapped to episode, procedure occurrence"
   ]
  },
  {
   "cell_type": "code",
   "execution_count": null,
   "id": "0d858aa2-d10d-4632-8a5a-8edf1759adee",
   "metadata": {},
   "outputs": [],
   "source": [
    "import mysql.connector\n",
    "import pandas as pd\n",
    "import psycopg2\n",
    "import random\n",
    "import numpy as np\n",
    "from datetime import datetime, timedelta"
   ]
  },
  {
   "cell_type": "code",
   "execution_count": null,
   "id": "b72cf5f7-10fd-44fb-96f8-bda36fa1f56b",
   "metadata": {},
   "outputs": [],
   "source": [
    "other_local_treatment_IDEA4RC = pd.read_csv(\"./IDEA4RC-data/otherLocalTreatmentIDEA4RC.csv\")\n",
    "other_local_treatment_IDEA4RC.head(5)"
   ]
  },
  {
   "cell_type": "code",
   "execution_count": null,
   "id": "a30226c4-4a19-4adc-bc3a-bfe0b4eabf06",
   "metadata": {},
   "outputs": [],
   "source": [
    "conn = psycopg2.connect(\n",
    "    dbname=\"omopdb\",\n",
    "    user=\"postgres\",\n",
    "    password=\"mysecretpassword\",\n",
    "    host=\"localhost\",\n",
    "    port=\"5432\"\n",
    ")\n",
    "\n",
    "cur = conn.cursor()\n",
    "config = {\n",
    "    'user': 'user', \n",
    "    'password': 'password',\n",
    "    'host': '127.0.0.1',\n",
    "    'database': 'idea4rc_dm',\n",
    "    'raise_on_warnings': True\n",
    "}\n",
    "\n",
    "conn2 = mysql.connector.connect(**config)\n",
    "curIDEA = conn2.cursor()"
   ]
  },
  {
   "cell_type": "markdown",
   "id": "7ff78d51",
   "metadata": {},
   "source": [
    "### Doubts\n",
    "\n",
    "\n",
    "\n",
    "![First image](images/OtherTreatmentIDEA1.png)\n",
    "\n"
   ]
  },
  {
   "cell_type": "markdown",
   "id": "772f5f97-b6cd-47ab-acce-03f166877522",
   "metadata": {},
   "source": [
    "### Other Local Treatment to Episode"
   ]
  },
  {
   "cell_type": "code",
   "execution_count": null,
   "id": "81c09bd2-55b3-4341-9c62-9eaf83b67647",
   "metadata": {},
   "outputs": [],
   "source": [
    "from uuid import uuid4\n",
    "\n",
    "\n",
    "df_tables = other_local_treatment_IDEA4RC\n",
    "sql = \"\"\"\n",
    "INSERT INTO EPISODE (episode_id,person_id, episode_start_date, episode_end_date, episode_concept_id,episode_type_concept_id, parent_episode_id)\n",
    "VALUES (%s,%s,%s,%s,%s,%s,%s)\n",
    "\"\"\"\n",
    "queryPerson=\"\"\"\n",
    "    SELECT e.patient_id FROM cancer_episode e\n",
    "    INNER JOIN episode_event v ON e.id=v.cancer_episode\n",
    "    INNER JOIN systemic_treatment st ON st.episode_event=v.id\n",
    "    WHERE st.id=%s\n",
    "\"\"\"    \n",
    "\n",
    "queryDate=\"\"\"\n",
    "    SELECT episode_start_date\n",
    "    FROM cancer_episode\n",
    "    WHERE id = %s\n",
    "\"\"\"\n",
    "sqlGetEpisode = \"\"\"\n",
    "    SELECT c.id \n",
    "    FROM episode c\n",
    "    WHERE c.person_id = %s\n",
    "    AND c.episode_start_date = %s\n",
    "    LIMIT 1\n",
    "\"\"\"\n",
    "df_tables['idThisEvent'] = None\n",
    "for idx, row in df_tables.iterrows():\n",
    "    curIDEA.execute(queryPerson, (row['id']))\n",
    "    res=curIDEA.fetchone()\n",
    "    person_id=res[0]\n",
    "    curIDEA.execute(queryDate, (row['episode_event']))\n",
    "    res=curIDEA.fetchone()\n",
    "    dateAux=res\n",
    "    cur.execute(sqlGetEpisode, (person_id,dateAux))\n",
    "    parent_episode_id=cur.fetchone()\n",
    "    episode_start_date=res\n",
    "    newId=datetime.now().strftime('%Y%m%d%H%M%S')+ str(uuid4())\n",
    "    row['idThisEvent']=newId\n",
    "    cur.execute(sql,(newId,person_id, row['start_date'], row['end_date'],row['treatment_response'],row['treatment_response'],parent_episode_id))\n",
    "    conn.commit()"
   ]
  },
  {
   "cell_type": "markdown",
   "id": "5054245b-981e-4f2d-92cd-4c365dad9a83",
   "metadata": {},
   "source": [
    "### Other Local Treatment to Procedure  Ocurrence"
   ]
  },
  {
   "cell_type": "code",
   "execution_count": null,
   "id": "f0a78229-d2bf-42c5-975b-ec83e7dcd2de",
   "metadata": {},
   "outputs": [],
   "source": [
    "queryEVPO=\"\"\"\n",
    "    INSERT INTO omopcdm.episode_event (episode_id,event_id,episode_event_field_concept_id)\n",
    "    VALUES (%s, %s, %s);\n",
    "\"\"\"\n",
    "\n",
    "sqlProcedure=\"\"\"\n",
    "    INSERT INTO omopcdm.procedure_ocurrence (procedure_occurrence_id,person_id,procedure_concept_id,procedure_date,procedure_end_date,procedure_type_concept_id, provider_id)\n",
    "    VALUES (%s, %s, %s,%s,%s);\n",
    "\"\"\"\n",
    "getProvider_id=\"\"\"\n",
    "    SELECT provider_id FROM provider WHERE care_site_id IN(SELECT care_site_id FROM care_site WHERE care_site_name=%s);\n",
    "\"\"\"\n",
    "def toTableEpisodeEventProcedureOcurrence(idEpisode , idProcedureOcurrence):\n",
    "    cur.execute(queryEVPO,(idEpisode,idProcedureOcurrence,1147082)) #1147082 or 1147810, not clear\n",
    "    conn.commit()\n",
    "\n",
    "query= \"\"\"\n",
    "    SELECT c.patient \n",
    "    FROM cancer_episode c\n",
    "    WHERE EXISTS (\n",
    "        SELECT 1 \n",
    "        FROM EpisodeEvent e\n",
    "        WHERE e.cancerEpisode = c.id\n",
    "        AND e.id = %s\n",
    "    )\n",
    "    LIMIT 1\n",
    "\n",
    "\"\"\"\n",
    "\n",
    "for idx, row in df_tables.iterrows():\n",
    "    curIDEA.execute(query, (row['episode_event']))\n",
    "    res=curIDEA.fetchone()\n",
    "    person_id=res\n",
    "    procedure_concept_id=row['type_of_local_treatment']\n",
    "    procedure_date=row['start_date']\n",
    "    procedure_end_date=row['end_date']\n",
    "    procedure_type_concept_id=32879 #Still dont know what to do with this one\n",
    "    newId = datetime.now().strftime('%Y%m%d%H%M%S') + str(uuid4())\n",
    "    toTableEpisodeEventProcedureOcurrence(row['idThisEvent'],newId)\n",
    "    cur.execute(getProvider_id,(row['care_site']))\n",
    "    provider_id=cur.fetchone()\n",
    "    cur.execute(sqlProcedure,(newId, person_id, procedure_concept_id,procedure_date,procedure_end_date,procedure_type_concept_id,provider_id))\n",
    "    conn.commit()"
   ]
  }
 ],
 "metadata": {
  "kernelspec": {
   "display_name": "Python 3 (ipykernel)",
   "language": "python",
   "name": "python3"
  },
  "language_info": {
   "codemirror_mode": {
    "name": "ipython",
    "version": 3
   },
   "file_extension": ".py",
   "mimetype": "text/x-python",
   "name": "python",
   "nbconvert_exporter": "python",
   "pygments_lexer": "ipython3",
   "version": "3.10.12"
  }
 },
 "nbformat": 4,
 "nbformat_minor": 5
}
