{
 "cells": [
  {
   "cell_type": "markdown",
   "id": "3f086315-f1e8-4441-b014-8b764a06b6ab",
   "metadata": {},
   "source": [
    "# Hn Stage to OMOP"
   ]
  },
  {
   "cell_type": "code",
   "execution_count": null,
   "id": "f50d8034-7a8c-4397-a29c-e8038fbaef1e",
   "metadata": {},
   "outputs": [],
   "source": [
    "import mysql.connector\n",
    "import pandas as pd\n",
    "import psycopg2\n",
    "import random\n",
    "import numpy as np\n",
    "from datetime import datetime, timedelta"
   ]
  },
  {
   "cell_type": "code",
   "execution_count": null,
   "id": "2fcc1ac1-8752-462b-b6c5-20bf1d6aba72",
   "metadata": {},
   "outputs": [],
   "source": [
    "sarcomaStage_IDEA4RC = pd.read_csv(\"./IDEA4RC-data/sarcomaStageIDEA4RC.csv\")\n",
    "sarcomaStage_IDEA4RC.head(5)"
   ]
  },
  {
   "cell_type": "code",
   "execution_count": null,
   "id": "9dfd2b36-fa1f-43d2-a516-cd03a0c38ef4",
   "metadata": {},
   "outputs": [],
   "source": [
    "# Conexión a la base de datos OMOP CDM\n",
    "conn = psycopg2.connect(\n",
    "    dbname=\"omopdb\",\n",
    "    user=\"postgres\",\n",
    "    password=\"mysecretpassword\",\n",
    "    host=\"localhost\",\n",
    "    port=\"5432\"\n",
    ")\n",
    "\n",
    "# Comando para hacer el mapeo (insercción de datos del IDEA4RC.csv a OMOP)\n",
    "cur = conn.cursor()\n",
    "config = {\n",
    "    'user': 'user', \n",
    "    'password': 'password',\n",
    "    'host': '127.0.0.1',\n",
    "    'database': 'idea4rc_dm',\n",
    "    'raise_on_warnings': True\n",
    "}\n",
    "\n",
    "conn2 = mysql.connector.connect(**config)\n",
    "curIDEA = conn2.cursor()"
   ]
  },
  {
   "cell_type": "markdown",
   "id": "a9d487ce-1e0f-484e-a4b5-6d4567179f30",
   "metadata": {},
   "source": [
    "### Sarcoma Stage to Measurement/Event"
   ]
  },
  {
   "cell_type": "markdown",
   "id": "c7d56833-adb0-4c21-820e-346bc52a08b5",
   "metadata": {},
   "source": [
    "Regional nodal metastases\n",
    "Soft tissue\n",
    "distant lymph node\n",
    "lung\n",
    "bone\n",
    "liver\n",
    "pleura\n",
    "peritoneum\n",
    "brain\n",
    "other viscera\n",
    "unknown\n",
    "\n",
    "These are BOOLEANS with VOCABULARY and variable as modifier, what should i do?\n",
    "\n",
    "For Localised and Loco-regional, I believe I have to change the values in the table episode, since the episode should exist as the reference exists."
   ]
  },
  {
   "cell_type": "code",
   "execution_count": 2,
   "id": "baaaaf2e-c613-4658-9e6e-9635e0702b03",
   "metadata": {},
   "outputs": [
    {
     "ename": "SyntaxError",
     "evalue": "invalid syntax (3276209882.py, line 36)",
     "output_type": "error",
     "traceback": [
      "\u001b[0;36m  Cell \u001b[0;32mIn[2], line 36\u001b[0;36m\u001b[0m\n\u001b[0;31m    if ((column=='Localised' and row[column]==32942)||(column=='Loco-regional' and row[column]==32943)):\u001b[0m\n\u001b[0m                                                     ^\u001b[0m\n\u001b[0;31mSyntaxError\u001b[0m\u001b[0;31m:\u001b[0m invalid syntax\n"
     ]
    }
   ],
   "source": [
    "df_tables=sarcomaStage_IDEA4RC\n",
    "\n",
    "cols= {\n",
    "    'Localised' : 0,\n",
    "    'Loco-regional' : 0,\n",
    "    'Regional nodal metastases': 32944,\n",
    "    'Soft tissue': 32945,\n",
    "    'distant lymph node': 32946,\n",
    "    'lung': 32947,\n",
    "    'bone': 32948,\n",
    "    'liver': 32949,\n",
    "    'pleura': 32950,\n",
    "    'peritoneum': 32951,\n",
    "    'brain': 32952,\n",
    "    'other viscera': 32952,\n",
    "    'unknown': 32952\n",
    "}\n",
    "sql = \"\"\"\n",
    "    INSERT INTO omopcdm.measurement (person_id, measurement_concept_id, measurement_date,measurement_type_concept_id,value_as_concept_id,measurement_event_id)\n",
    "    VALUES (%s, %s, %s,%s,%s,%s)\n",
    "\"\"\"\n",
    "query= \"\"\"\n",
    "    SELECT c.patient \n",
    "    FROM cancer_episode c\n",
    "    WHERE EXISTS (\n",
    "        SELECT 1 \n",
    "        FROM episode_event e\n",
    "        WHERE e.cancerEpisode = c.id\n",
    "        AND e.id = %s\n",
    "    )\n",
    "    LIMIT 1\n",
    "\n",
    "\"\"\"\n",
    "\n",
    "measurement_type_concept_id=38000280\n",
    "for idx, row in df_tables.iterrows():\n",
    "    for column in cols.keys():\n",
    "        if ((column=='Localised' and row[column]==32942)||(column=='Loco-regional' and row[column]==32943)):\n",
    "            sql2=\"\"\"\n",
    "                UPDATE omopcdm.episode\n",
    "                SET episode_concept_id = %s\n",
    "                WHERE episode_id= %s;\n",
    "            \"\"\"\n",
    "            cur.execute(sql2, (row[column],row['Episode Event Reference']))\n",
    "            conn.commit()\n",
    "        else:\n",
    "            curIDEA.execute(query, (row['Episode Event Reference']))\n",
    "            res=curIDEA.fetchone()\n",
    "            person_id=res\n",
    "            if(row[column] in boolValues=[4188539,4188540]):\n",
    "                measurement_value = row[column]\n",
    "            else:\n",
    "                measurement_value = row[column]==0?4188540:4188539\n",
    "            measurement_concept_id = cols.get(column)\n",
    "            measurement_event_id=row['Episode Event Reference']\n",
    "            cur.execute(sql, (person_id, measurement_concept_id, date, measurement_type_concept_id,measurement_value,measurement_event_id))\n",
    "            conn.commit()\n",
    "\n"
   ]
  },
  {
   "cell_type": "code",
   "execution_count": null,
   "id": "ca04289c-e22d-491d-abc4-a9c5098fa3db",
   "metadata": {},
   "outputs": [],
   "source": []
  }
 ],
 "metadata": {
  "kernelspec": {
   "display_name": "Python 3 (ipykernel)",
   "language": "python",
   "name": "python3"
  },
  "language_info": {
   "codemirror_mode": {
    "name": "ipython",
    "version": 3
   },
   "file_extension": ".py",
   "mimetype": "text/x-python",
   "name": "python",
   "nbconvert_exporter": "python",
   "pygments_lexer": "ipython3",
   "version": "3.10.12"
  }
 },
 "nbformat": 4,
 "nbformat_minor": 5
}
