{
 "cells": [
  {
   "cell_type": "markdown",
   "id": "ffb42d20-7a4d-4fe8-9778-9da7a4d606c4",
   "metadata": {},
   "source": [
    "# Cancer Episode to OMOP"
   ]
  },
  {
   "cell_type": "markdown",
   "id": "07789105-23f1-4833-9e04-801c18dca2a3",
   "metadata": {},
   "source": []
  },
  {
   "cell_type": "code",
   "execution_count": null,
   "id": "f7dd277f-f659-483c-b885-7178b887addb",
   "metadata": {},
   "outputs": [],
   "source": [
    "import pandas as pd\n",
    "import psycopg2\n",
    "import random\n",
    "import numpy as np\n",
    "from uuid import uuid4\n",
    "from datetime import datetime, timedelta\n",
    "\n",
    "def get_random_value(val):\n",
    "    if isinstance(val, tuple):\n",
    "        return np.random.choice(val)\n",
    "    return val"
   ]
  },
  {
   "cell_type": "markdown",
   "id": "8417679c-91ed-43c3-8c3c-1c6c9ffd930c",
   "metadata": {},
   "source": [
    "Extract Cancer Episode data"
   ]
  },
  {
   "cell_type": "code",
   "execution_count": null,
   "id": "ce0e87ea-0597-4abf-9a5d-a007b49be0e4",
   "metadata": {},
   "outputs": [],
   "source": [
    "df_cancer_Episode_IDEA4RC = pd.read_csv(\"./IDEA4RC-data/cancerEpisodeIDEA4RC.csv\")\n",
    "df_cancer_Episode_IDEA4RC.head(5)"
   ]
  },
  {
   "cell_type": "markdown",
   "id": "014cdef3-7c54-4528-bb40-e4c4509592be",
   "metadata": {},
   "source": [
    "It is still needed to check why it is not working, it must be something with docker or the connection"
   ]
  },
  {
   "cell_type": "code",
   "execution_count": null,
   "id": "c9869465-9246-4b4d-afb7-69fc1910a457",
   "metadata": {},
   "outputs": [],
   "source": [
    "conn = psycopg2.connect(\n",
    "    dbname=\"omopdb\",\n",
    "    user=\"postgres\",\n",
    "    password=\"mysecretpassword\",\n",
    "    host=\"localhost\",\n",
    "    port=\"5432\"\n",
    ")\n",
    "\n",
    "cur = conn.cursor()"
   ]
  },
  {
   "cell_type": "markdown",
   "id": "b694c098-877d-47aa-b46e-9c848e187747",
   "metadata": {},
   "source": [
    "### Cancer Episode to Condition Occurrence"
   ]
  },
  {
   "cell_type": "code",
   "execution_count": null,
   "id": "3603046d-e6e6-4678-8225-2ef388cf8623",
   "metadata": {},
   "outputs": [],
   "source": [
    "sql = \"\"\"\n",
    "    INSERT INTO omopcdm.condition_occurrence (condition_occurrence_id, person_id, condition_concept_id, condition_start_date, condition_type_concept_id)\n",
    "    VALUES (%s, %s, %s, %s, %s, %s)\n",
    "\"\"\"\n",
    "    \n",
    "df_tables=df_cancer_Episode_IDEA4RC\n",
    "df_tables['omopID']=None\n",
    "cancerEpisode_vocab_values_concept_id = [\n",
    "    \"Histology Squamous\",\n",
    "    \"Histology Adenocarcinoma\",\n",
    "    \"Histology Neuroendocrine\",\n",
    "    \"Histology Odontogenic Carcinoma\",\n",
    "    \"Histology Sinonasal undifferentiated carcinoma\",\n",
    "    \n",
    "    \"Histology subgroup Adipocytic tumours\",\n",
    "    \"Histology subgroup Fibroblastic and myofibroblastic tumours\",\n",
    "    \"Histology subgroup So-called fibrohistiocytic tumours\",\n",
    "    \n",
    "    \"Vascular tumours\",\n",
    "    \"Pericytic (perivascular) tumours\",\n",
    "    \"Smooth muscle tumours\",\n",
    "    \"Skeletal muscle tumours\",\n",
    "    \"Chondro-osseous tumours\",\n",
    "    \"Peripheral nerve sheath tumours\",\n",
    "    \"Tumours of uncertain differentiation\",\n",
    "    \"Undifferentiated small round cell sarcomas of bone and soft tissue\",\n",
    "    \"Endometrial stromal and related tumours\",\n",
    "    \"Miscellanious mesenchimal tumors\",\n",
    "    \"Mixed epithelial and mesenchymal tumours\",\n",
    "    \n",
    "    \"Nasal cavity and paranasal sinuses subsite\",\n",
    "    \"Nasopharynx subsite\",\n",
    "    \"Hypopharynx subsite\",\n",
    "    \"Oropharynx subsite\",\n",
    "    \"Larynx subsite\",\n",
    "    \"Oral cavity subsite\",\n",
    "    \"Lip subsite\",\n",
    "    \n",
    "    \"Upper and Lower limbs subsite\",\n",
    "    \"Trunk wall subsite\",\n",
    "    \"Intra abdominal subsite\",\n",
    "    \"Intra thoracic subsite\",\n",
    "    \"Genito urinary subsite\",\n",
    "    \"Head and Neck subsite\",\n",
    "    \"Breast subsite\",\n",
    "    \"Other subsite\"\n",
    "]\n",
    "\n",
    "\n",
    "for idx, row in df_tables.iterrows():\n",
    "    person_id = row['Patient']\n",
    "    date_value = df_tables.loc[idx]['Date of diagnosis (biopsy or surgical piece)'].strftime('%Y-%m-%d')  # Get the 'Date' value from df_tables\n",
    "    for column in cancerEpisode_vocab_values_concept_id:\n",
    "        condition_concept_id = row[column]\n",
    "        condition_type_concept_id=0   # We need to find this one\n",
    "        condition_id= datetime.now().strftime('%Y%m%d%H%M%S') + str(uuid4())\n",
    "        df_tables.loc[idx,'omopID']=condition_id\n",
    "        cur.execute(sql, (condition_id, person_id, condition_concept_id, date_value, condition_type_concept_id))\n",
    "        conn.commit()"
   ]
  },
  {
   "cell_type": "markdown",
   "id": "12226871-2418-4bcd-988a-d8fd7771cd29",
   "metadata": {},
   "source": [
    "In this case, for condition concept id, the vocabulary will be used.\n",
    "\n",
    "condition_type_concept_id ????"
   ]
  },
  {
   "cell_type": "markdown",
   "id": "984d86fa",
   "metadata": {},
   "source": [
    "## Overarching Episode Creation\n",
    "\n",
    "This is something I am not sure of and need more time to check it\n",
    "32879 as episode_type_concept_id? Registry\n",
    "\n"
   ]
  },
  {
   "cell_type": "code",
   "execution_count": null,
   "id": "b68be4b4",
   "metadata": {},
   "outputs": [],
   "source": [
    "df_tables=df_cancer_Episode_IDEA4RC\n",
    "df_tables['Date of diagnosis (biopsy or surgical piece)'] = pd.to_datetime(df_tables['Date'])\n",
    "sql = \"\"\"\n",
    "    INSERT INTO omopcdm.episode (episode_id,person_id, episode_start_date, episode_concept_id, episode_object_concept_id, episode_type_concept_id)\n",
    "    VALUES (%s, %s, %s, %s, %s)\n",
    "\"\"\"\n",
    "\n",
    "def episode_event_definition(idEpisode, idCondition):\n",
    "    sql = \"\"\"\n",
    "        INSERT INTO omopcdm.episode_event (episode_id, event_id, episode_event_field_concept_id )\n",
    "        VALUES (%s, %s, %s)\n",
    "    \"\"\"\n",
    "    cur.execute(sql, (idEpisode, idCondition,1147129))\n",
    "    conn.commit()\n",
    "\n",
    "\n",
    "for idx, row in df_tables.iterrows():\n",
    "    person_id=row['Patient']\n",
    "    episode_id=datetime.now().strftime('%Y%m%d%H%M%S') + str(uuid4())\n",
    "    episode_start_date = df_tables.loc[idx]['Date of diagnosis (biopsy or surgical piece)'].strftime('%Y-%m-%d')  # Get the 'Date' value from df_tables\n",
    "    episode_concept_id = 32533\n",
    "    episode_object_concept_id = ? #We need to find this one\n",
    "    episode_type_concept_id = 32879\n",
    "    condition_id=df_tables.loc[idx]['omopID']\n",
    "    episode_event_definition(episode_id, condition_id)\n",
    "    cur.execute(sql, (episode_id, person_id, episode_start_date, episode_concept_id, episode_object_concept_id, episode_type_concept_id))\n",
    "\n",
    "conn.commit()\n"
   ]
  },
  {
   "cell_type": "markdown",
   "id": "b0d9178c-b0fa-4293-87c8-30f95b072242",
   "metadata": {},
   "source": [
    "### Cancer Episode to Procedure Ocurrance"
   ]
  },
  {
   "cell_type": "markdown",
   "id": "83a85041-c8a5-46ab-a61b-8673e60f40ae",
   "metadata": {},
   "source": [
    "Required I still dont have:\n",
    "\n",
    "procedure_type_concept_id"
   ]
  },
  {
   "cell_type": "code",
   "execution_count": null,
   "id": "45573632-09b7-4974-b803-bbee8e944dc7",
   "metadata": {},
   "outputs": [],
   "source": [
    "\n",
    "\n",
    "proc_ocurrance_mapping=['id','Date of diagnosis (biopsy or surgical piece)','Type of biopsy','Biopsy done by']\n",
    "df_tables = pd.DataFrame()\n",
    "df_tables.index = range(len(df_cancer_Episode_IDEA4RC))\n",
    "\n",
    "sql = \"\"\"\n",
    "    INSERT INTO omopcdm.procedure_occurrence (procedure_occurrence_id,person_id, procedure_concept_id, procedure_date, procedure_type_concept_id)\n",
    "    VALUES (%s, %s, %s, %s, %s, %s);\n",
    "\"\"\"\n",
    "def episode_event_definition(idEpisode, idCondition):\n",
    "    sql = \"\"\"\n",
    "        INSERT INTO omopcdm.episode_event (episode_id, event_id, episode_event_field_concept_id )\n",
    "        VALUES (%s, %s, %s)\n",
    "    \"\"\"\n",
    "    cur.execute(sql, (idEpisode, idCondition,1147082))\n",
    "    conn.commit()\n",
    "\n",
    "for idx, row in df_tables.iterrows():\n",
    "    id_person = row['Patient']\n",
    "    date = row['Date of diagnosis (biopsy or surgical piece)']\n",
    "    procedure_concept_id = row['Type of biopsy'] #We use the vocabulary since it is accepted as seen in https://athena.ohdsi.org/search-terms/terms?domain=Procedure&standardConcept=Standard&page=1&pageSize=15&query=\n",
    "    provider_id= row['Biopsy done by']\n",
    "    procedure_type_concept_id = 0#We need to see how to manage this\n",
    "    procedure_occurrence_id=datetime.now().strftime('%Y%m%d%H%M%S') + str(uuid4())\n",
    "    episode_event_definition(df_tables['omopID'],procedure_occurrence_id)\n",
    "    cur.execute(sql, (id_person, procedure_concept_id, date, procedure_type_concept_id))\n",
    "    conn.commit()\n"
   ]
  },
  {
   "cell_type": "markdown",
   "id": "bc33a45f-41c5-4330-b0cb-2d33fe85db48",
   "metadata": {},
   "source": [
    "### Cancer Episode to Observation"
   ]
  },
  {
   "cell_type": "markdown",
   "id": "584b8a07-754a-465e-af87-dba78236f390",
   "metadata": {},
   "source": [
    "Is this OK? I do not think it is, since I feel like this should be a boolean"
   ]
  },
  {
   "cell_type": "code",
   "execution_count": null,
   "id": "d9a9b99b-89f8-403f-a301-2adf52724935",
   "metadata": {},
   "outputs": [],
   "source": [
    "sql = \"\"\"\n",
    "    INSERT INTO omopcdm.observation (person_id, observation_concept_id, observation_date, observation_type_concept_id, observation_event_id, obs_event_field_concept_id)\n",
    "    VALUES (%s, %s, %s, %s, %s,%s)\n",
    "\"\"\"\n",
    "df_tables=df_cancer_Episode_IDEA4RC\n",
    "observation_type_concept_id=37117814\n",
    "cur.executemany(sql, zip(df_tables['Patient'], df_tables['Radiotherapy induced sarcoma'], df_tables['Date of diagnosis (biopsy or surgical piece)'],\n",
    "                         observation_type_concept_id, df_tables['omopID'], 1147127))\n",
    "conn.commit()"
   ]
  },
  {
   "cell_type": "markdown",
   "id": "6d4874bb-ca10-4e60-93e3-45bc806ff85d",
   "metadata": {},
   "source": [
    "### Cancer Episode to Measurement"
   ]
  },
  {
   "cell_type": "markdown",
   "id": "8c3c8530-692b-4561-968b-708193b5e9a7",
   "metadata": {},
   "source": [
    "For each Cancer Episode, we need to create 7 new rows in Measurement\n",
    "\n",
    "I do not understand what to do with measurement_type_concept_id, since I do not have any value that appears to be valid. I will be using 0."
   ]
  },
  {
   "cell_type": "code",
   "execution_count": null,
   "id": "3fc641a3-44ff-4591-9399-dd991e8cb821",
   "metadata": {},
   "outputs": [],
   "source": [
    "sql = \"\"\"\n",
    "    INSERT INTO omopcdm.measurement (person_id, measurement_concept_id, measurement_date, measurement_type_concept_id,value_as_number,measurement_event_id,meas_event_field_concept_id)\n",
    "    VALUES (%s, %s, %s, %s, %s, %s, %s)\n",
    "\"\"\"\n",
    "sql_codes=\"\"\"\n",
    "    INSERT INTO omopcdm.concept (person_id, measurement_concept_id, measurement_date, measurement_type_concept_id, value_as_concept_id, measurement_event_id,meas_event_field_concept_id)\n",
    "    VALUES (%s, %s, %s, %s, %s, %s, %s)\n",
    "\"\"\"\n",
    "cancerEpisode_vocab_values_concept_id= { \n",
    "    'Grading': 4159955,\n",
    "    'Tumor Size' : 36768664,\n",
    "    'Superficial depth' : 36768911,\n",
    "    'Deep depth' : 36768749,\n",
    "    'Biopsy Mitotic count' : 4227243,\n",
    "    'Plasmatic EBV DNA at baseline_val': 3043849,\n",
    "    'HPV status_val': 46236082,\n",
    "    'CRP – C reactive protein tested_val' : 3000965\n",
    "}\n",
    "\n",
    "dict_concepts = {\n",
    "    \"GRADE_1\": 1634371,\n",
    "    \"GRADE_2\": 1634752,\n",
    "    \"GRADE_3\": 1633749,\n",
    "    \"GRADE_H\": 1635587,\n",
    "    \"GRADE_L\": 1634085,\n",
    "    \"NEGATIVE\": 9189,\n",
    "    \"POSITIVE\": 9191,\n",
    "    \"NOT_TESTED\": 45878602\n",
    "}\n",
    "\n",
    "df_tables=df_cancer_Episode_IDEA4RC\n",
    "for idx, row in df_tables.iterrows():\n",
    "    person_id = row['Patient']\n",
    "    date_value = df_tables.loc[idx]['Date of diagnosis (biopsy or surgical piece)'].strftime('%Y-%m-%d')  # Get the 'Date' value from df_tables\n",
    "    for column in cancerEpisode_vocab_values_concept_id.keys():\n",
    "        measurement_value = row[column]\n",
    "        measurement_conc = cancerEpisode_vocab_values_concept_id.get(column)\n",
    "        measurement_type_concept_id=0\n",
    "        measurement_event_id=row['omopID']\n",
    "        #visit_occurrence_id We do not need to use this, since in IDEA we do not save it or need it\n",
    "        visit_occurrence_id=0\n",
    "        if measurement_value in dict_concepts.keys():\n",
    "            measurement_value = dict_concepts.get(measurement_value)\n",
    "            cur.execute(sql_codes, (person_id, measurement_conc, date_value, measurement_type_concept_id,measurement_value,measurement_event_id,1147127))\n",
    "        else:\n",
    "            cur.execute(sql, (person_id, measurement_conc, date_value, measurement_type_concept_id,measurement_value,measurement_event_id,1147127))\n",
    "        conn.commit()"
   ]
  },
  {
   "cell_type": "code",
   "execution_count": null,
   "id": "9500eaf4",
   "metadata": {},
   "outputs": [],
   "source": []
  }
 ],
 "metadata": {
  "kernelspec": {
   "display_name": "Python 3 (ipykernel)",
   "language": "python",
   "name": "python3"
  },
  "language_info": {
   "codemirror_mode": {
    "name": "ipython",
    "version": 3
   },
   "file_extension": ".py",
   "mimetype": "text/x-python",
   "name": "python",
   "nbconvert_exporter": "python",
   "pygments_lexer": "ipython3",
   "version": "3.10.12"
  }
 },
 "nbformat": 4,
 "nbformat_minor": 5
}
