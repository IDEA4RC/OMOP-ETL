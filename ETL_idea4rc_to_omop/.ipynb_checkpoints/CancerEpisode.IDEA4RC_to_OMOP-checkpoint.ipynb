{
 "cells": [
  {
   "cell_type": "markdown",
   "id": "ffb42d20-7a4d-4fe8-9778-9da7a4d606c4",
   "metadata": {},
   "source": [
    "# Cancer Episode to OMOP"
   ]
  },
  {
   "cell_type": "markdown",
   "id": "07789105-23f1-4833-9e04-801c18dca2a3",
   "metadata": {},
   "source": []
  },
  {
   "cell_type": "code",
   "execution_count": null,
   "id": "f7dd277f-f659-483c-b885-7178b887addb",
   "metadata": {},
   "outputs": [],
   "source": [
    "import pandas as pd\n",
    "import psycopg2\n",
    "import random\n",
    "import numpy as np\n",
    "from datetime import datetime, timedelta\n",
    "\n",
    "def get_random_value(val):\n",
    "    if isinstance(val, tuple):\n",
    "        return np.random.choice(val)\n",
    "    return val"
   ]
  },
  {
   "cell_type": "markdown",
   "id": "8417679c-91ed-43c3-8c3c-1c6c9ffd930c",
   "metadata": {},
   "source": [
    "Extract Cancer Episode data"
   ]
  },
  {
   "cell_type": "code",
   "execution_count": null,
   "id": "ce0e87ea-0597-4abf-9a5d-a007b49be0e4",
   "metadata": {},
   "outputs": [],
   "source": [
    "df_cancer_Episode_IDEA4RC = pd.read_csv(\"./IDEA4RC-data/cancerEpisodeIDEA4RC.csv\")\n",
    "df_cancer_Episode_IDEA4RC.head(5)"
   ]
  },
  {
   "cell_type": "markdown",
   "id": "014cdef3-7c54-4528-bb40-e4c4509592be",
   "metadata": {},
   "source": [
    "It is still needed to check why it is not working, it must be something with docker or the connection"
   ]
  },
  {
   "cell_type": "code",
   "execution_count": null,
   "id": "c9869465-9246-4b4d-afb7-69fc1910a457",
   "metadata": {},
   "outputs": [],
   "source": [
    "# Conexión a la base de datos OMOP CDM\n",
    "conn = psycopg2.connect(\n",
    "    dbname=\"omopdb\",\n",
    "    user=\"postgres\",\n",
    "    password=\"mysecretpassword\",\n",
    "    host=\"localhost\",\n",
    "    port=\"5432\"\n",
    ")\n",
    "\n",
    "# Comando para hacer el mapeo (insercción de datos del IDEA4RC.csv a OMOP)\n",
    "cur = conn.cursor()"
   ]
  },
  {
   "cell_type": "markdown",
   "id": "b0d9178c-b0fa-4293-87c8-30f95b072242",
   "metadata": {},
   "source": [
    "### Cancer Episode to Procedure Ocurrance"
   ]
  },
  {
   "cell_type": "markdown",
   "id": "83a85041-c8a5-46ab-a61b-8673e60f40ae",
   "metadata": {},
   "source": [
    "Required I still dont have:\n",
    "\n",
    "procedure_type_concept_id"
   ]
  },
  {
   "cell_type": "code",
   "execution_count": null,
   "id": "45573632-09b7-4974-b803-bbee8e944dc7",
   "metadata": {},
   "outputs": [],
   "source": [
    "proc_ocurrance_mapping=['id','Date of diagnosis (biopsy or surgical piece)','Type of biopsy','Biopsy done by']\n",
    "df_tables = pd.DataFrame()\n",
    "df_tables.index = range(len(df_cancer_Episode_IDEA4RC))\n",
    "df_tables['procedure_type_concept_id']=[1 for _ in range(len(df_tables)] #We need to see how to manage this, as it is not showen in the excel\n",
    "\n",
    "\n",
    "sql = \"\"\"\n",
    "    INSERT INTO omopcdm.person (person_id, gender_concept_id, race_concept_id, year_of_birth, location_id, ethnicity_concept_id)\n",
    "    VALUES (%s, %s, %s, %s, %s, %s)\n",
    "\"\"\"\n",
    "\n"
   ]
  }
 ],
 "metadata": {
  "kernelspec": {
   "display_name": "Python 3 (ipykernel)",
   "language": "python",
   "name": "python3"
  },
  "language_info": {
   "codemirror_mode": {
    "name": "ipython",
    "version": 3
   },
   "file_extension": ".py",
   "mimetype": "text/x-python",
   "name": "python",
   "nbconvert_exporter": "python",
   "pygments_lexer": "ipython3",
   "version": "3.10.12"
  }
 },
 "nbformat": 4,
 "nbformat_minor": 5
}
