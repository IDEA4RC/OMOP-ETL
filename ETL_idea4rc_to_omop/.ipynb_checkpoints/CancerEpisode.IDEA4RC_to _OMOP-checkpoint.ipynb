{
 "cells": [
  {
   "cell_type": "code",
   "execution_count": null,
   "id": "8cceb2e9-1710-4db4-adb2-fd53c270675a",
   "metadata": {},
   "outputs": [],
   "source": [
    "import pandas as pd\n",
    "import psycopg2\n",
    "import random\n",
    "import numpy as np\n",
    "from datetime import datetime, timedelta"
   ]
  },
  {
   "cell_type": "code",
   "execution_count": null,
   "id": "3d497f3e-521c-472c-9196-c7bedf45c981",
   "metadata": {},
   "outputs": [],
   "source": [
    "df_cancer_Episode_IDEA4RC = pd.read_csv(\"./IDEA4RC-data/cancerEpisodeIDEA4RC.csv\")\n",
    "df_cancer_Episode_IDEA4RC.head(3)"
   ]
  },
  {
   "cell_type": "code",
   "execution_count": null,
   "id": "a2fba379-92d7-42f5-a878-84f103d63917",
   "metadata": {},
   "outputs": [],
   "source": [
    "conn_params = {\n",
    "    'dbname': 'omopdb',\n",
    "    'user': 'postgres',\n",
    "    'password': 'mysecretpassword',\n",
    "    'host': 'omop_postgres',\n",
    "    'port': '5432'\n",
    "}\n",
    "\n",
    "try:\n",
    "    # Conexión a la base de datos\n",
    "    conn = psycopg2.connect(**conn_params)\n",
    "    cur = conn.cursor()\n",
    "    \n",
    "    # Verifica la base de datos actual\n",
    "    cur.execute(\"SELECT current_database();\")\n",
    "    current_db = cur.fetchone()[0]\n",
    "    print(\"Base de datos actual:\", current_db)\n",
    "    \n",
    "    # Verifica el esquema y tablas disponibles\n",
    "    cur.execute(\"SELECT table_schema, table_name FROM information_schema.tables WHERE table_name = '';\")\n",
    "    tables = cur.fetchall()\n",
    "    if not tables:\n",
    "        print(\"La tabla 'care_site' no existe.\")\n",
    "    else:\n",
    "        print(\"Tabla 'care_site' encontrada en los siguientes esquemas:\", tables)\n",
    "    \n",
    "except Exception as e:\n",
    "    print(\"Ocurrió un error:\", e)"
   ]
  }
 ],
 "metadata": {
  "kernelspec": {
   "display_name": "Python 3 (ipykernel)",
   "language": "python",
   "name": "python3"
  },
  "language_info": {
   "codemirror_mode": {
    "name": "ipython",
    "version": 3
   },
   "file_extension": ".py",
   "mimetype": "text/x-python",
   "name": "python",
   "nbconvert_exporter": "python",
   "pygments_lexer": "ipython3",
   "version": "3.10.12"
  }
 },
 "nbformat": 4,
 "nbformat_minor": 5
}
