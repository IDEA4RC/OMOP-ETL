{
 "cells": [
  {
   "cell_type": "markdown",
   "id": "3f086315-f1e8-4441-b014-8b764a06b6ab",
   "metadata": {},
   "source": [
    "# Hn Stage to OMOP"
   ]
  },
  {
   "cell_type": "code",
   "execution_count": null,
   "id": "f50d8034-7a8c-4397-a29c-e8038fbaef1e",
   "metadata": {},
   "outputs": [],
   "source": [
    "import pandas as pd\n",
    "import psycopg2\n",
    "import random\n",
    "import numpy as np\n",
    "from datetime import datetime, timedelta"
   ]
  },
  {
   "cell_type": "code",
   "execution_count": null,
   "id": "2fcc1ac1-8752-462b-b6c5-20bf1d6aba72",
   "metadata": {},
   "outputs": [],
   "source": [
    "sarcomaStage_IDEA4RC = pd.read_csv(\"./IDEA4RC-data/sarcomaStageIDEA4RC.csv\")\n",
    "sarcomaStage_IDEA4RC.head(5)"
   ]
  },
  {
   "cell_type": "code",
   "execution_count": null,
   "id": "9dfd2b36-fa1f-43d2-a516-cd03a0c38ef4",
   "metadata": {},
   "outputs": [],
   "source": [
    "# Conexión a la base de datos OMOP CDM\n",
    "conn = psycopg2.connect(\n",
    "    dbname=\"omopdb\",\n",
    "    user=\"postgres\",\n",
    "    password=\"mysecretpassword\",\n",
    "    host=\"localhost\",\n",
    "    port=\"5432\"\n",
    ")\n",
    "\n",
    "# Comando para hacer el mapeo (insercción de datos del IDEA4RC.csv a OMOP)\n",
    "cur = conn.cursor()"
   ]
  },
  {
   "cell_type": "markdown",
   "id": "a9d487ce-1e0f-484e-a4b5-6d4567179f30",
   "metadata": {},
   "source": [
    "### Sarcoma Stage to Episode Event"
   ]
  },
  {
   "cell_type": "markdown",
   "id": "c7d56833-adb0-4c21-820e-346bc52a08b5",
   "metadata": {},
   "source": [
    "I need a way to have a relation between Episode and Measurement. This should be Episode Event, but there is no way to get the measurement id so there is a PROBLEM AGAIN."
   ]
  }
 ],
 "metadata": {
  "kernelspec": {
   "display_name": "Python 3 (ipykernel)",
   "language": "python",
   "name": "python3"
  },
  "language_info": {
   "codemirror_mode": {
    "name": "ipython",
    "version": 3
   },
   "file_extension": ".py",
   "mimetype": "text/x-python",
   "name": "python",
   "nbconvert_exporter": "python",
   "pygments_lexer": "ipython3",
   "version": "3.10.12"
  }
 },
 "nbformat": 4,
 "nbformat_minor": 5
}
