{
 "cells": [
  {
   "cell_type": "markdown",
   "id": "f7378ec2-c526-4d72-b382-65bf55985418",
   "metadata": {},
   "source": [
    "# Genetic Test Expression to OMOP"
   ]
  },
  {
   "cell_type": "code",
   "execution_count": null,
   "id": "25b418c6-f602-4721-b2c8-f98dc6595a73",
   "metadata": {},
   "outputs": [],
   "source": [
    "import mysql.connector\n",
    "import pandas as pd\n",
    "import psycopg2\n",
    "import random\n",
    "import numpy as np\n",
    "from datetime import datetime, timedelta\n",
    "from uuid import uuid4"
   ]
  },
  {
   "cell_type": "code",
   "execution_count": null,
   "id": "cd139201-17c1-4e2f-9dd0-216c619d814b",
   "metadata": {},
   "outputs": [],
   "source": [
    "df_genetic_test_expression_IDEA4RC = pd.read_csv(\"./IDEA4RC-data/geneticTestExpressionIDEA4RC.csv\")\n",
    "df_genetic_test_expression_IDEA4RC.head(5)"
   ]
  },
  {
   "cell_type": "code",
   "execution_count": null,
   "id": "88989db2-05ad-48aa-9f62-d8572a490780",
   "metadata": {},
   "outputs": [],
   "source": [
    "# Conexión a la base de datos OMOP CDM\n",
    "conn = psycopg2.connect(\n",
    "    dbname=\"omopdb\",\n",
    "    user=\"postgres\",\n",
    "    password=\"mysecretpassword\",\n",
    "    host=\"localhost\",\n",
    "    port=\"5432\"\n",
    ")\n",
    "\n",
    "# Comando para hacer el mapeo (insercción de datos del IDEA4RC.csv a OMOP)\n",
    "cur = conn.cursor()\n",
    "config = {\n",
    "    'user': 'user', \n",
    "    'password': 'password',\n",
    "    'host': '127.0.0.1',\n",
    "    'database': 'idea4rc_dm',\n",
    "    'raise_on_warnings': True\n",
    "}\n",
    "\n",
    "conn = mysql.connector.connect(**config)\n",
    "curIDEA = conn.cursor()"
   ]
  },
  {
   "cell_type": "markdown",
   "id": "11215f21-0fba-43e6-bdbe-48946011be80",
   "metadata": {},
   "source": [
    "### Genetic Test Expression to Procedure Occurrence"
   ]
  },
  {
   "cell_type": "markdown",
   "id": "c4cf706b-0981-43a4-bed8-2dd6750129ae",
   "metadata": {},
   "source": [
    "I do not understand what to do with the vocabulary since we have booleans, so i will use it as procedure_concept_id\n",
    "WHAT TO DO WITH THE BOOLEAN VALUE?"
   ]
  },
  {
   "cell_type": "code",
   "execution_count": null,
   "id": "9cb3c60a-7313-4f20-bf4c-432539abf882",
   "metadata": {},
   "outputs": [],
   "source": [
    "\n",
    "sql = \"\"\"\n",
    "    INSERT INTO omopcdm.procedure_occurrence (rocedure_occurrence_id,person_id, procedure_concept_id, procedure_date,procedure_type_concept_id)\n",
    "    VALUES (%s, %s, %s, %s, %s)\n",
    "\"\"\"\n",
    "columns={\n",
    "    \"Gene expression analysis performed\": \"Date of Gene expression\",\n",
    "    \"Gene mutation analysis performed\":\"Date of Gene mutation\",\n",
    "    \"Tests for chromosome translocations performed\":\"Date of translocation\",\n",
    "    \"Next generation sequencing (NGS) performed\":\"Date of NGS\",\n",
    "    \"Polymerase chain reaction (PCR) test performed\":\"Date of PCR\",\n",
    "    \"Immunohistochemistry performed\":\"Date of immunohistochemistry\",\n",
    "    \"Circulating Tumour DNA (ctDNA) performed\":\"Date of ctDNA\"\n",
    "}\n",
    "query= \"\"\"\n",
    "    SELECT c.patient \n",
    "    FROM cancer_episode c\n",
    "    WHERE EXISTS (\n",
    "        SELECT 1 \n",
    "        FROM EpisodeEvent e\n",
    "        WHERE e.cancerEpisode = c.id\n",
    "        AND e.id = %s\n",
    "    )\n",
    "    LIMIT 1\n",
    "\n",
    "\"\"\"\n",
    "vocabs={\n",
    "    \"Gene expression analysis performed\": 44808037,\n",
    "    \"Gene mutation analysis performed\": 4038339,\n",
    "    \"Tests for chromosome translocations performed\": 4039364,\n",
    "    \"Next generation sequencing (NGS) performed\": 40485067,\n",
    "    \"Polymerase chain reaction (PCR) test performed\": 40482792,\n",
    "    \"Immunohistochemistry performed\": 4035726,\n",
    "    \"Circulating Tumour DNA (ctDNA) performed\": 19387013,\n",
    "}\n",
    "queryEVPO=\"\"\"\n",
    "    INSERT INTO omopcdm.episode_event (episode_id,event_id,episode_event_field_concept_id)\n",
    "    VALUES (%s, %s, %s)\n",
    "\"\"\"\n",
    "def toTableEpisodeEventProcedureOcurrence(idEpisode , idProcedureOcurrence):\n",
    "    cur.execute(queryEVPO,(idEpisode,idProcedureOcurrence,1147082)) #1147082 or 1147810, not clear\n",
    "    conn.commit()\n",
    "procedure_type_concept_id=38000280\n",
    "df_tables=df_genetic_test_expression_IDEA4RC\n",
    "for idx, row in df_tables.iterrows():\n",
    "    for column in columns.keys():\n",
    "        curIDEA.execute(query, (row['Episode Event Reference']))\n",
    "        procedure_concept_id=vocabs.get(column)\n",
    "        procedure_occurrence_id=datetime.now().strftime('%Y%m%d%H%M%S')+ str(uuid4())\n",
    "        res=curIDEA.fetchone()\n",
    "        person_id=res\n",
    "        procedure_date_var=columns.get(column)\n",
    "        procedure_date=row[procedure_date_var]\n",
    "        cur.execute(sql, (procedure_occurrence_id,person_id, procedure_concept_id, procedure_date,procedure_type_concept_id))\n",
    "\n",
    "conn.commit()"
   ]
  }
 ],
 "metadata": {
  "kernelspec": {
   "display_name": "Python 3 (ipykernel)",
   "language": "python",
   "name": "python3"
  },
  "language_info": {
   "codemirror_mode": {
    "name": "ipython",
    "version": 3
   },
   "file_extension": ".py",
   "mimetype": "text/x-python",
   "name": "python",
   "nbconvert_exporter": "python",
   "pygments_lexer": "ipython3",
   "version": "3.10.12"
  }
 },
 "nbformat": 4,
 "nbformat_minor": 5
}
