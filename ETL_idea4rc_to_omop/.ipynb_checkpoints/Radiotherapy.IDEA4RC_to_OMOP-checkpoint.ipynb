{
 "cells": [
  {
   "cell_type": "markdown",
   "id": "f9c338e1-27be-42a3-9db0-654be808c4fc",
   "metadata": {},
   "source": [
    "# Radiotherapy to OMOP"
   ]
  },
  {
   "cell_type": "code",
   "execution_count": null,
   "id": "e06cb1e8-20ae-4bca-90fb-388f04a83a7c",
   "metadata": {},
   "outputs": [],
   "source": [
    "import pandas as pd\n",
    "import psycopg2\n",
    "import random\n",
    "import numpy as np\n",
    "from datetime import datetime, timedelta"
   ]
  },
  {
   "cell_type": "code",
   "execution_count": null,
   "id": "5cae07bf-5be8-4e7f-94f3-3e974f66846c",
   "metadata": {},
   "outputs": [],
   "source": [
    "radiotherapy_IDEA4RC = pd.read_csv(\"./IDEA4RC-data/radiotherapyIDEA4RC.csv\")\n",
    "radiotherapy_IDEA4RC.head(5)"
   ]
  },
  {
   "cell_type": "markdown",
   "id": "ea97f476-03e8-46d9-96fb-d7e1e82e904d",
   "metadata": {},
   "source": [
    "Radiotherapy performed location???\n",
    "What to do with it?"
   ]
  },
  {
   "cell_type": "markdown",
   "id": "d6e8ed06-61ef-4026-a4a7-e6eb52ee277a",
   "metadata": {},
   "source": [
    "### Radiotherapy to Episode"
   ]
  },
  {
   "cell_type": "code",
   "execution_count": null,
   "id": "58d0c309-8961-4aff-8ecb-12b40bb9a4c9",
   "metadata": {},
   "outputs": [],
   "source": [
    "df_tables=radiotherapy_IDEA4RC\n",
    "sql = \"\"\"\n",
    "INSERT INTO EPISODE (episode_id, episode_start_date, episode_end_date, episode_concept_id,episode_type_concept_id)\n",
    "VALUES (%s, %s, %s, %s,%s)\n",
    "ON DUPLICATE KEY UPDATE\n",
    "    episode_start_date = VALUES(episode_start_date),\n",
    "    episode_end_date = VALUES(episode_end_date),\n",
    "    episode_concept_id = VALUES(episode_concept_id),\n",
    "    episode_type_concept_id=VALUES(episode_type_concept_id);\n",
    "\"\"\"\n",
    "for idx, row in df_tables.iterrows():\n",
    "    cur.execute(sql,(row['episode_event'], row['startdate'], row['enddate'],row['treatmentResponse'],row['treatmentResponse']))\n",
    "    conn.commit()"
   ]
  },
  {
   "cell_type": "markdown",
   "id": "78d49c37-8ffe-4a19-9597-fe05dcf9a7e0",
   "metadata": {},
   "source": [
    "### Radiotherapy to Procedure Ocurrence"
   ]
  },
  {
   "cell_type": "code",
   "execution_count": null,
   "id": "fbeee93e-6ce6-44c6-9699-33bb79baa227",
   "metadata": {},
   "outputs": [],
   "source": [
    "queryEVPO=\"\"\"\n",
    "    INSERT INTO omopcdm.episode_event (episode_id,event_id,episode_event_field_concept_id)\n",
    "    VALUES (%s, %s, %s)\n",
    "\"\"\"\n",
    "\n",
    "sqlProcedure=\"\"\"\n",
    "    INSERT INTO omopcdm.procedure_ocurrence (procedure_occurrence_id,person_id,procedure_concept_id,procedure_date,procedure_type_concept_id)\n",
    "    VALUES (%s, %s, %s,%s,%s)\n",
    "\"\"\"\n",
    "def toTableEpisodeEventProcedureOcurrence(idEpisode , idProcedureOcurrence):\n",
    "    cur.execute(queryEVPO,(idEpisode,idProcedureOcurrence,1147082)) #1147082 or 1147810, not clear\n",
    "    conn.commit()\n",
    "\n",
    "for idx, row in df_tables.iterrows():\n",
    "    cur.execute(query, (row['Episode Event Reference']))\n",
    "    res=cur.fetchone()\n",
    "    person_id=res\n",
    "    procedure_concept_id=row['Surgery type']\n",
    "    procedure_date=row['Date of surgery']\n",
    "    procedure_type_concept_id=0 #Still dont know what to do with this one\n",
    "    newId = datetime.now().strftime('%Y%m%d%H%M%S') + str(uuid4())\n",
    "    toTableEpisodeEventProcedureOcurrence(row['Episode Event reference'],newId)\n",
    "    cur.execute(sqlProcedure,(newId, person_id, procedure_concept_id,procedure_date,procedure_type_concept_id))\n",
    "    conn.commit()"
   ]
  },
  {
   "cell_type": "code",
   "execution_count": null,
   "id": "b5a07649-1771-48bc-a409-dd537ab773d7",
   "metadata": {},
   "outputs": [],
   "source": []
  },
  {
   "cell_type": "markdown",
   "id": "7d6d3019-a41e-4da3-a8db-dfb4030abce1",
   "metadata": {},
   "source": [
    "Measurement concept id???"
   ]
  },
  {
   "cell_type": "code",
   "execution_count": null,
   "id": "32e9c65d-20af-4d47-a0ed-04fc3e3667d7",
   "metadata": {},
   "outputs": [],
   "source": [
    "sqlMeasuementNumber = \"\"\"\n",
    "    INSERT INTO omopcdm.measurement (person_id, measurement_concept_id, measurement_date, measurement_type_concept_id, value_as_number,measurement_event_id,meas_event_field_concept_id)\n",
    "    VALUES (%s, %s, %s,%s,%s,%s,%s,%s)\n",
    "    \"\"\"\n",
    "measurement_type_concept_id=38000280\n",
    "measurement_concept_id=0\n",
    "columns=[\n",
    "    \"primaryOnly\",\n",
    "    \"neckOnly\",\n",
    "    \"primaryAndIpsilateralNeck\",\n",
    "    \"primaryAndBilateralNeck\",\n",
    "    \"distantMetastasis\",\n",
    "    \"lung\",\n",
    "    \"mediastinum\",\n",
    "    \"bone\",\n",
    "    \"softTissue\",\n",
    "    \"liver\",\n",
    "    \"treatmentCompletedAsPlanned\",\n",
    "    \"beamQuality\",\n",
    "    \"otherSpecify\",\n",
    "    \"treatmentTechnique\",\n",
    "    \"totalDoseGy\",\n",
    "    \"numberOfFractions\",\n",
    "    \"adaptiveRt\",\n",
    "    \"igrt\"\n",
    "]\n",
    "\n",
    "booleans=[\n",
    "    \"adaptiveRt\",\n",
    "    \"igrt\",\n",
    "    \"primaryOnly\",\n",
    "    \"neckOnly\",\n",
    "    \"primaryAndIpsilateralNeck\",\n",
    "    \"primaryAndBilateralNeck\",\n",
    "    \"distantMetastasis\",\n",
    "    \"lung\",\n",
    "    \"mediastinum\",\n",
    "    \"bone\",\n",
    "    \"softTissue\",\n",
    "    \"liver\"\n",
    "]\n",
    "boolValues=[4188539,4188540]\n",
    "sqlCode=\"\"\"\n",
    "    INSERT INTO omopcdm.measurement (person_id, measurement_concept_id, measurement_date, measurement_type_concept_id, value_as_concept_id,measurement_event_id,meas_event_field_concept_id)\n",
    "    VALUES (%s, %s, %s,%s,%s,%s,%s)\n",
    "    \"\"\"\n",
    "for idx, row in df_tables.iterrows():\n",
    "    for column in columns:\n",
    "        cur.execute(query, (row['Episode Event Reference']))\n",
    "        res=cur.fetchone()\n",
    "        person_id=res\n",
    "        measurement_concept_id= (column=='numberOfFractions') ? 4037631:0 #No tengo muy claro que hacer con esto ya que no se si usar el modifier o 0 en otro caso ya que es required\n",
    "        measurement_value=row[column]\n",
    "        date=row['startDate']\n",
    "        if column=='totalDoseGy' or column=='numberOfFractions':\n",
    "            value_as_number=measurement_value\n",
    "            cur.execute(sqlMeasuementNumber,(person_id, measurement_concept_id, date, measurement_type_concept_id,value_as_number,measurement_event_id,CODIGO QUE HAY QUE VER)) WE NEED THE CODE\n",
    "            conn.commit()\n",
    "        else:\n",
    "            if(column in booleans):\n",
    "                if(measurement_value not in boolValues):\n",
    "                    measurement_value=measurement_value==0?4188540:4188539\n",
    "                \n",
    "            cur.execute(sqlCode, (person_id, measurement_concept_id, date, measurement_type_concept_id,measurement_value,measurement_event_id, CODIGO QUE FALTA SABER))\n",
    "            conn.commit()"
   ]
  }
 ],
 "metadata": {
  "kernelspec": {
   "display_name": "Python 3 (ipykernel)",
   "language": "python",
   "name": "python3"
  },
  "language_info": {
   "codemirror_mode": {
    "name": "ipython",
    "version": 3
   },
   "file_extension": ".py",
   "mimetype": "text/x-python",
   "name": "python",
   "nbconvert_exporter": "python",
   "pygments_lexer": "ipython3",
   "version": "3.10.12"
  }
 },
 "nbformat": 4,
 "nbformat_minor": 5
}
