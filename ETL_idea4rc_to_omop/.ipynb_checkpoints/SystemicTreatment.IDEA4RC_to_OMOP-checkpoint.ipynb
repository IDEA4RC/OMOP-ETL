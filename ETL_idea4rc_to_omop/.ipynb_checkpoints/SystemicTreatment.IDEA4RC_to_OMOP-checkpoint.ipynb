{
 "cells": [
  {
   "cell_type": "markdown",
   "id": "8019fd1b-9a57-43d5-a98d-d47f46f0dbb1",
   "metadata": {},
   "source": [
    "# SystemicTreatment to OMOP"
   ]
  },
  {
   "cell_type": "code",
   "execution_count": null,
   "id": "f37913a9-f115-4a54-a356-f0a068dc8bf7",
   "metadata": {},
   "outputs": [],
   "source": [
    "import pandas as pd\n",
    "import psycopg2\n",
    "import random\n",
    "import numpy as np\n",
    "from datetime import datetime, timedelta"
   ]
  },
  {
   "cell_type": "code",
   "execution_count": null,
   "id": "79055638-6710-4737-8a6c-b4008dec9bb7",
   "metadata": {},
   "outputs": [],
   "source": [
    "systemic_treatment_IDEA4RC = pd.read_csv(\"./IDEA4RC-data/systemicTreatmentIDEA4RC.csv\")\n",
    "systemic_treatment_IDEA4RC.head(5)"
   ]
  },
  {
   "cell_type": "markdown",
   "id": "cce29467-93ec-4114-8c4d-3fbb941bdb48",
   "metadata": {},
   "source": [
    "### Systemic Treatment to Episode"
   ]
  },
  {
   "cell_type": "markdown",
   "id": "77e71695-4bef-4692-ae7f-2ee14495e5fc",
   "metadata": {},
   "source": [
    "Since it is not clear what to do with episde, we will try to create a new one, and if exists we will simply change the data"
   ]
  },
  {
   "cell_type": "code",
   "execution_count": null,
   "id": "9168498d-632e-45cd-8b36-98226344fd09",
   "metadata": {},
   "outputs": [],
   "source": [
    "sql = \"\"\"\n",
    "INSERT INTO EPISODE (episode_id, episode_start_date, episode_end_date, episode_concept_id)\n",
    "VALUES (%s, %s, %s, %s)\n",
    "ON DUPLICATE KEY UPDATE\n",
    "    episode_start_date = VALUES(episode_start_date),\n",
    "    episode_end_date = VALUES(episode_end_date),\n",
    "    episode_concept_id = VALUES(episode_concept_id);\n",
    "\"\"\"\n",
    "for idx, row in df_tables.iterrows():\n",
    "    cur.execute(sql,(row['Episode Event reference'], row['Start date systemic treatment'], row['End date systemic treatment'],row['treatmentResponse']))\n",
    "    conn.commit()\n"
   ]
  },
  {
   "cell_type": "markdown",
   "id": "bc6825ff-f4a3-4c6f-a883-3cea722a465d",
   "metadata": {},
   "source": [
    "### Systemic Treatment to Procedure Ocurrence"
   ]
  },
  {
   "cell_type": "code",
   "execution_count": null,
   "id": "a61e989a-5d24-43d7-a312-504767c8f5e0",
   "metadata": {},
   "outputs": [],
   "source": [
    "df_tables=systemic_treatment_IDEA4RC\n",
    "queryEVPO=\"\"\"\n",
    "    INSERT INTO omopcdm.episode_event (episode_id,event_id,episode_event_field_concept_id)\n",
    "    VALUES (%s, %s, %s)\n",
    "\"\"\"\n",
    "\n",
    "sqlProcedure=\"\"\"\n",
    "    INSERT INTO omopcdm.procedure_ocurrence (procedure_occurrence_id,person_id,procedure_concept_id,procedure_date,procedure_end_date,procedure_type_concept_id)\n",
    "    VALUES (%s, %s, %s,%s,%s)\n",
    "\"\"\"\n",
    "query= \"\"\"\n",
    "    SELECT c.patient \n",
    "    FROM cancer_episode c\n",
    "    WHERE EXISTS (\n",
    "        SELECT 1 \n",
    "        FROM EpisodeEvent e\n",
    "        WHERE e.cancerEpisode = c.id\n",
    "        AND e.id = %s\n",
    "    )\n",
    "    LIMIT 1\n",
    "\n",
    "\"\"\"\n",
    "columnsPO = [\n",
    "    \"Type of systemic treatment\",\n",
    "    \"Intent\",\n",
    "    \"Setting\",\n",
    "    \"Chemotherapy info\"\n",
    "]\n",
    "\n",
    "def toTableEpisodeEventProcedureOcurrence(idEpisode , idProcedureOcurrence):\n",
    "    cur.execute(queryEVPO,(idEpisode,idProcedureOcurrence,1147082)) #1147082 or 1147810, not clear\n",
    "    conn.commit()\n",
    "\n",
    "for idx, row in df_tables.iterrows():\n",
    "    cur.execute(query, (row['Episode Event Reference']))\n",
    "    res=cur.fetchone()\n",
    "    person_id=res\n",
    "    procedure_date=row['Start date regimen changed']\n",
    "    procedre_end_date=row['End date regimen changed']\n",
    "    procedure_type_concept_id=0 #Still dont know what to do with this one\n",
    "    for column in columnsPO:\n",
    "        procedure_concept_id=row[column]\n",
    "        newId = datetime.now().strftime('%Y%m%d%H%M%S') + str(uuid4())\n",
    "        toTableEpisodeEventProcedureOcurrence(row['Episode Event reference'],newId)\n",
    "        cur.execute(sqlProcedure,(newId, person_id, procedure_concept_id,procedure_date,procedure_end_date,procedure_type_concept_id))\n",
    "        conn.commit()"
   ]
  },
  {
   "cell_type": "markdown",
   "id": "023b6164-5a42-41a1-8e77-6710219c9ea4",
   "metadata": {},
   "source": [
    "### Systemic Treatment to Measurement"
   ]
  },
  {
   "cell_type": "markdown",
   "id": "65f7f88e-76dc-4411-ae80-5055847cb54f",
   "metadata": {},
   "source": [
    "Measurement concept id???"
   ]
  },
  {
   "cell_type": "code",
   "execution_count": null,
   "id": "70b8feff-dbf3-4141-82d5-f45fb8e84c5e",
   "metadata": {},
   "outputs": [],
   "source": [
    "sqlMeasuement = \"\"\"\n",
    "    INSERT INTO omopcdm.measurement (person_id, measurement_concept_id, measurement_date,measurement_type_concept_id,value_as_concept_id,measurement_event_id)\n",
    "    VALUES (%s, %s, %s,%s,%s,%s)\n",
    "    \"\"\"\n",
    "measurement_type_concept_id=38000280\n",
    "measurement_concept_id=0\n",
    "for idx, row in df_tables.iterrows():\n",
    "    cur.execute(query, (row['Episode Event Reference']))\n",
    "    res=cur.fetchone()\n",
    "    person_id=res\n",
    "    date=row['Start date regimen changed']\n",
    "    value_as_number=row['Number of cycles/ administrations']\n",
    "    measurement_value=row['Number of cycles/ administrations']   #??? the same as value as number\n",
    "    measurement_event_id=row['Episode Event reference']\n",
    "    cur.execute(sqlMeasuement,(person_id, measurement_concept_id, date, measurement_type_concept_id,value_as_number,measurement_value,measurement_event_id))\n",
    "    conn.commit()"
   ]
  }
 ],
 "metadata": {
  "kernelspec": {
   "display_name": "Python 3 (ipykernel)",
   "language": "python",
   "name": "python3"
  },
  "language_info": {
   "codemirror_mode": {
    "name": "ipython",
    "version": 3
   },
   "file_extension": ".py",
   "mimetype": "text/x-python",
   "name": "python",
   "nbconvert_exporter": "python",
   "pygments_lexer": "ipython3",
   "version": "3.10.12"
  }
 },
 "nbformat": 4,
 "nbformat_minor": 5
}
