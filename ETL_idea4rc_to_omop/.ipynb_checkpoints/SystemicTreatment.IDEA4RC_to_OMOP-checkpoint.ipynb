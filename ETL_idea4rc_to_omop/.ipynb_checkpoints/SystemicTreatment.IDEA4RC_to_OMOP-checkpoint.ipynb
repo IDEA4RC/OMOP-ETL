{
 "cells": [
  {
   "cell_type": "markdown",
   "id": "8019fd1b-9a57-43d5-a98d-d47f46f0dbb1",
   "metadata": {},
   "source": [
    "# Surgery to OMOP"
   ]
  },
  {
   "cell_type": "code",
   "execution_count": null,
   "id": "f37913a9-f115-4a54-a356-f0a068dc8bf7",
   "metadata": {},
   "outputs": [],
   "source": [
    "import pandas as pd\n",
    "import psycopg2\n",
    "import random\n",
    "import numpy as np\n",
    "from datetime import datetime, timedelta"
   ]
  },
  {
   "cell_type": "code",
   "execution_count": null,
   "id": "79055638-6710-4737-8a6c-b4008dec9bb7",
   "metadata": {},
   "outputs": [],
   "source": [
    "surgery_IDEA4RC = pd.read_csv(\"./IDEA4RC-data/surgeryIDEA4RC.csv\")\n",
    "surgery_IDEA4RC.head(5)"
   ]
  },
  {
   "cell_type": "markdown",
   "id": "bc6825ff-f4a3-4c6f-a883-3cea722a465d",
   "metadata": {},
   "source": []
  }
 ],
 "metadata": {
  "kernelspec": {
   "display_name": "Python 3 (ipykernel)",
   "language": "python",
   "name": "python3"
  },
  "language_info": {
   "codemirror_mode": {
    "name": "ipython",
    "version": 3
   },
   "file_extension": ".py",
   "mimetype": "text/x-python",
   "name": "python",
   "nbconvert_exporter": "python",
   "pygments_lexer": "ipython3",
   "version": "3.10.12"
  }
 },
 "nbformat": 4,
 "nbformat_minor": 5
}
