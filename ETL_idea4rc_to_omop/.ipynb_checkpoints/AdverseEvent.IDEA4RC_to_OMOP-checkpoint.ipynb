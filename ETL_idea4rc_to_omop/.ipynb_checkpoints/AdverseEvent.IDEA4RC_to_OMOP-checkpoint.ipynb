{
 "cells": [
  {
   "cell_type": "markdown",
   "id": "15fcdaea-43a6-4471-860a-f12d2df4a3d2",
   "metadata": {},
   "source": [
    "# Adverse Event to OMOP"
   ]
  },
  {
   "cell_type": "code",
   "execution_count": null,
   "id": "342012e2-cfaf-4cbb-b952-60dab844658d",
   "metadata": {},
   "outputs": [],
   "source": [
    "import mysql.connector\n",
    "import pandas as pd\n",
    "import psycopg2\n",
    "import random\n",
    "import numpy as np\n",
    "from datetime import datetime, timedelta"
   ]
  },
  {
   "cell_type": "code",
   "execution_count": null,
   "id": "4dc57a9e-798d-4fd1-9c2c-5ebb2cbf26da",
   "metadata": {},
   "outputs": [],
   "source": [
    "df_Adverse_Event_IDEA4RC = pd.read_csv(\"./IDEA4RC-data/adverseEventIDEA4RC.csv\")\n",
    "df_Adverse_Event_IDEA4RC.head(5)"
   ]
  },
  {
   "cell_type": "code",
   "execution_count": null,
   "id": "4ff27756-5488-4bcf-8130-6a513d0f4525",
   "metadata": {},
   "outputs": [],
   "source": [
    "# Conexión a la base de datos OMOP CDM\n",
    "conn = psycopg2.connect(\n",
    "    dbname=\"omopdb\",\n",
    "    user=\"postgres\",\n",
    "    password=\"mysecretpassword\",\n",
    "    host=\"localhost\",\n",
    "    port=\"5432\"\n",
    ")\n",
    "\n",
    "# Comando para hacer el mapeo (insercción de datos del IDEA4RC.csv a OMOP)\n",
    "cur = conn.cursor()\n",
    "config = {\n",
    "    'user': 'user', \n",
    "    'password': 'password',\n",
    "    'host': '127.0.0.1',\n",
    "    'database': 'idea4rc_dm',\n",
    "    'raise_on_warnings': True\n",
    "}\n",
    "\n",
    "conn = mysql.connector.connect(**config)\n",
    "curIDEA = conn.cursor()"
   ]
  },
  {
   "cell_type": "markdown",
   "id": "574b28b9-98b8-4b43-9e34-d7c396994df0",
   "metadata": {},
   "source": [
    "### Adverse Episode to Episode"
   ]
  },
  {
   "cell_type": "markdown",
   "id": "0c1e545c-84ad-4297-a8c2-cefe38583dd6",
   "metadata": {},
   "source": [
    "What to do with episode_object_concept_id\n",
    "\n",
    "For the duration, I believe we should add a end date. But what to do with the equivalences? less than a week=HOW MANY days?"
   ]
  },
  {
   "cell_type": "code",
   "execution_count": null,
   "id": "5ed6d007-e3e7-4c64-b163-88f8351ccf3d",
   "metadata": {},
   "outputs": [],
   "source": [
    "sql = \"\"\"\n",
    "    INSERT INTO omopcdm.episode (episode_id, person_id, episode_concept_id, episode_start_date)\n",
    "    VALUES (%s, %s, %s, %s, %s)\n",
    "\"\"\"\n",
    "#Episode concept id=vocabulary from event type\n",
    "\n",
    "query= \"\"\"\n",
    "    SELECT c.patient \n",
    "    FROM cancer_episode c\n",
    "    WHERE EXISTS (\n",
    "        SELECT 1 \n",
    "        FROM EpisodeEvent e\n",
    "        WHERE e.cancerEpisode = c.id\n",
    "        AND e.id = %s\n",
    "    )\n",
    "    LIMIT 1\n",
    "\n",
    "\"\"\"\n",
    "\n",
    "df_tables=df_Adverse_Event_IDEA4RC\n",
    "for idx, row in df_tables.iterrows():\n",
    "    curIDEA.execute(query, (row['Episode Event reference']))\n",
    "    res=curIDEA.fetchone()\n",
    "    person_id=res\n",
    "    episode_object_concept_id=0      #What to do with this\n",
    "    episode_id=row['Episode Event reference']\n",
    "    episode_concept_id=row['Adverse event type (CTCAE Term)']\n",
    "    episode_start_date=row['Adverse event starting date']\n",
    "    cur.execute(sql, (episode_id,person_id, episode_concept_id, episode_start_date))\n",
    "    conn.commit()"
   ]
  }
 ],
 "metadata": {
  "kernelspec": {
   "display_name": "Python 3 (ipykernel)",
   "language": "python",
   "name": "python3"
  },
  "language_info": {
   "codemirror_mode": {
    "name": "ipython",
    "version": 3
   },
   "file_extension": ".py",
   "mimetype": "text/x-python",
   "name": "python",
   "nbconvert_exporter": "python",
   "pygments_lexer": "ipython3",
   "version": "3.10.12"
  }
 },
 "nbformat": 4,
 "nbformat_minor": 5
}
