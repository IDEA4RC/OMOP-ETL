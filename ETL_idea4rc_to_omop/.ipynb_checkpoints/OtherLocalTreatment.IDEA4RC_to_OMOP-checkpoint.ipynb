{
 "cells": [
  {
   "cell_type": "markdown",
   "id": "fb36b6f5-0d70-4b9e-a7b0-5bb93d3f4e88",
   "metadata": {},
   "source": [
    "# Other Local Treatment to OMOP"
   ]
  },
  {
   "cell_type": "code",
   "execution_count": null,
   "id": "0d858aa2-d10d-4632-8a5a-8edf1759adee",
   "metadata": {},
   "outputs": [],
   "source": [
    "import pandas as pd\n",
    "import psycopg2\n",
    "import random\n",
    "import numpy as np\n",
    "from datetime import datetime, timedelta"
   ]
  },
  {
   "cell_type": "markdown",
   "id": "772f5f97-b6cd-47ab-acce-03f166877522",
   "metadata": {},
   "source": [
    "### Other Local Treatment to Episode"
   ]
  },
  {
   "cell_type": "code",
   "execution_count": null,
   "id": "81c09bd2-55b3-4341-9c62-9eaf83b67647",
   "metadata": {},
   "outputs": [],
   "source": [
    "sql = \"\"\"\n",
    "INSERT INTO EPISODE (episode_id, episode_start_date, episode_end_date, episode_concept_id,episode_type_concept_id)\n",
    "VALUES (%s, %s, %s, %s,%s)\n",
    "ON DUPLICATE KEY UPDATE\n",
    "    episode_concept_id = VALUES(episode_concept_id),\n",
    "\"\"\"\n",
    "\n",
    "for idx, row in df_tables.iterrows():\n",
    "    cur.execute(sql,(row['episodeEvent'], row['startDate'], row['endDate'],row['treatmentResponse'],row['treatmentResponse']))\n",
    "    conn.commit()"
   ]
  },
  {
   "cell_type": "markdown",
   "id": "5054245b-981e-4f2d-92cd-4c365dad9a83",
   "metadata": {},
   "source": [
    "### Other Local Treatment to Procedure  Ocurrence"
   ]
  },
  {
   "cell_type": "code",
   "execution_count": null,
   "id": "f0a78229-d2bf-42c5-975b-ec83e7dcd2de",
   "metadata": {},
   "outputs": [],
   "source": [
    "queryEVPO=\"\"\"\n",
    "    INSERT INTO omopcdm.episode_event (episode_id,event_id,episode_event_field_concept_id)\n",
    "    VALUES (%s, %s, %s)\n",
    "\"\"\"\n",
    "\n",
    "sqlProcedure=\"\"\"\n",
    "    INSERT INTO omopcdm.procedure_ocurrence (procedure_occurrence_id,person_id,procedure_concept_id,procedure_date,procedure_end_date,procedure_type_concept_id)\n",
    "    VALUES (%s, %s, %s,%s,%s)\n",
    "\"\"\"\n",
    "def toTableEpisodeEventProcedureOcurrence(idEpisode , idProcedureOcurrence):\n",
    "    cur.execute(queryEVPO,(idEpisode,idProcedureOcurrence,1147082)) #1147082 or 1147810, not clear\n",
    "    conn.commit()\n",
    "\n",
    "for idx, row in df_tables.iterrows():\n",
    "    cur.execute(query, (row['episodeEvent']))\n",
    "    res=cur.fetchone()\n",
    "    person_id=res\n",
    "    procedure_concept_id=row['typeOfLocalTreatment']\n",
    "    procedure_date=row['startDate']\n",
    "    procedure_end_date=row['endDate']\n",
    "    procedure_type_concept_id=0 #Still dont know what to do with this one\n",
    "    newId = datetime.now().strftime('%Y%m%d%H%M%S') + str(uuid4())\n",
    "    toTableEpisodeEventProcedureOcurrence(row['Episode Event reference'],newId)\n",
    "    cur.execute(sqlProcedure,(newId, person_id, procedure_concept_id,procedure_date,procedure_end_date,procedure_type_concept_id))\n",
    "    conn.commit()"
   ]
  }
 ],
 "metadata": {
  "kernelspec": {
   "display_name": "Python 3 (ipykernel)",
   "language": "python",
   "name": "python3"
  },
  "language_info": {
   "codemirror_mode": {
    "name": "ipython",
    "version": 3
   },
   "file_extension": ".py",
   "mimetype": "text/x-python",
   "name": "python",
   "nbconvert_exporter": "python",
   "pygments_lexer": "ipython3",
   "version": "3.10.12"
  }
 },
 "nbformat": 4,
 "nbformat_minor": 5
}
