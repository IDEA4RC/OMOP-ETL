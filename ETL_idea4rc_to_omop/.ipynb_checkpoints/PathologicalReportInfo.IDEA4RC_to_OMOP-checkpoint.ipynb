{
 "cells": [
  {
   "cell_type": "markdown",
   "id": "00a6dedc-5b99-4f79-966e-68e6a267e02a",
   "metadata": {},
   "source": [
    "# Pathological Report Info to OMOP"
   ]
  },
  {
   "cell_type": "code",
   "execution_count": null,
   "id": "9cf124f8-fc2b-42dc-8a97-f8f0e1c578ce",
   "metadata": {},
   "outputs": [],
   "source": [
    "import pandas as pd\n",
    "import psycopg2\n",
    "import random\n",
    "import numpy as np\n",
    "from datetime import datetime, timedelta"
   ]
  },
  {
   "cell_type": "code",
   "execution_count": null,
   "id": "b7c36e4d-8b11-4d83-854e-96fe564fc85b",
   "metadata": {},
   "outputs": [],
   "source": [
    "sarcomaStage_IDEA4RC = pd.read_csv(\"./IDEA4RC-data/pathologicalReportInfoIDEA4RC.csv\")\n",
    "sarcomaStage_IDEA4RC.head(5)"
   ]
  },
  {
   "cell_type": "code",
   "execution_count": null,
   "id": "64dd6d8a-658c-4209-9885-50d0235dde4f",
   "metadata": {},
   "outputs": [],
   "source": [
    "# Conexión a la base de datos OMOP CDM\n",
    "conn = psycopg2.connect(\n",
    "    dbname=\"omopdb\",\n",
    "    user=\"postgres\",\n",
    "    password=\"mysecretpassword\",\n",
    "    host=\"localhost\",\n",
    "    port=\"5432\"\n",
    ")\n",
    "\n",
    "# Comando para hacer el mapeo (insercción de datos del IDEA4RC.csv a OMOP)\n",
    "cur = conn.cursor()"
   ]
  },
  {
   "cell_type": "markdown",
   "id": "9522983a-3bf2-46a2-8026-37a17a72ba7a",
   "metadata": {},
   "source": [
    "### PathologicalReportInfo to Measurement"
   ]
  },
  {
   "cell_type": "markdown",
   "id": "954eda2e-5727-4ad0-a1a7-9ee76860b4f4",
   "metadata": {},
   "source": [
    "Mitotic Activity, Infiltration of surrounding myometrium and vascular intrusion or invasion are booleans/floats with vocabulary, what should be done with these?"
   ]
  },
  {
   "cell_type": "code",
   "execution_count": null,
   "id": "be27d8da-e757-4904-abde-c06b70a73cd0",
   "metadata": {},
   "outputs": [],
   "source": [
    "cols = {\n",
    "    'Degree of cytologic Atypia':0,\n",
    "    'Pattern of Growth':0,\n",
    "    'Mitotic Activity':0\n",
    "    'Infiltration of surrounding myometrium':0,\n",
    "    'Type of necrosis':0,\n",
    "    'Expression of ER/PR':0,\n",
    "    'vascular intrusion or invasion':0,\n",
    "    'p16 and p53 expression':0\n",
    "}\n",
    "\n",
    "sql = \"\"\"\n",
    "    INSERT INTO omopcdm.measurement (person_id, measurement_concept_id, measurement_date,measurement_type_concept_id,value_as_concept_id,measurement_event_id)\n",
    "    VALUES (%s, %s, %s,%s,%s,%s)\n",
    "\"\"\"\n",
    "query= \"\"\"\n",
    "    SELECT c.patient \n",
    "    FROM cancer_episode c\n",
    "    WHERE EXISTS (\n",
    "        SELECT 1 \n",
    "        FROM EpisodeEvent e\n",
    "        WHERE e.cancerEpisode = c.id\n",
    "        AND e.id = %s\n",
    "    )\n",
    "    LIMIT 1\n",
    "\n",
    "\"\"\"\n",
    "sqlInfiltration = \"\"\"\n",
    "    INSERT INTO omopcdm.measurement (person_id, measurement_concept_id, measurement_date,measurement_type_concept_id,value_as_number,value_as_concept_id,measurement_event_id)\n",
    "    VALUES (%s, %s, %s,%s,%s,%s)\n",
    "\"\"\"\n",
    "person_id=0 \n",
    "date=datetime.now()\n",
    "measurement_type_concept_id=38000280\n",
    "booleans=['Infiltration of surrounding myometrium','vascular intrusion or invasion']\n",
    "boolValues=[4188539,4188540]\n",
    "\n",
    "for idx, row in df_tables.iterrows():\n",
    "    for column in cols.keys():\n",
    "        cur.execute(query, (row['Episode Event Reference']))\n",
    "        res=cur.fetchone()\n",
    "        person_id=res\n",
    "        measurement_value = row[column]\n",
    "        measurement_concept_id = cols.get(column)\n",
    "        measurement_event_id=row['Episode Event Reference']\n",
    "        if column=='Mitotic Activity':\n",
    "            value_as_number=measurement_value\n",
    "            measurement_value=32667\n",
    "            cur.execute(sqlInfiltration,(person_id, measurement_concept_id, date, measurement_type_concept_id,value_as_number,measurement_value,measurement_event_id))\n",
    "            conn.commit()\n",
    "        else:\n",
    "            if(column in booleans):\n",
    "                if(measurement_value not in boolValues):\n",
    "                    measurement_value=measurement_value==0?4188540:4188539\n",
    "            cur.execute(sql, (person_id, measurement_concept_id, date, measurement_type_concept_id,measurement_value,measurement_event_id))\n",
    "            conn.commit()\n"
   ]
  },
  {
   "cell_type": "markdown",
   "id": "2608941f-24d8-4f87-910d-2341df81f983",
   "metadata": {},
   "source": [
    "### Pathlogical Report Info to Observation"
   ]
  },
  {
   "cell_type": "code",
   "execution_count": null,
   "id": "1ab241b3-add9-461a-816e-f1d3836c1233",
   "metadata": {},
   "outputs": [],
   "source": [
    "sql=\"\"\"\n",
    "    INSERT INTO omopcdm.observation (person_id, observation_concept_id, observation_date, observation_type_concept_id)\n",
    "    VALUES (%s, %s, %s,%s,%s,%s,%s)\n",
    "    \"\"\"\n",
    "\n",
    "observation_type_concept_id=37117814\n",
    "\n",
    "for idx, row in df_tables.iterrows():\n",
    "    cur.execute(query, (row['Episode Event Reference']))\n",
    "    res=cur.fetchone()\n",
    "    person_id=res\n",
    "    observation_date=datetime.now()\n",
    "    cur.execute(sql,(person_id, observation_concept_id, observation_date, observation_type_concept_id))\n",
    "    conn.commit()"
   ]
  }
 ],
 "metadata": {
  "kernelspec": {
   "display_name": "Python 3 (ipykernel)",
   "language": "python",
   "name": "python3"
  },
  "language_info": {
   "codemirror_mode": {
    "name": "ipython",
    "version": 3
   },
   "file_extension": ".py",
   "mimetype": "text/x-python",
   "name": "python",
   "nbconvert_exporter": "python",
   "pygments_lexer": "ipython3",
   "version": "3.10.12"
  }
 },
 "nbformat": 4,
 "nbformat_minor": 5
}
