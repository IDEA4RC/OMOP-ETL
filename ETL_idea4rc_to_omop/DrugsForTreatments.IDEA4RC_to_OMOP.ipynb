{
 "cells": [
  {
   "cell_type": "markdown",
   "id": "53c15e47-73c2-4751-a62b-206498fd62f4",
   "metadata": {},
   "source": [
    "# Drugs for Treatments to OMOP\n",
    "\n",
    "This is not clear at all, we do not understand how to do this."
   ]
  },
  {
   "cell_type": "markdown",
   "id": "1dfabf92",
   "metadata": {},
   "source": [
    "We need drug_type_concept_id, drug_exposure_start_date unless it is the same as the one in the reference to other treatments, drug_exposure_end_date. We also need a way to maintain the reference to the treatment or disease in OMOP, so we do not lose this info."
   ]
  },
  {
   "cell_type": "code",
   "execution_count": null,
   "id": "7845ddc7",
   "metadata": {
    "vscode": {
     "languageId": "plaintext"
    }
   },
   "outputs": [],
   "source": []
  }
 ],
 "metadata": {
  "kernelspec": {
   "display_name": "Python 3 (ipykernel)",
   "language": "python",
   "name": "python3"
  },
  "language_info": {
   "codemirror_mode": {
    "name": "ipython",
    "version": 3
   },
   "file_extension": ".py",
   "mimetype": "text/x-python",
   "name": "python",
   "nbconvert_exporter": "python",
   "pygments_lexer": "ipython3",
   "version": "3.10.12"
  }
 },
 "nbformat": 4,
 "nbformat_minor": 5
}
