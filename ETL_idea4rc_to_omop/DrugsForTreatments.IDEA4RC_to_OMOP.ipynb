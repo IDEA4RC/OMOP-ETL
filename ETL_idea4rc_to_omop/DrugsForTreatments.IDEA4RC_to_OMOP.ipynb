{
 "cells": [
  {
   "cell_type": "markdown",
   "id": "53c15e47-73c2-4751-a62b-206498fd62f4",
   "metadata": {},
   "source": [
    "# Drugs for Treatments to OMOP"
   ]
  },
  {
   "cell_type": "markdown",
   "id": "1dfabf92",
   "metadata": {},
   "source": [
    "For the mapping in: https://docs.google.com/spreadsheets/d/1Vw1Dr2K4oG__cDQTutGaJhZvGUvQTLwc4qWreP6qMSs/edit?gid=634754097#gid=634754097 we just have the drug concept id. We assume a drug expossure can not exist with no treatment, and with this we will simply take this:\n",
    "\n",
    "![First image](images/DrugsForTreatmentsIDEA1.png)\n",
    "\n",
    "With episode_event_field_concept_id=1147070 we can do what is showed in the picture above.\n"
   ]
  },
  {
   "cell_type": "code",
   "execution_count": null,
   "id": "7845ddc7",
   "metadata": {
    "vscode": {
     "languageId": "plaintext"
    }
   },
   "outputs": [],
   "source": []
  },
  {
   "cell_type": "code",
   "execution_count": null,
   "id": "69c5ad8c",
   "metadata": {
    "vscode": {
     "languageId": "plaintext"
    }
   },
   "outputs": [],
   "source": []
  }
 ],
 "metadata": {
  "kernelspec": {
   "display_name": "Python 3 (ipykernel)",
   "language": "python",
   "name": "python3"
  },
  "language_info": {
   "codemirror_mode": {
    "name": "ipython",
    "version": 3
   },
   "file_extension": ".py",
   "mimetype": "text/x-python",
   "name": "python",
   "nbconvert_exporter": "python",
   "pygments_lexer": "ipython3",
   "version": "3.10.12"
  }
 },
 "nbformat": 4,
 "nbformat_minor": 5
}
