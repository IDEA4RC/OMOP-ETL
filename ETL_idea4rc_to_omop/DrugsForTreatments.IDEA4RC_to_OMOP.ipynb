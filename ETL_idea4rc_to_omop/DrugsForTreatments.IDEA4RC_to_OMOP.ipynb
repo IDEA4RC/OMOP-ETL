{
 "cells": [
  {
   "cell_type": "markdown",
   "id": "53c15e47-73c2-4751-a62b-206498fd62f4",
   "metadata": {},
   "source": [
    "# Drugs for Treatments to OMOP"
   ]
  },
  {
   "cell_type": "markdown",
   "id": "1dfabf92",
   "metadata": {},
   "source": [
    "For the mapping in: https://docs.google.com/spreadsheets/d/1Vw1Dr2K4oG__cDQTutGaJhZvGUvQTLwc4qWreP6qMSs/edit?gid=634754097#gid=634754097 we just have the drug concept id. We assume a drug expossure can not exist with no treatment, and with this we will simply take this:\n",
    "\n",
    "![First image](images/DrugsForTreatmentsIDEA1.png)\n",
    "\n",
    "With episode_event_field_concept_id=1147070 we can do what is showed in the picture above.\n"
   ]
  },
  {
   "cell_type": "code",
   "execution_count": null,
   "id": "8f463cec",
   "metadata": {},
   "outputs": [],
   "source": [
    "import pandas as pd\n",
    "import psycopg2\n",
    "import random\n",
    "import numpy as np\n",
    "from uuid import uuid4\n",
    "from datetime import datetime, timedelta\n",
    "import mysql.connector"
   ]
  },
  {
   "cell_type": "code",
   "execution_count": null,
   "id": "e93dcc92",
   "metadata": {},
   "outputs": [],
   "source": [
    "drug_exposure_IDEA4RC = pd.read_csv(\"./IDEA4RC-data/drugExposureIDEA4RC.csv\")\n",
    "drug_exposure_IDEA4RC.head(5)"
   ]
  },
  {
   "cell_type": "code",
   "execution_count": null,
   "id": "c111bc90",
   "metadata": {},
   "outputs": [],
   "source": [
    "conn = psycopg2.connect(\n",
    "    dbname=\"omopdb\",\n",
    "    user=\"postgres\",\n",
    "    password=\"mysecretpassword\",\n",
    "    host=\"localhost\",\n",
    "    port=\"5432\"\n",
    ")\n",
    "\n",
    "cur = conn.cursor()\n",
    "\n",
    "config = {\n",
    "    'user': 'user', \n",
    "    'password': 'password',\n",
    "    'host': '127.0.0.1',\n",
    "    'database': 'idea4rc_dm',\n",
    "    'raise_on_warnings': True\n",
    "}\n",
    "\n",
    "conn2 = mysql.connector.connect(**config)\n",
    "curIDEA = conn2.cursor()\n",
    "cur = conn.cursor()"
   ]
  },
  {
   "cell_type": "markdown",
   "id": "36c006f2",
   "metadata": {},
   "source": [
    "### Drugs for treatments to Drug exposure\n",
    "\n",
    "For this, we still need to check everything since it is not clear in the mapping, and give a value to drug_type_concept_id"
   ]
  },
  {
   "cell_type": "code",
   "execution_count": null,
   "id": "569f5cc4",
   "metadata": {},
   "outputs": [],
   "source": [
    "insertQuery = \"\"\"\n",
    "    INSERT INTO drug_exposure (person_id, drug_concept_id, drug_exposure_start_date, drug_exposure_end_date, drug_type_concept_id, visit_occurrence_id) VALUES (%s, %s, %s, %s, %s, %s)\n",
    "\"\"\"\n",
    "\n",
    "selectVisitIdQuery = \"\"\"\n",
    "    SELECT visit_occurrence_id FROM visit_occurrence WHERE person_id = %s AND visit_start_date = %s AND visit_end_date = %s\n",
    "\"\"\"\n",
    "df_table = drug_exposure_IDEA4RC\n",
    "\n",
    "for index, row in df_table.iterrows():\n",
    "    table=0\n",
    "    idReference=0\n",
    "    if row['isolated_limb_perfusion']:\n",
    "        table='isolated_limb_perfusion'\n",
    "        idReference=row['isolated_limb_perfusion']\n",
    "    elif row['other_local_treatment']:\n",
    "        table='other_local_treatment'\n",
    "        idReference=row['other_local_treatment']\n",
    "    elif row['systemic_treatment']:\n",
    "        table='systemic_treatment'\n",
    "        idReference=row['systemic_treatment']\n",
    "    getPerson= \"\"\"\n",
    "    SELECT patient FROM cancer_episode WHERE id IN (\n",
    "        SELECT cancer_episode FROM episode_event WHERE id IN (\n",
    "            SELECT episode_event FROM event_occurrence WHERE id IN (\n",
    "                SELECT event_occurrence FROM {table} WHERE id = %s\n",
    "            )\n",
    "        )\n",
    "    )\n",
    "    \"\"\"\n",
    "    curIDEA.execute(getPerson, (idReference))\n",
    "    person_id = curIDEA.fetchone()[0]\n",
    "    queryDates=\"\"\"\n",
    "    SELECT start_date, end_date FROM {table} WHERE id = %s\n",
    "    \"\"\"\n",
    "    curIDEA.execute(queryDates, (idReference))\n",
    "    dates = curIDEA.fetchone()\n",
    "    drug_concept_id = row['drug']\n",
    "    drug_exposure_start_date = dates[0]\n",
    "    drug_exposure_end_date = dates[1]\n",
    "    drug_type_concept_id = ???\n",
    "    cur.execute(selectVisitIdQuery, (person_id, drug_exposure_start_date, drug_exposure_end_date))\n",
    "    visit_occurrence_id = cur.fetchone()[0]\n",
    "    cur.execute(insertQuery, (person_id, drug_concept_id, drug_exposure_start_date, drug_exposure_end_date, drug_type_concept_id, visit_occurrence_id))\n",
    "    conn.commit()"
   ]
  }
 ],
 "metadata": {
  "kernelspec": {
   "display_name": "Python 3 (ipykernel)",
   "language": "python",
   "name": "python3"
  },
  "language_info": {
   "codemirror_mode": {
    "name": "ipython",
    "version": 3
   },
   "file_extension": ".py",
   "mimetype": "text/x-python",
   "name": "python",
   "nbconvert_exporter": "python",
   "pygments_lexer": "ipython3",
   "version": "3.10.12"
  }
 },
 "nbformat": 4,
 "nbformat_minor": 5
}
