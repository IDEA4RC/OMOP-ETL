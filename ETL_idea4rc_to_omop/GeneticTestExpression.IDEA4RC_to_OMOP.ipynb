{
 "cells": [
  {
   "cell_type": "markdown",
   "id": "f7378ec2-c526-4d72-b382-65bf55985418",
   "metadata": {},
   "source": [
    "# Genetic Test Expression to OMOP"
   ]
  },
  {
   "cell_type": "markdown",
   "id": "32c4eef9",
   "metadata": {},
   "source": [
    "Genetic test expression is mapped to prcedure occurrence, following: https://docs.google.com/spreadsheets/d/1Vw1Dr2K4oG__cDQTutGaJhZvGUvQTLwc4qWreP6qMSs/edit?gid=728670853#gid=728670853"
   ]
  },
  {
   "cell_type": "code",
   "execution_count": null,
   "id": "25b418c6-f602-4721-b2c8-f98dc6595a73",
   "metadata": {},
   "outputs": [],
   "source": [
    "import mysql.connector\n",
    "import pandas as pd\n",
    "import psycopg2\n",
    "import random\n",
    "import numpy as np\n",
    "from datetime import datetime, timedelta"
   ]
  },
  {
   "cell_type": "code",
   "execution_count": null,
   "id": "cd139201-17c1-4e2f-9dd0-216c619d814b",
   "metadata": {},
   "outputs": [],
   "source": [
    "df_genetic_test_expression_IDEA4RC = pd.read_csv(\"./IDEA4RC-data/geneticTestExpressionIDEA4RC.csv\")\n",
    "df_genetic_test_expression_IDEA4RC.head(5)"
   ]
  },
  {
   "cell_type": "code",
   "execution_count": null,
   "id": "88989db2-05ad-48aa-9f62-d8572a490780",
   "metadata": {},
   "outputs": [],
   "source": [
    "conn = psycopg2.connect(\n",
    "    dbname=\"omopdb\",\n",
    "    user=\"postgres\",\n",
    "    password=\"mysecretpassword\",\n",
    "    host=\"localhost\",\n",
    "    port=\"5432\"\n",
    ")\n",
    "\n",
    "cur = conn.cursor()\n",
    "config = {\n",
    "    'user': 'user', \n",
    "    'password': 'password',\n",
    "    'host': '127.0.0.1',\n",
    "    'database': 'idea4rc_dm',\n",
    "    'raise_on_warnings': True\n",
    "}\n",
    "\n",
    "conn2 = mysql.connector.connect(**config)\n",
    "curIDEA = conn2.cursor()"
   ]
  },
  {
   "cell_type": "markdown",
   "id": "11215f21-0fba-43e6-bdbe-48946011be80",
   "metadata": {},
   "source": [
    "### Genetic Test Expression to Procedure Occurrence"
   ]
  },
  {
   "cell_type": "markdown",
   "id": "c4cf706b-0981-43a4-bed8-2dd6750129ae",
   "metadata": {},
   "source": [
    "We need a visit occurrence, however, we do not have any for these procedures. What should I do with this then?"
   ]
  },
  {
   "cell_type": "code",
   "execution_count": null,
   "id": "9cb3c60a-7313-4f20-bf4c-432539abf882",
   "metadata": {},
   "outputs": [],
   "source": [
    "sql = \"\"\"\n",
    "    INSERT INTO omopcdm.condition_occurrence (person_id, procedure_concept_id, procedure_date, procedure_type_concept_id)\n",
    "    VALUES (%s, %s, %s, %s)\n",
    "\"\"\"\n",
    "columns={\n",
    "    \"gene_expression_analysis_performed\": \"date_of_gene_expression\",\n",
    "    \"gene_mutation_analysis_performed\":\"date_of_gene_mutation\",\n",
    "    \"tests_for_chromosome_translocations_performed\":\"date_of_translocation\",\n",
    "    \"ngs_performed\":\"date_of_ngs\",\n",
    "    \"pcr_test_performed\":\"date_of_pcr\",\n",
    "    \"immunohistochemistry_performed\":\"date_of_immunohistochemistry\",\n",
    "    \"ct_dna_performed\":\"date_of_ct_dna\"\n",
    "}\n",
    "query= \"\"\"\n",
    "    SELECT c.patient \n",
    "    FROM cancer_episode c\n",
    "    WHERE EXISTS (\n",
    "        SELECT 1 \n",
    "        FROM EpisodeEvent e\n",
    "        WHERE e.cancerEpisode = c.id\n",
    "        AND e.id = %s\n",
    "    )\n",
    "    LIMIT 1\n",
    "\n",
    "\"\"\"\n",
    "vocabs={\n",
    "    \"gene_expression_analysis_performed\": 44808037,\n",
    "    \"gene_mutation_analysis_performed\": 4038339,\n",
    "    \"tests_for_chromosome_translocations_performed\": 4039364,\n",
    "    \"ngs_performed\": 40485067,\n",
    "    \"pcr_test_performed\": 40482792,\n",
    "    \"immunohistochemistry_performed\": 4035726,\n",
    "    \"ct_dna_performed\": 19387013,\n",
    "}\n",
    "\n",
    "procedure_type_concept_id=32879\n",
    "\n",
    "df_tables=df_genetic_test_expression_IDEA4RC\n",
    "for idx, row in df_tables.iterrows():\n",
    "    for column in columns.keys():\n",
    "        if row[column] == 1 or row[column]:\n",
    "            curIDEA.execute(query, (row['episode_event']))\n",
    "            procedure_concept_id=vocabs.get(column)\n",
    "            res=curIDEA.fetchone()\n",
    "            person_id=res\n",
    "            procedure_date_var=columns.get(column)\n",
    "            procedure_date=row[procedure_date_var]\n",
    "            cur.execute(sql, (person_id, procedure_concept_id, procedure_date, procedure_type_concept_id))\n",
    "        "
   ]
  }
 ],
 "metadata": {
  "kernelspec": {
   "display_name": "Python 3 (ipykernel)",
   "language": "python",
   "name": "python3"
  },
  "language_info": {
   "codemirror_mode": {
    "name": "ipython",
    "version": 3
   },
   "file_extension": ".py",
   "mimetype": "text/x-python",
   "name": "python",
   "nbconvert_exporter": "python",
   "pygments_lexer": "ipython3",
   "version": "3.10.12"
  }
 },
 "nbformat": 4,
 "nbformat_minor": 5
}
