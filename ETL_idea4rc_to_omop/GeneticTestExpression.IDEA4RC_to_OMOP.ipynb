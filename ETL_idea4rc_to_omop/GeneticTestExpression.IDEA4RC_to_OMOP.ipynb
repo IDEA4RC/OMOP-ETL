{
 "cells": [
  {
   "cell_type": "markdown",
   "id": "f7378ec2-c526-4d72-b382-65bf55985418",
   "metadata": {},
   "source": [
    "# Genetic Test Expression to OMOP"
   ]
  },
  {
   "cell_type": "code",
   "execution_count": null,
   "id": "25b418c6-f602-4721-b2c8-f98dc6595a73",
   "metadata": {},
   "outputs": [],
   "source": [
    "import pandas as pd\n",
    "import psycopg2\n",
    "import random\n",
    "import numpy as np\n",
    "from datetime import datetime, timedelta"
   ]
  },
  {
   "cell_type": "code",
   "execution_count": null,
   "id": "cd139201-17c1-4e2f-9dd0-216c619d814b",
   "metadata": {},
   "outputs": [],
   "source": [
    "df_genetic_test_expression_IDEA4RC = pd.read_csv(\"./IDEA4RC-data/geneticTestExpressionIDEA4RC.csv\")\n",
    "df_genetic_test_expression_IDEA4RC.head(5)"
   ]
  },
  {
   "cell_type": "code",
   "execution_count": null,
   "id": "88989db2-05ad-48aa-9f62-d8572a490780",
   "metadata": {},
   "outputs": [],
   "source": [
    "# Conexión a la base de datos OMOP CDM\n",
    "conn = psycopg2.connect(\n",
    "    dbname=\"omopdb\",\n",
    "    user=\"postgres\",\n",
    "    password=\"mysecretpassword\",\n",
    "    host=\"localhost\",\n",
    "    port=\"5432\"\n",
    ")\n",
    "\n",
    "# Comando para hacer el mapeo (insercción de datos del IDEA4RC.csv a OMOP)\n",
    "cur = conn.cursor()"
   ]
  },
  {
   "cell_type": "markdown",
   "id": "11215f21-0fba-43e6-bdbe-48946011be80",
   "metadata": {},
   "source": [
    "### Cancer Episode to Condition Occurrence"
   ]
  },
  {
   "cell_type": "code",
   "execution_count": null,
   "id": "9cb3c60a-7313-4f20-bf4c-432539abf882",
   "metadata": {},
   "outputs": [],
   "source": [
    "sql = \"\"\"\n",
    "    INSERT INTO omopcdm.condition_occurrence (person_id, procedure_concept_id, procedure_date, visit_occurrence_id)\n",
    "    VALUES (%s, %s, %s, %s, %s)\n",
    "\"\"\"\n",
    "person_id=0\n",
    "df_tables=df_genetic_test_expression_IDEA4RC\n",
    "for idx, row in df_tables.iterrows():\n",
    "    for column in vocab_values_concept_id:\n",
    "        condition_concept_id = row[column]\n",
    "        condition_type_concept_id=0\n",
    "        cur.execute(sql, (person_id, condition_concept_id, date_value, condition_type_concept_id))\n",
    "        conn.commit()\n"
   ]
  }
 ],
 "metadata": {
  "kernelspec": {
   "display_name": "Python 3 (ipykernel)",
   "language": "python",
   "name": "python3"
  },
  "language_info": {
   "codemirror_mode": {
    "name": "ipython",
    "version": 3
   },
   "file_extension": ".py",
   "mimetype": "text/x-python",
   "name": "python",
   "nbconvert_exporter": "python",
   "pygments_lexer": "ipython3",
   "version": "3.10.12"
  }
 },
 "nbformat": 4,
 "nbformat_minor": 5
}
