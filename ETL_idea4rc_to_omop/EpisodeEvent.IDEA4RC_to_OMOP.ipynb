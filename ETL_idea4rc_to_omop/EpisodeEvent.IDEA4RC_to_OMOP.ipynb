{
 "cells": [
  {
   "cell_type": "markdown",
   "id": "aaeeae15-ade2-41f1-840b-593ca9b3f6a8",
   "metadata": {},
   "source": [
    "# Episode Event to OMOP"
   ]
  },
  {
   "cell_type": "markdown",
   "id": "36978edb-3369-417f-ae64-1e8a4ab541d8",
   "metadata": {},
   "source": []
  },
  {
   "cell_type": "code",
   "execution_count": null,
   "id": "e7e3b527-79a8-4549-ae3a-4399ec0aff1b",
   "metadata": {},
   "outputs": [],
   "source": [
    "import mysql.connector\n",
    "import pandas as pd\n",
    "import psycopg2\n",
    "import random\n",
    "import numpy as np\n",
    "from datetime import datetime, timedelta"
   ]
  },
  {
   "cell_type": "code",
   "execution_count": null,
   "id": "d31abcb0-478f-488d-a561-2d1290072c61",
   "metadata": {},
   "outputs": [],
   "source": [
    "df_Episode_Event_IDEA4RC = pd.read_csv(\"./IDEA4RC-data/episodeEventIDEA4RC.csv\")\n",
    "df_Episode_Event_IDEA4RC.head(5)"
   ]
  },
  {
   "cell_type": "code",
   "execution_count": null,
   "id": "3252889c-3a4e-4f29-add4-04e7122d287c",
   "metadata": {},
   "outputs": [],
   "source": [
    "# Conexión a la base de datos OMOP CDM\n",
    "conn = psycopg2.connect(\n",
    "    dbname=\"omopdb\",\n",
    "    user=\"postgres\",\n",
    "    password=\"mysecretpassword\",\n",
    "    host=\"localhost\",\n",
    "    port=\"5432\"\n",
    ")\n",
    "\n",
    "# Comando para hacer el mapeo (insercción de datos del IDEA4RC.csv a OMOP)\n",
    "cur = conn.cursor()\n",
    "\n",
    "config = {\n",
    "    'user': 'user', \n",
    "    'password': 'password',\n",
    "    'host': '127.0.0.1',\n",
    "    'database': 'idea4rc_dm',\n",
    "    'raise_on_warnings': True\n",
    "}\n",
    "\n",
    "conn2 = mysql.connector.connect(**config)\n",
    "IDEA = conn2.cursor()"
   ]
  },
  {
   "cell_type": "markdown",
   "id": "fe10c41a-d54c-419e-bcaf-6033b9c14639",
   "metadata": {},
   "source": [
    "### Episode Event to Episode"
   ]
  },
  {
   "cell_type": "markdown",
   "id": "0ce1296b-df8b-48c8-b09f-092dd4203494",
   "metadata": {},
   "source": [
    "This Episode will be a child episode, so we can track the cancer's progression in OMOP.\n",
    "\n",
    "episode_object_concept_id???"
   ]
  },
  {
   "cell_type": "code",
   "execution_count": null,
   "id": "73c7ae0c-e672-49ff-ab2b-50de23b93150",
   "metadata": {},
   "outputs": [],
   "source": [
    "sql = \"\"\"\n",
    "    INSERT INTO omopcdm.episode (person_id, episode_start_date, episode_concept_id, episode_object_concept_id, episode_type_concept_id, episode_parent_id)\n",
    "    VALUES (%s, %s, %s, %s, %s, %s)\n",
    "\"\"\"\n",
    "query=\"\"\"\n",
    "    SELECT person_id\n",
    "    FROM cancer_episode\n",
    "    WHERE id = %s\n",
    "\"\"\"\n",
    "queryDate=\"\"\"\n",
    "    SELECT episode_start_date\n",
    "    FROM cancer_episode\n",
    "    WHERE id = %s\n",
    "\"\"\"\n",
    "sqlGetEpisode = \"\"\"\n",
    "    SELECT c.id \n",
    "    FROM episode c\n",
    "    WHERE c.person_id = %s\n",
    "    AND c.episode_start_date = %s\n",
    "    LIMIT 1\n",
    "\"\"\"\n",
    "#Episode concept id=vocabulary from event type\n",
    "episode_object_concept_id=0\n",
    "event_type_concept_id=32879      #Is this ok?\n",
    "df_tables=df_Episode_Event_IDEA4RC\n",
    "for idx, row in df_tables.iterrows():\n",
    "    curIDEA.execute(query, (row['Cancer Episode Reference']))\n",
    "    res=curIDEA.fetchone()\n",
    "    person_id=res\n",
    "    episode_id=row['Disease status']\n",
    "    episode_concept_id=row['Event type']\n",
    "    episode_start_date=row['Date of episode']\n",
    "    curIDEA.execute(queryDate, (row['Cancer Episode Reference']))\n",
    "    res=curIDEA.fetchone()\n",
    "    dateAux=res\n",
    "    cur.execute(sqlGetEpisode, (person_id,dateAux))\n",
    "    episode_parent_id=cur.fetchone()\n",
    "    cur.execute(sql, (person_id, episode_start_date, episode_concept_id, episode_object_concept_id, event_type_concept_id, episode_parent_id))\n",
    "    cur.commit()\n",
    "    "
   ]
  },
  {
   "cell_type": "markdown",
   "id": "50563bb0-53f9-4614-a397-d45c558f461c",
   "metadata": {},
   "source": [
    "### Episode Event to Procedure Ocurrance"
   ]
  },
  {
   "cell_type": "markdown",
   "id": "22222fa6-eac9-40d6-8cf9-8aadbff1a1aa",
   "metadata": {},
   "source": [
    "Using 0 as the value for those columns we do not understand how to manage"
   ]
  },
  {
   "cell_type": "code",
   "execution_count": null,
   "id": "5328b899-3663-444f-9917-3b82fdc06bf0",
   "metadata": {},
   "outputs": [],
   "source": [
    "procedure_concept_id=0\n",
    "procedure_type_concept_id=0      #This one should be the reason why the diagnosis changed or how they discovered it, I believe, yet we don't have that information in IDEA4RC\n",
    "sql = \"\"\"\n",
    "    INSERT INTO omopcdm.procedure_occurrence (procedure_id, person_id, procedure_concept_id, procedure_date,procedure_type_concept_id,provider_id)\n",
    "    VALUES (%s, %s, %s, %s, %s,%s)\n",
    "\"\"\"\n",
    "\n",
    "def episode_event_definition(idEpisode, idProcedure):\n",
    "    sql = \"\"\"\n",
    "        INSERT INTO omopcdm.episode_event (episode_id, event_id, episode_event_field_concept_id )\n",
    "        VALUES (%s, %s, %s)\n",
    "    \"\"\"\n",
    "    cur.execute(sql, (idEpisode, idCondition,1147129))\n",
    "    conn.commit()\n",
    "\n",
    "\n",
    "for idx, row in df_tables.iterrows():\n",
    "    curIDEA.execute(query, (row['Cancer Episode Reference']))\n",
    "    res=curIDEA.fetchone()\n",
    "    person_id=res\n",
    "    procedure_date=row['Date of episode']\n",
    "    provider_id=row['Defined At']\n",
    "    curIDEA.execute(queryDate, (row['Cancer Episode Reference']))\n",
    "    res=curIDEA.fetchone()\n",
    "    dateAux=res\n",
    "    idProcedure=datetime.now().strftime(\"%Y%m%d%H%M%S\")\n",
    "    cur.execute(sqlGetEpisode, (person_id,dateAux))\n",
    "    episode_parent_id=cur.fetchone()\n",
    "    episode_event_definition(episode_parent_id, idProcedure)\n",
    "    cur.execute(sql, (idProcedure, person_id, procedure_concept_id, procedure_date,procedure_type_concept_id,provider_id))\n",
    "    conn.commit()"
   ]
  }
 ],
 "metadata": {
  "kernelspec": {
   "display_name": "Python 3 (ipykernel)",
   "language": "python",
   "name": "python3"
  },
  "language_info": {
   "codemirror_mode": {
    "name": "ipython",
    "version": 3
   },
   "file_extension": ".py",
   "mimetype": "text/x-python",
   "name": "python",
   "nbconvert_exporter": "python",
   "pygments_lexer": "ipython3",
   "version": "3.10.12"
  }
 },
 "nbformat": 4,
 "nbformat_minor": 5
}
