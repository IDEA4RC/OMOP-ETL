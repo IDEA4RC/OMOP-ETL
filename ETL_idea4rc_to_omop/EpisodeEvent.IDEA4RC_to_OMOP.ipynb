{
 "cells": [
  {
   "cell_type": "markdown",
   "id": "aaeeae15-ade2-41f1-840b-593ca9b3f6a8",
   "metadata": {},
   "source": [
    "# Episode Event to OMOP"
   ]
  },
  {
   "cell_type": "markdown",
   "id": "36978edb-3369-417f-ae64-1e8a4ab541d8",
   "metadata": {},
   "source": [
    "\n",
    "Episode event:\n",
    "https://docs.google.com/spreadsheets/d/1Vw1Dr2K4oG__cDQTutGaJhZvGUvQTLwc4qWreP6qMSs/edit?gid=857970120#gid=857970120\n",
    "\n",
    "Episodes represent the evolution of the cancer during time. For example:\n",
    "![3rd image](images/EpisodeEventIDEA3.png)\n",
    "\n",
    "In OMOP we have 2 kind of episode, dynamic that are the temporal evolution of the cancer and the extent that is the spatial evolution of the cancer.\n",
    "\n",
    "The episode event in idea4rc models the dynamic of the disease\n",
    "\n",
    "![First image](images/EpisodeEventIDEA1.png)\n",
    "\n"
   ]
  },
  {
   "cell_type": "code",
   "execution_count": null,
   "id": "e7e3b527-79a8-4549-ae3a-4399ec0aff1b",
   "metadata": {},
   "outputs": [],
   "source": [
    "import mysql.connector\n",
    "import pandas as pd\n",
    "import psycopg2\n",
    "import random\n",
    "import numpy as np\n",
    "from datetime import datetime, timedelta\n",
    "from uuid import uuid4"
   ]
  },
  {
   "cell_type": "code",
   "execution_count": null,
   "id": "d31abcb0-478f-488d-a561-2d1290072c61",
   "metadata": {},
   "outputs": [],
   "source": [
    "df_Episode_Event_IDEA4RC = pd.read_csv(\"./IDEA4RC-data/episodeEventIDEA4RC.csv\")\n",
    "df_Episode_Event_IDEA4RC.head(5)"
   ]
  },
  {
   "cell_type": "code",
   "execution_count": null,
   "id": "3252889c-3a4e-4f29-add4-04e7122d287c",
   "metadata": {},
   "outputs": [],
   "source": [
    "conn = psycopg2.connect(\n",
    "    dbname=\"omopdb\",\n",
    "    user=\"postgres\",\n",
    "    password=\"mysecretpassword\",\n",
    "    host=\"localhost\",\n",
    "    port=\"5432\"\n",
    ")\n",
    "\n",
    "cur = conn.cursor()\n",
    "\n",
    "config = {\n",
    "    'user': 'user', \n",
    "    'password': 'password',\n",
    "    'host': '127.0.0.1',\n",
    "    'database': 'idea4rc_dm',\n",
    "    'raise_on_warnings': True\n",
    "}\n",
    "\n",
    "conn2 = mysql.connector.connect(**config)\n",
    "curIDEA = conn2.cursor()"
   ]
  },
  {
   "cell_type": "markdown",
   "id": "dbb2d3e5",
   "metadata": {},
   "source": [
    "### Doubts\n",
    "\n",
    "Why we need is new cancer variable?\n",
    "In every case we need a new entry in cancerepisode table to construct the new cancer diagonosis, once we have a new cancerepisode all related events will be linked to this other overarching episode\n",
    "\n",
    "Our concept of wrong diagnosis is represented in omop?\n",
    "\n",
    "![First image](images/EpisodeEventIDEA1.png)\n",
    "\n",
    "In IDEA4RC the disease extent should be in the Stages\n",
    "\n",
    "![Second image](images/EpisodeEventIDEA2.png)\n",
    "\n",
    "We need to see if the datamodel changes for New diagnosis and Is Diagnosis Wrong. But we are still keeping the mapping to the measurements (maybe these should be observations instead?)"
   ]
  },
  {
   "cell_type": "markdown",
   "id": "fe10c41a-d54c-419e-bcaf-6033b9c14639",
   "metadata": {},
   "source": [
    "### Episode Event to Episode"
   ]
  },
  {
   "cell_type": "markdown",
   "id": "0ce1296b-df8b-48c8-b09f-092dd4203494",
   "metadata": {},
   "source": [
    "This Episode will be a child episode, so we can track the cancer's progression in OMOP.\n",
    "\n",
    "episode_object_concept_id???"
   ]
  },
  {
   "cell_type": "code",
   "execution_count": null,
   "id": "73c7ae0c-e672-49ff-ab2b-50de23b93150",
   "metadata": {},
   "outputs": [],
   "source": [
    "sql = \"\"\"\n",
    "    INSERT INTO omopcdm.episode (person_id, episode_start_date, episode_concept_id, episode_object_concept_id, episode_type_concept_id, episode_parent_id)\n",
    "    VALUES (%s, %s, %s, %s, %s, %s)\n",
    "\"\"\"\n",
    "query=\"\"\"\n",
    "    SELECT person_id\n",
    "    FROM cancer_episode\n",
    "    WHERE id = %s\n",
    "\"\"\"\n",
    "queryDate=\"\"\"\n",
    "    SELECT episode_start_date\n",
    "    FROM cancer_episode\n",
    "    WHERE id = %s\n",
    "\"\"\"\n",
    "sqlGetEpisode = \"\"\"\n",
    "    SELECT c.id, c.episode_object_concept_id \n",
    "    FROM episode c\n",
    "    WHERE c.person_id = %s\n",
    "    AND c.episode_start_date = %s\n",
    "    LIMIT 1\n",
    "\"\"\"\n",
    "#Episode concept id=vocabulary from event type\n",
    "event_type_concept_id=32879      #Is this ok?\n",
    "df_tables=df_Episode_Event_IDEA4RC\n",
    "for idx, row in df_tables.iterrows():\n",
    "    curIDEA.execute(query, (row['Cancer Episode Reference']))\n",
    "    res=curIDEA.fetchone()\n",
    "    person_id=res\n",
    "    episode_concept_id=row['Disease status']\n",
    "    episode_start_date=row['Date of episode']\n",
    "    curIDEA.execute(queryDate, (row['Cancer Episode Reference']))\n",
    "    res=curIDEA.fetchone()\n",
    "    dateAux=res\n",
    "    cur.execute(sqlGetEpisode, (person_id,dateAux))\n",
    "    episode_parent_id=cur.fetchone()\n",
    "    episode_object_concept_id=episode_parent_id[1]\n",
    "    episode_parent_id=episode_parent_id[0]\n",
    "\n",
    "    cur.execute(sql, (person_id, episode_start_date, episode_concept_id, episode_object_concept_id, event_type_concept_id, episode_parent_id))\n",
    "    cur.commit()\n",
    "    "
   ]
  },
  {
   "cell_type": "markdown",
   "id": "50563bb0-53f9-4614-a397-d45c558f461c",
   "metadata": {},
   "source": [
    "### Episode Event to Procedure Ocurrance"
   ]
  },
  {
   "cell_type": "markdown",
   "id": "22222fa6-eac9-40d6-8cf9-8aadbff1a1aa",
   "metadata": {},
   "source": [
    "Using 0 as the value for those columns we do not understand how to manage"
   ]
  },
  {
   "cell_type": "code",
   "execution_count": null,
   "id": "5328b899-3663-444f-9917-3b82fdc06bf0",
   "metadata": {},
   "outputs": [],
   "source": [
    "\n",
    "procedure_concept_id=0\n",
    "procedure_type_concept_id=32879      #This one should be the reason why the diagnosis changed or how they discovered it, I believe, yet we don't have that information in IDEA4RC\n",
    "sql = \"\"\"\n",
    "    INSERT INTO omopcdm.procedure_occurrence (procedure_id, person_id, procedure_concept_id, procedure_date,procedure_type_concept_id,provider_id)\n",
    "    VALUES (%s, %s, %s, %s, %s,%s)\n",
    "\"\"\"\n",
    "\n",
    "def episode_event_definition(idEpisode, idProcedure):\n",
    "    sql = \"\"\"\n",
    "        INSERT INTO omopcdm.episode_event (episode_id, event_id, episode_event_field_concept_id )\n",
    "        VALUES (%s, %s, %s)\n",
    "    \"\"\"\n",
    "    cur.execute(sql, (idEpisode, idProcedure,1147129))\n",
    "    conn.commit()\n",
    "\n",
    "\n",
    "for idx, row in df_tables.iterrows():\n",
    "    curIDEA.execute(query, (row['Cancer Episode Reference']))\n",
    "    res=curIDEA.fetchone()\n",
    "    person_id=res\n",
    "    procedure_date=row['Date of episode']\n",
    "    provider_id=row['Defined At']\n",
    "    curIDEA.execute(queryDate, (row['Cancer Episode Reference']))\n",
    "    res=curIDEA.fetchone()\n",
    "    dateAux=res\n",
    "    idProcedure=datetime.now().strftime(\"%Y%m%d%H%M%S\")+ str(uuid4())\n",
    "    cur.execute(sqlGetEpisode, (person_id,dateAux))\n",
    "    episode_parent_id=cur.fetchone()\n",
    "    episode_event_definition(episode_parent_id, idProcedure)\n",
    "    cur.execute(sql, (idProcedure, person_id, procedure_concept_id, procedure_date,procedure_type_concept_id,provider_id))\n",
    "    conn.commit()"
   ]
  },
  {
   "cell_type": "markdown",
   "id": "abb14fb3",
   "metadata": {},
   "source": [
    "### New or wrong diagnosis\n",
    "\n",
    "measurement concept id and type concept id???"
   ]
  },
  {
   "cell_type": "code",
   "execution_count": null,
   "id": "6989a957",
   "metadata": {},
   "outputs": [],
   "source": [
    "sqlMeasurements = \"\"\"\n",
    "    INSERT INTO omopcdm.measurement (measurement_id, person_id, measurement_concept_id, measurement_date, measurement_type_concept_id, value_as_concept_id, modifier_of_event_id,modifier_of_field_concept_id,)\n",
    "    VALUES (%s, %s, %s, %s, %s, %s, %s, %s)\n",
    "\"\"\"\n",
    "modifier_of_field_concept_id=1147127\n",
    "measurement_concept_id=0\n",
    "measurement_type_concept_id=32879\n",
    "\n",
    "queryGetOccurrence=\"\"\"\n",
    "    SELECT condition_id\n",
    "    FROM condition_occurrence\n",
    "    WHERE person_id = %s AND start_date = %s\n",
    "\"\"\"\n",
    "\n",
    "for idx, row in df_tables.iterrows():\n",
    "    curIDEA.execute(query, (row['Cancer Episode Reference']))\n",
    "    res=curIDEA.fetchone()\n",
    "    person_id=res\n",
    "    measurement_date=row['Date of episode']\n",
    "    cur.execute(queryGetOccurrence, (person_id,measurement_date))\n",
    "    modifier_of_event_id=cur.fetchone()\n",
    "    value_as_concept_id = 4188539 if row['Is New Diagnosis'] == 4188539 or row['Is New Diagnosis'] else 4188540 #We need the concept id\n",
    "    cur.execute(sqlMeasurements, (person_id, measurement_date, measurement_concept_id, measurement_type_concept_id, value_as_concept_id, modifier_of_event_id,modifier_of_field_concept_id))\n",
    "    value_as_concept_id = 4188539 if row['Is Diagnosis Wrong'] == 4188539 or row['Is Diagnosis Wrong'] else 4188540 #We need the concept id\n",
    "    cur.execute(sqlMeasurements, (person_id, measurement_date, measurement_concept_id, measurement_type_concept_id, value_as_concept_id, modifier_of_event_id,modifier_of_field_concept_id))\n"
   ]
  }
 ],
 "metadata": {
  "kernelspec": {
   "display_name": "Python 3 (ipykernel)",
   "language": "python",
   "name": "python3"
  },
  "language_info": {
   "codemirror_mode": {
    "name": "ipython",
    "version": 3
   },
   "file_extension": ".py",
   "mimetype": "text/x-python",
   "name": "python",
   "nbconvert_exporter": "python",
   "pygments_lexer": "ipython3",
   "version": "3.10.12"
  }
 },
 "nbformat": 4,
 "nbformat_minor": 5
}
