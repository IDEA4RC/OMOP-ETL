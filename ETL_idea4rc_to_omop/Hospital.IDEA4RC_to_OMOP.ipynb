{
 "cells": [
  {
   "cell_type": "markdown",
   "id": "2580f112",
   "metadata": {},
   "source": [
    "# HOSPITAL to OMOP CDM\n"
   ]
  },
  {
   "cell_type": "code",
   "execution_count": null,
   "id": "af35e52e",
   "metadata": {},
   "outputs": [],
   "source": [
    "import mysql.connector\n",
    "import pandas as pd\n",
    "import psycopg2\n",
    "import random\n",
    "import numpy as np\n",
    "from datetime import datetime, timedelta"
   ]
  },
  {
   "cell_type": "code",
   "execution_count": null,
   "id": "18179aa6",
   "metadata": {},
   "outputs": [],
   "source": [
    "df_hospital_IDEA4RC = pd.read_csv(\"./IDEA4RC-data/hospitalDataIDEA4RC.csv\")\n",
    "df_hospital_IDEA4RC.head(5)"
   ]
  },
  {
   "cell_type": "code",
   "execution_count": null,
   "id": "f79e19cb",
   "metadata": {},
   "outputs": [],
   "source": [
    "conn_params = {\n",
    "    'dbname': 'omopdb',\n",
    "    'user': 'postgres',\n",
    "    'password': 'mysecretpassword',\n",
    "    'host': 'omop_postgres',\n",
    "    'port': '5432'\n",
    "}\n",
    "\n",
    "try:\n",
    "    conn = psycopg2.connect(**conn_params)\n",
    "    cur = conn.cursor()\n",
    "    \n",
    "    cur.execute(\"SELECT current_database();\")\n",
    "    current_db = cur.fetchone()[0]\n",
    "    print(\"Base de datos actual:\", current_db)\n",
    "    \n",
    "    cur.execute(\"SELECT table_schema, table_name FROM information_schema.tables WHERE table_name = 'care_site';\")\n",
    "    tables = cur.fetchall()\n",
    "    if not tables:\n",
    "        print(\"Table does not exist.\")    \n",
    "except Exception as e:\n",
    "    print(\"e)"
   ]
  },
  {
   "cell_type": "code",
   "execution_count": 1,
   "id": "84e6c726-23e1-4bdc-9e91-c3711e0ec3e0",
   "metadata": {},
   "outputs": [
    {
     "ename": "NameError",
     "evalue": "name 'pd' is not defined",
     "output_type": "error",
     "traceback": [
      "\u001b[0;31m---------------------------------------------------------------------------\u001b[0m",
      "\u001b[0;31mNameError\u001b[0m                                 Traceback (most recent call last)",
      "Cell \u001b[0;32mIn[1], line 2\u001b[0m\n\u001b[1;32m      1\u001b[0m hospital_mapping \u001b[38;5;241m=\u001b[39m \u001b[38;5;124m'\u001b[39m\u001b[38;5;124mHospital Name\u001b[39m\u001b[38;5;124m'\u001b[39m\n\u001b[0;32m----> 2\u001b[0m df_table \u001b[38;5;241m=\u001b[39m \u001b[43mpd\u001b[49m\u001b[38;5;241m.\u001b[39mDataFrame()\n\u001b[1;32m      3\u001b[0m df_table\u001b[38;5;241m.\u001b[39mindex \u001b[38;5;241m=\u001b[39m \u001b[38;5;28mrange\u001b[39m(\u001b[38;5;28mlen\u001b[39m(df_hospital_IDEA4RC))\n\u001b[1;32m      4\u001b[0m sql \u001b[38;5;241m=\u001b[39m \u001b[38;5;124m\"\"\"\u001b[39m\n\u001b[1;32m      5\u001b[0m \u001b[38;5;124m    INSERT INTO care_site (care_site_name)\u001b[39m\n\u001b[1;32m      6\u001b[0m \u001b[38;5;124m    VALUES (\u001b[39m\u001b[38;5;132;01m%s\u001b[39;00m\u001b[38;5;124m)\u001b[39m\n\u001b[1;32m      7\u001b[0m \u001b[38;5;124m\"\"\"\u001b[39m\n",
      "\u001b[0;31mNameError\u001b[0m: name 'pd' is not defined"
     ]
    }
   ],
   "source": [
    "hospital_mapping = 'Hospital Name'\n",
    "df_table = pd.DataFrame()\n",
    "df_table.index = range(len(df_hospital_IDEA4RC))\n",
    "sql = \"\"\"\n",
    "    INSERT INTO public.care_site (care_site_name)\n",
    "    VALUES (%s)\n",
    "\"\"\"\n",
    "\n",
    "cur.executemany(sql, zip(df_hospital_IDEA4RC['Hospital Name']))\n",
    "conn.commit()\n"
   ]
  },
  {
   "cell_type": "code",
   "execution_count": null,
   "id": "98411f98-0500-4afc-be07-10bb57e68f47",
   "metadata": {},
   "outputs": [],
   "source": [
    "cur.close()\n",
    "conn.close()"
   ]
  }
 ],
 "metadata": {
  "kernelspec": {
   "display_name": "Python 3 (ipykernel)",
   "language": "python",
   "name": "python3"
  },
  "language_info": {
   "codemirror_mode": {
    "name": "ipython",
    "version": 3
   },
   "file_extension": ".py",
   "mimetype": "text/x-python",
   "name": "python",
   "nbconvert_exporter": "python",
   "pygments_lexer": "ipython3",
   "version": "3.10.12"
  }
 },
 "nbformat": 4,
 "nbformat_minor": 5
}
