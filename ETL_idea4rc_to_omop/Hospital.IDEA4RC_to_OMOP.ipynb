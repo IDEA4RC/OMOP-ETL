{
 "cells": [
  {
   "cell_type": "markdown",
   "id": "2580f112",
   "metadata": {},
   "source": [
    "# HOSPITAL to OMOP CDM\n"
   ]
  },
  {
   "cell_type": "code",
   "execution_count": null,
   "id": "af35e52e",
   "metadata": {},
   "outputs": [],
   "source": [
    "import mysql.connector\n",
    "import pandas as pd\n",
    "import psycopg2\n",
    "import random\n",
    "import numpy as np\n",
    "from uuid import uuid4\n",
    "from datetime import datetime, timedelta"
   ]
  },
  {
   "cell_type": "markdown",
   "id": "3a414737",
   "metadata": {},
   "source": [
    "This mapping is very simple, and following https://docs.google.com/spreadsheets/d/1Vw1Dr2K4oG__cDQTutGaJhZvGUvQTLwc4qWreP6qMSs/edit?gid=1871150220#gid=1871150220 it is just a care site with as name the one in IDEA.\n",
    "\n",
    "Also, for every care site we need at least one provider (for the treatments), so we will be creating a provider too"
   ]
  },
  {
   "cell_type": "code",
   "execution_count": null,
   "id": "18179aa6",
   "metadata": {},
   "outputs": [],
   "source": [
    "df_hospital_IDEA4RC = pd.read_csv(\"./IDEA4RC-data/hospitalDataIDEA4RC.csv\")\n",
    "df_hospital_IDEA4RC.head(5)"
   ]
  },
  {
   "cell_type": "code",
   "execution_count": null,
   "id": "f79e19cb",
   "metadata": {},
   "outputs": [],
   "source": [
    "conn_params = {\n",
    "    'dbname': 'omopdb',\n",
    "    'user': 'postgres',\n",
    "    'password': 'mysecretpassword',\n",
    "    'host': 'omop_postgres',\n",
    "    'port': '5432'\n",
    "}\n",
    "\n",
    "try:\n",
    "    conn = psycopg2.connect(**conn_params)\n",
    "    cur = conn.cursor()\n",
    "    \n",
    "    cur.execute(\"SELECT current_database();\")\n",
    "    current_db = cur.fetchone()[0]\n",
    "    print(\"Base de datos actual:\", current_db)\n",
    "    \n",
    "    cur.execute(\"SELECT table_schema, table_name FROM information_schema.tables WHERE table_name = 'care_site';\")\n",
    "    tables = cur.fetchall()\n",
    "    if not tables:\n",
    "        print(\"Table does not exist.\")    \n",
    "except Exception as e:\n",
    "    print(e)"
   ]
  },
  {
   "cell_type": "markdown",
   "id": "0da2879e",
   "metadata": {},
   "source": [
    "### From Hospital to Care Site"
   ]
  },
  {
   "cell_type": "code",
   "execution_count": null,
   "id": "84e6c726-23e1-4bdc-9e91-c3711e0ec3e0",
   "metadata": {},
   "outputs": [],
   "source": [
    "hospital_mapping = 'hospital_name'\n",
    "df_hospital_IDEA4RC['idCareSite']=None\n",
    "sql = \"\"\"\n",
    "    INSERT INTO care_site (care_site_id,care_site_name)\n",
    "    VALUES (%s);\n",
    "\"\"\"\n",
    "for idx, hospital in df_hospital_IDEA4RC.iterrows():\n",
    "    newId = datetime.now().strftime('%Y%m%d%H%M%S') + str(uuid4())\n",
    "    hospital['idCareSite'] = newId\n",
    "    cur.execute(sql, (newId, hospital[hospital_mapping]))\n",
    "    conn.commit()\n"
   ]
  },
  {
   "cell_type": "markdown",
   "id": "ad194e67",
   "metadata": {},
   "source": [
    "### From Hospital to Provider"
   ]
  },
  {
   "cell_type": "code",
   "execution_count": null,
   "id": "c66a2167",
   "metadata": {},
   "outputs": [],
   "source": [
    "insertProvider=\"\"\"\n",
    "    INSERT INTO provider (care_site_id)\n",
    "    VALUES (%s);\n",
    "\"\"\"\n",
    "for idx, hospital in df_hospital_IDEA4RC.iterrows():\n",
    "    cur.execute(insertProvider, (hospital['idCareSite']))\n",
    "    conn.commit()"
   ]
  },
  {
   "cell_type": "code",
   "execution_count": null,
   "id": "98411f98-0500-4afc-be07-10bb57e68f47",
   "metadata": {},
   "outputs": [],
   "source": [
    "cur.close()\n",
    "conn.close()"
   ]
  }
 ],
 "metadata": {
  "kernelspec": {
   "display_name": "Python 3 (ipykernel)",
   "language": "python",
   "name": "python3"
  },
  "language_info": {
   "codemirror_mode": {
    "name": "ipython",
    "version": 3
   },
   "file_extension": ".py",
   "mimetype": "text/x-python",
   "name": "python",
   "nbconvert_exporter": "python",
   "pygments_lexer": "ipython3",
   "version": "3.10.12"
  }
 },
 "nbformat": 4,
 "nbformat_minor": 5
}
