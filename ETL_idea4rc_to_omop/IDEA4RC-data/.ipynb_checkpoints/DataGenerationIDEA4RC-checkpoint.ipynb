{
 "cells": [
  {
   "cell_type": "markdown",
   "id": "57eeeff2",
   "metadata": {},
   "source": [
    "# Dataset example IDEA4RC to OMOP CDM"
   ]
  },
  {
   "cell_type": "code",
   "execution_count": 2,
   "id": "d4adddaa",
   "metadata": {},
   "outputs": [
    {
     "ename": "ModuleNotFoundError",
     "evalue": "No module named 'pandas'",
     "output_type": "error",
     "traceback": [
      "\u001b[0;31m---------------------------------------------------------------------------\u001b[0m",
      "\u001b[0;31mModuleNotFoundError\u001b[0m                       Traceback (most recent call last)",
      "Cell \u001b[0;32mIn[2], line 1\u001b[0m\n\u001b[0;32m----> 1\u001b[0m \u001b[38;5;28;01mimport\u001b[39;00m \u001b[38;5;21;01mpandas\u001b[39;00m \u001b[38;5;28;01mas\u001b[39;00m \u001b[38;5;21;01mpd\u001b[39;00m\n\u001b[1;32m      2\u001b[0m \u001b[38;5;28;01mimport\u001b[39;00m \u001b[38;5;21;01mrandom\u001b[39;00m\n\u001b[1;32m      3\u001b[0m \u001b[38;5;28;01mimport\u001b[39;00m \u001b[38;5;21;01mnumpy\u001b[39;00m \u001b[38;5;28;01mas\u001b[39;00m \u001b[38;5;21;01mnp\u001b[39;00m\n",
      "\u001b[0;31mModuleNotFoundError\u001b[0m: No module named 'pandas'"
     ]
    }
   ],
   "source": [
    "import pandas as pd\n",
    "import random\n",
    "import numpy as np\n",
    "from datetime import datetime, timedelta"
   ]
  },
  {
   "cell_type": "markdown",
   "id": "f1c97ec3",
   "metadata": {},
   "source": [
    "A continuación, procedemos a crear los ficheros csv para cada tabla de IDEA4RC como muestra de ejemplo para posteriormente hacer el mapeo.\n",
    "\n",
    "Cada columna la rellenaremos con su \"Vocabulary o Variable as modifier\" de Athena, si es que alguno de los dos está disponible.\n",
    "\n",
    "Cuando tengamos las dos disponibles, cogeremos como su único valor su correspondiente \"Variable as modifier\". Y, meteremos posteriormente su \"Vocabulary\" a la tabla correspondiente de mapeo a OMOP (en el siguiente código, cuando hay un # con números, significarán los vocabularios correspondientes a otras tablas, es decir, que las variables disponen de \"Vocabulary y Variable as modifier\".\n"
   ]
  },
  {
   "cell_type": "markdown",
   "id": "b32d9ed1",
   "metadata": {},
   "source": [
    "### patient.IDEA4RCcsv"
   ]
  },
  {
   "cell_type": "code",
   "execution_count": 3,
   "id": "2ed73515",
   "metadata": {},
   "outputs": [
    {
     "ename": "NameError",
     "evalue": "name 'np' is not defined",
     "output_type": "error",
     "traceback": [
      "\u001b[0;31m---------------------------------------------------------------------------\u001b[0m",
      "\u001b[0;31mNameError\u001b[0m                                 Traceback (most recent call last)",
      "Cell \u001b[0;32mIn[3], line 1\u001b[0m\n\u001b[0;32m----> 1\u001b[0m random_ids \u001b[38;5;241m=\u001b[39m \u001b[43mnp\u001b[49m\u001b[38;5;241m.\u001b[39mrandom\u001b[38;5;241m.\u001b[39mrandint(\u001b[38;5;241m0\u001b[39m, \u001b[38;5;241m51\u001b[39m, size\u001b[38;5;241m=\u001b[39m\u001b[38;5;241m50\u001b[39m)\n\u001b[1;32m      2\u001b[0m \u001b[38;5;66;03m# Crear DataFrame con la columna 'id'\u001b[39;00m\n\u001b[1;32m      3\u001b[0m data \u001b[38;5;241m=\u001b[39m {\u001b[38;5;124m'\u001b[39m\u001b[38;5;124mid\u001b[39m\u001b[38;5;124m'\u001b[39m: random_ids}\n",
      "\u001b[0;31mNameError\u001b[0m: name 'np' is not defined"
     ]
    }
   ],
   "source": [
    "random_ids = np.random.randint(0, 51, size=50)\n",
    "# Crear DataFrame con la columna 'id'\n",
    "data = {'id': random_ids}\n",
    "df_patient_IDEA4RC = pd.DataFrame(data)\n",
    "\n",
    "# Definir las variables y sus posibles valores\n",
    "replacement_values = {\n",
    "    'Gender': (8507, 8532),\n",
    "    'Race': (8527, 8516, 8515, 8657),\n",
    "    'Birth year': 0,\n",
    "    'Country of Residence':4329169,\n",
    "    'Smoking': 1585856, #(36309332, 45883458, 45879404),\n",
    "    'Cigarettes pack years smoked during life': 903650,\n",
    "    'Alcohol': 1586197, # (4074035, 4117706, 37204556, 4220362),\n",
    "    'Height/weight (BMI)': 4245997,\n",
    "    'Charslon Comorbidity Index': 42538860,\n",
    "    'Comorbidity': 46235351, #(4188539, 4188540),\n",
    "    'Myocardial infarction':4329847,\n",
    "    'Congestive heart failure':319835,\n",
    "    'Peripheral vascular disease':321052,\n",
    "    'Cerebrovascular accident (except hemiplegia)':381316,\n",
    "    'Dementia': 4182210,\n",
    "    'Chronic pulmonary disease':4186898,\n",
    "    'Connective tissue disease':4344165,\n",
    "    'Ulcer':4177703,\n",
    "    'Mild liver disease':194984,\n",
    "    'Moderate to severe liver disease': 194984,\n",
    "    'Diabetes (without complications)': 201820,\n",
    "    'Diabetes with end organ damage': 201820,\n",
    "    'Hemiplegia': 374022,\n",
    "    'Moderate to severe renal disease': 198124,\n",
    "    'Solid tumor (non metastatic)': 443392,\n",
    "    'Metastatic solid tumor': 443392,\n",
    "    'Leukemia': 317510,\n",
    "    'Lymphoma': 44499278,\n",
    "    'Multiple myeloma': 437233,\n",
    "    'AIDS': 4267414,\n",
    "    'Eastern Cooperative Oncology Group performance status (ECOG PS) at diagnosis': 36305384,\n",
    "    'ECOG PS label': 36303470, #Vocabulary = Variable as modifier\n",
    "    'Karnofsy index at diagnosis': 4169154,\n",
    "    'Karnofsy index label': 36303744, #Vocabulary = Variable as modifier\n",
    "    'No Genetic syndrome WHO 2020': 37204336, #4211787\n",
    "    'Olliers disease': 4145177,\n",
    "    'Maffuci syndrome': 4187683,\n",
    "    'Li-Fraumeni syndrome': 4323645,\n",
    "    'McCune-Albright syndrome': 37117262,\n",
    "    'Multiple osteochondromas': 37396802,\n",
    "    'Neurofibromatosis type 1': 377252,\n",
    "    'Rothmund-Thomson syndrome': 4286355,\n",
    "    'Werner syndrome': 4197821,\n",
    "    'Retinoblastoma': 4158977,\n",
    "    'Paget disease': 75910,\n",
    "    'Other Genetic syndrome WHO 2020': 1340204,\n",
    "    'Occurrence of other cancer': 1340204, #4266186\n",
    "    'Previous cancer treatment': 1340204 #(4273629, 4170755, 4121697, 42535584, 4295112)\n",
    "}\n",
    "\n",
    "# Función para obtener un valor aleatorio de un elemento en cada columna del diccionario anterior \n",
    "def get_random_value(val):\n",
    "    if isinstance(val, tuple):\n",
    "        return np.random.choice(val)\n",
    "    return val\n",
    "\n",
    "# Añadir las columnas del diccionario al DataFrame\n",
    "for key, value in replacement_values.items():\n",
    "    df_patient_IDEA4RC[key] = [get_random_value(value) for _ in range(len(df_patient_IDEA4RC['id']))]\n",
    "\n",
    "# Ajustar las opciones de pandas para mostrar todas las columnas\n",
    "pd.set_option('display.max_columns', None)\n",
    "pd.set_option('display.width', None)"
   ]
  },
  {
   "cell_type": "code",
   "execution_count": 4,
   "id": "79b59776",
   "metadata": {},
   "outputs": [
    {
     "ename": "NameError",
     "evalue": "name 'df_patient_IDEA4RC' is not defined",
     "output_type": "error",
     "traceback": [
      "\u001b[0;31m---------------------------------------------------------------------------\u001b[0m",
      "\u001b[0;31mNameError\u001b[0m                                 Traceback (most recent call last)",
      "Cell \u001b[0;32mIn[4], line 2\u001b[0m\n\u001b[1;32m      1\u001b[0m \u001b[38;5;66;03m# Mostrar el DataFrame resultante\u001b[39;00m\n\u001b[0;32m----> 2\u001b[0m \u001b[43mdf_patient_IDEA4RC\u001b[49m\u001b[38;5;241m.\u001b[39mhead(\u001b[38;5;241m5\u001b[39m)\n",
      "\u001b[0;31mNameError\u001b[0m: name 'df_patient_IDEA4RC' is not defined"
     ]
    }
   ],
   "source": [
    "# Mostrar el DataFrame resultante\n",
    "df_patient_IDEA4RC.head(5)"
   ]
  },
  {
   "cell_type": "markdown",
   "id": "5e0d6eaf",
   "metadata": {},
   "source": [
    "Observamos que tenemos un dataframe con los números correspondientes al Vocabulario de OMOP. Los números \"0\" significan valores nulos que tendrán que someterse a cambios al número que corresponda en ATHENA."
   ]
  },
  {
   "cell_type": "code",
   "execution_count": 5,
   "id": "fbc927ea",
   "metadata": {},
   "outputs": [
    {
     "ename": "NameError",
     "evalue": "name 'df_patient_IDEA4RC' is not defined",
     "output_type": "error",
     "traceback": [
      "\u001b[0;31m---------------------------------------------------------------------------\u001b[0m",
      "\u001b[0;31mNameError\u001b[0m                                 Traceback (most recent call last)",
      "Cell \u001b[0;32mIn[5], line 2\u001b[0m\n\u001b[1;32m      1\u001b[0m \u001b[38;5;66;03m# Guardar DataFrame en un archivo CSV\u001b[39;00m\n\u001b[0;32m----> 2\u001b[0m \u001b[43mdf_patient_IDEA4RC\u001b[49m\u001b[38;5;241m.\u001b[39mto_csv(\u001b[38;5;124m'\u001b[39m\u001b[38;5;124mpatientsIDEA4RC.csv\u001b[39m\u001b[38;5;124m'\u001b[39m, index\u001b[38;5;241m=\u001b[39m\u001b[38;5;28;01mFalse\u001b[39;00m)\n",
      "\u001b[0;31mNameError\u001b[0m: name 'df_patient_IDEA4RC' is not defined"
     ]
    }
   ],
   "source": [
    "# Guardar DataFrame en un archivo CSV\n",
    "df_patient_IDEA4RC.to_csv('patientsIDEA4RC.csv', index=False)"
   ]
  },
  {
   "cell_type": "markdown",
   "id": "60338435",
   "metadata": {},
   "source": [
    "### hospitalDataIDEA4RC.csv"
   ]
  },
  {
   "cell_type": "code",
   "execution_count": 6,
   "id": "8d01387e",
   "metadata": {},
   "outputs": [
    {
     "ename": "SyntaxError",
     "evalue": "'[' was never closed (1229442591.py, line 8)",
     "output_type": "error",
     "traceback": [
      "\u001b[0;36m  Cell \u001b[0;32mIn[6], line 8\u001b[0;36m\u001b[0m\n\u001b[0;31m    hospital_names = [hospitalNameGen() for _ in range(10)\u001b[0m\n\u001b[0m                     ^\u001b[0m\n\u001b[0;31mSyntaxError\u001b[0m\u001b[0;31m:\u001b[0m '[' was never closed\n"
     ]
    }
   ],
   "source": [
    "def hospitalNameGen():\n",
    "    prefijos = ['San', 'Santa', 'Nuestra Señora', 'Sagrado Corazón', 'Sanatorio', 'Clínica', 'Centro']\n",
    "    nombres = ['María', 'Jorge', 'Lourdes', 'José', 'Cruz', 'Esperanza', 'Salud', 'Vida', 'Cristo', 'Ángel', 'Victoria', 'Amparo']\n",
    "    tipos = ['Hospital', 'Clínica', 'Centro Médico', 'Instituto Médico', 'Pabellón', 'Policlínico', 'Sanatorio', 'Consultorio', 'Asistencia Médica']\n",
    "\n",
    "    return f\"{random.choice(prefijos)} {random.choice(nombres)} {random.choice(tipos)} {random.choice(['de la Paz', 'de la Salud', 'General', 'Regional', 'Metropolitano', 'Especializado'])}\"\n",
    "\n",
    "hospital_names = [hospitalNameGen() for _ in range(10)]\n",
    "df_hospital_Data_IDEA4RC = pd.DataFrame({'Hospital Name': hospital_names})\n",
    "\n"
   ]
  },
  {
   "cell_type": "code",
   "execution_count": 7,
   "id": "e5306bfc",
   "metadata": {},
   "outputs": [
    {
     "ename": "NameError",
     "evalue": "name 'df_hospital_Data_IDEA4RC' is not defined",
     "output_type": "error",
     "traceback": [
      "\u001b[0;31m---------------------------------------------------------------------------\u001b[0m",
      "\u001b[0;31mNameError\u001b[0m                                 Traceback (most recent call last)",
      "Cell \u001b[0;32mIn[7], line 1\u001b[0m\n\u001b[0;32m----> 1\u001b[0m \u001b[43mdf_hospital_Data_IDEA4RC\u001b[49m\u001b[38;5;241m.\u001b[39mto_csv(\u001b[38;5;124m'\u001b[39m\u001b[38;5;124mhospitalDataIDEA4RC.csv\u001b[39m\u001b[38;5;124m'\u001b[39m, index\u001b[38;5;241m=\u001b[39m\u001b[38;5;28;01mFalse\u001b[39;00m)\n",
      "\u001b[0;31mNameError\u001b[0m: name 'df_hospital_Data_IDEA4RC' is not defined"
     ]
    }
   ],
   "source": [
    "df_hospital_Data_IDEA4RC.to_csv('hospitalDataIDEA4RC.csv', index=False)"
   ]
  },
  {
   "cell_type": "code",
   "execution_count": 8,
   "id": "65a2d180",
   "metadata": {},
   "outputs": [
    {
     "ename": "NameError",
     "evalue": "name 'df_hospital_Data_IDEA4RC' is not defined",
     "output_type": "error",
     "traceback": [
      "\u001b[0;31m---------------------------------------------------------------------------\u001b[0m",
      "\u001b[0;31mNameError\u001b[0m                                 Traceback (most recent call last)",
      "Cell \u001b[0;32mIn[8], line 1\u001b[0m\n\u001b[0;32m----> 1\u001b[0m \u001b[43mdf_hospital_Data_IDEA4RC\u001b[49m\u001b[38;5;241m.\u001b[39mhead(\u001b[38;5;241m3\u001b[39m)\n",
      "\u001b[0;31mNameError\u001b[0m: name 'df_hospital_Data_IDEA4RC' is not defined"
     ]
    }
   ],
   "source": [
    "df_hospital_Data_IDEA4RC.head(3)"
   ]
  },
  {
   "cell_type": "markdown",
   "id": "5668e06d",
   "metadata": {},
   "source": [
    "### patientsFollowUpIDEA4RC.csv"
   ]
  },
  {
   "cell_type": "code",
   "execution_count": 9,
   "id": "3221cf4b",
   "metadata": {},
   "outputs": [
    {
     "ename": "NameError",
     "evalue": "name 'pd' is not defined",
     "output_type": "error",
     "traceback": [
      "\u001b[0;31m---------------------------------------------------------------------------\u001b[0m",
      "\u001b[0;31mNameError\u001b[0m                                 Traceback (most recent call last)",
      "Cell \u001b[0;32mIn[9], line 11\u001b[0m\n\u001b[1;32m      1\u001b[0m patient_f_u_columns \u001b[38;5;241m=\u001b[39m {\n\u001b[1;32m      2\u001b[0m     \u001b[38;5;66;03m#\"Patient\": ,\u001b[39;00m\n\u001b[1;32m      3\u001b[0m     \u001b[38;5;124m\"\u001b[39m\u001b[38;5;124mStatus at last follow-up\u001b[39m\u001b[38;5;124m\"\u001b[39m: \u001b[38;5;241m0\u001b[39m,\n\u001b[0;32m   (...)\u001b[0m\n\u001b[1;32m      8\u001b[0m     \u001b[38;5;124m\"\u001b[39m\u001b[38;5;124mLast Contact\u001b[39m\u001b[38;5;124m\"\u001b[39m: \u001b[38;5;241m0\u001b[39m,\n\u001b[1;32m      9\u001b[0m }\n\u001b[0;32m---> 11\u001b[0m df_patients_FollowUp_IDEA4RC \u001b[38;5;241m=\u001b[39m \u001b[43mpd\u001b[49m\u001b[38;5;241m.\u001b[39mDataFrame()\n\u001b[1;32m     13\u001b[0m \u001b[38;5;66;03m# Crear el nuevo dataframe con la columna 'id' de df\u001b[39;00m\n\u001b[1;32m     14\u001b[0m df_patients_FollowUp_IDEA4RC[\u001b[38;5;124m'\u001b[39m\u001b[38;5;124mPatient\u001b[39m\u001b[38;5;124m'\u001b[39m] \u001b[38;5;241m=\u001b[39m df_patient_IDEA4RC[[\u001b[38;5;124m'\u001b[39m\u001b[38;5;124mid\u001b[39m\u001b[38;5;124m'\u001b[39m]]\u001b[38;5;241m.\u001b[39mcopy()\n",
      "\u001b[0;31mNameError\u001b[0m: name 'pd' is not defined"
     ]
    }
   ],
   "source": [
    "patient_f_u_columns = {\n",
    "    #\"Patient\": ,\n",
    "    \"Status at last follow-up\": 0,\n",
    "    \"Patient Follow Up date\": 0, #no puede ser un valor arbitrario, explicado en el archivo de mapeo de esta tabla\n",
    "    \"New cancer diagnosis\": (4188539, 4188540),\n",
    "    \"Date of new cancer diagnosis\": 0, \n",
    "    \"New cancer topography\": (36534215, 44498973),  # y otros valores0, \n",
    "    \"Last Contact\": 0,\n",
    "}\n",
    "\n",
    "df_patients_FollowUp_IDEA4RC = pd.DataFrame()\n",
    "\n",
    "# Crear el nuevo dataframe con la columna 'id' de df\n",
    "df_patients_FollowUp_IDEA4RC['Patient'] = df_patient_IDEA4RC[['id']].copy()\n",
    "\n",
    "# Añadir las columnas del diccionario al DataFrame\n",
    "for key, value in patient_f_u_columns.items():\n",
    "    df_patients_FollowUp_IDEA4RC[key] = [get_random_value(value) for _ in range(len(df_patients_FollowUp_IDEA4RC['Patient']))]"
   ]
  },
  {
   "cell_type": "code",
   "execution_count": 10,
   "id": "125f8f84",
   "metadata": {},
   "outputs": [
    {
     "ename": "NameError",
     "evalue": "name 'df_patients_FollowUp_IDEA4RC' is not defined",
     "output_type": "error",
     "traceback": [
      "\u001b[0;31m---------------------------------------------------------------------------\u001b[0m",
      "\u001b[0;31mNameError\u001b[0m                                 Traceback (most recent call last)",
      "Cell \u001b[0;32mIn[10], line 2\u001b[0m\n\u001b[1;32m      1\u001b[0m \u001b[38;5;66;03m# Guardar DataFrame en un archivo CSV\u001b[39;00m\n\u001b[0;32m----> 2\u001b[0m \u001b[43mdf_patients_FollowUp_IDEA4RC\u001b[49m\u001b[38;5;241m.\u001b[39mto_csv(\u001b[38;5;124m'\u001b[39m\u001b[38;5;124mpatientsFollowUpIDEA4RC.csv\u001b[39m\u001b[38;5;124m'\u001b[39m, index\u001b[38;5;241m=\u001b[39m\u001b[38;5;28;01mFalse\u001b[39;00m)\n",
      "\u001b[0;31mNameError\u001b[0m: name 'df_patients_FollowUp_IDEA4RC' is not defined"
     ]
    }
   ],
   "source": [
    "# Guardar DataFrame en un archivo CSV\n",
    "df_patients_FollowUp_IDEA4RC.to_csv('patientsFollowUpIDEA4RC.csv', index=False)"
   ]
  },
  {
   "cell_type": "code",
   "execution_count": 11,
   "id": "7679f8f3",
   "metadata": {},
   "outputs": [
    {
     "ename": "NameError",
     "evalue": "name 'df_patients_FollowUp_IDEA4RC' is not defined",
     "output_type": "error",
     "traceback": [
      "\u001b[0;31m---------------------------------------------------------------------------\u001b[0m",
      "\u001b[0;31mNameError\u001b[0m                                 Traceback (most recent call last)",
      "Cell \u001b[0;32mIn[11], line 1\u001b[0m\n\u001b[0;32m----> 1\u001b[0m \u001b[43mdf_patients_FollowUp_IDEA4RC\u001b[49m\u001b[38;5;241m.\u001b[39mhead(\u001b[38;5;241m3\u001b[39m)\n",
      "\u001b[0;31mNameError\u001b[0m: name 'df_patients_FollowUp_IDEA4RC' is not defined"
     ]
    }
   ],
   "source": [
    "df_patients_FollowUp_IDEA4RC.head(3)"
   ]
  },
  {
   "cell_type": "markdown",
   "id": "6d509e09",
   "metadata": {},
   "source": [
    "### hospitalPatientsRecordIDEA4RC.csv"
   ]
  },
  {
   "cell_type": "code",
   "execution_count": 12,
   "id": "f07c9bf3",
   "metadata": {},
   "outputs": [
    {
     "ename": "SyntaxError",
     "evalue": "invalid syntax (4219028881.py, line 18)",
     "output_type": "error",
     "traceback": [
      "\u001b[0;36m  Cell \u001b[0;32mIn[12], line 18\u001b[0;36m\u001b[0m\n\u001b[0;31m    hospital_names =\u001b[0m\n\u001b[0m                     ^\u001b[0m\n\u001b[0;31mSyntaxError\u001b[0m\u001b[0;31m:\u001b[0m invalid syntax\n"
     ]
    }
   ],
   "source": [
    "def randDate():\n",
    "    start_datetime = datetime(1900, 1, 1)\n",
    "    end_datetime = datetime.now()\n",
    "\n",
    "    # Calcular la diferencia en días entre las fechas de inicio y fin\n",
    "    delta = end_datetime - start_datetime\n",
    "\n",
    "    # Generar un número aleatorio de días entre 0 y delta.days\n",
    "    random_days = random.randint(0, delta.days)\n",
    "\n",
    "    # Generar una fecha aleatoria sumando random_days al start_datetime\n",
    "    random_date = start_datetime + timedelta(days=random_days)\n",
    "    return random_date\n",
    "df_hospital_PatientsRecord_IDEA4RC=pd.DataFrame()\n",
    "hospital_names = df_hospital_Data_IDEA4RC['Hospital Name'].tolist()\n",
    "df_hospital_PatientsRecord_IDEA4RC['Patient'] = df_patient_IDEA4RC[['id']].copy()\n",
    "df_hospital_PatientsRecord_IDEA4RC['Hospital'] = [\n",
    "    random.choice(hospital_names) for _ in range(len(df_hospital_PatientsRecord_IDEA4RC['Patient']))\n",
    "]\n",
    "df_hospital_PatientsRecord_IDEA4RC['Date of first contact with the hospital']=[\n",
    "    randDate() for _ in range(len(df_hospital_PatientsRecord_IDEA4RC['Patient']))\n",
    "]"
   ]
  },
  {
   "cell_type": "code",
   "execution_count": 13,
   "id": "af054933",
   "metadata": {},
   "outputs": [
    {
     "ename": "NameError",
     "evalue": "name 'df_hospital_PatientsRecord_IDEA4RC' is not defined",
     "output_type": "error",
     "traceback": [
      "\u001b[0;31m---------------------------------------------------------------------------\u001b[0m",
      "\u001b[0;31mNameError\u001b[0m                                 Traceback (most recent call last)",
      "Cell \u001b[0;32mIn[13], line 1\u001b[0m\n\u001b[0;32m----> 1\u001b[0m \u001b[43mdf_hospital_PatientsRecord_IDEA4RC\u001b[49m\u001b[38;5;241m.\u001b[39mto_csv(\u001b[38;5;124m'\u001b[39m\u001b[38;5;124mhospitalPatientsRecordIDEA4RC.csv\u001b[39m\u001b[38;5;124m'\u001b[39m, index\u001b[38;5;241m=\u001b[39m\u001b[38;5;28;01mFalse\u001b[39;00m)\n",
      "\u001b[0;31mNameError\u001b[0m: name 'df_hospital_PatientsRecord_IDEA4RC' is not defined"
     ]
    }
   ],
   "source": [
    "df_hospital_PatientsRecord_IDEA4RC.to_csv('hospitalPatientsRecordIDEA4RC.csv', index=False)"
   ]
  },
  {
   "cell_type": "code",
   "execution_count": null,
   "id": "bd1768e3",
   "metadata": {},
   "outputs": [],
   "source": [
    "df_hospital_PatientsRecord_IDEA4RC.head(3)"
   ]
  },
  {
   "cell_type": "markdown",
   "id": "d7e96bdc",
   "metadata": {},
   "source": []
  }
 ],
 "metadata": {
  "kernelspec": {
   "display_name": "Python 3 (ipykernel)",
   "language": "python",
   "name": "python3"
  },
  "language_info": {
   "codemirror_mode": {
    "name": "ipython",
    "version": 3
   },
   "file_extension": ".py",
   "mimetype": "text/x-python",
   "name": "python",
   "nbconvert_exporter": "python",
   "pygments_lexer": "ipython3",
   "version": "3.10.12"
  }
 },
 "nbformat": 4,
 "nbformat_minor": 5
}
