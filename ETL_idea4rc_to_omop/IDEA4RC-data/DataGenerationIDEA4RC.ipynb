{
 "cells": [
  {
   "cell_type": "markdown",
   "id": "57eeeff2",
   "metadata": {},
   "source": [
    "# Dataset example IDEA4RC to OMOP CDM"
   ]
  },
  {
   "cell_type": "code",
   "execution_count": null,
   "id": "d4adddaa",
   "metadata": {},
   "outputs": [],
   "source": [
    "import pandas as pd\n",
    "import random\n",
    "import numpy as np\n",
    "from datetime import datetime, timedelta"
   ]
  },
  {
   "cell_type": "markdown",
   "id": "f1c97ec3",
   "metadata": {},
   "source": [
    "A continuación, procedemos a crear los ficheros csv para cada tabla de IDEA4RC como muestra de ejemplo para posteriormente hacer el mapeo.\n",
    "\n",
    "Cada columna la rellenaremos con su \"Vocabulary o Variable as modifier\" de Athena, si es que alguno de los dos está disponible.\n",
    "\n",
    "Cuando tengamos las dos disponibles, cogeremos como su único valor su correspondiente \"Variable as modifier\". Y, meteremos posteriormente su \"Vocabulary\" a la tabla correspondiente de mapeo a OMOP (en el siguiente código, cuando hay un # con números, significarán los vocabularios correspondientes a otras tablas, es decir, que las variables disponen de \"Vocabulary y Variable as modifier\".\n"
   ]
  },
  {
   "cell_type": "markdown",
   "id": "b32d9ed1",
   "metadata": {},
   "source": [
    "### patient.IDEA4RCcsv"
   ]
  },
  {
   "cell_type": "code",
   "execution_count": null,
   "id": "2ed73515",
   "metadata": {},
   "outputs": [],
   "source": [
    "def non_repeating_number_generator(start, end, X):\n",
    "    generated_numbers = set()\n",
    "    count = 0\n",
    "    while count < X:\n",
    "        number = random.randint(start, end)\n",
    "        if number not in generated_numbers:\n",
    "            generated_numbers.add(number)\n",
    "            yield number\n",
    "            count += 1\n",
    "    return generated_numbers\n",
    "\n",
    "random_ids = non_repeating_number_generator(0,51,50)\n",
    "# Crear DataFrame con la columna 'id'\n",
    "data = {'id': random_ids}\n",
    "df_patient_IDEA4RC = pd.DataFrame(data)\n",
    "\n",
    "# Definir las variables y sus posibles valores\n",
    "replacement_values = {\n",
    "    'Gender': (8507, 8532),\n",
    "    'Race': (8527, 8516, 8515, 8657),\n",
    "    'Birth year': 0,\n",
    "    'Country of Residence':4329169,\n",
    "    'Smoking': 1585856, #(36309332, 45883458, 45879404),\n",
    "    'Cigarettes pack years smoked during life': 903650,\n",
    "    'Alcohol': 1586197, # (4074035, 4117706, 37204556, 4220362),\n",
    "    'Height/weight (BMI)': 4245997,\n",
    "    'Charslon Comorbidity Index': 42538860,\n",
    "    'Comorbidity': 46235351, #(4188539, 4188540),\n",
    "    'Myocardial infarction':4329847,\n",
    "    'Congestive heart failure':319835,\n",
    "    'Peripheral vascular disease':321052,\n",
    "    'Cerebrovascular accident (except hemiplegia)':381316,\n",
    "    'Dementia': 4182210,\n",
    "    'Chronic pulmonary disease':4186898,\n",
    "    'Connective tissue disease':4344165,\n",
    "    'Ulcer':4177703,\n",
    "    'Mild liver disease':194984,\n",
    "    'Moderate to severe liver disease': 194984,\n",
    "    'Diabetes (without complications)': 201820,\n",
    "    'Diabetes with end organ damage': 201820,\n",
    "    'Hemiplegia': 374022,\n",
    "    'Moderate to severe renal disease': 198124,\n",
    "    'Solid tumor (non metastatic)': 443392,\n",
    "    'Metastatic solid tumor': 443392,\n",
    "    'Leukemia': 317510,\n",
    "    'Lymphoma': 44499278,\n",
    "    'Multiple myeloma': 437233,\n",
    "    'AIDS': 4267414,\n",
    "    'Eastern Cooperative Oncology Group performance status (ECOG PS) at diagnosis': 36305384,\n",
    "    'ECOG PS label': 36303470, #Vocabulary = Variable as modifier\n",
    "    'Karnofsy index at diagnosis': 4169154,\n",
    "    'Karnofsy index label': 36303744, #Vocabulary = Variable as modifier\n",
    "    'No Genetic syndrome WHO 2020': 37204336, #4211787\n",
    "    'Olliers disease': 4145177,\n",
    "    'Maffuci syndrome': 4187683,\n",
    "    'Li-Fraumeni syndrome': 4323645,\n",
    "    'McCune-Albright syndrome': 37117262,\n",
    "    'Multiple osteochondromas': 37396802,\n",
    "    'Neurofibromatosis type 1': 377252,\n",
    "    'Rothmund-Thomson syndrome': 4286355,\n",
    "    'Werner syndrome': 4197821,\n",
    "    'Retinoblastoma': 4158977,\n",
    "    'Paget disease': 75910,\n",
    "    'Other Genetic syndrome WHO 2020': 1340204,\n",
    "    'Occurrence of other cancer': 1340204, #4266186\n",
    "    'Previous cancer treatment': 1340204 #(4273629, 4170755, 4121697, 42535584, 4295112)\n",
    "}\n",
    "\n",
    "# Función para obtener un valor aleatorio de un elemento en cada columna del diccionario anterior \n",
    "def get_random_value(val):\n",
    "    if isinstance(val, tuple):\n",
    "        return np.random.choice(val)\n",
    "    return val\n",
    "\n",
    "# Añadir las columnas del diccionario al DataFrame\n",
    "for key, value in replacement_values.items():\n",
    "    df_patient_IDEA4RC[key] = [get_random_value(value) for _ in range(len(df_patient_IDEA4RC['id']))]\n",
    "\n",
    "# Ajustar las opciones de pandas para mostrar todas las columnas\n",
    "pd.set_option('display.max_columns', None)\n",
    "pd.set_option('display.width', None)"
   ]
  },
  {
   "cell_type": "code",
   "execution_count": null,
   "id": "79b59776",
   "metadata": {},
   "outputs": [],
   "source": [
    "# Mostrar el DataFrame resultante\n",
    "df_patient_IDEA4RC.head(5)"
   ]
  },
  {
   "cell_type": "markdown",
   "id": "5e0d6eaf",
   "metadata": {},
   "source": [
    "Observamos que tenemos un dataframe con los números correspondientes al Vocabulario de OMOP. Los números \"0\" significan valores nulos que tendrán que someterse a cambios al número que corresponda en ATHENA."
   ]
  },
  {
   "cell_type": "code",
   "execution_count": null,
   "id": "fbc927ea",
   "metadata": {},
   "outputs": [],
   "source": [
    "# Guardar DataFrame en un archivo CSV\n",
    "df_patient_IDEA4RC.to_csv('patientsIDEA4RC.csv', index=False)"
   ]
  },
  {
   "cell_type": "markdown",
   "id": "60338435",
   "metadata": {},
   "source": [
    "### hospitalDataIDEA4RC.csv"
   ]
  },
  {
   "cell_type": "code",
   "execution_count": null,
   "id": "8d01387e",
   "metadata": {},
   "outputs": [],
   "source": [
    "def hospitalNameGen():\n",
    "    prefijos = ['San', 'Santa', 'Nuestra Señora', 'Sagrado Corazón', 'Sanatorio', 'Clínica', 'Centro']\n",
    "    nombres = ['María', 'Jorge', 'Lourdes', 'José', 'Cruz', 'Esperanza', 'Salud', 'Vida', 'Cristo', 'Ángel', 'Victoria', 'Amparo']\n",
    "    tipos = ['Hospital', 'Clínica', 'Centro Médico', 'Instituto Médico', 'Pabellón', 'Policlínico', 'Sanatorio', 'Consultorio', 'Asistencia Médica']\n",
    "\n",
    "    return f\"{random.choice(prefijos)} {random.choice(nombres)} {random.choice(tipos)} {random.choice(['de la Paz', 'de la Salud', 'General', 'Regional', 'Metropolitano', 'Especializado'])}\"\n",
    "\n",
    "hospital_names = [hospitalNameGen() for _ in range(10)]\n",
    "df_hospital_Data_IDEA4RC = pd.DataFrame()\n",
    "df_hospital_Data_IDEA4RC['id'] = (non_repeating_number_generator(0, 50, 10)).copy()\n",
    "df_hospital_Data_IDEA4RC['Hospital Name']=[\n",
    "    hospital_names[_] for _ in range(len(df_hospital_Data_IDEA4RC['id']))\n",
    "]"
   ]
  },
  {
   "cell_type": "code",
   "execution_count": null,
   "id": "e5306bfc",
   "metadata": {},
   "outputs": [],
   "source": [
    "df_hospital_Data_IDEA4RC.to_csv('hospitalDataIDEA4RC.csv', index=False)"
   ]
  },
  {
   "cell_type": "code",
   "execution_count": null,
   "id": "65a2d180",
   "metadata": {},
   "outputs": [],
   "source": [
    "df_hospital_Data_IDEA4RC.head(3)"
   ]
  },
  {
   "cell_type": "markdown",
   "id": "5668e06d",
   "metadata": {},
   "source": [
    "### patientsFollowUpIDEA4RC.csv"
   ]
  },
  {
   "cell_type": "code",
   "execution_count": null,
   "id": "3221cf4b",
   "metadata": {},
   "outputs": [],
   "source": [
    "patient_f_u_columns = {\n",
    "    #\"Patient\": ,\n",
    "    \"Status at last follow-up\": 0,\n",
    "    \"Patient Follow Up date\": 0, #no puede ser un valor arbitrario, explicado en el archivo de mapeo de esta tabla\n",
    "    \"New cancer diagnosis\": (4188539, 4188540),\n",
    "    \"Date of new cancer diagnosis\": 0, \n",
    "    \"New cancer topography\": (36534215, 44498973),  # y otros valores0, \n",
    "    \"Last Contact\": 0,\n",
    "}\n",
    "\n",
    "df_patients_FollowUp_IDEA4RC = pd.DataFrame()\n",
    "\n",
    "# Crear el nuevo dataframe con la columna 'id' de df\n",
    "df_patients_FollowUp_IDEA4RC['Patient'] = df_patient_IDEA4RC[['id']].copy()\n",
    "\n",
    "# Añadir las columnas del diccionario al DataFrame\n",
    "for key, value in patient_f_u_columns.items():\n",
    "    df_patients_FollowUp_IDEA4RC[key] = [get_random_value(value) for _ in range(len(df_patients_FollowUp_IDEA4RC['Patient']))]"
   ]
  },
  {
   "cell_type": "code",
   "execution_count": null,
   "id": "125f8f84",
   "metadata": {},
   "outputs": [],
   "source": [
    "# Guardar DataFrame en un archivo CSV\n",
    "df_patients_FollowUp_IDEA4RC.to_csv('patientsFollowUpIDEA4RC.csv', index=False)"
   ]
  },
  {
   "cell_type": "code",
   "execution_count": null,
   "id": "7679f8f3",
   "metadata": {},
   "outputs": [],
   "source": [
    "df_patients_FollowUp_IDEA4RC.head(3)"
   ]
  },
  {
   "cell_type": "markdown",
   "id": "6d509e09",
   "metadata": {},
   "source": [
    "### hospitalPatientsRecordIDEA4RC.csv"
   ]
  },
  {
   "cell_type": "code",
   "execution_count": 12,
   "id": "f07c9bf3",
   "metadata": {},
   "outputs": [
    {
     "ename": "SyntaxError",
     "evalue": "invalid syntax (4219028881.py, line 18)",
     "output_type": "error",
     "traceback": [
      "\u001b[0;36m  Cell \u001b[0;32mIn[12], line 18\u001b[0;36m\u001b[0m\n\u001b[0;31m    hospital_names =\u001b[0m\n\u001b[0m                     ^\u001b[0m\n\u001b[0;31mSyntaxError\u001b[0m\u001b[0;31m:\u001b[0m invalid syntax\n"
     ]
    }
   ],
   "source": [
    "import numpy as np\n",
    "import pandas as pd\n",
    "import random\n",
    "from datetime import datetime, timedelta\n",
    "\n",
    "# Definir la función para generar una fecha aleatoria\n",
    "def randDate(start_date=datetime(1900, 1, 1), end_date=datetime.now()):\n",
    "    # Calcular la diferencia en segundos entre las fechas de inicio y fin\n",
    "    delta = end_date - start_date\n",
    "    int_delta = delta.days * 24 * 60 * 60\n",
    "    random_second = random.randrange(int_delta)\n",
    "    return start_date + timedelta(seconds=random_second)\n",
    "\n",
    "# Crear el DataFrame vacío\n",
    "df_hospital_PatientsRecord_IDEA4RC = pd.DataFrame()\n",
    "\n",
    "# Rellenar la columna 'id' con números enteros aleatorios\n",
    "df_hospital_PatientsRecord_IDEA4RC['id'] = non_repeating_number_generator(0, 300, 100)\n",
    "\n",
    "# Obtener listas de ids de hospitales y pacientes\n",
    "hospital_names = df_hospital_Data_IDEA4RC['id'].tolist()\n",
    "patients_ids = df_patient_IDEA4RC['id'].tolist()\n",
    "\n",
    "# Rellenar las columnas 'Patient' y 'Hospital' con elecciones aleatorias\n",
    "df_hospital_PatientsRecord_IDEA4RC['Patient'] = np.random.choice(patients_ids, size=50)\n",
    "df_hospital_PatientsRecord_IDEA4RC['Hospital'] = np.random.choice(hospital_names, size=50)\n",
    "\n",
    "# Rellenar la columna 'Date of first contact with the hospital' con fechas aleatorias\n",
    "df_hospital_PatientsRecord_IDEA4RC['Date of first contact with the hospital'] = [\n",
    "    randDate() for _ in range(50)\n",
    "]\n",
    "\n",
    "# Ver el resultado\n",
    "print(df_hospital_PatientsRecord_IDEA4RC.head())\n"
   ]
  },
  {
   "cell_type": "code",
   "execution_count": 13,
   "id": "af054933",
   "metadata": {},
   "outputs": [
    {
     "ename": "NameError",
     "evalue": "name 'df_hospital_PatientsRecord_IDEA4RC' is not defined",
     "output_type": "error",
     "traceback": [
      "\u001b[0;31m---------------------------------------------------------------------------\u001b[0m",
      "\u001b[0;31mNameError\u001b[0m                                 Traceback (most recent call last)",
      "Cell \u001b[0;32mIn[13], line 1\u001b[0m\n\u001b[0;32m----> 1\u001b[0m \u001b[43mdf_hospital_PatientsRecord_IDEA4RC\u001b[49m\u001b[38;5;241m.\u001b[39mto_csv(\u001b[38;5;124m'\u001b[39m\u001b[38;5;124mhospitalPatientsRecordIDEA4RC.csv\u001b[39m\u001b[38;5;124m'\u001b[39m, index\u001b[38;5;241m=\u001b[39m\u001b[38;5;28;01mFalse\u001b[39;00m)\n",
      "\u001b[0;31mNameError\u001b[0m: name 'df_hospital_PatientsRecord_IDEA4RC' is not defined"
     ]
    }
   ],
   "source": [
    "df_hospital_PatientsRecord_IDEA4RC.to_csv('hospitalPatientsRecordIDEA4RC.csv', index=False)"
   ]
  },
  {
   "cell_type": "code",
   "execution_count": null,
   "id": "bd1768e3",
   "metadata": {},
   "outputs": [],
   "source": [
    "df_hospital_PatientsRecord_IDEA4RC.head(3)"
   ]
  },
  {
   "cell_type": "markdown",
   "id": "d7e96bdc",
   "metadata": {},
   "source": [
    "### cancerEpisodeDEA4RC.csv"
   ]
  },
  {
   "cell_type": "markdown",
   "id": "a2dafb41-bc6d-4788-9e37-2855a2ddcec8",
   "metadata": {},
   "source": [
    "It seems that I'm dealing with the issue of what to do with \"Histology (WHO 2017) H&N subgroup.\" I'm not sure if I should leave it as plain text or if it might get lost when transferred to another database? Also, there's a code in \"Histology Squamous\" that appears to have no definition. The same issue arises with \"Histology Adenocarcinoma.\" What to do with the \"NOS\".\n",
    "\n",
    "For Histology Sinonasal undifferentiated carcinoma I am following the example given in PatientFollowUp, and I am assigning it a 0 value since we do not have any \"clear value\" as Vocabulary or Variable as a modifier. I need more information. Same for other subsite, but I consider this one to be more clear."
   ]
  },
  {
   "cell_type": "code",
   "execution_count": null,
   "id": "683a9cb2-4bd2-4694-9549-feac76a4125e",
   "metadata": {},
   "outputs": [],
   "source": [
    "replacement_values= {\n",
    "    'Type of biopsy' : (4171863,4321878,4321986, 4228202,4279903),\n",
    "    'Biopsy done by' : hospital_names, #Institution where diagnostic procedure was performed, culd be the ID assigned from the original hospital.\n",
    "    'Age at diagnosis' : np.random.randint(0, 120, size=100), #We generate random numbers that will work as the age\n",
    "    'Radiotherapy induced sarcoma' : 37117814,\n",
    "    'Grading' : 4159955,\n",
    "    'Histology Squamous' : (4078953, 4147603, 4206785,4277415,4247661,4029973,4298030,4191609,37156145,37204531,37204532),\n",
    "    'Histology Adenocarcinoma' : (4312929, 4050978, 4247921, 4238334, 605208,4022895, 4253608, 4030121, 4232456, 4164740, 4148292, \n",
    "                                  4146684, 4287334, 37116978, 4029680, 4182993, 37116976, 4271564, 4212379),\n",
    "    'Histology Neuroendocrine' : (6714029,37018672,4029971),\n",
    "    'Histology Odontogenic Carcinoma' : (4098585, 37153944, 37158144, 37153976, 37117009, 37116887, 37116966, 37312303),\n",
    "    'Histology Sinonasal undifferentiated carcinoma' : 0,\n",
    "    'Histology subgroup Adipocytic tumours' : (4102790, 4284833, 4101123, 4010104, 4300687),\n",
    "    'Histology subgroup Fibroblastic and myofibroblastic tumours' : (45766452, 4264204, 45766468, 4030132, 4295283, 4030130, 4028562, 4021373,\n",
    "                                                                     45766454,4029679, 45766450, 4178132, 4202374, 45771359, 45771361, 45766456),\n",
    "    'Histology subgroup So-called fibrohistiocytic tumours' : (4029525, 4218898, 4030140, 45766525, 4029655),\n",
    "    'Vascular tumours' : (4207381, 3661612, 4281384, 45766493, 4030138, 45766494, 45766492),\n",
    "    'Pericytic (perivascular) tumours' : 40571984,\n",
    "    'Smooth muscle tumours' : (4327493, 607803, 600675, 4029023, 4201415, 4173148, 4059632, 4029023),\n",
    "    'Skeletal muscle tumours' : (4031038, 4272931, 4298312, 4029528, 4029024),\n",
    "    'Chondro-osseous tumours' : 4298240,\n",
    "    'Peripheral nerve sheath tumours': (4062426, 4102399, 4005360, 4027842),\n",
    "    'Tumours of uncertain differentiation' : (4096931, 4029526, 45766448, 4268491, 4244886, 4339208, 4155072, 4328092, 4029522, 4307938, 45771358,\n",
    "                                              45766447,4304780, 45766495, 4029021, 4239519, 4028565, 45766485, 4239956, 4029526),\n",
    "    'Undifferentiated small round cell sarcomas of bone and soft tissue' : 45766528,\n",
    "    'Endometrial stromal and related tumours' : (4290926,4028557),\n",
    "    'Miscellaneous mesenchymal tumors': (45771357, 4040991, 4323562, 4337106, 4028710, 4029172, 4028709, 4029173, 42872917, 37311513),\n",
    "    'Mixed epithelial and mesenchymal tumours': (4135215),\n",
    "    'Nasal cavity and paranasal sinuses subsite': (4088327, 4050631, 4182234, 4204534, 4097172),\n",
    "    'Nasopharynx subsite': (4068978, 4146741, 4323979, 4220236),\n",
    "    'Hypopharynx subsite': (4147741, 4262980, 4102600, 4268741),\n",
    "    'Oropharynx subsite': (4169910, 4177005, 4095284, 4138234, 4068841, 4065073, 4173123, 4283238, 4078066, 4045435, 4235649),\n",
    "    'Larynx subsite': (4047227, 4001049, 4002724, 4279711),\n",
    "    'Oral cavity subsite': (36769609, 4077986, 4172794, 4047029, 4210919, 4181419, 4103066, 44498040, 4234542, 4057160, 4144069, 36769865),\n",
    "    'Lip subsite': (4027546, 4134589, 4027545, 36769700, 36768548, 4245168, 4307358),\n",
    "    'Upper and Lower limbs subsite': (4310976, 4220073, 4032953, 4027910, 4348994, 4165266, 4211098, \n",
    "                                   4142359, 4107527, 4217806, 4138531, 4090445, 4291935, 4088464, \n",
    "                                   42605854, 4136969, 4109459, 4263335, 4096078, 4157836),\n",
    "    'Trunk wall subsite': (4088614, 4244412, 4330865),\n",
    "    'Intra abdominal subsite': (4220536, 4271699, 4193451, 4154880, 4157844, 4314264, 4094242, 4229753, 4075991, 4288283, 4302112, 4065077,\n",
    "                                4316356, 4215634, 4144541, 4233095),\n",
    "    'Intra thoracic subsite': (4213162, 4217142, 4150673, 4088610, 4167648, 4001033, 4035327, 4272388),\n",
    "    'Genito urinary subsite': (4047078, 4271678, 4078617, 4232481, 4034365, 4277442, 4172591, 4238088, 4077311, 4149192, 4049448, 4151444, 4296022, 4166066),\n",
    "    'Head and Neck subsite': (4122633),\n",
    "    'Breast subsite': (4298444),\n",
    "    'Other subsite' : 0,\n",
    "    'Tumor Size': (36768664),\n",
    "    'Depth' : (36768749, 36768911),\n",
    "    'Biopsy Mitotic count' : 4227243,\n",
    "    'Plasmatic EBV DNA at baseline' : 3043849,\n",
    "    'HPV status' : 46236082,\n",
    "    'CRP – C reactive protein tested ' : 3000965\n",
    "}\n",
    "\n",
    "df_cancer_Episode_IDEA4RC = pd.DataFrame()\n",
    "df_cancer_Episode_IDEA4RC['id']= non_repeating_number_generator(0, 300, 80)\n",
    "df_cancer_Episode_IDEA4RC['Patient'] = np.random.choice(patients_ids, size=len(df_cancer_Episode_IDEA4RC['id']))\n",
    "df_cancer_Episode_IDEA4RC['Date of diagnosis (biopsy or surgical piece)']= [\n",
    "    randDate() for _ in range(len(df_cancer_Episode_IDEA4RC['id']))\n",
    "]\n",
    "\n",
    "for key, value in replacement_values.items():\n",
    "    df_cancer_Episode_IDEA4RC[key] = [get_random_value(value) for _ in range(len(df_cancer_Episode_IDEA4RC['id']))]\n"
   ]
  },
  {
   "cell_type": "code",
   "execution_count": null,
   "id": "b56c4194",
   "metadata": {},
   "outputs": [],
   "source": [
    "df_cancer_Episode_IDEA4RC.to_csv('cancerEpisodeIDEA4RC.csv', index=False)"
   ]
  },
  {
   "cell_type": "code",
   "execution_count": null,
   "id": "87bdcefd-5f2b-4790-b402-1c66008cf8a8",
   "metadata": {},
   "outputs": [],
   "source": [
    "df_cancer_Episode_IDEA4RC.head(5)"
   ]
  }
 ],
 "metadata": {
  "kernelspec": {
   "display_name": "Python 3 (ipykernel)",
   "language": "python",
   "name": "python3"
  },
  "language_info": {
   "codemirror_mode": {
    "name": "ipython",
    "version": 3
   },
   "file_extension": ".py",
   "mimetype": "text/x-python",
   "name": "python",
   "nbconvert_exporter": "python",
   "pygments_lexer": "ipython3",
   "version": "3.10.12"
  }
 },
 "nbformat": 4,
 "nbformat_minor": 5
}
