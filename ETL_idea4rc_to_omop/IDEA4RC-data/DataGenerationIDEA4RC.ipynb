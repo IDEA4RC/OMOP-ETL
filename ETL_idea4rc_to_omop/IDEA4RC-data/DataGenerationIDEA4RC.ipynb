{
 "cells": [
  {
   "cell_type": "markdown",
   "id": "57eeeff2",
   "metadata": {},
   "source": [
    "# Dataset example IDEA4RC to OMOP CDM"
   ]
  },
  {
   "cell_type": "code",
   "execution_count": 2,
   "id": "d4adddaa",
   "metadata": {},
   "outputs": [
    {
     "ename": "ModuleNotFoundError",
     "evalue": "No module named 'pandas'",
     "output_type": "error",
     "traceback": [
      "\u001b[0;31m---------------------------------------------------------------------------\u001b[0m",
      "\u001b[0;31mModuleNotFoundError\u001b[0m                       Traceback (most recent call last)",
      "Cell \u001b[0;32mIn[2], line 1\u001b[0m\n\u001b[0;32m----> 1\u001b[0m \u001b[38;5;28;01mimport\u001b[39;00m \u001b[38;5;21;01mpandas\u001b[39;00m \u001b[38;5;28;01mas\u001b[39;00m \u001b[38;5;21;01mpd\u001b[39;00m\n\u001b[1;32m      2\u001b[0m \u001b[38;5;28;01mimport\u001b[39;00m \u001b[38;5;21;01mrandom\u001b[39;00m\n\u001b[1;32m      3\u001b[0m \u001b[38;5;28;01mimport\u001b[39;00m \u001b[38;5;21;01mnumpy\u001b[39;00m \u001b[38;5;28;01mas\u001b[39;00m \u001b[38;5;21;01mnp\u001b[39;00m\n",
      "\u001b[0;31mModuleNotFoundError\u001b[0m: No module named 'pandas'"
     ]
    }
   ],
   "source": [
    "import pandas as pd\n",
    "import random\n",
    "import numpy as np\n",
    "from datetime import datetime, timedelta"
   ]
  },
  {
   "cell_type": "markdown",
   "id": "f1c97ec3",
   "metadata": {},
   "source": [
    "A continuación, procedemos a crear los ficheros csv para cada tabla de IDEA4RC como muestra de ejemplo para posteriormente hacer el mapeo.\n",
    "\n",
    "Cada columna la rellenaremos con su \"Vocabulary o Variable as modifier\" de Athena, si es que alguno de los dos está disponible.\n",
    "\n",
    "Cuando tengamos las dos disponibles, cogeremos como su único valor su correspondiente \"Variable as modifier\". Y, meteremos posteriormente su \"Vocabulary\" a la tabla correspondiente de mapeo a OMOP (en el siguiente código, cuando hay un # con números, significarán los vocabularios correspondientes a otras tablas, es decir, que las variables disponen de \"Vocabulary y Variable as modifier\".\n"
   ]
  },
  {
   "cell_type": "markdown",
   "id": "b32d9ed1",
   "metadata": {},
   "source": [
    "### patient.IDEA4RCcsv"
   ]
  },
  {
   "cell_type": "code",
   "execution_count": 3,
   "id": "2ed73515",
   "metadata": {},
   "outputs": [
    {
     "ename": "NameError",
     "evalue": "name 'np' is not defined",
     "output_type": "error",
     "traceback": [
      "\u001b[0;31m---------------------------------------------------------------------------\u001b[0m",
      "\u001b[0;31mNameError\u001b[0m                                 Traceback (most recent call last)",
      "Cell \u001b[0;32mIn[3], line 1\u001b[0m\n\u001b[0;32m----> 1\u001b[0m random_ids \u001b[38;5;241m=\u001b[39m \u001b[43mnp\u001b[49m\u001b[38;5;241m.\u001b[39mrandom\u001b[38;5;241m.\u001b[39mrandint(\u001b[38;5;241m0\u001b[39m, \u001b[38;5;241m51\u001b[39m, size\u001b[38;5;241m=\u001b[39m\u001b[38;5;241m50\u001b[39m)\n\u001b[1;32m      2\u001b[0m \u001b[38;5;66;03m# Crear DataFrame con la columna 'id'\u001b[39;00m\n\u001b[1;32m      3\u001b[0m data \u001b[38;5;241m=\u001b[39m {\u001b[38;5;124m'\u001b[39m\u001b[38;5;124mid\u001b[39m\u001b[38;5;124m'\u001b[39m: random_ids}\n",
      "\u001b[0;31mNameError\u001b[0m: name 'np' is not defined"
     ]
    }
   ],
   "source": [
    "random_ids = np.random.randint(0, 51, size=50)\n",
    "# Crear DataFrame con la columna 'id'\n",
    "data = {'id': random_ids}\n",
    "df_patient_IDEA4RC = pd.DataFrame(data)\n",
    "\n",
    "# Definir las variables y sus posibles valores\n",
    "replacement_values = {\n",
    "    'Gender': (8507, 8532),\n",
    "    'Race': (8527, 8516, 8515, 8657),\n",
    "    'Birth year': 0,\n",
    "    'Country of Residence':4329169,\n",
    "    'Smoking': 1585856, #(36309332, 45883458, 45879404),\n",
    "    'Cigarettes pack years smoked during life': 903650,\n",
    "    'Alcohol': 1586197, # (4074035, 4117706, 37204556, 4220362),\n",
    "    'Height/weight (BMI)': 4245997,\n",
    "    'Charslon Comorbidity Index': 42538860,\n",
    "    'Comorbidity': 46235351, #(4188539, 4188540),\n",
    "    'Myocardial infarction':4329847,\n",
    "    'Congestive heart failure':319835,\n",
    "    'Peripheral vascular disease':321052,\n",
    "    'Cerebrovascular accident (except hemiplegia)':381316,\n",
    "    'Dementia': 4182210,\n",
    "    'Chronic pulmonary disease':4186898,\n",
    "    'Connective tissue disease':4344165,\n",
    "    'Ulcer':4177703,\n",
    "    'Mild liver disease':194984,\n",
    "    'Moderate to severe liver disease': 194984,\n",
    "    'Diabetes (without complications)': 201820,\n",
    "    'Diabetes with end organ damage': 201820,\n",
    "    'Hemiplegia': 374022,\n",
    "    'Moderate to severe renal disease': 198124,\n",
    "    'Solid tumor (non metastatic)': 443392,\n",
    "    'Metastatic solid tumor': 443392,\n",
    "    'Leukemia': 317510,\n",
    "    'Lymphoma': 44499278,\n",
    "    'Multiple myeloma': 437233,\n",
    "    'AIDS': 4267414,\n",
    "    'Eastern Cooperative Oncology Group performance status (ECOG PS) at diagnosis': 36305384,\n",
    "    'ECOG PS label': 36303470, #Vocabulary = Variable as modifier\n",
    "    'Karnofsy index at diagnosis': 4169154,\n",
    "    'Karnofsy index label': 36303744, #Vocabulary = Variable as modifier\n",
    "    'No Genetic syndrome WHO 2020': 37204336, #4211787\n",
    "    'Olliers disease': 4145177,\n",
    "    'Maffuci syndrome': 4187683,\n",
    "    'Li-Fraumeni syndrome': 4323645,\n",
    "    'McCune-Albright syndrome': 37117262,\n",
    "    'Multiple osteochondromas': 37396802,\n",
    "    'Neurofibromatosis type 1': 377252,\n",
    "    'Rothmund-Thomson syndrome': 4286355,\n",
    "    'Werner syndrome': 4197821,\n",
    "    'Retinoblastoma': 4158977,\n",
    "    'Paget disease': 75910,\n",
    "    'Other Genetic syndrome WHO 2020': 1340204,\n",
    "    'Occurrence of other cancer': 1340204, #4266186\n",
    "    'Previous cancer treatment': 1340204 #(4273629, 4170755, 4121697, 42535584, 4295112)\n",
    "}\n",
    "\n",
    "# Función para obtener un valor aleatorio de un elemento en cada columna del diccionario anterior \n",
    "def get_random_value(val):\n",
    "    if isinstance(val, tuple):\n",
    "        return np.random.choice(val)\n",
    "    return val\n",
    "\n",
    "# Añadir las columnas del diccionario al DataFrame\n",
    "for key, value in replacement_values.items():\n",
    "    df_patient_IDEA4RC[key] = [get_random_value(value) for _ in range(len(df_patient_IDEA4RC['id']))]\n",
    "\n",
    "# Ajustar las opciones de pandas para mostrar todas las columnas\n",
    "pd.set_option('display.max_columns', None)\n",
    "pd.set_option('display.width', None)"
   ]
  },
  {
   "cell_type": "code",
   "execution_count": 4,
   "id": "79b59776",
   "metadata": {},
   "outputs": [
    {
     "ename": "NameError",
     "evalue": "name 'df_patient_IDEA4RC' is not defined",
     "output_type": "error",
     "traceback": [
      "\u001b[0;31m---------------------------------------------------------------------------\u001b[0m",
      "\u001b[0;31mNameError\u001b[0m                                 Traceback (most recent call last)",
      "Cell \u001b[0;32mIn[4], line 2\u001b[0m\n\u001b[1;32m      1\u001b[0m \u001b[38;5;66;03m# Mostrar el DataFrame resultante\u001b[39;00m\n\u001b[0;32m----> 2\u001b[0m \u001b[43mdf_patient_IDEA4RC\u001b[49m\u001b[38;5;241m.\u001b[39mhead(\u001b[38;5;241m5\u001b[39m)\n",
      "\u001b[0;31mNameError\u001b[0m: name 'df_patient_IDEA4RC' is not defined"
     ]
    }
   ],
   "source": [
    "# Mostrar el DataFrame resultante\n",
    "df_patient_IDEA4RC.head(5)"
   ]
  },
  {
   "cell_type": "markdown",
   "id": "5e0d6eaf",
   "metadata": {},
   "source": [
    "Observamos que tenemos un dataframe con los números correspondientes al Vocabulario de OMOP. Los números \"0\" significan valores nulos que tendrán que someterse a cambios al número que corresponda en ATHENA."
   ]
  },
  {
   "cell_type": "code",
   "execution_count": 5,
   "id": "fbc927ea",
   "metadata": {},
   "outputs": [
    {
     "ename": "NameError",
     "evalue": "name 'df_patient_IDEA4RC' is not defined",
     "output_type": "error",
     "traceback": [
      "\u001b[0;31m---------------------------------------------------------------------------\u001b[0m",
      "\u001b[0;31mNameError\u001b[0m                                 Traceback (most recent call last)",
      "Cell \u001b[0;32mIn[5], line 2\u001b[0m\n\u001b[1;32m      1\u001b[0m \u001b[38;5;66;03m# Guardar DataFrame en un archivo CSV\u001b[39;00m\n\u001b[0;32m----> 2\u001b[0m \u001b[43mdf_patient_IDEA4RC\u001b[49m\u001b[38;5;241m.\u001b[39mto_csv(\u001b[38;5;124m'\u001b[39m\u001b[38;5;124mpatientsIDEA4RC.csv\u001b[39m\u001b[38;5;124m'\u001b[39m, index\u001b[38;5;241m=\u001b[39m\u001b[38;5;28;01mFalse\u001b[39;00m)\n",
      "\u001b[0;31mNameError\u001b[0m: name 'df_patient_IDEA4RC' is not defined"
     ]
    }
   ],
   "source": [
    "# Guardar DataFrame en un archivo CSV\n",
    "df_patient_IDEA4RC.to_csv('patientsIDEA4RC.csv', index=False)"
   ]
  },
  {
   "cell_type": "markdown",
   "id": "60338435",
   "metadata": {},
   "source": [
    "### hospitalDataIDEA4RC.csv"
   ]
  },
  {
   "cell_type": "code",
   "execution_count": 6,
   "id": "8d01387e",
   "metadata": {},
   "outputs": [
    {
     "ename": "SyntaxError",
     "evalue": "'[' was never closed (1229442591.py, line 8)",
     "output_type": "error",
     "traceback": [
      "\u001b[0;36m  Cell \u001b[0;32mIn[6], line 8\u001b[0;36m\u001b[0m\n\u001b[0;31m    hospital_names = [hospitalNameGen() for _ in range(10)\u001b[0m\n\u001b[0m                     ^\u001b[0m\n\u001b[0;31mSyntaxError\u001b[0m\u001b[0;31m:\u001b[0m '[' was never closed\n"
     ]
    }
   ],
   "source": [
    "def hospitalNameGen():\n",
    "    prefijos = ['San', 'Santa', 'Nuestra Señora', 'Sagrado Corazón', 'Sanatorio', 'Clínica', 'Centro']\n",
    "    nombres = ['María', 'Jorge', 'Lourdes', 'José', 'Cruz', 'Esperanza', 'Salud', 'Vida', 'Cristo', 'Ángel', 'Victoria', 'Amparo']\n",
    "    tipos = ['Hospital', 'Clínica', 'Centro Médico', 'Instituto Médico', 'Pabellón', 'Policlínico', 'Sanatorio', 'Consultorio', 'Asistencia Médica']\n",
    "\n",
    "    return f\"{random.choice(prefijos)} {random.choice(nombres)} {random.choice(tipos)} {random.choice(['de la Paz', 'de la Salud', 'General', 'Regional', 'Metropolitano', 'Especializado'])}\"\n",
    "\n",
    "hospital_names = [hospitalNameGen() for _ in range(10)]\n",
    "df_hospital_Data_IDEA4RC = pd.DataFrame()\n",
    "df_hospital_Data_IDEA4RC['id'] = (np.random.randint(0, 51, size=10)).copy()\n",
    "df_hospital_Data_IDEA4RC['Hospital Name']=[\n",
    "    hospital_names[_] for _ in range(len(df_hospital_Data_IDEA4RC['id']))\n",
    "]"
   ]
  },
  {
   "cell_type": "code",
   "execution_count": null,
   "id": "e5306bfc",
   "metadata": {},
   "outputs": [],
   "source": [
    "df_hospital_Data_IDEA4RC.to_csv('hospitalDataIDEA4RC.csv', index=False)"
   ]
  },
  {
   "cell_type": "code",
   "execution_count": null,
   "id": "65a2d180",
   "metadata": {},
   "outputs": [],
   "source": [
    "df_hospital_Data_IDEA4RC.head(3)"
   ]
  },
  {
   "cell_type": "markdown",
   "id": "5668e06d",
   "metadata": {},
   "source": [
    "### patientsFollowUpIDEA4RC.csv"
   ]
  },
  {
   "cell_type": "code",
   "execution_count": null,
   "id": "3221cf4b",
   "metadata": {},
   "outputs": [],
   "source": [
    "patient_f_u_columns = {\n",
    "    #\"Patient\": ,\n",
    "    \"Status at last follow-up\": 0,\n",
    "    \"Patient Follow Up date\": 0, #no puede ser un valor arbitrario, explicado en el archivo de mapeo de esta tabla\n",
    "    \"New cancer diagnosis\": (4188539, 4188540),\n",
    "    \"Date of new cancer diagnosis\": 0, \n",
    "    \"New cancer topography\": (36534215, 44498973),  # y otros valores0, \n",
    "    \"Last Contact\": 0,\n",
    "}\n",
    "\n",
    "df_patients_FollowUp_IDEA4RC = pd.DataFrame()\n",
    "\n",
    "# Crear el nuevo dataframe con la columna 'id' de df\n",
    "df_patients_FollowUp_IDEA4RC['Patient'] = df_patient_IDEA4RC[['id']].copy()\n",
    "\n",
    "# Añadir las columnas del diccionario al DataFrame\n",
    "for key, value in patient_f_u_columns.items():\n",
    "    df_patients_FollowUp_IDEA4RC[key] = [get_random_value(value) for _ in range(len(df_patients_FollowUp_IDEA4RC['Patient']))]"
   ]
  },
  {
   "cell_type": "code",
   "execution_count": null,
   "id": "125f8f84",
   "metadata": {},
   "outputs": [],
   "source": [
    "# Guardar DataFrame en un archivo CSV\n",
    "df_patients_FollowUp_IDEA4RC.to_csv('patientsFollowUpIDEA4RC.csv', index=False)"
   ]
  },
  {
   "cell_type": "code",
   "execution_count": null,
   "id": "7679f8f3",
   "metadata": {},
   "outputs": [],
   "source": [
    "df_patients_FollowUp_IDEA4RC.head(3)"
   ]
  },
  {
   "cell_type": "markdown",
   "id": "6d509e09",
   "metadata": {},
   "source": [
    "### hospitalPatientsRecordIDEA4RC.csv"
   ]
  },
  {
   "cell_type": "code",
   "execution_count": 12,
   "id": "f07c9bf3",
   "metadata": {},
   "outputs": [
    {
     "ename": "SyntaxError",
     "evalue": "invalid syntax (4219028881.py, line 18)",
     "output_type": "error",
     "traceback": [
      "\u001b[0;36m  Cell \u001b[0;32mIn[12], line 18\u001b[0;36m\u001b[0m\n\u001b[0;31m    hospital_names =\u001b[0m\n\u001b[0m                     ^\u001b[0m\n\u001b[0;31mSyntaxError\u001b[0m\u001b[0;31m:\u001b[0m invalid syntax\n"
     ]
    }
   ],
   "source": [
    "import numpy as np\n",
    "import pandas as pd\n",
    "import random\n",
    "from datetime import datetime, timedelta\n",
    "\n",
    "# Definir la función para generar una fecha aleatoria\n",
    "def randDate(start_date=datetime(1900, 1, 1), end_date=datetime.now()):\n",
    "    # Calcular la diferencia en segundos entre las fechas de inicio y fin\n",
    "    delta = end_date - start_date\n",
    "    int_delta = delta.days * 24 * 60 * 60\n",
    "    random_second = random.randrange(int_delta)\n",
    "    return start_date + timedelta(seconds=random_second)\n",
    "\n",
    "# Crear el DataFrame vacío\n",
    "df_hospital_PatientsRecord_IDEA4RC = pd.DataFrame()\n",
    "\n",
    "# Rellenar la columna 'id' con números enteros aleatorios\n",
    "df_hospital_PatientsRecord_IDEA4RC['id'] = np.random.randint(0, 51, size=50)\n",
    "\n",
    "# Obtener listas de ids de hospitales y pacientes\n",
    "hospital_names = df_hospital_Data_IDEA4RC['id'].tolist()\n",
    "patients_ids = df_patient_IDEA4RC['id'].tolist()\n",
    "\n",
    "# Rellenar las columnas 'Patient' y 'Hospital' con elecciones aleatorias\n",
    "df_hospital_PatientsRecord_IDEA4RC['Patient'] = np.random.choice(patients_ids, size=50)\n",
    "df_hospital_PatientsRecord_IDEA4RC['Hospital'] = np.random.choice(hospital_names, size=50)\n",
    "\n",
    "# Rellenar la columna 'Date of first contact with the hospital' con fechas aleatorias\n",
    "df_hospital_PatientsRecord_IDEA4RC['Date of first contact with the hospital'] = [\n",
    "    randDate() for _ in range(50)\n",
    "]\n",
    "\n",
    "# Ver el resultado\n",
    "print(df_hospital_PatientsRecord_IDEA4RC.head())\n"
   ]
  },
  {
   "cell_type": "code",
   "execution_count": 13,
   "id": "af054933",
   "metadata": {},
   "outputs": [
    {
     "ename": "NameError",
     "evalue": "name 'df_hospital_PatientsRecord_IDEA4RC' is not defined",
     "output_type": "error",
     "traceback": [
      "\u001b[0;31m---------------------------------------------------------------------------\u001b[0m",
      "\u001b[0;31mNameError\u001b[0m                                 Traceback (most recent call last)",
      "Cell \u001b[0;32mIn[13], line 1\u001b[0m\n\u001b[0;32m----> 1\u001b[0m \u001b[43mdf_hospital_PatientsRecord_IDEA4RC\u001b[49m\u001b[38;5;241m.\u001b[39mto_csv(\u001b[38;5;124m'\u001b[39m\u001b[38;5;124mhospitalPatientsRecordIDEA4RC.csv\u001b[39m\u001b[38;5;124m'\u001b[39m, index\u001b[38;5;241m=\u001b[39m\u001b[38;5;28;01mFalse\u001b[39;00m)\n",
      "\u001b[0;31mNameError\u001b[0m: name 'df_hospital_PatientsRecord_IDEA4RC' is not defined"
     ]
    }
   ],
   "source": [
    "df_hospital_PatientsRecord_IDEA4RC.to_csv('hospitalPatientsRecordIDEA4RC.csv', index=False)"
   ]
  },
  {
   "cell_type": "code",
   "execution_count": null,
   "id": "bd1768e3",
   "metadata": {},
   "outputs": [],
   "source": [
    "df_hospital_PatientsRecord_IDEA4RC.head(3)"
   ]
  },
  {
   "cell_type": "markdown",
   "id": "d7e96bdc",
   "metadata": {},
   "source": [
    "### cancerEpisodeDEA4RC.csv"
   ]
  },
  {
   "cell_type": "markdown",
   "id": "a2dafb41-bc6d-4788-9e37-2855a2ddcec8",
   "metadata": {},
   "source": [
    "Aquí me encuentro con el problema de que no sé qué debo hacer con Histology (WHO 2017) H&N subgroup, no sé si debo dejarlo así (con texto plano o algo así que se pierde al pasar a otra bbdd???) o si debo simplemente ignorarlo\n",
    "\n",
    "Otro problema es que no sé qué debo hacer si no sé si son realmente modifiers o no, y hay un codigo en Histology Squamous también que parece no tener una \"definición\"\n",
    "\n",
    "En Histology Adenocarcinoma me pasa lo mismo de nuevo.\n",
    "\n",
    "LOS VALORES \"NOS\" LOS ESTOY DEJANDO IGUAL YA QUE NO TENGO CLARO QUE SON"
   ]
  },
  {
   "cell_type": "code",
   "execution_count": null,
   "id": "683a9cb2-4bd2-4694-9549-feac76a4125e",
   "metadata": {},
   "outputs": [],
   "source": [
    "type_of_biopsy = {\n",
    "        \"Fine needle biopsy\" : 4171863,\n",
    "        \"Core needle biopsy\" : 4321878,\n",
    "        \"Incisional biopsy\" : 4321986,\n",
    "        \"Excisional biopsy\" : 4228202,\n",
    "        \"Excision\" : 4279903\n",
    "    }\n",
    "\n",
    "cancer_replacement_vals1 = {\n",
    "    \"Radiotherapy induced sarcoma\" = {\n",
    "        \"Radiation therapy induced change\" : 37117814\n",
    "    },\n",
    "    \"Grading\" = {\n",
    "        \"Grade-1\": 1634371,\n",
    "        \"Grade-2\" : 1634752,\n",
    "        \"Grade-3\" : 1633749,\n",
    "        \"Grade-H\" : 1635587,\n",
    "        \"Grade-L\" : 1634085\n",
    "    },\n",
    "    \"Histology Squamous\" = {\n",
    "        'Keratinizing squamous cell carcinoma, epidermoid carcinoma': 4078953,\n",
    "        'Non-keratinizing squamous cell carcinoma': 4147603,\n",
    "        'Non-keratinizing squamous cell carcinoma: Transitional (cylindrical cell, Schneiderian) carcinoma': 4206785,\n",
    "        'Spindle cell (sarcomatoid) squamous cell carcinoma': 4277415,\n",
    "        'Lymphoepithelial carcinoma, lymphoepithelioma like carcinoma': 4247661,\n",
    "        'Basaloid squamous cell carcinoma': 4029973,\n",
    "        'Verrucous squamous cell carcinoma' : 'NOS',\n",
    "        'cuniculatum carcinoma/Ackerman tumor': 4298030,\n",
    "        'Papillary squamous cell carcinoma': 4191609,\n",
    "        'Squamous cell carcinoma': 37156145,\n",
    "        'Squamous cell carcinoma: HPV-positive': 37204531,\n",
    "        'Squamous cell carcinoma: HPV-negative': 37204532\n",
    "    },\n",
    "    'Histology Adenocarcinoma' = {\n",
    "        \"Intestinal-type (salivary gland)\": 4312929,\n",
    "        \"cystoadenocarcinoma\": 4050978,\n",
    "        \"mucinous\": 4247921,\n",
    "        \"Ceruminous (only in ear)\": 4238334,\n",
    "        \"Nasopharyngeal papillary adenocarcinoma\": 605208,\n",
    "        \"Adenoid cystic carcinoma\": 4022895,\n",
    "        \"Mucoepidermoid carcinoma\": 4253608,\n",
    "        \"Polymorphous (low grade)\": 4030121,\n",
    "        \"lobular carcinoma\": 4232456,\n",
    "        \"Acinic cell carcinoma\": 4164740,\n",
    "        \"Clear cell carcinoma\": 4148292,\n",
    "        \"Basal cell adenocarcinoma\": 4146684,\n",
    "        \"Salivary duct carcinoma\": 4287334,\n",
    "        \"Salivary secretory adenocarcinoma (mammary analog, MASC)\": 37116978,\n",
    "        \"Myoepithelial carcinoma, malignant myoepithelioma\": 4029680,\n",
    "        \"Carcinoma ex pleomorphic adenoma\": \"NOS\",\n",
    "        \"Sebaceous adenocarcinoma\": 4182993,\n",
    "        \"Sebaceous lymphadenocarcinoma\": 37116976,\n",
    "        \"Carcinosarcoma\": 4271564,\n",
    "        \"oxyphilic carcinoma\": 4212379,\n",
    "    },\n",
    "    \n",
    "}\n",
    "\n",
    "# Imprimir el diccionario\n",
    "print(carcinomas_dict)\n",
    "\n",
    "    }\n",
    "\n",
    "}\n",
    "\n",
    "#isinstance(obj1, dict)\n",
    "my_dict = {'key1': 'value1', 'key2': 'value2'}\n",
    "\n",
    "# Usar get() para acceder a una clave que no existe\n",
    "value = my_dict.get('nonexistent_key', 'default_value')\n",
    "print(value)  # Salida: default_value\n"
   ]
  },
  {
   "cell_type": "code",
   "execution_count": null,
   "id": "b56c4194",
   "metadata": {},
   "outputs": [],
   "source": []
  }
 ],
 "metadata": {
  "kernelspec": {
   "display_name": "Python 3 (ipykernel)",
   "language": "python",
   "name": "python3"
  },
  "language_info": {
   "codemirror_mode": {
    "name": "ipython",
    "version": 3
   },
   "file_extension": ".py",
   "mimetype": "text/x-python",
   "name": "python",
   "nbconvert_exporter": "python",
   "pygments_lexer": "ipython3",
   "version": "3.10.12"
  }
 },
 "nbformat": 4,
 "nbformat_minor": 5
}
