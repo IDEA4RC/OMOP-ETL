{
 "cells": [
  {
   "cell_type": "markdown",
   "id": "8019fd1b-9a57-43d5-a98d-d47f46f0dbb1",
   "metadata": {},
   "source": [
    "# SystemicTreatment to OMOP"
   ]
  },
  {
   "cell_type": "code",
   "execution_count": null,
   "id": "f37913a9-f115-4a54-a356-f0a068dc8bf7",
   "metadata": {},
   "outputs": [],
   "source": [
    "import pandas as pd\n",
    "import psycopg2\n",
    "import random\n",
    "import numpy as np\n",
    "from datetime import datetime, timedelta\n",
    "import mysql.connector"
   ]
  },
  {
   "cell_type": "code",
   "execution_count": null,
   "id": "79055638-6710-4737-8a6c-b4008dec9bb7",
   "metadata": {},
   "outputs": [],
   "source": [
    "systemic_treatment_IDEA4RC = pd.read_csv(\"./IDEA4RC-data/systemicTreatmentIDEA4RC.csv\")\n",
    "systemic_treatment_IDEA4RC.head(5)"
   ]
  },
  {
   "cell_type": "code",
   "execution_count": null,
   "id": "811fff0f-2557-45f5-a036-5a124c4e7e3a",
   "metadata": {},
   "outputs": [],
   "source": [
    "# Conexión a la base de datos OMOP CDM\n",
    "conn = psycopg2.connect(\n",
    "    dbname=\"omopdb\",\n",
    "    user=\"postgres\",\n",
    "    password=\"mysecretpassword\",\n",
    "    host=\"localhost\",\n",
    "    port=\"5432\"\n",
    ")\n",
    "\n",
    "# Comando para hacer el mapeo (insercción de datos del IDEA4RC.csv a OMOP)\n",
    "cur = conn.cursor()\n",
    "config = {\n",
    "    'user': 'user', \n",
    "    'password': 'password',\n",
    "    'host': '127.0.0.1',\n",
    "    'database': 'idea4rc_dm',\n",
    "    'raise_on_warnings': True\n",
    "}\n",
    "\n",
    "conn2 = mysql.connector.connect(**config)\n",
    "curIDEA = conn2.cursor()"
   ]
  },
  {
   "cell_type": "markdown",
   "id": "cce29467-93ec-4114-8c4d-3fbb941bdb48",
   "metadata": {},
   "source": [
    "### Systemic Treatment to Episode"
   ]
  },
  {
   "cell_type": "markdown",
   "id": "77e71695-4bef-4692-ae7f-2ee14495e5fc",
   "metadata": {},
   "source": [
    "Since it is not clear what to do with episde, we will try to create a new one, and if exists we will simply change the data\n",
    "\n",
    "episode_type_concept_id??? I am using a value that is not correct."
   ]
  },
  {
   "cell_type": "code",
   "execution_count": 1,
   "id": "9168498d-632e-45cd-8b36-98226344fd09",
   "metadata": {},
   "outputs": [
    {
     "ename": "SyntaxError",
     "evalue": "incomplete input (452453103.py, line 12)",
     "output_type": "error",
     "traceback": [
      "\u001b[0;36m  Cell \u001b[0;32mIn[1], line 12\u001b[0;36m\u001b[0m\n\u001b[0;31m    queryPerson=\"\"\"\u001b[0m\n\u001b[0m                ^\u001b[0m\n\u001b[0;31mSyntaxError\u001b[0m\u001b[0;31m:\u001b[0m incomplete input\n"
     ]
    }
   ],
   "source": [
    "df_tables=systemic_treatment_IDEA4RC\n",
    "sql = \"\"\"\n",
    "INSERT INTO EPISODE (episode_id, person_id, episode_start_date, episode_end_date, episode_concept_id,episode_type_concept_id)\n",
    "VALUES (%s, %s, %s, %s, %s,%s)\n",
    "ON DUPLICATE KEY UPDATE\n",
    "    episode_start_date = VALUES(episode_start_date),\n",
    "    episode_end_date = VALUES(episode_end_date),\n",
    "    episode_concept_id = VALUES(episode_concept_id),\n",
    "    episode_type_concept_id=VALUES(episode_type_concept_id);\n",
    "\"\"\"\n",
    "\n",
    "queryPerson=\"\"\"\n",
    "    SELECT e.patient_id FROM cancer_episode e\n",
    "    INNER JOIN episode_event v ON e.id=v.cancer_episode\n",
    "    INNER JOIN systemic_treatment st ON st.episode_event=v.id\n",
    "    WHERE st.id=%s\n",
    "\"\"\"    \n",
    "\n",
    "\n",
    "    \n",
    "for idx, row in df_tables.iterrows():\n",
    "    curIDEA.execute(query, (row['id']))\n",
    "    res=curIDEA.fetchone()\n",
    "    person_id=res\n",
    "    cur.execute(sql,(row['episode_event'], person_id, row['startdate'], row['enddate'],row['treatmentResponse'],row['treatmentResponse']))\n",
    "    conn.commit()\n"
   ]
  },
  {
   "cell_type": "markdown",
   "id": "bc6825ff-f4a3-4c6f-a883-3cea722a465d",
   "metadata": {},
   "source": [
    "### Systemic Treatment to Procedure Ocurrence"
   ]
  },
  {
   "cell_type": "code",
   "execution_count": null,
   "id": "a61e989a-5d24-43d7-a312-504767c8f5e0",
   "metadata": {},
   "outputs": [],
   "source": [
    "df_tables=systemic_treatment_IDEA4RC\n",
    "queryEVPO=\"\"\"\n",
    "    INSERT INTO omopcdm.episode_event (episode_id,event_id,episode_event_field_concept_id)\n",
    "    VALUES (%s, %s, %s)\n",
    "\"\"\"\n",
    "\n",
    "sqlProcedure=\"\"\"\n",
    "    INSERT INTO omopcdm.procedure_ocurrence (procedure_occurrence_id,person_id,procedure_concept_id,procedure_date,procedure_end_date,procedure_type_concept_id)\n",
    "    VALUES (%s, %s, %s,%s,%s)\n",
    "\"\"\"\n",
    "query= \"\"\"\n",
    "    SELECT c.patient \n",
    "    FROM cancer_episode c\n",
    "    WHERE EXISTS (\n",
    "        SELECT 1 \n",
    "        FROM EpisodeEvent e\n",
    "        WHERE e.cancerEpisode = c.id\n",
    "        AND e.id = %s\n",
    "    )\n",
    "    LIMIT 1\n",
    "\n",
    "\"\"\"\n",
    "columnsPO = [\n",
    "    \"Type of systemic treatment\",\n",
    "    \"Intent\",\n",
    "    \"Setting\",\n",
    "    \"Chemotherapy info\"\n",
    "]\n",
    "\n",
    "def toTableEpisodeEventProcedureOcurrence(idEpisode , idProcedureOcurrence):\n",
    "    cur.execute(queryEVPO,(idEpisode,idProcedureOcurrence,1147082)) #1147082 or 1147810, not clear\n",
    "    conn.commit()\n",
    "\n",
    "for idx, row in df_tables.iterrows():\n",
    "    curIDEA.execute(query, (row['Episode Event Reference']))\n",
    "    res=curIDEA.fetchone()\n",
    "    person_id=res\n",
    "    procedure_date=row['Start date regimen changed']\n",
    "    procedre_end_date=row['End date regimen changed']\n",
    "    procedure_type_concept_id=0 #Still dont know what to do with this one\n",
    "    for column in columnsPO:\n",
    "        procedure_concept_id=row[column]\n",
    "        newId = datetime.now().strftime('%Y%m%d%H%M%S') + str(uuid4())\n",
    "        toTableEpisodeEventProcedureOcurrence(row['Episode Event reference'],newId)\n",
    "        cur.execute(sqlProcedure,(newId, person_id, procedure_concept_id,procedure_date,procedure_end_date,procedure_type_concept_id))\n",
    "        conn.commit()"
   ]
  },
  {
   "cell_type": "markdown",
   "id": "023b6164-5a42-41a1-8e77-6710219c9ea4",
   "metadata": {},
   "source": [
    "### Systemic Treatment to Measurement"
   ]
  },
  {
   "cell_type": "markdown",
   "id": "65f7f88e-76dc-4411-ae80-5055847cb54f",
   "metadata": {},
   "source": [
    "Measurement concept id???\n",
    "\n",
    "meas_event_field_concept_id???"
   ]
  },
  {
   "cell_type": "code",
   "execution_count": 1,
   "id": "70b8feff-dbf3-4141-82d5-f45fb8e84c5e",
   "metadata": {},
   "outputs": [
    {
     "ename": "SyntaxError",
     "evalue": "invalid syntax (2571587072.py, line 16)",
     "output_type": "error",
     "traceback": [
      "\u001b[0;36m  Cell \u001b[0;32mIn[1], line 16\u001b[0;36m\u001b[0m\n\u001b[0;31m    conn.commit()'Surgical specimen Mitotic count'\u001b[0m\n\u001b[0m                 ^\u001b[0m\n\u001b[0;31mSyntaxError\u001b[0m\u001b[0;31m:\u001b[0m invalid syntax\n"
     ]
    }
   ],
   "source": [
    "sqlMeasuement = \"\"\"\n",
    "    INSERT INTO omopcdm.measurement (person_id, measurement_concept_id, measurement_date, measurement_type_concept_id, value_as_number,measurement_event_id,meas_event_field_concept_id)\n",
    "    VALUES (%s, %s, %s,%s,%s,%s,%s)\n",
    "    \"\"\"\n",
    "measurement_type_concept_id=38000280\n",
    "measurement_concept_id=0\n",
    "for idx, row in df_tables.iterrows():\n",
    "    curIDEA.execute(query, (row['Episode Event Reference']))\n",
    "    res=curIDEA.fetchone()\n",
    "    person_id=res\n",
    "    date=row['Start date regimen changed']\n",
    "    value_as_number=row['Number of cycles/ administrations']\n",
    "    measurement_value=row['Number of cycles/ administrations']   #??? the same as value as number\n",
    "    measurement_event_id=row['Episode Event reference']\n",
    "    cur.execute(sqlMeasuement,(person_id, measurement_concept_id, date, measurement_type_concept_id,value_as_number,measurement_event_id,meas_event_field_concept_id))\n",
    "    conn.commit()'Surgical specimen Mitotic count'"
   ]
  },
  {
   "cell_type": "code",
   "execution_count": null,
   "id": "f5b663d3-b517-47df-9199-5ba30d4779cd",
   "metadata": {},
   "outputs": [],
   "source": []
  }
 ],
 "metadata": {
  "kernelspec": {
   "display_name": "Python 3 (ipykernel)",
   "language": "python",
   "name": "python3"
  },
  "language_info": {
   "codemirror_mode": {
    "name": "ipython",
    "version": 3
   },
   "file_extension": ".py",
   "mimetype": "text/x-python",
   "name": "python",
   "nbconvert_exporter": "python",
   "pygments_lexer": "ipython3",
   "version": "3.10.12"
  }
 },
 "nbformat": 4,
 "nbformat_minor": 5
}
