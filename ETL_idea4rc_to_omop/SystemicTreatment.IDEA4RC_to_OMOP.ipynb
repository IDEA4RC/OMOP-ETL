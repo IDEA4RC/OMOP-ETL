{
 "cells": [
  {
   "cell_type": "markdown",
   "id": "8019fd1b-9a57-43d5-a98d-d47f46f0dbb1",
   "metadata": {},
   "source": [
    "# SystemicTreatment to OMOP"
   ]
  },
  {
   "cell_type": "markdown",
   "id": "fcf27764",
   "metadata": {},
   "source": [
    "![First image](images/SystemicTreatmentIDEA1.png)\n",
    "\n",
    "In omop we have 2 kind of treatments: the individual treatment that are standard omop treatment models that map on drug exposure and procedure occurrence.\n",
    "\n",
    "Systemic Treatment in IDEA4RC includes the information about regimen and cycles. This information in omop is a composite treatment, that is modelled in the episode table as a nested episode\n",
    "![Second image](images/SystemicTreatmentIDEA2.png)\n",
    "\n",
    "\n",
    "### Doubts\n",
    "\n",
    "How do we map regimens and cycles?\n",
    "\n",
    "In Idea4rc DM systemic treatment includes info about regimens and cycles and DrugsforTreatment the information about the drugs that are the composite treatment model of omop.\n",
    "\n",
    "To map in omop, we can assume that:\n",
    "We have the interval of the regimen in systematic treatment so we divide that interval by the number of cycles, and we get the remaining dates needed to create the nested treatment episodes that represent the cycles. If we have the drug associated with the systematic treatment, as default action we create a drug exposure for each episode cycle and set the drug exposure date in the middle of each cycle. Drug exposure and episodes are linked through the episode event omop table\n",
    "\n",
    "Systemic treatment is mainly mapped to episode, measurement, procedure occurrence and visit occurrence (as it can be seen in drugs for treatments, since this visit occurrence is needed), following: https://docs.google.com/spreadsheets/d/1Vw1Dr2K4oG__cDQTutGaJhZvGUvQTLwc4qWreP6qMSs/edit?gid=252770424#gid=252770424\n",
    "\n",
    "We need visit concept id and visit type concept id\n",
    "\n",
    "For each systemic treatment, to be able to have in omop the information of the cycles, we will get the total duration of the treatment/number of cycles as the duration of each cycle."
   ]
  },
  {
   "cell_type": "code",
   "execution_count": null,
   "id": "f37913a9-f115-4a54-a356-f0a068dc8bf7",
   "metadata": {},
   "outputs": [],
   "source": [
    "import pandas as pd\n",
    "import psycopg2\n",
    "import random\n",
    "import numpy as np \n",
    "from datetime import datetime, timedelta\n",
    "import mysql.connector\n",
    "from uuid import uuid4\n"
   ]
  },
  {
   "cell_type": "code",
   "execution_count": null,
   "id": "79055638-6710-4737-8a6c-b4008dec9bb7",
   "metadata": {},
   "outputs": [],
   "source": [
    "systemic_treatment_IDEA4RC = pd.read_csv(\"./IDEA4RC-data/systemicTreatmentIDEA4RC.csv\")\n",
    "systemic_treatment_IDEA4RC.head(5)"
   ]
  },
  {
   "cell_type": "code",
   "execution_count": null,
   "id": "811fff0f-2557-45f5-a036-5a124c4e7e3a",
   "metadata": {},
   "outputs": [],
   "source": [
    "conn = psycopg2.connect(\n",
    "    dbname=\"omopdb\",\n",
    "    user=\"postgres\",\n",
    "    password=\"mysecretpassword\",\n",
    "    host=\"localhost\",\n",
    "    port=\"5432\"\n",
    ")\n",
    "\n",
    "cur = conn.cursor()\n",
    "config = {\n",
    "    'user': 'user', \n",
    "    'password': 'password',\n",
    "    'host': '127.0.0.1',\n",
    "    'database': 'idea4rc_dm',\n",
    "    'raise_on_warnings': True\n",
    "}\n",
    "\n",
    "conn2 = mysql.connector.connect(**config)\n",
    "curIDEA = conn2.cursor()"
   ]
  },
  {
   "cell_type": "markdown",
   "id": "cce29467-93ec-4114-8c4d-3fbb941bdb48",
   "metadata": {},
   "source": [
    "### Systemic Treatment to Episode"
   ]
  },
  {
   "cell_type": "markdown",
   "id": "77e71695-4bef-4692-ae7f-2ee14495e5fc",
   "metadata": {},
   "source": [
    "Since it is not clear what to do with episde, we will try to create a new one, and if exists we will simply change the data\n",
    "\n",
    "episode_type_concept_id??? I am using a value that is not correct."
   ]
  },
  {
   "cell_type": "code",
   "execution_count": null,
   "id": "9168498d-632e-45cd-8b36-98226344fd09",
   "metadata": {},
   "outputs": [],
   "source": [
    "df_tables=systemic_treatment_IDEA4RC\n",
    "df_tables['idThisEvent'] = None\n",
    "sql = \"\"\"\n",
    "INSERT INTO EPISODE (episode_id,person_id, episode_start_date, episode_end_date, episode_concept_id,episode_type_concept_id, parent_episode_id)\n",
    "VALUES (%s,%s,%s,%s,%s,%s,%s)\n",
    "\"\"\"\n",
    "\n",
    "queryPerson=\"\"\"\n",
    "    SELECT e.patient_id FROM cancer_episode e\n",
    "    INNER JOIN episode_event v ON e.id=v.cancer_episode\n",
    "    INNER JOIN systemic_treatment st ON st.episode_event=v.id\n",
    "    WHERE st.id=%s\n",
    "\"\"\"    \n",
    "\n",
    "queryDate=\"\"\"\n",
    "    SELECT episode_start_date\n",
    "    FROM cancer_episode\n",
    "    WHERE id = %s\n",
    "\"\"\"\n",
    "sqlGetEpisode = \"\"\"\n",
    "    SELECT c.id \n",
    "    FROM episode c\n",
    "    WHERE c.person_id = %s\n",
    "    AND c.episode_start_date = %s\n",
    "    LIMIT 1\n",
    "\"\"\"\n",
    "\n",
    "queryPerson= \"\"\"\n",
    "    SELECT c.patient \n",
    "    FROM cancer_episode c\n",
    "    WHERE EXISTS (\n",
    "        SELECT 1 \n",
    "        FROM EpisodeEvent e\n",
    "        WHERE e.cancerEpisode = c.id\n",
    "        AND e.id = %s\n",
    "    )\n",
    "    LIMIT 1\n",
    "\"\"\"\n",
    "\n",
    "\n",
    "    \n",
    "for idx, row in df_tables.iterrows():\n",
    "    curIDEA.execute(queryPerson, (row['id']))\n",
    "    res=curIDEA.fetchone()\n",
    "    person_id=res[0]\n",
    "    curIDEA.execute(queryDate, (row['Episode Event Reference']))\n",
    "    res=curIDEA.fetchone()\n",
    "    dateAux=res\n",
    "    cur.execute(sqlGetEpisode, (person_id,dateAux))\n",
    "    parent_episode_id=cur.fetchone()\n",
    "    episode_start_date=res\n",
    "    newId=datetime.now().strftime('%Y%m%d%H%M%S')+ str(uuid4())\n",
    "    row['idThisEvent']=newId\n",
    "    cur.execute(sql,(newId,person_id, row['startdate'], row['enddate'],row['treatmentResponse'],row['treatmentResponse'],parent_episode_id))\n",
    "    conn.commit()\n"
   ]
  },
  {
   "cell_type": "markdown",
   "id": "bc6825ff-f4a3-4c6f-a883-3cea722a465d",
   "metadata": {},
   "source": [
    "### Systemic Treatment to Procedure Ocurrence"
   ]
  },
  {
   "cell_type": "code",
   "execution_count": null,
   "id": "a61e989a-5d24-43d7-a312-504767c8f5e0",
   "metadata": {},
   "outputs": [],
   "source": [
    "\n",
    "df_tables=systemic_treatment_IDEA4RC\n",
    "queryEVPO=\"\"\"\n",
    "    INSERT INTO omopcdm.episode_event (episode_id,event_id,episode_event_field_concept_id)\n",
    "    VALUES (%s, %s, %s)\n",
    "\"\"\"\n",
    "\n",
    "sqlProcedure=\"\"\"\n",
    "    INSERT INTO omopcdm.procedure_ocurrence (procedure_occurrence_id,person_id,procedure_concept_id,procedure_date,procedure_end_date,procedure_type_concept_id)\n",
    "    VALUES (%s, %s, %s,%s,%s)\n",
    "\"\"\"\n",
    "query= \"\"\"\n",
    "    SELECT c.patient \n",
    "    FROM cancer_episode c\n",
    "    WHERE EXISTS (\n",
    "        SELECT 1 \n",
    "        FROM EpisodeEvent e\n",
    "        WHERE e.cancerEpisode = c.id\n",
    "        AND e.id = %s\n",
    "    )\n",
    "    LIMIT 1\n",
    "\n",
    "\"\"\"\n",
    "columnsPO = [\n",
    "    \"Type of systemic treatment\",\n",
    "    \"Intent\",\n",
    "    \"Setting\",\n",
    "    \"Chemotherapy info\"\n",
    "]\n",
    "def toTableEpisodeEventProcedureOcurrence(idEpisode , idProcedureOcurrence):\n",
    "    cur.execute(queryEVPO,(idEpisode,idProcedureOcurrence,1147082)) #1147082 or 1147810, not clear\n",
    "    conn.commit()\n",
    "\n",
    "for idx, row in df_tables.iterrows():\n",
    "    curIDEA.execute(query, (row['Episode Event Reference']))\n",
    "    res=curIDEA.fetchone()\n",
    "    person_id=res\n",
    "    procedure_date=row['Start date regimen changed']\n",
    "    procedre_end_date=row['End date regimen changed']\n",
    "    procedure_type_concept_id=0 #Still dont know what to do with this one\n",
    "    for column in columnsPO:\n",
    "        procedure_concept_id=row[column]\n",
    "        newId = datetime.now().strftime('%Y%m%d%H%M%S') + str(uuid4())\n",
    "        toTableEpisodeEventProcedureOcurrence(row['idThisEvent'],newId)\n",
    "        cur.execute(sqlProcedure,(newId, person_id, procedure_concept_id,procedure_date,procedre_end_date,procedure_type_concept_id))\n",
    "        conn.commit()"
   ]
  },
  {
   "cell_type": "markdown",
   "id": "023b6164-5a42-41a1-8e77-6710219c9ea4",
   "metadata": {},
   "source": [
    "### Systemic Treatment to Measurement"
   ]
  },
  {
   "cell_type": "markdown",
   "id": "65f7f88e-76dc-4411-ae80-5055847cb54f",
   "metadata": {},
   "source": [
    "Measurement concept id???\n",
    "\n",
    "meas_event_field_concept_id???"
   ]
  },
  {
   "cell_type": "code",
   "execution_count": null,
   "id": "70b8feff-dbf3-4141-82d5-f45fb8e84c5e",
   "metadata": {},
   "outputs": [],
   "source": [
    "sqlMeasuement = \"\"\"\n",
    "    INSERT INTO omopcdm.measurement (person_id, measurement_concept_id, measurement_date, measurement_type_concept_id, value_as_number,measurement_event_id,meas_event_field_concept_id)\n",
    "    VALUES (%s, %s, %s,%s,%s,%s,%s)\n",
    "    \"\"\"\n",
    "measurement_type_concept_id=38000280\n",
    "measurement_concept_id=0\n",
    "for idx, row in df_tables.iterrows():\n",
    "    curIDEA.execute(query, (row['Episode Event Reference']))\n",
    "    res=curIDEA.fetchone()\n",
    "    person_id=res\n",
    "    date=row['Start date regimen changed']\n",
    "    value_as_number=row['Number of cycles/ administrations']\n",
    "    measurement_value=row['Number of cycles/ administrations']   #??? the same as value as number\n",
    "    measurement_event_id=row['idThisEvent']\n",
    "    cur.execute(sqlMeasuement,(person_id, measurement_concept_id, date, measurement_type_concept_id,value_as_number,measurement_event_id,meas_event_field_concept_id))\n",
    "    conn.commit()"
   ]
  },
  {
   "cell_type": "markdown",
   "id": "72dc2881",
   "metadata": {},
   "source": [
    "### Systemic Treatment to Visit Occurrence\n",
    "\n",
    "We need visit concept id and visit type concept id\n"
   ]
  },
  {
   "cell_type": "code",
   "execution_count": null,
   "id": "f5b663d3-b517-47df-9199-5ba30d4779cd",
   "metadata": {},
   "outputs": [],
   "source": [
    "\n",
    "\n",
    "insertVisitOccurrence=\"\"\"\n",
    "    INSERT INTO omopcdm.visit_occurrence (visit_occurrence_id, person_id, visit_concept_id, visit_start_date, visit_end_date, visit_type_concept_id)\n",
    "    VALUES (%s, %s, %s, %s, %s, %s)\n",
    "\"\"\"\n",
    "\n",
    "def toTableEpisodeEventVisit(idEpisode , idVisitOccurrence):\n",
    "    cur.execute(queryEVPO,(idEpisode,idVisitOccurrence,1147070))\n",
    "    conn.commit()\n",
    "\n",
    "for idx, row in df_tables.iterrows():\n",
    "    cur.execute(queryPerson, (row['episodeEvent']))\n",
    "    res=cur.fetchone()\n",
    "    person_id=res\n",
    "    visit_concept_id=0 #Still dont know what to do with this one\n",
    "    visit_start_date=row['startDate'] #Should i be using this one or not?\n",
    "    visit_end_date=row['endDate']\n",
    "    visit_type_concept_id=0 #Still dont know what to do with this one\n",
    "    newId = datetime.now().strftime('%Y%m%d%H%M%S') + str(uuid4())\n",
    "    toTableEpisodeEventVisit(row['idThisEvent'],newId)\n",
    "    cur.execute(insertVisitOccurrence,(newId, person_id, visit_concept_id,visit_start_date,visit_end_date,visit_type_concept_id))\n",
    "    conn.commit()\n",
    "\n"
   ]
  },
  {
   "cell_type": "markdown",
   "id": "d7b19f16",
   "metadata": {},
   "source": [
    "# Other IDEA4RC treatment tables\n",
    "\n",
    "https://docs.google.com/spreadsheets/d/1Vw1Dr2K4oG__cDQTutGaJhZvGUvQTLwc4qWreP6qMSs/edit?gid=449874117#gid=449874117\n",
    "\n",
    "![First image](images/OtherTreatmentIDEA1.png)\n",
    "\n",
    "Other idea4rc treatment tables: surgery, radiotherapy, ect. (green highlighted tables in the DM) are mapped on drug exposure or procedure occurrence and linked with episodes through episode events (ask this)\n",
    "\n",
    "The two dates are included because the treatment regimen might start and end on different dates due to possible toxicity issues or other problems. Therefore, a second date was added for such cases.\n",
    "\n",
    "For the drugs, you query DrugsForTreatments using the ID of the treatment regimen.\n",
    "\n",
    "It's assumed that toxicity is the main reason for changes in the regimen, but it may also change for other reasons, though the exact conditions are not clear. Toxicity is the primary concern, but for clarification on how to model this situation in OMOP, Paolo will be consulted.\n",
    "\n",
    "We need Disease extent (for example for a query as \"time to metastasis\"): confined, invasive, metastatic, but we still do not know very clearly how to get this from IDEA4RC data. For sarcoma, it should be the stage for example. But for H&N this is not that clear.\n",
    "\n",
    "Maybe we could extend EpisodeEvent so it includes not only the temporal evolution but also all the episode events from omop https://athena.ohdsi.org/search-terms/terms?domain=Episode&page=1&pageSize=15&query= . Does this make sense?\n",
    "\n",
    "maybe for H&N we sould get it from STAGING??? This is staging:\n",
    "Stage I: Often refers to confined cancer, where it is small and localized to its site of origin, without spreading.\n",
    "Stage II-III: Typically indicate invasive cancer, where the tumor has grown into surrounding tissues or nearby lymph nodes.\n",
    "Stage IV: Refers to metastatic cancer, where the disease has spread to distant parts of the body."
   ]
  }
 ],
 "metadata": {
  "kernelspec": {
   "display_name": "Python 3 (ipykernel)",
   "language": "python",
   "name": "python3"
  },
  "language_info": {
   "codemirror_mode": {
    "name": "ipython",
    "version": 3
   },
   "file_extension": ".py",
   "mimetype": "text/x-python",
   "name": "python",
   "nbconvert_exporter": "python",
   "pygments_lexer": "ipython3",
   "version": "3.10.12"
  }
 },
 "nbformat": 4,
 "nbformat_minor": 5
}
