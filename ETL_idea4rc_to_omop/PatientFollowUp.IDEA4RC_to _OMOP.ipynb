{
 "cells": [
  {
   "cell_type": "markdown",
   "id": "4f7c0eeb",
   "metadata": {},
   "source": [
    "## PATIENT_FOLLOW_UP to OMOP "
   ]
  },
  {
   "cell_type": "code",
   "execution_count": 21,
   "id": "5a036a5c",
   "metadata": {},
   "outputs": [],
   "source": [
    "import mysql.connector\n",
    "import pandas as pd\n",
    "import psycopg2\n",
    "import random\n",
    "import numpy as np\n",
    "from datetime import datetime, timedelta\n",
    "\n",
    "def get_random_value(val):\n",
    "    if isinstance(val, tuple):\n",
    "        return np.random.choice(val)\n",
    "    return val"
   ]
  },
  {
   "cell_type": "markdown",
   "id": "7183285a",
   "metadata": {},
   "source": [
    "There are tables that map to values already entered previously. Check for potential issues with this and keep it in mind."
   ]
  },
  {
   "cell_type": "markdown",
   "id": "35b8bee8",
   "metadata": {},
   "source": [
    "#### Recommended Links\n",
    "\n",
    "The following link discusses the issue of a missing value in the `visit_start_date` column of OMOP. It is important not to use arbitrary \"default\" values; instead, the correct value must be specified. I assume this applies not only to this column but also to other date columns, such as the `episode_end_date` column in the OMOP `EPISODE` table that we also need to map:\n",
    "\n",
    "[https://forums.ohdsi.org/t/missing-visit-start-date/16470](https://forums.ohdsi.org/t/missing-visit-start-date/16470)"
   ]
  },
  {
   "cell_type": "code",
   "execution_count": 22,
   "id": "499905ee",
   "metadata": {},
   "outputs": [],
   "source": [
    "df_patients_FollowUp_IDEA4RC = pd.read_csv(\"./IDEA4RC-data/patientsFollowUpIDEA4RC.csv\")"
   ]
  },
  {
   "cell_type": "code",
   "execution_count": 23,
   "id": "2274f37d",
   "metadata": {},
   "outputs": [
    {
     "data": {
      "text/html": [
       "<div>\n",
       "<style scoped>\n",
       "    .dataframe tbody tr th:only-of-type {\n",
       "        vertical-align: middle;\n",
       "    }\n",
       "\n",
       "    .dataframe tbody tr th {\n",
       "        vertical-align: top;\n",
       "    }\n",
       "\n",
       "    .dataframe thead th {\n",
       "        text-align: right;\n",
       "    }\n",
       "</style>\n",
       "<table border=\"1\" class=\"dataframe\">\n",
       "  <thead>\n",
       "    <tr style=\"text-align: right;\">\n",
       "      <th></th>\n",
       "      <th>Patient</th>\n",
       "      <th>Status at last follow-up</th>\n",
       "      <th>Patient Follow Up date</th>\n",
       "      <th>New cancer diagnosis</th>\n",
       "      <th>Date of new cancer diagnosis</th>\n",
       "      <th>New cancer topography</th>\n",
       "      <th>Last Contact</th>\n",
       "    </tr>\n",
       "  </thead>\n",
       "  <tbody>\n",
       "    <tr>\n",
       "      <th>0</th>\n",
       "      <td>45</td>\n",
       "      <td>0</td>\n",
       "      <td>0</td>\n",
       "      <td>4188540</td>\n",
       "      <td>0</td>\n",
       "      <td>44498973</td>\n",
       "      <td>0</td>\n",
       "    </tr>\n",
       "    <tr>\n",
       "      <th>1</th>\n",
       "      <td>20</td>\n",
       "      <td>0</td>\n",
       "      <td>0</td>\n",
       "      <td>4188539</td>\n",
       "      <td>0</td>\n",
       "      <td>36534215</td>\n",
       "      <td>0</td>\n",
       "    </tr>\n",
       "    <tr>\n",
       "      <th>2</th>\n",
       "      <td>35</td>\n",
       "      <td>0</td>\n",
       "      <td>0</td>\n",
       "      <td>4188539</td>\n",
       "      <td>0</td>\n",
       "      <td>44498973</td>\n",
       "      <td>0</td>\n",
       "    </tr>\n",
       "  </tbody>\n",
       "</table>\n",
       "</div>"
      ],
      "text/plain": [
       "   Patient  Status at last follow-up  Patient Follow Up date  \\\n",
       "0       45                         0                       0   \n",
       "1       20                         0                       0   \n",
       "2       35                         0                       0   \n",
       "\n",
       "   New cancer diagnosis  Date of new cancer diagnosis  New cancer topography  \\\n",
       "0               4188540                             0               44498973   \n",
       "1               4188539                             0               36534215   \n",
       "2               4188539                             0               44498973   \n",
       "\n",
       "   Last Contact  \n",
       "0             0  \n",
       "1             0  \n",
       "2             0  "
      ]
     },
     "execution_count": 23,
     "metadata": {},
     "output_type": "execute_result"
    }
   ],
   "source": [
    "df_patients_FollowUp_IDEA4RC.head(3)"
   ]
  },
  {
   "cell_type": "markdown",
   "id": "073c8c7f",
   "metadata": {},
   "source": [
    "**Translations and Explanations:**\n",
    "\n",
    "- **\"Patient\"**: I assume these are the same \"ids\" from the \"Patient\" table. In OMOP, they will be the same values as `person_id`.\n",
    "\n",
    "- **\"Status at last follow-up\"**: Use 0 as a \"default\" since no values are specified for the vocabularies in the EXCEL.\n",
    "\n",
    "- **\"Patient Follow Up date\"**: Use 0 as a \"default\" because nothing is specified in IDEA4RC. Refer to the link provided for guidance on what value should be used in the `visit_start_date` column of the OMOP `VISIT` table.\n",
    "\n",
    "- **\"New cancer diagnosis\"**: This seems fine. Check if these vocabularies are present in the `Patient` table. If not, add them to OMOP in a similar manner as in the `PATIENT` table, with `person_id` and `observation_concept_id`.\n",
    "\n",
    "- **\"Date of new cancer diagnosis\"**: Use 0 by default since there is no value in IDEA4RC. In OMOP, this value is expected to come from the `Condition_Occurrence` table. Check where this value should come from.\n",
    "\n",
    "- **\"New cancer topography\"**: It has a numeric vocabulary reference, but it is not specified in which OMOP table to add this column.\n",
    "\n",
    "- **\"Last Contact\"**: Use 0 by default since there is no value in IDEA4RC. Add it as a date to the `EPISODE` table. Ensure that this value is not arbitrary, as explained for \"Patient Follow Up date\"."
   ]
  },
  {
   "cell_type": "code",
   "execution_count": 24,
   "id": "f0dfed6b",
   "metadata": {},
   "outputs": [],
   "source": [
    "conn = psycopg2.connect(\n",
    "    dbname=\"omopdb\",\n",
    "    user=\"postgres\",\n",
    "    password=\"mysecretpassword\",\n",
    "    host=\"localhost\",\n",
    "    port=\"5432\"\n",
    ")\n",
    "\n",
    "cur = conn.cursor()\n",
    "config = {\n",
    "    'user': 'user', \n",
    "    'password': 'password',\n",
    "    'host': '127.0.0.1',\n",
    "    'database': 'idea4rc_dm',\n",
    "    'raise_on_warnings': True\n",
    "}\n",
    "\n",
    "conn = mysql.connector.connect(**config)\n",
    "curIDEA = conn.cursor()"
   ]
  },
  {
   "cell_type": "markdown",
   "id": "3251c555",
   "metadata": {},
   "source": [
    "df_patients_follow_up.head(5)\n",
    "\n",
    "vocab_uploader-1  | CREATE TABLE IF NOT EXISTS omopcdm.VISIT_OCCURRENCE\n",
    "vocab_uploader-1  | (\n",
    "vocab_uploader-1  |     visit_occurrence_id           integer     NOT NULL,\n",
    "vocab_uploader-1  |     person_id                     integer     NOT NULL,\n",
    "vocab_uploader-1  |     visit_concept_id              integer     NOT NULL,\n",
    "vocab_uploader-1  |     visit_start_date              date        NOT NULL,\n",
    "vocab_uploader-1  |     visit_end_date                date        NOT NULL,\n",
    "vocab_uploader-1  |     visit_type_concept_id         Integer     NOT NULL,"
   ]
  },
  {
   "cell_type": "markdown",
   "id": "c33d43ca",
   "metadata": {},
   "source": [
    "### PatientFollowUp to VISIT_OCCURRENCE table"
   ]
  },
  {
   "cell_type": "markdown",
   "id": "32e777c9-f76d-4476-a0b9-ae08bb47b923",
   "metadata": {},
   "source": [
    "What to do with visit_concept_id and visit_type_concept_id"
   ]
  },
  {
   "cell_type": "code",
   "execution_count": 28,
   "id": "b26fef37",
   "metadata": {},
   "outputs": [],
   "source": [
    "sql=\"\"\"\n",
    "    INSERT INTO omopcdm.visit_occurrence (person_id, visit_concept_id, visit_start_date, visit_end_date,visit_type_concept_id)\n",
    "    VALUES (%s, %s, %s, %s, %s, %s)\n",
    "\"\"\"\n",
    "\n",
    "df_tables=df_patients_FollowUp_IDEA4RC\n",
    "for idx, row in df_tables.iterrows():\n",
    "    person_id=row['patient']\n",
    "    visit_concept_id=0\n",
    "    visit_start_date=row['patientFollowUpDate']\n",
    "    visit_end_date=row['patientFollowUpDate']\n",
    "    visit_type_concept_id=0\n",
    "    cur.execute(sql, (person_id, visit_concept_id, visit_start_date, visit_end_date,visit_type_concept_id))\n",
    "    conn.commit()"
   ]
  },
  {
   "cell_type": "code",
   "execution_count": null,
   "id": "fcb43dbb",
   "metadata": {},
   "outputs": [],
   "source": [
    "vocab_uploader-1  | CREATE TABLE IF NOT EXISTS omopcdm.EPISODE\n",
    "vocab_uploader-1  | (\n",
    "vocab_uploader-1  |     episode_id                bigint      NOT NULL,\n",
    "vocab_uploader-1  |     person_id                 bigint      NOT NULL,\n",
    "vocab_uploader-1  |     episode_concept_id        integer     NOT NULL,\n",
    "vocab_uploader-1  |     episode_start_date        date        NOT NULL,\n",
    "vocab_uploader-1  |     episode_object_concept_id integer     NOT NULL,\n",
    "vocab_uploader-1  |     episode_type_concept_id   integer     NOT NULL,\n",
    "vocab_uploader-1  | );"
   ]
  },
  {
   "cell_type": "markdown",
   "id": "0de1cf30",
   "metadata": {},
   "source": [
    "### PatientFollowUp to EPISODE table"
   ]
  },
  {
   "cell_type": "markdown",
   "id": "7d1f8efa-8fbf-4d9d-a708-41ebb03cf417",
   "metadata": {},
   "source": [
    "episode_object_concept_id???\n",
    "I believe maybe 32528, 32677, 32529 as episode_concept_id\n",
    "episode_type_concept_id???"
   ]
  },
  {
   "cell_type": "code",
   "execution_count": null,
   "id": "efb2782f",
   "metadata": {},
   "outputs": [],
   "source": [
    "sql = \"\"\"\n",
    "    INSERT INTO omopcdm.episode (person_id, episode_concept_id, episode_start_date,episode_end_date,episode_object_concept_id)\n",
    "    VALUES (%s, %s, %s, %s,%s)\n",
    "\"\"\"\n",
    "#Episode concept id=vocabulary from event type\n",
    "episode_object_concept_id=0\n",
    "df_tables=df_patients_FollowUp_IDEA4RC\n",
    "\n",
    "for idx, row in df_tables.iterrows():\n",
    "    person_id = row['patient']\n",
    "    episode_concept_id=0\n",
    "    episode_start_date=row['patientFollowUpDate']\n",
    "    episode_end_date=row['lastContact']\n",
    "    episode_object_concept_id=0\n",
    "    cur.execute(sql, (person_id, episode_concept_id, episode_start_date,episode_end_date,episode_object_concept_id))\n",
    "    conn.commit()\n",
    "cur.close()\n",
    "conn.close()"
   ]
  },
  {
   "cell_type": "markdown",
   "id": "5a015dd1",
   "metadata": {},
   "source": [
    "### PatientFollowUp to OBSERVATION table"
   ]
  },
  {
   "cell_type": "markdown",
   "id": "0ef9a3ea-4b25-4ff8-99f3-fda86c085481",
   "metadata": {},
   "source": [
    "I do not believe this is okay because it does not make sense, and from OMOP to IDEA we will have to know when an observation=New cancer topography but how?"
   ]
  },
  {
   "cell_type": "code",
   "execution_count": null,
   "id": "5edcfe30-a661-45aa-ba48-eeb41d27d718",
   "metadata": {},
   "outputs": [],
   "source": [
    "sql=\"\"\"\n",
    "    INSERT INTO omopcdm.observation (person_id, observation_concept_id, observation_date, observation_type_concept_id)\n",
    "    VALUES (%s, %s, %s,%s,%s,%s,%s)\n",
    "    \"\"\"\n",
    "\n",
    "observation_type_concept_id=37117814\n",
    "\n",
    "for idx, row in df_tables.iterrows():\n",
    "    person_id = row['patient']\n",
    "    observation_date=row['dateOfNewCancerDiagnosis']\n",
    "    observation_concept_id=row['newCancerDiagnosis']\n",
    "    cur.execute(sql,(person_id, observation_concept_id, observation_date, observation_type_concept_id))\n",
    "    conn.commit()"
   ]
  },
  {
   "cell_type": "markdown",
   "id": "fe8fb493-e22b-42b9-9f23-d67dd174efd3",
   "metadata": {},
   "source": [
    "### New cancer topography???????"
   ]
  },
  {
   "cell_type": "markdown",
   "id": "4637bce3-aafc-4af9-9b3e-9dcf51e67b12",
   "metadata": {},
   "source": [
    "### Patient Follow Up to Death"
   ]
  },
  {
   "cell_type": "markdown",
   "id": "5fbf1ed7-c7de-40cd-8494-549cd16c38c3",
   "metadata": {},
   "source": [
    "If we know the cause of death, what code do we use?"
   ]
  },
  {
   "cell_type": "code",
   "execution_count": 1,
   "id": "d425d5a3-5254-4db2-bdcd-cd0d1074bd74",
   "metadata": {},
   "outputs": [
    {
     "ename": "SyntaxError",
     "evalue": "incomplete input (3527740831.py, line 1)",
     "output_type": "error",
     "traceback": [
      "\u001b[0;36m  Cell \u001b[0;32mIn[1], line 1\u001b[0;36m\u001b[0m\n\u001b[0;31m    query=\"\"\"\u001b[0m\n\u001b[0m          ^\u001b[0m\n\u001b[0;31mSyntaxError\u001b[0m\u001b[0;31m:\u001b[0m incomplete input\n"
     ]
    },
    {
     "name": "stdout",
     "output_type": "stream",
     "text": [
      "The history saving thread hit an unexpected error (OperationalError('attempt to write a readonly database')).History will not be written to the database.\n"
     ]
    }
   ],
   "source": [
    "query = \"\"\"\n",
    "    SELECT p.date \n",
    "    FROM patient_follow_up p\n",
    "    WHERE p.patient = %s \n",
    "    AND p.date = (\n",
    "        SELECT MAX(a.date) \n",
    "        FROM patient_follow_up a\n",
    "        WHERE a.patient = %s\n",
    "    );\n",
    "\"\"\"\n",
    "sql=\"\"\"\n",
    "    INSERT INTO omopcdm.death (person_id, death_date)\n",
    "    VALUES (%s, %s)\n",
    "    \"\"\"\n",
    "sqlKD=\"\"\"\n",
    "    INSERT INTO omopcdm.death (person_id, death_date, cause_concept_id)\n",
    "    VALUES (%s, %s, %s)\n",
    "    \"\"\"\n",
    "\n",
    "for idx, row in df_tables.iterrows():\n",
    "    status=row['statusAtLastFollowUp']\n",
    "    person_id = row['patient']\n",
    "    curIDEA.execute(query, (row['patient']))\n",
    "    res=curIDEA.fetchone()\n",
    "    death_date=res\n",
    "    if status == \"Dead of Unknown Cause (DUC)\" or status == \"Dead of Other Cause (DOC)\":\n",
    "        cur.execute(sql,(person_id, death_date))\n",
    "        conn.commit()\n",
    "    elif status == \"Dead of Disease (DOD)\":   \n",
    "        cause_concept_id=0 #WHAT SHOULD THE CODE BE?\n",
    "        cur.execute(sql,(person_id, death_date,cause_concept_id))\n",
    "        conn.commit()\n",
    "    "
   ]
  },
  {
   "cell_type": "code",
   "execution_count": null,
   "id": "4d5d2855-0053-4773-8ed0-eb223df86c2b",
   "metadata": {},
   "outputs": [],
   "source": []
  }
 ],
 "metadata": {
  "kernelspec": {
   "display_name": "Python 3 (ipykernel)",
   "language": "python",
   "name": "python3"
  },
  "language_info": {
   "codemirror_mode": {
    "name": "ipython",
    "version": 3
   },
   "file_extension": ".py",
   "mimetype": "text/x-python",
   "name": "python",
   "nbconvert_exporter": "python",
   "pygments_lexer": "ipython3",
   "version": "3.10.12"
  }
 },
 "nbformat": 4,
 "nbformat_minor": 5
}
