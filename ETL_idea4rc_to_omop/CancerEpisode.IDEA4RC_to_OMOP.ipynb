{
 "cells": [
  {
   "cell_type": "markdown",
   "id": "ffb42d20-7a4d-4fe8-9778-9da7a4d606c4",
   "metadata": {},
   "source": [
    "# Cancer Episode to OMOP"
   ]
  },
  {
   "cell_type": "markdown",
   "id": "07789105-23f1-4833-9e04-801c18dca2a3",
   "metadata": {},
   "source": []
  },
  {
   "cell_type": "code",
   "execution_count": null,
   "id": "f7dd277f-f659-483c-b885-7178b887addb",
   "metadata": {},
   "outputs": [],
   "source": [
    "import pandas as pd\n",
    "import psycopg2\n",
    "import random\n",
    "import numpy as np\n",
    "from datetime import datetime, timedelta\n",
    "\n",
    "def get_random_value(val):\n",
    "    if isinstance(val, tuple):\n",
    "        return np.random.choice(val)\n",
    "    return val"
   ]
  },
  {
   "cell_type": "markdown",
   "id": "8417679c-91ed-43c3-8c3c-1c6c9ffd930c",
   "metadata": {},
   "source": [
    "Extract Cancer Episode data"
   ]
  },
  {
   "cell_type": "code",
   "execution_count": null,
   "id": "ce0e87ea-0597-4abf-9a5d-a007b49be0e4",
   "metadata": {},
   "outputs": [],
   "source": [
    "df_cancer_Episode_IDEA4RC = pd.read_csv(\"./IDEA4RC-data/cancerEpisodeIDEA4RC.csv\")\n",
    "df_cancer_Episode_IDEA4RC.head(5)"
   ]
  },
  {
   "cell_type": "markdown",
   "id": "014cdef3-7c54-4528-bb40-e4c4509592be",
   "metadata": {},
   "source": [
    "It is still needed to check why it is not working, it must be something with docker or the connection"
   ]
  },
  {
   "cell_type": "code",
   "execution_count": null,
   "id": "c9869465-9246-4b4d-afb7-69fc1910a457",
   "metadata": {},
   "outputs": [],
   "source": [
    "# Conexión a la base de datos OMOP CDM\n",
    "conn = psycopg2.connect(\n",
    "    dbname=\"omopdb\",\n",
    "    user=\"postgres\",\n",
    "    password=\"mysecretpassword\",\n",
    "    host=\"localhost\",\n",
    "    port=\"5432\"\n",
    ")\n",
    "\n",
    "# Comando para hacer el mapeo (insercción de datos del IDEA4RC.csv a OMOP)\n",
    "cur = conn.cursor()"
   ]
  },
  {
   "cell_type": "markdown",
   "id": "b0d9178c-b0fa-4293-87c8-30f95b072242",
   "metadata": {},
   "source": [
    "### Cancer Episode to Procedure Ocurrance"
   ]
  },
  {
   "cell_type": "markdown",
   "id": "83a85041-c8a5-46ab-a61b-8673e60f40ae",
   "metadata": {},
   "source": [
    "Required I still dont have:\n",
    "\n",
    "procedure_type_concept_id\n",
    "\n",
    "\n",
    "\n"
   ]
  },
  {
   "cell_type": "code",
   "execution_count": null,
   "id": "45573632-09b7-4974-b803-bbee8e944dc7",
   "metadata": {},
   "outputs": [],
   "source": [
    "proc_ocurrance_mapping=['id','Date of diagnosis (biopsy or surgical piece)','Type of biopsy','Biopsy done by']\n",
    "df_tables = pd.DataFrame()\n",
    "df_tables.index = range(len(df_cancer_Episode_IDEA4RC))\n",
    "expected_values_biopsy= {\n",
    "    'FNA' : 4171863,\n",
    "    'core-trcut' : 4321878,\n",
    "    'incisional' : 4321986,\n",
    "    'excisional' : 4228202,\n",
    "    'unplanned excision' : 4279903\n",
    "}\n",
    "\n",
    "sql = \"\"\"\n",
    "    INSERT INTO omopcdm.procedure_occurrence (person_id, procedure_concept_id, procedure_date, procedure_type_concept_id)\n",
    "    VALUES (%s, %s, %s, %s, %s)\n",
    "\"\"\"\n",
    "\n",
    "for idx, row in df_cancer_Episode_IDEA4RC.iterrows():\n",
    "    id_person = row['Patient']\n",
    "    date = row['Date of diagnosis (biopsy or surgical piece)']\n",
    "    if(row['Type of biopsy'] in expected_values_biopsy.keys):\n",
    "        procedure_concept_id = expected_values_biopsy.get(row['Type of biopsy'])\n",
    "        provider_id= row['Biopsy done by']\n",
    "        procedure_type_concept_id = 0#We need to see how to manage this\n",
    "        cur.execute(sql, (id_person, procedure_concept_id, date, procedure_type_concept_id))\n",
    "\n",
    "conn.commit()\n"
   ]
  },
  {
   "cell_type": "markdown",
   "id": "bc33a45f-41c5-4330-b0cb-2d33fe85db48",
   "metadata": {},
   "source": [
    "### Cancer Episode to Observation"
   ]
  },
  {
   "cell_type": "markdown",
   "id": "584b8a07-754a-465e-af87-dba78236f390",
   "metadata": {},
   "source": [
    "Is this OK?"
   ]
  },
  {
   "cell_type": "code",
   "execution_count": null,
   "id": "d9a9b99b-89f8-403f-a301-2adf52724935",
   "metadata": {},
   "outputs": [],
   "source": [
    "sql = \"\"\"\n",
    "    INSERT INTO omopcdm.observation (person_id, observation_concept_id, observation_date, observation_type_concept_id, value_as_concept_id)\n",
    "    VALUES (%s, %s, %s, %s, %s,%s)\n",
    "\"\"\"\n",
    "df_tables=df_cancer_Episode_IDEA4RC\n",
    "df_tables['observation_concept_id']=[37117814 for _ in range(len(df_tables))]\n",
    "df_tables['observation_type_concept_id'=[38000280 for _ in range(len(df_tables))]\n",
    "cur.executemany(sql, zip(df_tables['Patient'], df_tables['observation_concept_id'], df_tables['Date of diagnosis (biopsy or surgical piece)'],\n",
    "                         df_tables['procedure_type_concept_id']))\n",
    "conn.commit()"
   ]
  },
  {
   "cell_type": "markdown",
   "id": "6d4874bb-ca10-4e60-93e3-45bc806ff85d",
   "metadata": {},
   "source": [
    "### Cancer Episode to Measurement"
   ]
  },
  {
   "cell_type": "markdown",
   "id": "8c3c8530-692b-4561-968b-708193b5e9a7",
   "metadata": {},
   "source": [
    "For each Cancer Episode, we need to create 7 new rows in Measurement\n",
    "\n",
    "I do not understand what to do with Depth, since I have to add one of the two values as the 'observation_concept_id' but I do not know what the expected values are and how to map them"
   ]
  },
  {
   "cell_type": "code",
   "execution_count": null,
   "id": "3fc641a3-44ff-4591-9399-dd991e8cb821",
   "metadata": {},
   "outputs": [],
   "source": [
    "sql = \"\"\"\n",
    "    INSERT INTO omopcdm.measurement (person_id, measurement_concept_id, measurement_date, procedure_type_concept_id)\n",
    "    VALUES (%s, %s, %s, %s, %s)\n",
    "\"\"\"\n",
    "\n",
    "cancerEpisode_column_measurement_names = [\n",
    "    'Grading', 'Tumor Size', 'Depth ', 'Biopsy Mitotic count', 'Plasmatic EBV DNA at baseline',\n",
    "    'HPV status', 'CRP – C reactive protein tested']\n",
    "\n",
    "cancerEpisode_vocab_values_concept_id= { \n",
    "    'Grading_val': {\n",
    "        '1':1634371,\n",
    "        '2':1634752,\n",
    "        '3':1633749,\n",
    "        'high': 1635587,\n",
    "        'low':1634085\n",
    "    },\n",
    "    'Plasmatic EBV DNA at baseline_val':{\n",
    "        'Positive': 9191,\n",
    "        'Negative': 9189,\n",
    "        'not tested': 45878602\n",
    "    },\n",
    "    'HPV status_val': {\n",
    "        'Positive': 9191,\n",
    "        'Negative': 9189,\n",
    "        'not tested': 45878602\n",
    "    },\n",
    "    'CRP – C reactive protein tested_val' : {\n",
    "        'Positive': 9191,\n",
    "        'Negative': 9189,\n",
    "        'not tested': 45878602\n",
    "    }\n",
    "}\n",
    "df_tables=df_cancer_Episode_IDEA4RC\n",
    "\n",
    "for idx, row in df_patient_IDEA4RC.iterrows():\n",
    "    person_id = row['id']\n",
    "    date_value = df_tables.loc[idx]['Date of diagnosis (biopsy or surgical piece)'].strftime('%Y-%m-%d')  # Get the 'Date' value from df_tables\n",
    "    for column in cancerEpisode_column_measurement_names:\n",
    "        if column in cancerEpisode_vocab_values_concept_id.keys():\n",
    "            measurement_concept = row[column]\n",
    "            measurement_value_column = column + '_val'\n",
    "            measurement_value = row[measurement_value_column]\n",
    "            \n",
    "            values_to_insert.append(())\n",
    "        else:\n",
    "            measurement_concept = row[column]\n",
    "            measurement_value = None\n",
    "            values_to_insert.append(())"
   ]
  }
 ],
 "metadata": {
  "kernelspec": {
   "display_name": "Python 3 (ipykernel)",
   "language": "python",
   "name": "python3"
  },
  "language_info": {
   "codemirror_mode": {
    "name": "ipython",
    "version": 3
   },
   "file_extension": ".py",
   "mimetype": "text/x-python",
   "name": "python",
   "nbconvert_exporter": "python",
   "pygments_lexer": "ipython3",
   "version": "3.10.12"
  }
 },
 "nbformat": 4,
 "nbformat_minor": 5
}
