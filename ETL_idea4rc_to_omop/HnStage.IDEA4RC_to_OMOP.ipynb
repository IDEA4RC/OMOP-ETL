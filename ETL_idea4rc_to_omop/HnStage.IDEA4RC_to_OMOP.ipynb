{
 "cells": [
  {
   "cell_type": "markdown",
   "id": "a39132bd-e35f-444a-8637-10aabe1d624c",
   "metadata": {},
   "source": [
    "# Hn Stage to OMOP"
   ]
  },
  {
   "cell_type": "markdown",
   "id": "fca17d61",
   "metadata": {},
   "source": [
    "Hn Stage is mainly mapped to OMOP Measurement, following the mapping described in: https://docs.google.com/spreadsheets/d/1Vw1Dr2K4oG__cDQTutGaJhZvGUvQTLwc4qWreP6qMSs/edit?gid=1518421257#gid=1518421257\n",
    "\n"
   ]
  },
  {
   "cell_type": "code",
   "execution_count": null,
   "id": "4ca8f8bb-7aff-4063-b517-38f5a4e9e768",
   "metadata": {},
   "outputs": [],
   "source": [
    "import mysql.connector\n",
    "import pandas as pd\n",
    "import psycopg2\n",
    "import random\n",
    "import numpy as np\n",
    "from datetime import datetime, timedelta"
   ]
  },
  {
   "cell_type": "code",
   "execution_count": null,
   "id": "8fac61c8-7c83-4a6e-80e0-af9542894b9f",
   "metadata": {},
   "outputs": [],
   "source": [
    "hnStage_IDEA4RC = pd.read_csv(\"./IDEA4RC-data/hnStageIDEA4RC.csv\")\n",
    "hnStage_IDEA4RC.head(5)"
   ]
  },
  {
   "cell_type": "code",
   "execution_count": null,
   "id": "38fa4123-6eac-4790-836e-be48280d3576",
   "metadata": {},
   "outputs": [],
   "source": [
    "conn = psycopg2.connect(\n",
    "    dbname=\"omopdb\",\n",
    "    user=\"postgres\",\n",
    "    password=\"mysecretpassword\",\n",
    "    host=\"localhost\",\n",
    "    port=\"5432\"\n",
    ")\n",
    "\n",
    "cur = conn.cursor()\n",
    "config = {\n",
    "    'user': 'user', \n",
    "    'password': 'password',\n",
    "    'host': '127.0.0.1',\n",
    "    'database': 'idea4rc_dm',\n",
    "    'raise_on_warnings': True\n",
    "}\n",
    "\n",
    "conn2 = mysql.connector.connect(**config)\n",
    "curIDEA = conn2.cursor()"
   ]
  },
  {
   "cell_type": "markdown",
   "id": "30ee5045-f5d7-4cde-b15b-9020a36c9cd1",
   "metadata": {},
   "source": [
    "### Hn Stage to Measurement"
   ]
  },
  {
   "cell_type": "markdown",
   "id": "d3e31d0d-8a04-4978-b17e-8a72e5180373",
   "metadata": {},
   "source": [
    "For the following:\n",
    "\n",
    "Soft tissue\n",
    "distant lymph node\n",
    "lung\n",
    "bone\n",
    "liver\n",
    "pleura\n",
    "peritoneum\n",
    "brain\n",
    "other viscera\n",
    "unknown\n",
    "\n",
    "We will be ignoring the variable as modifier since it does not give us real information"
   ]
  },
  {
   "cell_type": "code",
   "execution_count": null,
   "id": "5f79562a-dd20-4992-9a6a-cc9c9aebb8fe",
   "metadata": {},
   "outputs": [],
   "source": [
    "df_tables=hnStage_IDEA4RC\n",
    "\n",
    "sql = \"\"\"\n",
    "    INSERT INTO omopcdm.measurement (person_id, measurement_concept_id, measurement_date,measurement_type_concept_id,value_as_concept_id,measurement_event_id, meas_event_field_concept_id)\n",
    "    VALUES (%s, %s, %s,%s,%s,%s,%s)\n",
    "\"\"\"\n",
    "cols=['bone', 'brain', 'distant_lymph_node', 'liver', 'lung', 'other_viscera', \n",
    " 'peritoneum', 'pleura', 'soft_tissue', 'unknown', 'episode_event', \n",
    " 'cm', 'cn', 'ct', 'pm', 'pn', 'pt', 'r_ene', 'staging_classification']\n",
    "\n",
    "query= \"\"\"\n",
    "    SELECT c.patient \n",
    "    FROM cancer_episode c\n",
    "    WHERE EXISTS (\n",
    "        SELECT 1 \n",
    "        FROM EpisodeEvent e\n",
    "        WHERE e.cancerEpisode = c.id\n",
    "        AND e.id = %s\n",
    "    )\n",
    "    LIMIT 1\n",
    "\n",
    "\"\"\"\n",
    "queryDate=\"\"\"\n",
    "    SELECT episode_start_date\n",
    "    FROM cancer_episode\n",
    "    WHERE id = %s\n",
    "\"\"\"\n",
    "sqlGetEpisode = \"\"\"\n",
    "    SELECT c.id \n",
    "    FROM episode c\n",
    "    WHERE c.person_id = %s\n",
    "    AND c.episode_start_date = %s\n",
    "    LIMIT 1\n",
    "\"\"\"\n",
    "\n",
    "booleans=[\n",
    "    \"Soft tissue\",\n",
    "    \"distant lymph node\",\n",
    "    \"lung\",\n",
    "    \"bone\",\n",
    "    \"liver\",\n",
    "    \"pleura\",\n",
    "    \"peritoneum\",\n",
    "    \"brain\",\n",
    "    \"other viscera\",\n",
    "    \"unknown\"\n",
    "]\n",
    "boolValues=[4188539,4188540]\n",
    "meas_event_field_concept_id=798885\n",
    "date=datetime.now()\n",
    "measurement_type_concept_id=38000280\n",
    "\n",
    "for idx, row in df_tables.iterrows():\n",
    "    for column in cols:\n",
    "        curIDEA.execute(query, (row['Episode Event Reference']))\n",
    "        resIDEA=cur.fetchone()\n",
    "        person_id=res\n",
    "        measurement_value = row[column]\n",
    "        if((column in booleans) and (measurement_value not in boolValues)):\n",
    "            if measurement_value==0:\n",
    "                measurement_value=4188540\n",
    "            else:\n",
    "                measurement_value=4188539\n",
    "        measurement_concept_id = row[column]\n",
    "        curIDEA.execute(queryDate, (row['Episode Event Reference']))\n",
    "        res=curIDEA.fetchone()\n",
    "        dateAux=res\n",
    "        cur.execute(sqlGetEpisode, (person_id,dateAux))\n",
    "        measurement_event_id=cur.fetchone()\n",
    "        cur.execute(sql, (person_id, measurement_concept_id, date, measurement_type_concept_id,measurement_value,measurement_event_id,meas_event_field_concept_id))\n",
    "        conn.commit()\n",
    "\n"
   ]
  },
  {
   "cell_type": "code",
   "execution_count": null,
   "id": "986adb6a-6d28-4083-99fb-573f68317729",
   "metadata": {},
   "outputs": [],
   "source": [
    "#1147138 is the ID of the column `episode_event_field_concept_id` in `episode_event`, which will guide us to the appropriate column in `measurement`."
   ]
  }
 ],
 "metadata": {
  "kernelspec": {
   "display_name": "Python 3 (ipykernel)",
   "language": "python",
   "name": "python3"
  },
  "language_info": {
   "codemirror_mode": {
    "name": "ipython",
    "version": 3
   },
   "file_extension": ".py",
   "mimetype": "text/x-python",
   "name": "python",
   "nbconvert_exporter": "python",
   "pygments_lexer": "ipython3",
   "version": "3.10.12"
  }
 },
 "nbformat": 4,
 "nbformat_minor": 5
}
