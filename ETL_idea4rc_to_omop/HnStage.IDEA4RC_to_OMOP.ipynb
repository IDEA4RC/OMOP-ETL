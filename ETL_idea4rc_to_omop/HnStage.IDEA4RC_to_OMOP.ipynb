{
 "cells": [
  {
   "cell_type": "markdown",
   "id": "a39132bd-e35f-444a-8637-10aabe1d624c",
   "metadata": {},
   "source": [
    "# Hn Stage to OMOP"
   ]
  },
  {
   "cell_type": "code",
   "execution_count": null,
   "id": "4ca8f8bb-7aff-4063-b517-38f5a4e9e768",
   "metadata": {},
   "outputs": [],
   "source": [
    "import pandas as pd\n",
    "import psycopg2\n",
    "import random\n",
    "import numpy as np\n",
    "from datetime import datetime, timedelta"
   ]
  },
  {
   "cell_type": "code",
   "execution_count": null,
   "id": "8fac61c8-7c83-4a6e-80e0-af9542894b9f",
   "metadata": {},
   "outputs": [],
   "source": [
    "hnStage_IDEA4RC = pd.read_csv(\"./IDEA4RC-data/hnStageIDEA4RC.csv\")\n",
    "hnStage_IDEA4RC.head(5)"
   ]
  },
  {
   "cell_type": "code",
   "execution_count": null,
   "id": "38fa4123-6eac-4790-836e-be48280d3576",
   "metadata": {},
   "outputs": [],
   "source": [
    "# Conexión a la base de datos OMOP CDM\n",
    "conn = psycopg2.connect(\n",
    "    dbname=\"omopdb\",\n",
    "    user=\"postgres\",\n",
    "    password=\"mysecretpassword\",\n",
    "    host=\"localhost\",\n",
    "    port=\"5432\"\n",
    ")\n",
    "\n",
    "# Comando para hacer el mapeo (insercción de datos del IDEA4RC.csv a OMOP)\n",
    "cur = conn.cursor()"
   ]
  },
  {
   "cell_type": "markdown",
   "id": "10ce2415-7a94-4f4e-b7ec-1698b2855f7a",
   "metadata": {},
   "source": [
    "### Hn Stage to Episode Event"
   ]
  },
  {
   "cell_type": "markdown",
   "id": "a57b4016-443a-47c4-8d2e-8224841fb48d",
   "metadata": {},
   "source": [
    "I need a way to have a relation between Episode and Measurement. This should be Episode Event, but there is no way to get the measurement id so there is a PROBLEM."
   ]
  },
  {
   "cell_type": "code",
   "execution_count": null,
   "id": "f57e735c-0c56-45a2-b5b0-fad9af52dee6",
   "metadata": {},
   "outputs": [],
   "source": [
    "df_tables = pd.DataFrame()\n",
    "df_tables = hnStage_IDEA4RC\n",
    "\n",
    "sql = \"\"\"\n",
    "    INSERT INTO omopcdm.episode_event (episode_id, event_id, episode_event_field_concept_id)\n",
    "    VALUES (%s, %s, %s)\n",
    "\"\"\"\n",
    "episode_event_field_concept_id=1147138 #this references the id column in measurement\n",
    "for idx, row in df_tables.iterrows():"
   ]
  },
  {
   "cell_type": "markdown",
   "id": "30ee5045-f5d7-4cde-b15b-9020a36c9cd1",
   "metadata": {},
   "source": [
    "### Hn Stage to Measurement"
   ]
  },
  {
   "cell_type": "markdown",
   "id": "d3e31d0d-8a04-4978-b17e-8a72e5180373",
   "metadata": {},
   "source": [
    "For the following:\n",
    "\n",
    "Soft tissue\n",
    "distant lymph node\n",
    "lung\n",
    "bone\n",
    "liver\n",
    "pleura\n",
    "peritoneum\n",
    "brain\n",
    "other viscera\n",
    "unknown\n",
    "\n",
    "I really do not know what to do, since it is expected to be a boolean, but then what do I do with the Vocabulary????"
   ]
  },
  {
   "cell_type": "code",
   "execution_count": null,
   "id": "5f79562a-dd20-4992-9a6a-cc9c9aebb8fe",
   "metadata": {},
   "outputs": [],
   "source": [
    "df_tables=hnStage_IDEA4RC\n",
    "\n",
    "cols = {\n",
    "    \"cT\" : 0,\n",
    "    \"cN\" : 0,\n",
    "    \"cM\" : 0,\n",
    "    \"pT\" : 0,\n",
    "    \"pN\" : 0,\n",
    "    \"pM\" : 0,\n",
    "    \"Radiological Extra-nodal extension (rEne)\" : 0,\n",
    "    \"Staging classification\" : 0,\n",
    "    \"Soft tissue\" : 32945,\n",
    "    \"distant lymph node\" : 32946,\n",
    "    \"lung\" : 32947,\n",
    "    \"bone\" : 32948,\n",
    "    \"liver\" : 32949,\n",
    "    \"pleura\" : 32950,\n",
    "    \"peritoneum\" : 32951,\n",
    "    \"brain\" : 32952,\n",
    "    \"other viscera\" : 32952,\n",
    "    \"unknown\" : 32952\n",
    "}\n",
    "sql = \"\"\"\n",
    "    INSERT INTO omopcdm.measurement (person_id, measurement_concept_id, measurement_date,measurement_type_concept_id,value_as_concept_id)\n",
    "    VALUES (%s, %s, %s,%s,%s)\n",
    "\"\"\"\n",
    "person_id=0 #We do not have a person id here\n",
    "date=datetime.now()\n",
    "measurement_type_concept_id=0\n",
    "\n",
    "for idx, row in df_tables.iterrows():\n",
    "    for column in cols.keys:\n",
    "        measurement_value = row[column]\n",
    "        measurement_concept_id = cols.get(column)\n",
    "        cur.execute(sql, (person_id, measurement_concept_id, date, measurement_type_concept_id,measurement_value))\n",
    "        conn.commit()\n",
    "\n"
   ]
  },
  {
   "cell_type": "code",
   "execution_count": null,
   "id": "986adb6a-6d28-4083-99fb-573f68317729",
   "metadata": {},
   "outputs": [],
   "source": [
    "1147138 este es el id de la columna episode_event_field_concept_id en episode_event\n",
    "que nos va a redirigir a la columna adecuada en measurement"
   ]
  }
 ],
 "metadata": {
  "kernelspec": {
   "display_name": "Python 3 (ipykernel)",
   "language": "python",
   "name": "python3"
  },
  "language_info": {
   "codemirror_mode": {
    "name": "ipython",
    "version": 3
   },
   "file_extension": ".py",
   "mimetype": "text/x-python",
   "name": "python",
   "nbconvert_exporter": "python",
   "pygments_lexer": "ipython3",
   "version": "3.10.12"
  }
 },
 "nbformat": 4,
 "nbformat_minor": 5
}
