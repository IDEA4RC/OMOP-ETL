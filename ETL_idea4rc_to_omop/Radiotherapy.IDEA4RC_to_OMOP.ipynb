{
 "cells": [
  {
   "cell_type": "markdown",
   "id": "f9c338e1-27be-42a3-9db0-654be808c4fc",
   "metadata": {},
   "source": [
    "# Radiotherapy to OMOP"
   ]
  },
  {
   "cell_type": "markdown",
   "id": "91a696ad-c1b5-4278-89f1-db1b925193a5",
   "metadata": {},
   "source": [
    "What should I do with `Radiotherapy performed location` in the `radiotherapy` table since I don't know how this information can be retrieved?"
   ]
  },
  {
   "cell_type": "code",
   "execution_count": null,
   "id": "e06cb1e8-20ae-4bca-90fb-388f04a83a7c",
   "metadata": {},
   "outputs": [],
   "source": [
    "import mysql.connector\n",
    "import pandas as pd\n",
    "import psycopg2\n",
    "import random\n",
    "import numpy as np\n",
    "from datetime import datetime, timedelta"
   ]
  },
  {
   "cell_type": "code",
   "execution_count": null,
   "id": "5cae07bf-5be8-4e7f-94f3-3e974f66846c",
   "metadata": {},
   "outputs": [],
   "source": [
    "radiotherapy_IDEA4RC = pd.read_csv(\"./IDEA4RC-data/radiotherapyIDEA4RC.csv\")\n",
    "radiotherapy_IDEA4RC.head(5)"
   ]
  },
  {
   "cell_type": "code",
   "execution_count": null,
   "id": "13d08650-46f8-4ffe-8fd2-599ae03eaca4",
   "metadata": {},
   "outputs": [],
   "source": [
    "# Conexión a la base de datos OMOP CDM\n",
    "conn = psycopg2.connect(\n",
    "    dbname=\"omopdb\",\n",
    "    user=\"postgres\",\n",
    "    password=\"mysecretpassword\",\n",
    "    host=\"localhost\",\n",
    "    port=\"5432\"\n",
    ")\n",
    "\n",
    "# Comando para hacer el mapeo (insercción de datos del IDEA4RC.csv a OMOP)\n",
    "cur = conn.cursor()\n",
    "config = {\n",
    "    'user': 'user', \n",
    "    'password': 'password',\n",
    "    'host': '127.0.0.1',\n",
    "    'database': 'idea4rc_dm',\n",
    "    'raise_on_warnings': True\n",
    "}\n",
    "\n",
    "conn2 = mysql.connector.connect(**config)\n",
    "curIDEA = conn2.cursor()"
   ]
  },
  {
   "cell_type": "markdown",
   "id": "ea97f476-03e8-46d9-96fb-d7e1e82e904d",
   "metadata": {},
   "source": [
    "Radiotherapy performed location???\n",
    "What to do with it?"
   ]
  },
  {
   "cell_type": "markdown",
   "id": "d6e8ed06-61ef-4026-a4a7-e6eb52ee277a",
   "metadata": {},
   "source": [
    "### Radiotherapy to Episode"
   ]
  },
  {
   "cell_type": "code",
   "execution_count": null,
   "id": "58d0c309-8961-4aff-8ecb-12b40bb9a4c9",
   "metadata": {},
   "outputs": [],
   "source": [
    "df_tables=radiotherapy_IDEA4RC\n",
    "df_tables['idThisEvent'] = None\n",
    "sql = \"\"\"\n",
    "INSERT INTO EPISODE (episode_id,person_id, episode_start_date, episode_end_date, episode_concept_id,episode_type_concept_id, parent_episode_id)\n",
    "VALUES (%s,%s,%s,%s,%s,%s,%s)\n",
    "\"\"\"\n",
    "\n",
    "queryPerson=\"\"\"\n",
    "    SELECT e.patient_id FROM cancer_episode e\n",
    "    INNER JOIN episode_event v ON e.id=v.cancer_episode\n",
    "    INNER JOIN systemic_treatment st ON st.episode_event=v.id\n",
    "    WHERE st.id=%s\n",
    "\"\"\"    \n",
    "\n",
    "queryDate=\"\"\"\n",
    "    SELECT episode_start_date\n",
    "    FROM cancer_episode\n",
    "    WHERE id = %s\n",
    "\"\"\"\n",
    "sqlGetEpisode = \"\"\"\n",
    "    SELECT c.id \n",
    "    FROM episode c\n",
    "    WHERE c.person_id = %s\n",
    "    AND c.episode_start_date = %s\n",
    "    LIMIT 1\n",
    "\"\"\"\n",
    "for idx, row in df_tables.iterrows():\n",
    "    curIDEA.execute(queryPerson, (row['id']))\n",
    "    res=curIDEA.fetchone()\n",
    "    person_id=res[0]\n",
    "    curIDEA.execute(queryDate, (row['Episode Event Reference']))\n",
    "    res=curIDEA.fetchone()\n",
    "    dateAux=res\n",
    "    cur.execute(sqlGetEpisode, (person_id,dateAux))\n",
    "    parent_episode_id=cur.fetchone()\n",
    "    episode_start_date=res\n",
    "    newId=datetime.now().strftime('%Y%m%d%H%M%S')+ str(uuid4())\n",
    "    row['idThisEvent']=newId\n",
    "    cur.execute(sql,(newId,person_id, row['startdate'], row['enddate'],row['treatmentResponse'],row['treatmentResponse'],parent_episode_id))\n",
    "    conn.commit()\n"
   ]
  },
  {
   "cell_type": "markdown",
   "id": "78d49c37-8ffe-4a19-9597-fe05dcf9a7e0",
   "metadata": {},
   "source": [
    "### Radiotherapy to Procedure Ocurrence"
   ]
  },
  {
   "cell_type": "code",
   "execution_count": null,
   "id": "fbeee93e-6ce6-44c6-9699-33bb79baa227",
   "metadata": {},
   "outputs": [],
   "source": [
    "queryEVPO=\"\"\"\n",
    "    INSERT INTO omopcdm.episode_event (episode_id,event_id,episode_event_field_concept_id)\n",
    "    VALUES (%s, %s, %s)\n",
    "\"\"\"\n",
    "\n",
    "sqlProcedure=\"\"\"\n",
    "    INSERT INTO omopcdm.procedure_ocurrence (procedure_occurrence_id,person_id,procedure_concept_id,procedure_date,procedure_type_concept_id,provider_id)\n",
    "    VALUES (%s, %s, %s,%s,%s)\n",
    "\"\"\"\n",
    "def toTableEpisodeEventProcedureOcurrence(idEpisode , idProcedureOcurrence):\n",
    "    cur.execute(queryEVPO,(idEpisode,idProcedureOcurrence,1147082)) #1147082 or 1147810, not clear\n",
    "    conn.commit()\n",
    "\n",
    "for idx, row in df_tables.iterrows():\n",
    "    curIDEA.execute(queryPerson, (row['Episode Event Reference']))\n",
    "    res=curIDEA.fetchone()\n",
    "    person_id=res\n",
    "    procedure_concept_id=row['Surgery type']\n",
    "    procedure_date=row['Date of surgery']\n",
    "    provider_id=row['Radiotherapy performed location']\n",
    "    procedure_type_concept_id=0 #Still dont know what to do with this one\n",
    "    newId = datetime.now().strftime('%Y%m%d%H%M%S') + str(uuid4())\n",
    "    toTableEpisodeEventProcedureOcurrence(row['idThisEvent'],newId)\n",
    "    cur.execute(sqlProcedure,(newId, person_id, procedure_concept_id,procedure_date,procedure_type_concept_id))\n",
    "    conn.commit()"
   ]
  },
  {
   "cell_type": "markdown",
   "id": "2436135b-f4d1-490c-9b82-19faa21d5769",
   "metadata": {},
   "source": [
    "### Radiotherapy to Measurement"
   ]
  },
  {
   "cell_type": "markdown",
   "id": "7d6d3019-a41e-4da3-a8db-dfb4030abce1",
   "metadata": {},
   "source": [
    "Measurement concept id???\n",
    "\n",
    "meas_event_field_concept_id???"
   ]
  },
  {
   "cell_type": "code",
   "execution_count": null,
   "id": "32e9c65d-20af-4d47-a0ed-04fc3e3667d7",
   "metadata": {},
   "outputs": [],
   "source": [
    "sqlMeasuementNumber = \"\"\"\n",
    "    INSERT INTO omopcdm.measurement (person_id, measurement_concept_id, measurement_date, measurement_type_concept_id, value_as_number,measurement_event_id,meas_event_field_concept_id)\n",
    "    VALUES (%s, %s, %s,%s,%s,%s,%s,%s)\n",
    "    \"\"\"\n",
    "measurement_type_concept_id=38000280\n",
    "measurement_concept_id=0\n",
    "columns=[\n",
    "    \"primaryOnly\",\n",
    "    \"neckOnly\",\n",
    "    \"primaryAndIpsilateralNeck\",\n",
    "    \"primaryAndBilateralNeck\",\n",
    "    \"distantMetastasis\",\n",
    "    \"lung\",\n",
    "    \"mediastinum\",\n",
    "    \"bone\",\n",
    "    \"softTissue\",\n",
    "    \"liver\",\n",
    "    \"treatmentCompletedAsPlanned\",\n",
    "    \"beamQuality\",\n",
    "    \"otherSpecify\",\n",
    "    \"treatmentTechnique\",\n",
    "    \"totalDoseGy\",\n",
    "    \"numberOfFractions\",\n",
    "    \"adaptiveRt\",\n",
    "    \"igrt\"\n",
    "]\n",
    "\n",
    "booleans=[\n",
    "    \"adaptiveRt\",\n",
    "    \"igrt\",\n",
    "    \"primaryOnly\",\n",
    "    \"neckOnly\",\n",
    "    \"primaryAndIpsilateralNeck\",\n",
    "    \"primaryAndBilateralNeck\",\n",
    "    \"distantMetastasis\",\n",
    "    \"lung\",\n",
    "    \"mediastinum\",\n",
    "    \"bone\",\n",
    "    \"softTissue\",\n",
    "    \"liver\"\n",
    "]\n",
    "boolValues=[4188539,4188540]\n",
    "sqlCode=\"\"\"\n",
    "    INSERT INTO omopcdm.measurement (person_id, measurement_concept_id, measurement_date, measurement_type_concept_id, value_as_concept_id,measurement_event_id,meas_event_field_concept_id)\n",
    "    VALUES (%s, %s, %s,%s,%s,%s,%s)\n",
    "    \"\"\"\n",
    "for idx, row in df_tables.iterrows():\n",
    "    for column in columns:\n",
    "        curIDEA.execute(queryPerson, (row['Episode Event Reference']))\n",
    "        res=curIDEA.fetchone()\n",
    "        person_id=res\n",
    "        measurement_concept_id = 4037631 if column == 'numberOfFractions' else 0  #Not sure about this one, what to do if not?\n",
    "        measurement_value=row[column]\n",
    "        date=row['startDate']\n",
    "        measurement_event_id=row['idThisEvent']\n",
    "        if column=='totalDoseGy' or column=='numberOfFractions':\n",
    "            value_as_number=measurement_value\n",
    "            cur.execute(sqlMeasuementNumber,(person_id, measurement_concept_id, date, measurement_type_concept_id,value_as_number,measurement_event_id,\"SOME CODE\")) #WE NEED THE CODE\n",
    "            conn.commit()\n",
    "        else:\n",
    "            if(column in booleans):\n",
    "                if(measurement_value not in boolValues):\n",
    "                    measurement_value = 4188540 if measurement_value == 0 else 4188539\n",
    "                \n",
    "            cur.execute(sqlCode, (person_id, measurement_concept_id, date, measurement_type_concept_id,measurement_value,measurement_event_id, \"SOME CODE\")) #WE NEED THE CODE\n",
    "            conn.commit()"
   ]
  },
  {
   "cell_type": "markdown",
   "id": "b514d004-efa2-4274-91dc-dc1c0bdda838",
   "metadata": {},
   "source": [
    "### Radiotherapy to Observation"
   ]
  },
  {
   "cell_type": "code",
   "execution_count": null,
   "id": "ba4ec297-7b8a-483b-89d7-0505fbaaae53",
   "metadata": {},
   "outputs": [],
   "source": [
    "sql=\"\"\"\n",
    "    INSERT INTO omopcdm.observation (person_id, observation_concept_id, observation_date, observation_type_concept_id)\n",
    "    VALUES (%s, %s, %s,%s,%s,%s,%s)\n",
    "    \"\"\"\n",
    "observation_type_concept_id=37117814\n",
    "for idx, row in df_tables.iterrows():\n",
    "    curIDEA.execute(query, (row['Episode Event Reference']))\n",
    "    res=curIDEA.fetchone()\n",
    "    person_id=res\n",
    "    observation_concept_id=row['intent']\n",
    "    observation_date=row['startDate']    \n",
    "    cur.execute(sql,(person_id, observation_concept_id, observation_date, observation_type_concept_id))\n",
    "    conn.commit()"
   ]
  }
 ],
 "metadata": {
  "kernelspec": {
   "display_name": "Python 3 (ipykernel)",
   "language": "python",
   "name": "python3"
  },
  "language_info": {
   "codemirror_mode": {
    "name": "ipython",
    "version": 3
   },
   "file_extension": ".py",
   "mimetype": "text/x-python",
   "name": "python",
   "nbconvert_exporter": "python",
   "pygments_lexer": "ipython3",
   "version": "3.10.12"
  }
 },
 "nbformat": 4,
 "nbformat_minor": 5
}
