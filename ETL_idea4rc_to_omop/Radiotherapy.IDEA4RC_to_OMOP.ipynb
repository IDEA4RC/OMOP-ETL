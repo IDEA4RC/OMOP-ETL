{
 "cells": [
  {
   "cell_type": "markdown",
   "id": "f9c338e1-27be-42a3-9db0-654be808c4fc",
   "metadata": {},
   "source": [
    "# Radiotherapy to OMOP"
   ]
  },
  {
   "cell_type": "markdown",
   "id": "91a696ad-c1b5-4278-89f1-db1b925193a5",
   "metadata": {},
   "source": [
    "What should I do with `Radiotherapy performed location` in the `radiotherapy` table since I don't know how this information can be retrieved?"
   ]
  },
  {
   "cell_type": "code",
   "execution_count": 2,
   "id": "e06cb1e8-20ae-4bca-90fb-388f04a83a7c",
   "metadata": {},
   "outputs": [
    {
     "ename": "ModuleNotFoundError",
     "evalue": "No module named 'psycopg2'",
     "output_type": "error",
     "traceback": [
      "\u001b[0;31m---------------------------------------------------------------------------\u001b[0m",
      "\u001b[0;31mModuleNotFoundError\u001b[0m                       Traceback (most recent call last)",
      "Cell \u001b[0;32mIn[2], line 2\u001b[0m\n\u001b[1;32m      1\u001b[0m \u001b[38;5;28;01mimport\u001b[39;00m \u001b[38;5;21;01mpandas\u001b[39;00m \u001b[38;5;28;01mas\u001b[39;00m \u001b[38;5;21;01mpd\u001b[39;00m\n\u001b[0;32m----> 2\u001b[0m \u001b[38;5;28;01mimport\u001b[39;00m \u001b[38;5;21;01mpsycopg2\u001b[39;00m\n\u001b[1;32m      3\u001b[0m \u001b[38;5;28;01mimport\u001b[39;00m \u001b[38;5;21;01mrandom\u001b[39;00m\n\u001b[1;32m      4\u001b[0m \u001b[38;5;28;01mimport\u001b[39;00m \u001b[38;5;21;01mnumpy\u001b[39;00m \u001b[38;5;28;01mas\u001b[39;00m \u001b[38;5;21;01mnp\u001b[39;00m\n",
      "\u001b[0;31mModuleNotFoundError\u001b[0m: No module named 'psycopg2'"
     ]
    }
   ],
   "source": [
    "import pandas as pd\n",
    "import psycopg2\n",
    "import random\n",
    "import numpy as np\n",
    "from datetime import datetime, timedelta"
   ]
  },
  {
   "cell_type": "code",
   "execution_count": 1,
   "id": "5cae07bf-5be8-4e7f-94f3-3e974f66846c",
   "metadata": {},
   "outputs": [
    {
     "ename": "NameError",
     "evalue": "name 'pd' is not defined",
     "output_type": "error",
     "traceback": [
      "\u001b[0;31m---------------------------------------------------------------------------\u001b[0m",
      "\u001b[0;31mNameError\u001b[0m                                 Traceback (most recent call last)",
      "Cell \u001b[0;32mIn[1], line 1\u001b[0m\n\u001b[0;32m----> 1\u001b[0m radiotherapy_IDEA4RC \u001b[38;5;241m=\u001b[39m \u001b[43mpd\u001b[49m\u001b[38;5;241m.\u001b[39mread_csv(\u001b[38;5;124m\"\u001b[39m\u001b[38;5;124m./IDEA4RC-data/radiotherapyIDEA4RC.csv\u001b[39m\u001b[38;5;124m\"\u001b[39m)\n\u001b[1;32m      2\u001b[0m radiotherapy_IDEA4RC\u001b[38;5;241m.\u001b[39mhead(\u001b[38;5;241m5\u001b[39m)\n",
      "\u001b[0;31mNameError\u001b[0m: name 'pd' is not defined"
     ]
    }
   ],
   "source": [
    "radiotherapy_IDEA4RC = pd.read_csv(\"./IDEA4RC-data/radiotherapyIDEA4RC.csv\")\n",
    "radiotherapy_IDEA4RC.head(5)"
   ]
  },
  {
   "cell_type": "code",
   "execution_count": null,
   "id": "13d08650-46f8-4ffe-8fd2-599ae03eaca4",
   "metadata": {},
   "outputs": [],
   "source": [
    "# Conexión a la base de datos OMOP CDM\n",
    "conn = psycopg2.connect(\n",
    "    dbname=\"omopdb\",\n",
    "    user=\"postgres\",\n",
    "    password=\"mysecretpassword\",\n",
    "    host=\"localhost\",\n",
    "    port=\"5432\"\n",
    ")\n",
    "\n",
    "# Comando para hacer el mapeo (insercción de datos del IDEA4RC.csv a OMOP)\n",
    "cur = conn.cursor()"
   ]
  },
  {
   "cell_type": "markdown",
   "id": "ea97f476-03e8-46d9-96fb-d7e1e82e904d",
   "metadata": {},
   "source": [
    "Radiotherapy performed location???\n",
    "What to do with it?"
   ]
  },
  {
   "cell_type": "markdown",
   "id": "d6e8ed06-61ef-4026-a4a7-e6eb52ee277a",
   "metadata": {},
   "source": [
    "### Radiotherapy to Episode"
   ]
  },
  {
   "cell_type": "code",
   "execution_count": null,
   "id": "58d0c309-8961-4aff-8ecb-12b40bb9a4c9",
   "metadata": {},
   "outputs": [],
   "source": [
    "df_tables=radiotherapy_IDEA4RC\n",
    "sql = \"\"\"\n",
    "INSERT INTO EPISODE (episode_id, episode_start_date, episode_end_date, episode_concept_id,episode_type_concept_id)\n",
    "VALUES (%s, %s, %s, %s,%s)\n",
    "ON DUPLICATE KEY UPDATE\n",
    "    episode_start_date = VALUES(episode_start_date),\n",
    "    episode_end_date = VALUES(episode_end_date),\n",
    "    episode_concept_id = VALUES(episode_concept_id),\n",
    "    episode_type_concept_id=VALUES(episode_type_concept_id);\n",
    "\"\"\"\n",
    "query= \"\"\"\n",
    "    SELECT c.patient \n",
    "    FROM cancer_episode c\n",
    "    WHERE EXISTS (\n",
    "        SELECT 1 \n",
    "        FROM EpisodeEvent e\n",
    "        WHERE e.cancerEpisode = c.id\n",
    "        AND e.id = %s\n",
    "    )\n",
    "    LIMIT 1\n",
    "\n",
    "\"\"\"\n",
    "for idx, row in df_tables.iterrows():\n",
    "    cur.execute(sql,(row['episode_event'], row['startdate'], row['enddate'],row['treatmentResponse'],row['treatmentResponse']))\n",
    "    conn.commit()"
   ]
  },
  {
   "cell_type": "markdown",
   "id": "78d49c37-8ffe-4a19-9597-fe05dcf9a7e0",
   "metadata": {},
   "source": [
    "### Radiotherapy to Procedure Ocurrence"
   ]
  },
  {
   "cell_type": "code",
   "execution_count": null,
   "id": "fbeee93e-6ce6-44c6-9699-33bb79baa227",
   "metadata": {},
   "outputs": [],
   "source": [
    "queryEVPO=\"\"\"\n",
    "    INSERT INTO omopcdm.episode_event (episode_id,event_id,episode_event_field_concept_id)\n",
    "    VALUES (%s, %s, %s)\n",
    "\"\"\"\n",
    "\n",
    "sqlProcedure=\"\"\"\n",
    "    INSERT INTO omopcdm.procedure_ocurrence (procedure_occurrence_id,person_id,procedure_concept_id,procedure_date,procedure_type_concept_id)\n",
    "    VALUES (%s, %s, %s,%s,%s)\n",
    "\"\"\"\n",
    "def toTableEpisodeEventProcedureOcurrence(idEpisode , idProcedureOcurrence):\n",
    "    cur.execute(queryEVPO,(idEpisode,idProcedureOcurrence,1147082)) #1147082 or 1147810, not clear\n",
    "    conn.commit()\n",
    "\n",
    "for idx, row in df_tables.iterrows():\n",
    "    cur.execute(query, (row['Episode Event Reference']))\n",
    "    res=cur.fetchone()\n",
    "    person_id=res\n",
    "    procedure_concept_id=row['Surgery type']\n",
    "    procedure_date=row['Date of surgery']\n",
    "    procedure_type_concept_id=0 #Still dont know what to do with this one\n",
    "    newId = datetime.now().strftime('%Y%m%d%H%M%S') + str(uuid4())\n",
    "    toTableEpisodeEventProcedureOcurrence(row['Episode Event reference'],newId)\n",
    "    cur.execute(sqlProcedure,(newId, person_id, procedure_concept_id,procedure_date,procedure_type_concept_id))\n",
    "    conn.commit()"
   ]
  },
  {
   "cell_type": "markdown",
   "id": "2436135b-f4d1-490c-9b82-19faa21d5769",
   "metadata": {},
   "source": [
    "### Radiotherapy to Measurement"
   ]
  },
  {
   "cell_type": "markdown",
   "id": "7d6d3019-a41e-4da3-a8db-dfb4030abce1",
   "metadata": {},
   "source": [
    "Measurement concept id???"
   ]
  },
  {
   "cell_type": "code",
   "execution_count": null,
   "id": "32e9c65d-20af-4d47-a0ed-04fc3e3667d7",
   "metadata": {},
   "outputs": [],
   "source": [
    "sqlMeasuementNumber = \"\"\"\n",
    "    INSERT INTO omopcdm.measurement (person_id, measurement_concept_id, measurement_date, measurement_type_concept_id, value_as_number,measurement_event_id,meas_event_field_concept_id)\n",
    "    VALUES (%s, %s, %s,%s,%s,%s,%s,%s)\n",
    "    \"\"\"\n",
    "measurement_type_concept_id=38000280\n",
    "measurement_concept_id=0\n",
    "columns=[\n",
    "    \"primaryOnly\",\n",
    "    \"neckOnly\",\n",
    "    \"primaryAndIpsilateralNeck\",\n",
    "    \"primaryAndBilateralNeck\",\n",
    "    \"distantMetastasis\",\n",
    "    \"lung\",\n",
    "    \"mediastinum\",\n",
    "    \"bone\",\n",
    "    \"softTissue\",\n",
    "    \"liver\",\n",
    "    \"treatmentCompletedAsPlanned\",\n",
    "    \"beamQuality\",\n",
    "    \"otherSpecify\",\n",
    "    \"treatmentTechnique\",\n",
    "    \"totalDoseGy\",\n",
    "    \"numberOfFractions\",\n",
    "    \"adaptiveRt\",\n",
    "    \"igrt\"\n",
    "]\n",
    "\n",
    "booleans=[\n",
    "    \"adaptiveRt\",\n",
    "    \"igrt\",\n",
    "    \"primaryOnly\",\n",
    "    \"neckOnly\",\n",
    "    \"primaryAndIpsilateralNeck\",\n",
    "    \"primaryAndBilateralNeck\",\n",
    "    \"distantMetastasis\",\n",
    "    \"lung\",\n",
    "    \"mediastinum\",\n",
    "    \"bone\",\n",
    "    \"softTissue\",\n",
    "    \"liver\"\n",
    "]\n",
    "boolValues=[4188539,4188540]\n",
    "sqlCode=\"\"\"\n",
    "    INSERT INTO omopcdm.measurement (person_id, measurement_concept_id, measurement_date, measurement_type_concept_id, value_as_concept_id,measurement_event_id,meas_event_field_concept_id)\n",
    "    VALUES (%s, %s, %s,%s,%s,%s,%s)\n",
    "    \"\"\"\n",
    "for idx, row in df_tables.iterrows():\n",
    "    for column in columns:\n",
    "        cur.execute(query, (row['Episode Event Reference']))\n",
    "        res=cur.fetchone()\n",
    "        person_id=res\n",
    "        measurement_concept_id= (column=='numberOfFractions') ? 4037631:0 #No tengo muy claro que hacer con esto ya que no se si usar el modifier o 0 en otro caso ya que es required\n",
    "        measurement_value=row[column]\n",
    "        date=row['startDate']\n",
    "        if column=='totalDoseGy' or column=='numberOfFractions':\n",
    "            value_as_number=measurement_value\n",
    "            cur.execute(sqlMeasuementNumber,(person_id, measurement_concept_id, date, measurement_type_concept_id,value_as_number,measurement_event_id,CODIGO QUE HAY QUE VER)) WE NEED THE CODE\n",
    "            conn.commit()\n",
    "        else:\n",
    "            if(column in booleans):\n",
    "                if(measurement_value not in boolValues):\n",
    "                    measurement_value=measurement_value==0?4188540:4188539\n",
    "                \n",
    "            cur.execute(sqlCode, (person_id, measurement_concept_id, date, measurement_type_concept_id,measurement_value,measurement_event_id, CODIGO QUE FALTA SABER))\n",
    "            conn.commit()"
   ]
  },
  {
   "cell_type": "markdown",
   "id": "b514d004-efa2-4274-91dc-dc1c0bdda838",
   "metadata": {},
   "source": [
    "### Radiotherapy to Observation"
   ]
  },
  {
   "cell_type": "code",
   "execution_count": null,
   "id": "ba4ec297-7b8a-483b-89d7-0505fbaaae53",
   "metadata": {},
   "outputs": [],
   "source": [
    "sql=\"\"\"\n",
    "    INSERT INTO omopcdm.observation (person_id, observation_concept_id, observation_date, observation_type_concept_id)\n",
    "    VALUES (%s, %s, %s,%s,%s,%s,%s)\n",
    "    \"\"\"\n",
    "observation_type_concept_id=37117814\n",
    "for idx, row in df_tables.iterrows():\n",
    "    cur.execute(query, (row['Episode Event Reference']))\n",
    "    res=cur.fetchone()\n",
    "    person_id=res\n",
    "    observation_concept_id=row['intent']\n",
    "    observation_date=row['startDate']    \n",
    "    cur.execute(sql,(person_id, observation_concept_id, observation_date, observation_type_concept_id))\n",
    "    conn.commit()"
   ]
  }
 ],
 "metadata": {
  "kernelspec": {
   "display_name": "Python 3 (ipykernel)",
   "language": "python",
   "name": "python3"
  },
  "language_info": {
   "codemirror_mode": {
    "name": "ipython",
    "version": 3
   },
   "file_extension": ".py",
   "mimetype": "text/x-python",
   "name": "python",
   "nbconvert_exporter": "python",
   "pygments_lexer": "ipython3",
   "version": "3.10.12"
  }
 },
 "nbformat": 4,
 "nbformat_minor": 5
}
