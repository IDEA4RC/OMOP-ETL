{
 "cells": [
  {
   "cell_type": "markdown",
   "id": "5ab70777-8560-48c3-a805-80e4c80a2b60",
   "metadata": {},
   "source": [
    "# Isolated Limb Perfusion to OMOP"
   ]
  },
  {
   "cell_type": "markdown",
   "id": "551ad685",
   "metadata": {},
   "source": [
    "For the treatments, we follow the mapping in https://docs.google.com/spreadsheets/d/1Vw1Dr2K4oG__cDQTutGaJhZvGUvQTLwc4qWreP6qMSs/edit?gid=1595135203#gid=1595135203\n",
    "\n",
    "This is mainly mapped to episode and procedure occurrence\n",
    "\n",
    "We need the procedure ocncept id, using 4019656"
   ]
  },
  {
   "cell_type": "code",
   "execution_count": null,
   "id": "0f1787f1-36ae-4a57-80bd-64c0c4f74684",
   "metadata": {},
   "outputs": [],
   "source": [
    "import pandas as pd\n",
    "import psycopg2\n",
    "import random\n",
    "import numpy as np\n",
    "from uuid import uuid4\n",
    "from datetime import datetime, timedelta\n",
    "import mysql.connector"
   ]
  },
  {
   "cell_type": "code",
   "execution_count": null,
   "id": "4237c0c3-e572-40f3-961c-7ce8a42aa30d",
   "metadata": {},
   "outputs": [],
   "source": [
    "isolated_limb_perfusion_IDEA4RC = pd.read_csv(\"./IDEA4RC-data/isolatedLimbPerfusionIDEA4RC.csv\")\n",
    "isolated_limb_perfusion_IDEA4RC.head(5)"
   ]
  },
  {
   "cell_type": "code",
   "execution_count": null,
   "id": "a686ef82-24f1-4b09-96ca-08bb085e3e87",
   "metadata": {},
   "outputs": [],
   "source": [
    "conn = psycopg2.connect(\n",
    "    dbname=\"omopdb\",\n",
    "    user=\"postgres\",\n",
    "    password=\"mysecretpassword\",\n",
    "    host=\"localhost\",\n",
    "    port=\"5432\"\n",
    ")\n",
    "\n",
    "cur = conn.cursor()\n",
    "\n",
    "config = {\n",
    "    'user': 'user', \n",
    "    'password': 'password',\n",
    "    'host': '127.0.0.1',\n",
    "    'database': 'idea4rc_dm',\n",
    "    'raise_on_warnings': True\n",
    "}\n",
    "\n",
    "conn2 = mysql.connector.connect(**config)\n",
    "curIDEA = conn2.cursor()\n",
    "cur = conn.cursor()"
   ]
  },
  {
   "cell_type": "markdown",
   "id": "90c1be78-15bd-4ef9-a334-a12c9ad945f0",
   "metadata": {},
   "source": [
    "### Isolated Limb Perfusion to Episode"
   ]
  },
  {
   "cell_type": "code",
   "execution_count": null,
   "id": "f2157740-0d86-4525-a9ea-38bed794ed58",
   "metadata": {},
   "outputs": [],
   "source": [
    "df_tables = isolated_limb_perfusion_IDEA4RC\n",
    "sql = \"\"\"\n",
    "INSERT INTO EPISODE (episode_id,person_id, episode_start_date, episode_end_date, episode_concept_id,episode_type_concept_id, parent_episode_id)\n",
    "VALUES (%s,%s,%s,%s,%s,%s,%s);\n",
    "\"\"\"\n",
    "queryPerson=\"\"\"\n",
    "    SELECT e.patient_id FROM cancer_episode e\n",
    "    INNER JOIN episode_event v ON e.id=v.cancer_episode\n",
    "    INNER JOIN systemic_treatment st ON st.episode_event=v.id\n",
    "    WHERE st.id=%s;\n",
    "\"\"\"    \n",
    "\n",
    "queryDate=\"\"\"\n",
    "    SELECT episode_start_date\n",
    "    FROM cancer_episode\n",
    "    WHERE id = %s;\n",
    "\"\"\"\n",
    "sqlGetEpisode = \"\"\"\n",
    "    SELECT c.id \n",
    "    FROM episode c\n",
    "    WHERE c.person_id = %s\n",
    "    AND c.episode_start_date = %s\n",
    "    LIMIT 1;\n",
    "\"\"\"\n",
    "df_tables['idThisEvent'] = None\n",
    "for idx, row in df_tables.iterrows():\n",
    "    curIDEA.execute(queryPerson, (row['id']))\n",
    "    res=curIDEA.fetchone()\n",
    "    person_id=res[0]\n",
    "    curIDEA.execute(queryDate, (row['episode_event']))\n",
    "    res=curIDEA.fetchone()\n",
    "    dateAux=res\n",
    "    cur.execute(sqlGetEpisode, (person_id,dateAux))\n",
    "    parent_episode_id=cur.fetchone()\n",
    "    episode_start_date=res\n",
    "    newId=datetime.now().strftime('%Y%m%d%H%M%S')\n",
    "    row['idThisEvent']=newId\n",
    "    cur.execute(sql,(newId,person_id, row['start_date'], row['end_date'],row['treatment_response'],row['treatment_response'],parent_episode_id))\n",
    "    conn.commit()"
   ]
  },
  {
   "cell_type": "markdown",
   "id": "ffe2e3cf-b665-4d1d-b8b6-462e45700270",
   "metadata": {},
   "source": [
    "### Isolated Limb Perfusion to Procedure  Ocurrence"
   ]
  },
  {
   "cell_type": "code",
   "execution_count": null,
   "id": "b49b34a1-8184-45fe-a7a6-918a7d30449a",
   "metadata": {},
   "outputs": [],
   "source": [
    "queryEVPO=\"\"\"\n",
    "    INSERT INTO omopcdm.episode_event (episode_id,event_id,episode_event_field_concept_id)\n",
    "    VALUES (%s, %s, %s);\n",
    "\"\"\"\n",
    "\n",
    "sqlProcedure=\"\"\"\n",
    "    INSERT INTO omopcdm.procedure_ocurrence (procedure_occurrence_id,person_id,procedure_concept_id,procedure_date,procedure_end_date,procedure_type_concept_id,provider_id)\n",
    "    VALUES (%s, %s, %s,%s,%s);\n",
    "\"\"\"\n",
    "\n",
    "getProvider_id=\"\"\"\n",
    "    SELECT provider_id FROM provider WHERE care_site_id IN(SELECT care_site_id FROM care_site WHERE care_site_name=%s);\n",
    "\"\"\"\n",
    "\n",
    "def toTableEpisodeEventProcedureOcurrence(idEpisode , idProcedureOcurrence):\n",
    "    cur.execute(queryEVPO,(idEpisode,idProcedureOcurrence,1147082)) #1147082 or 1147810, not clear\n",
    "    conn.commit()\n",
    "\n",
    "for idx, row in df_tables.iterrows():\n",
    "    cur.execute(queryPerson, (row['episode_event']))\n",
    "    res=cur.fetchone()\n",
    "    person_id=res\n",
    "    procedure_concept_id=4019656\n",
    "    procedure_date=row['start_date']\n",
    "    procedure_end_date=row['end_date']\n",
    "    procedure_type_concept_id=32879 #Still dont know what to do with this one\n",
    "    newId = datetime.now().strftime('%Y%m%d%H%M%S') + str(uuid4())\n",
    "    toTableEpisodeEventProcedureOcurrence(row['idThisEvent'],newId)\n",
    "    cur.execute(getProvider_id, (row['care_site']))\n",
    "    res=cur.fetchone()\n",
    "    provider_id=res[0]\n",
    "    cur.execute(sqlProcedure,(newId, person_id, procedure_concept_id,procedure_date,procedure_end_date,procedure_type_concept_id,provider_id))\n",
    "    conn.commit()"
   ]
  }
 ],
 "metadata": {
  "kernelspec": {
   "display_name": "Python 3 (ipykernel)",
   "language": "python",
   "name": "python3"
  },
  "language_info": {
   "codemirror_mode": {
    "name": "ipython",
    "version": 3
   },
   "file_extension": ".py",
   "mimetype": "text/x-python",
   "name": "python",
   "nbconvert_exporter": "python",
   "pygments_lexer": "ipython3",
   "version": "3.10.12"
  }
 },
 "nbformat": 4,
 "nbformat_minor": 5
}
