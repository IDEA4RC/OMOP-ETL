{
 "cells": [
  {
   "cell_type": "markdown",
   "id": "15fcdaea-43a6-4471-860a-f12d2df4a3d2",
   "metadata": {},
   "source": [
    "# Adverse Event to OMOP"
   ]
  },
  {
   "cell_type": "markdown",
   "id": "3c1f3abf",
   "metadata": {},
   "source": [
    "https://docs.google.com/spreadsheets/d/1Vw1Dr2K4oG__cDQTutGaJhZvGUvQTLwc4qWreP6qMSs/edit?gid=507968289#gid=507968289\n",
    "\n",
    "We have changed the mapping: now an adverse event = observation\n",
    "\n",
    "Is this right: observation_source_concept_id= the code for the duraton we have in the datamodel?\n",
    "\n",
    "We will use as concept_id the value from Adverse event type (CTCAE Term), since:\n",
    "\n",
    "![First image](images/AdverseEvent1.png)\n",
    "\n",
    "It gives us grading information, does it give us \"ADVERSE REACTION\" too?\n",
    "\n",
    "Adverse Reaction = "
   ]
  },
  {
   "cell_type": "code",
   "execution_count": null,
   "id": "342012e2-cfaf-4cbb-b952-60dab844658d",
   "metadata": {},
   "outputs": [],
   "source": [
    "import mysql.connector\n",
    "import pandas as pd\n",
    "import psycopg2\n",
    "import random\n",
    "import numpy as np\n",
    "from datetime import datetime, timedelta"
   ]
  },
  {
   "cell_type": "code",
   "execution_count": null,
   "id": "4dc57a9e-798d-4fd1-9c2c-5ebb2cbf26da",
   "metadata": {},
   "outputs": [],
   "source": [
    "df_Adverse_Event_IDEA4RC = pd.read_csv(\"./IDEA4RC-data/adverseEventIDEA4RC.csv\")\n",
    "df_Adverse_Event_IDEA4RC.head(5)"
   ]
  },
  {
   "cell_type": "code",
   "execution_count": null,
   "id": "4ff27756-5488-4bcf-8130-6a513d0f4525",
   "metadata": {},
   "outputs": [],
   "source": [
    "conn = psycopg2.connect(\n",
    "    dbname=\"omopdb\",\n",
    "    user=\"postgres\",\n",
    "    password=\"mysecretpassword\",\n",
    "    host=\"localhost\",\n",
    "    port=\"5432\"\n",
    ")\n",
    "\n",
    "cur = conn.cursor()\n",
    "config = {\n",
    "    'user': 'user', \n",
    "    'password': 'password',\n",
    "    'host': '127.0.0.1',\n",
    "    'database': 'idea4rc_dm',\n",
    "    'raise_on_warnings': True\n",
    "}\n",
    "\n",
    "conn2 = mysql.connector.connect(**config)\n",
    "curIDEA = conn2.cursor()"
   ]
  },
  {
   "cell_type": "markdown",
   "id": "574b28b9-98b8-4b43-9e34-d7c396994df0",
   "metadata": {},
   "source": [
    "### Adverse Event to Observation"
   ]
  },
  {
   "cell_type": "markdown",
   "id": "0c1e545c-84ad-4297-a8c2-cefe38583dd6",
   "metadata": {},
   "source": [
    "observation_concept_id=4105886\n",
    "observation type concept id????"
   ]
  },
  {
   "cell_type": "code",
   "execution_count": null,
   "id": "5ed6d007-e3e7-4c64-b163-88f8351ccf3d",
   "metadata": {},
   "outputs": [],
   "source": [
    "sql = \"\"\"\n",
    "    INSERT INTO omopcdm.observation (person_id, observation_concept_id, observation_date,observation_type_concept_id,observation_event_id,obs_event_field_concept_id,observation_source_concept_id)\n",
    "    VALUES (%s, %s, %s, %s, %s, %s, %s)\n",
    "\"\"\"\n",
    "#Episode concept id=vocabulary from event type\n",
    "\n",
    "query= \"\"\"\n",
    "    SELECT c.patient \n",
    "    FROM cancer_episode c\n",
    "    WHERE EXISTS (\n",
    "        SELECT 1 \n",
    "        FROM EpisodeEvent e\n",
    "        WHERE e.cancerEpisode = c.id\n",
    "        AND e.id = %s\n",
    "    )\n",
    "    LIMIT 1\n",
    "\n",
    "\"\"\"\n",
    "queryDate=\"\"\"\n",
    "    SELECT episode_start_date\n",
    "    FROM cancer_episode\n",
    "    WHERE id = %s\n",
    "\"\"\"\n",
    "sqlGetEpisode = \"\"\"\n",
    "    SELECT c.id \n",
    "    FROM episode c\n",
    "    WHERE c.person_id = %s\n",
    "    AND c.episode_start_date = %s\n",
    "    LIMIT 1\n",
    "\"\"\"\n",
    "observation_type_concept_id=32879\n",
    "\n",
    "df_tables=df_Adverse_Event_IDEA4RC\n",
    "for idx, row in df_tables.iterrows():\n",
    "    curIDEA.execute(query, (row['Episode Event reference']))\n",
    "    res=curIDEA.fetchone()\n",
    "    person_id=res\n",
    "    curIDEA.execute(queryDate, (row['Episode Event reference']))\n",
    "    res=curIDEA.fetchone()\n",
    "    observation_date=res\n",
    "    cur.execute(sqlGetEpisode, (person_id, observation_date))\n",
    "    episode_id=cur.fetchone()\n",
    "    observation_concept_id=row['Adverse event type (CTCAE Term)']\n",
    "    observation_source_concept_id=row['Adverse Event Duration']\n",
    "    cur.execute(sql, (person_id, observation_concept_id, observation_date, observation_type_concept_id, episode_id, 1147127,observation_source_concept_id))\n",
    "    conn.commit()"
   ]
  }
 ],
 "metadata": {
  "kernelspec": {
   "display_name": "Python 3 (ipykernel)",
   "language": "python",
   "name": "python3"
  },
  "language_info": {
   "codemirror_mode": {
    "name": "ipython",
    "version": 3
   },
   "file_extension": ".py",
   "mimetype": "text/x-python",
   "name": "python",
   "nbconvert_exporter": "python",
   "pygments_lexer": "ipython3",
   "version": "3.10.12"
  }
 },
 "nbformat": 4,
 "nbformat_minor": 5
}
