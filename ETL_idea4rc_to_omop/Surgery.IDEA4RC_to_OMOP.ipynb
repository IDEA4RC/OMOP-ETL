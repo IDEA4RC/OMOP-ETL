{
 "cells": [
  {
   "cell_type": "markdown",
   "id": "bdc15418-c548-4086-aed8-31ae877e7af8",
   "metadata": {},
   "source": [
    "# Surgery to OMOP"
   ]
  },
  {
   "cell_type": "code",
   "execution_count": null,
   "id": "d5d9fee9-9386-4508-95fa-8ab0c6e3605b",
   "metadata": {},
   "outputs": [],
   "source": [
    "import mysql.connector\n",
    "import pandas as pd\n",
    "import psycopg2\n",
    "import random\n",
    "import numpy as np\n",
    "from datetime import datetime, timedelta"
   ]
  },
  {
   "cell_type": "code",
   "execution_count": null,
   "id": "95be452f-ef8e-4db5-b4dd-cc053e68442b",
   "metadata": {},
   "outputs": [],
   "source": [
    "surgery_IDEA4RC = pd.read_csv(\"./IDEA4RC-data/surgeryIDEA4RC.csv\")\n",
    "surgery_IDEA4RC.head(5)"
   ]
  },
  {
   "cell_type": "code",
   "execution_count": null,
   "id": "f4eff91d-34e5-4775-a789-83b6a1ec4ebc",
   "metadata": {},
   "outputs": [],
   "source": [
    "# Conexión a la base de datos OMOP CDM\n",
    "conn = psycopg2.connect(\n",
    "    dbname=\"omopdb\",\n",
    "    user=\"postgres\",\n",
    "    password=\"mysecretpassword\",\n",
    "    host=\"localhost\",\n",
    "    port=\"5432\"\n",
    ")\n",
    "\n",
    "# Comando para hacer el mapeo (insercción de datos del IDEA4RC.csv a OMOP)\n",
    "cur = conn.cursor()\n",
    "config = {\n",
    "    'user': 'user', \n",
    "    'password': 'password',\n",
    "    'host': '127.0.0.1',\n",
    "    'database': 'idea4rc_dm',\n",
    "    'raise_on_warnings': True\n",
    "}\n",
    "\n",
    "conn2 = mysql.connector.connect(**config)\n",
    "curIDEA = conn2.cursor()"
   ]
  },
  {
   "cell_type": "markdown",
   "id": "4dbed393-e1e6-46c5-8e26-b22fe154ea12",
   "metadata": {},
   "source": [
    "### Surgery to Measurement"
   ]
  },
  {
   "cell_type": "markdown",
   "id": "3583b00e-4291-406f-8222-3683ee770cd7",
   "metadata": {},
   "source": [
    "Measurement concept id?"
   ]
  },
  {
   "cell_type": "markdown",
   "id": "6981c94c-554e-4a45-a4d3-67e2eace509f",
   "metadata": {},
   "source": [
    "What to do with the vocabulary and modifier here:\n",
    "Site of surgery on metastasis_soft tissue\n",
    "Site of surgery on metastasis_distant lymph nodes\n",
    "Site of surgery on metastasis_lung\n",
    "Site of surgery on metastasis_bone\n",
    "Site of surgery on metastasis_liver\n",
    "Site of surgery on metastasis_pleura\n",
    "Site of surgery on metastasis_peritoneum\n",
    "Site of surgery on metastasis_brain\n",
    "Site of surgery on metastasis_other viscera\n",
    "Site of surgery on metastasis_unknown"
   ]
  },
  {
   "cell_type": "code",
   "execution_count": 1,
   "id": "99a0fa7a-4798-4081-975b-e5097ebfbc7d",
   "metadata": {},
   "outputs": [
    {
     "ename": "SyntaxError",
     "evalue": "incomplete input (2863311216.py, line 56)",
     "output_type": "error",
     "traceback": [
      "\u001b[0;36m  Cell \u001b[0;32mIn[1], line 56\u001b[0;36m\u001b[0m\n\u001b[0;31m    \u001b[0m\n\u001b[0m    ^\u001b[0m\n\u001b[0;31mSyntaxError\u001b[0m\u001b[0;31m:\u001b[0m incomplete input\n"
     ]
    }
   ],
   "source": [
    "df_tables=surgery_IDEA4RC\n",
    "\n",
    "cols= {\n",
    "    \"Surgery intention\": 0,\n",
    "    \"Type of surgical approach on Tumour\": 0,\n",
    "    \"Margins after surgery\": 0,\n",
    "    \"Tumor rupture\": 36768904, #Since we have a vocabulary for a boolean, I will use it as a modifier\n",
    "    \"Surgical specimen Mitotic count\": 0,\n",
    "    \"Surgical specimen grading only in untreated tumours\": 0,\n",
    "    \"Reconstruction\": 3010988,\n",
    "    \"Neck surgery\": 0,\n",
    "    \"Laterality of the dissection\": 0,\n",
    "    \"Surgery on M\": 0,\n",
    "    \"Site of surgery on metastasis_soft tissue\": 32945,\n",
    "    \"Site of surgery on metastasis_distant lymph nodes\": 32946,\n",
    "    \"Site of surgery on metastasis_lung\": 32947,\n",
    "    \"Site of surgery on metastasis_bone\": 32948,\n",
    "    \"Site of surgery on metastasis_liver\": 32949,\n",
    "    \"Site of surgery on metastasis_pleura\": 32950,\n",
    "    \"Site of surgery on metastasis_peritoneum\": 32951,\n",
    "    \"Site of surgery on metastasis_brain\": 32952,\n",
    "    \"Site of surgery on metastasis_other viscera\": 32952,\n",
    "    \"Site of surgery on metastasis_unknown\": 32952,\n",
    "    \"Surgical complications (Clavien-Dindo Classification)\": 4137797\n",
    "}\n",
    "sql =  \"\"\"\n",
    "    INSERT INTO omopcdm.measurement (person_id, measurement_concept_id, measurement_date, measurement_type_concept_id, value_as_concept_id,measurement_event_id,meas_event_field_concept_id)\n",
    "    VALUES (%s, %s, %s,%s,%s,%s,%s)\n",
    "    \"\"\"\n",
    "query= \"\"\"\n",
    "    SELECT c.patient \n",
    "    FROM cancer_episode c\n",
    "    WHERE EXISTS (\n",
    "        SELECT 1 \n",
    "        FROM EpisodeEvent e\n",
    "        WHERE e.cancerEpisode = c.id\n",
    "        AND e.id = %s\n",
    "    )\n",
    "    LIMIT 1\n",
    "\n",
    "\"\"\"\n",
    "\n",
    "sql2 = \"\"\"\n",
    "    INSERT INTO omopcdm.measurement (person_id, measurement_concept_id, measurement_date,measurement_type_concept_id,value_as_number,measurement_event_id,meas_event_field_concept_id)\n",
    "    VALUES (%s, %s, %s,%s,%s,%s,%s)\n",
    "\"\"\"\n",
    "\n",
    "\n",
    "booleans=['Tumor rupture','Reconstruction','Neck surgery','Surgery on M',\n",
    "             \"Site of surgery on metastasis_soft tissue\",\n",
    "             \"Site of surgery on metastasis_distant lymph nodes\",\"Site of surgery on metastasis_lung\",\n",
    "             \"Site of surgery on metastasis_bone\",\"Site of surgery on metastasis_liver\",\n",
    "             \"Site of surgery on metastasis_pleura\",\"Site of surgery on metastasis_peritoneum\",\n",
    "             \"Site of surgery on metastasis_brain\",\"Site of surgery on metastasis_other viscera\",\"Site of surgery on metastasis_unknown\"]\n",
    "\n",
    "boolValues=[4188539,4188540]\n",
    "measurement_type_concept_id=38000280\n",
    "for idx, row in df_tables.iterrows():\n",
    "    for column in cols.keys():\n",
    "        curIDEA.execute(query, (row['Episode Event Reference']))\n",
    "        res=curIDEA.fetchone()\n",
    "        person_id=res\n",
    "        measurement_concept_id=cols.get(column)\n",
    "        measurement_value=row[column]\n",
    "        date=row['Date of surgery']\n",
    "        cur.execute(sql, (person_id, measurement_concept_id, date, measurement_type_concept_id, measurement_value, measurement_event_id, NECESITAMOS_CODIGO))\n",
    "        conn.commit()\n",
    "\n"
   ]
  },
  {
   "cell_type": "markdown",
   "id": "87464669-725c-4901-8a3d-cb7e816f009a",
   "metadata": {},
   "source": [
    "### Surgery to Procedure Ocurrence\n",
    "\n",
    "Since this is a \"treatment,\" we could create an Episode (which would involve storing data at a higher level), but since it is allowed in OMOP and we are instructed to do so in the mapping, we will simply use Procedure Occurrence (a lower level)"
   ]
  },
  {
   "cell_type": "code",
   "execution_count": null,
   "id": "2a9129ab-4ee0-41b8-8263-afce1559de35",
   "metadata": {},
   "outputs": [],
   "source": [
    "queryEVPO=\"\"\"\n",
    "    INSERT INTO omopcdm.episode_event (episode_id,event_id,episode_event_field_concept_id)\n",
    "    VALUES (%s, %s, %s)\n",
    "\"\"\"\n",
    "\n",
    "sqlProcedure=\"\"\"\n",
    "    INSERT INTO omopcdm.procedure_ocurrence (procedure_occurrence_id,person_id,procedure_concept_id,procedure_date,procedure_type_concept_id, provider_id)\n",
    "    VALUES (%s, %s, %s,%s,%s, %s)\n",
    "\"\"\"\n",
    "queryDate=\"\"\"\n",
    "    SELECT episode_start_date\n",
    "    FROM cancer_episode\n",
    "    WHERE id = %s\n",
    "\"\"\"\n",
    "sqlGetEpisode = \"\"\"\n",
    "    SELECT c.id \n",
    "    FROM episode c\n",
    "    WHERE c.person_id = %s\n",
    "    AND c.episode_start_date = %s\n",
    "    LIMIT 1\n",
    "\"\"\"\n",
    "def toTableEpisodeEventProcedureOcurrence(idEpisode , idProcedureOcurrence):\n",
    "    cur.execute(queryEVPO,(idEpisode,idProcedureOcurrence,1147082)) #1147082 or 1147810, not clear\n",
    "    conn.commit()\n",
    "\n",
    "for idx, row in df_tables.iterrows():\n",
    "    curIDEA.execute(query, (row['Episode Event Reference']))\n",
    "    res=curIDEA.fetchone()\n",
    "    person_id=res\n",
    "    procedure_concept_id=row['Surgery type']\n",
    "    procedure_date=row['Date of surgery']\n",
    "    procedure_type_concept_id=0 #Still dont know what to do with this one\n",
    "    curIDEA.execute(queryDate, (row['Episode Event Reference']))\n",
    "    res=curIDEA.fetchone()\n",
    "    dateAux=res\n",
    "    cur.execute(sqlGetEpisode, (person_id,dateAux))\n",
    "    epId=cur.fetchone()\n",
    "    newId = datetime.now().strftime('%Y%m%d%H%M%S') + str(uuid4())\n",
    "    toTableEpisodeEventProcedureOcurrence(epId,newId)\n",
    "    provider_id=row['surgeryHospital']\n",
    "    cur.execute(sqlProcedure,(newId, person_id, procedure_concept_id,procedure_date,procedure_type_concept_id))\n",
    "    conn.commit()\n",
    "    if row['Surgery on M']==1 or row['Surgery on M']:\n",
    "        newId = datetime.now().strftime('%Y%m%d%H%M%S') + str(uuid4())\n",
    "        toTableEpisodeEventProcedureOcurrence(epId,newId)\n",
    "        procedure_date=row['Date of surgery on M']\n",
    "        procedure_concept_id=\n",
    "        cur.execute(sqlProcedure,(newId, person_id, procedure_concept_id,procedure_date,procedure_type_concept_id))\n",
    "        conn.commit()\n",
    "\n"
   ]
  }
 ],
 "metadata": {
  "kernelspec": {
   "display_name": "Python 3 (ipykernel)",
   "language": "python",
   "name": "python3"
  },
  "language_info": {
   "codemirror_mode": {
    "name": "ipython",
    "version": 3
   },
   "file_extension": ".py",
   "mimetype": "text/x-python",
   "name": "python",
   "nbconvert_exporter": "python",
   "pygments_lexer": "ipython3",
   "version": "3.10.12"
  }
 },
 "nbformat": 4,
 "nbformat_minor": 5
}
