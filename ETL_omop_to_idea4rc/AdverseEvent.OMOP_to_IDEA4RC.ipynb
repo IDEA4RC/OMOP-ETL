{
 "cells": [
  {
   "cell_type": "markdown",
   "metadata": {},
   "source": [
    "# OMOP to Adverse Event"
   ]
  },
  {
   "cell_type": "markdown",
   "metadata": {},
   "source": [
    "The mapping is to be found here: https://docs.google.com/spreadsheets/d/1Vw1Dr2K4oG__cDQTutGaJhZvGUvQTLwc4qWreP6qMSs/edit?gid=507968289#gid=507968289"
   ]
  },
  {
   "cell_type": "code",
   "execution_count": null,
   "metadata": {},
   "outputs": [],
   "source": [
    "import mysql.connector\n",
    "import pandas as pd\n",
    "import psycopg2\n",
    "import random\n",
    "import numpy as np\n",
    "from datetime import datetime, timedelta"
   ]
  },
  {
   "cell_type": "code",
   "execution_count": null,
   "metadata": {},
   "outputs": [],
   "source": [
    "conn = psycopg2.connect(\n",
    "    dbname=\"omopdb\",\n",
    "    user=\"postgres\",\n",
    "    password=\"mysecretpassword\",\n",
    "    host=\"localhost\",\n",
    "    port=\"5432\"\n",
    ")\n",
    "\n",
    "curOMOP = conn.cursor()\n",
    "\n",
    "config = {\n",
    "    'user': 'user', \n",
    "    'password': 'password',\n",
    "    'host': '127.0.0.1',\n",
    "    'database': 'idea4rc_dm',\n",
    "    'raise_on_warnings': True\n",
    "}\n",
    "\n",
    "conn2 = mysql.connector.connect(**config)\n",
    "curIDEA = conn2.cursor()"
   ]
  },
  {
   "cell_type": "markdown",
   "metadata": {},
   "source": [
    "### Observation to Adverse Episode"
   ]
  },
  {
   "cell_type": "code",
   "execution_count": null,
   "metadata": {},
   "outputs": [],
   "source": [
    "getAdverseEpisode=\"\"\"\n",
    "    SELECT person_id, observation_date, observation_concept_id, observation_source_concept_id FROM observation\n",
    "    WHERE observation_concept_id IN (763790,765927,763791,765765,765766) AND observation_source_concept_id IN (35820298,763945,1704126,763944,35821988,35821987);\n",
    "\"\"\"\n",
    "getEpisodeEvent=\"\"\"\n",
    "    SELECT id FROM episode_event WHERE date_of_episode = %s AND cancer_episode IN (SELECT id FROM cancer_episode WHERE person_id = %s);\n",
    "\"\"\"\n",
    "\n",
    "insertAdverseEvent = \"\"\"\n",
    "    INSERT INTO adverse_event (adverse_event_duration, adverse_event_starting_date, adverse_event_type, episode_event)\n",
    "    VALUES (%s, %s, %s, %s);\n",
    "\"\"\"\n",
    "\n",
    "\n",
    "curOMOP.execute(getAdverseEpisode)\n",
    "adverseEvents = curOMOP.fetchall()\n",
    "\n",
    "for event in adverseEvents:\n",
    "    curIDEA.execute(getEpisodeEvent, (event[1], event[0]))\n",
    "    episode = curIDEA.fetchone()\n",
    "    if episode is not None:\n",
    "        curOMOP.execute(insertAdverseEvent, (event[3], event[1], event[2], episode[0]))"
   ]
  }
 ],
 "metadata": {
  "language_info": {
   "name": "python"
  }
 },
 "nbformat": 4,
 "nbformat_minor": 2
}
