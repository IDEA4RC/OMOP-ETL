{
 "cells": [
  {
   "cell_type": "markdown",
   "metadata": {},
   "source": [
    "# From OMOP to IDEA4RC Surgery"
   ]
  },
  {
   "cell_type": "code",
   "execution_count": null,
   "metadata": {},
   "outputs": [],
   "source": [
    "# Conexión a la base de datos OMOP CDM\n",
    "conn = psycopg2.connect(\n",
    "    dbname=\"omopdb\",\n",
    "    user=\"postgres\",\n",
    "    password=\"mysecretpassword\",\n",
    "    host=\"localhost\",\n",
    "    port=\"5432\"\n",
    ")\n",
    "\n",
    "# Comando para hacer el mapeo (insercción de datos del IDEA4RC.csv a OMOP)\n",
    "curOMOP = conn.cursor()\n",
    "config = {\n",
    "    'user': 'user', \n",
    "    'password': 'password',\n",
    "    'host': '127.0.0.1',\n",
    "    'database': 'idea4rc_dm',\n",
    "    'raise_on_warnings': True\n",
    "}\n",
    "\n",
    "conn2 = mysql.connector.connect(**config)\n",
    "curIDEA = conn2.cursor()"
   ]
  },
  {
   "cell_type": "markdown",
   "metadata": {},
   "source": [
    "### From ProcedureOccurrence to IDEA\n",
    "\n",
    "I do not know how to get the H&N stage since we do not have any concept id to help us and it is not clear which one in Athena would be the correct one. Same with Metastasis\n",
    "\n",
    "TO BE DONE"
   ]
  },
  {
   "cell_type": "code",
   "execution_count": null,
   "metadata": {},
   "outputs": [],
   "source": [
    "selectEpisodes = \"SELECT DISTINCT episode_id, episode_start_date FROM episode_event\"\n",
    "curOMOP.execute(selectEpisodes)\n",
    "episodes = curOMOP.fetchall()\n",
    "selectProcedureOccurrence = \"\"\"SELECT procedure_date, procedure_concept_id, procedure_occurrence_id FROM procedure_occurrence INNER JOIN episode_event ON procedure_occurrence.visit_occurrence_id = episode_event.event_id\n",
    "WHERE episode_id = %s AND procedure_concept_id IN (4301351,4315400,4217482,4181193)\"\"\"\n",
    "episodeIDEA=\"\"\"\n",
    "    SELECT id FROM cancer_episode WHERE patient = %s AND start_date = %s\"\"\"\n",
    "insert= \"\"\"INSERT INTO surgery (episode_event, procedure_concept_id, visit_occurrence_id) VALUES (%s, %s, %s) RETURNING id\"\"\"\n",
    "occurrencesList={}\n",
    "for episode in episodes:\n",
    "    curIDEA.execute(episodeIDEA, (episode[0], episode[1]))\n",
    "    episode_id = curIDEA.fetchone()\n",
    "    curOMOP.execute(selectProcedureOccurrence, (episode_id[0]))\n",
    "    procedures = curOMOP.fetchall()\n",
    "    for procedure in procedures:\n",
    "        curIDEA.execute(insert, (episode_id[0], procedure[1], procedure[2]))  \n",
    "        id = curIDEA.fetchone()  \n",
    "        occurrencesList[id[0]] = procedure[2]   # To avoid duplicate code and excessive queries, we will store the procedure_occurrence_id in a list and use it for the measurements\n",
    "\n",
    "        #TODO\n",
    "    \n",
    "\n",
    "\n",
    "\n",
    "\n"
   ]
  },
  {
   "cell_type": "markdown",
   "metadata": {},
   "source": [
    "### From Measurement to IDEA\n",
    "Here we find a similar problem, since we need to find the way to \n",
    "\n",
    "Surgical specimen grading only in untreated tumours, Surgical specimen Mitotic count, Margins after surgery, Type of surgical approach on Tumour, Surgery intention?\n",
    "\n",
    "Assuming measurement_event_id is the procedure occurrence."
   ]
  },
  {
   "cell_type": "code",
   "execution_count": null,
   "metadata": {},
   "outputs": [],
   "source": [
    "updt=\"\"\"\n",
    "    UPDATE surgery SET surgery_id = %s WHERE procedure_occurrence_id = %s\"\"\"\n",
    "\n",
    "columnsMeasurement= {\n",
    "    36768904: \"Tumor rupture\",\n",
    "    3010988: \"Reconstruction\",\n",
    "    35225724: \"Site of surgery on metastasis_soft tissue\",\n",
    "    36769243: \"Site of surgery on metastasis_distant lymph nodes\",\n",
    "    36770283: \"Site of surgery on metastasis_lung\",\n",
    "    36769301: \"Site of surgery on metastasis_bone\",\n",
    "    36770544: \"Site of surgery on metastasis_liver\",\n",
    "    35226258: \"Site of surgery on metastasis_pleura\",\n",
    "    35226253: \"Site of surgery on metastasis_peritoneum\",\n",
    "    36768862: \"Site of surgery on metastasis_brain\",\n",
    "    36769180: \"Site of surgery on metastasis_other viscera\",\n",
    "    4129922: \"Site of surgery on metastasis_unknown\",\n",
    "    4137797: \"Surgical complications (Clavien-Dindo Classification)\"\n",
    "}\n",
    "selectMeas=\"\"\"SELECT measurement_concept_id, value_as_concept_id FROM measurement WHERE measurement_event_id = %s AND measurement_concept_id = %s\"\"\"\n",
    "booleans=['Tumor rupture','Reconstruction','Neck surgery','Surgery on M',\n",
    "             \"Site of surgery on metastasis_soft tissue\",\n",
    "             \"Site of surgery on metastasis_distant lymph nodes\",\"Site of surgery on metastasis_lung\",\n",
    "             \"Site of surgery on metastasis_bone\",\"Site of surgery on metastasis_liver\",\n",
    "             \"Site of surgery on metastasis_pleura\",\"Site of surgery on metastasis_perimeasurement_event_idtoneum\",\n",
    "             \"Site of surgery on metastasis_brain\",\"Site of surgery on metastasis_other viscera\",\"Site of surgery on metastasis_unknown\"]\n",
    "for surgery in occurrencesList.keys():\n",
    "    for col in columnsMeasurement.keys():\n",
    "        select = \"\"\"SELECT measurement_id FROM measurement WHERE procedure_occurrence_id = %s AND measurement_concept_id = %s\"\"\"\n",
    "        curOMOP.execute(selectMeas, (occurrencesList[surgery], col))\n",
    "        measurement = curOMOP.fetchone()\n",
    "        if measurement:\n",
    "            columnName=columnsMeasurement.get(col)\n",
    "            update = \"\"\"UPDATE measurement SET {columnName} = %s WHERE id = %s\"\"\"\n",
    "            curIDEA.execute(select, (surgery, col))\n",
    "            if columnName in booleans:\n",
    "                curIDEA.execute(update, (1,surgery ))            \n",
    "            else:\n",
    "                curIDEA.execute(update, (measurement[1],surgery ))\n",
    "        elif columnsMeasurement.get(col) in booleans:\n",
    "            columnName=columnsMeasurement.get(col)\n",
    "            update = \"\"\"UPDATE measurement SET {columnName} = %s WHERE id = %s\"\"\"\n",
    "            curIDEA.execute(update, (0,surgery ))"
   ]
  }
 ],
 "metadata": {
  "language_info": {
   "name": "python"
  }
 },
 "nbformat": 4,
 "nbformat_minor": 2
}
