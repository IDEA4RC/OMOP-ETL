{
 "cells": [
  {
   "cell_type": "markdown",
   "metadata": {},
   "source": [
    "# From OMOP to IDEA4RC Surgery"
   ]
  },
  {
   "cell_type": "code",
   "execution_count": null,
   "metadata": {},
   "outputs": [],
   "source": [
    "# Conexión a la base de datos OMOP CDM\n",
    "conn = psycopg2.connect(\n",
    "    dbname=\"omopdb\",\n",
    "    user=\"postgres\",\n",
    "    password=\"mysecretpassword\",\n",
    "    host=\"localhost\",\n",
    "    port=\"5432\"\n",
    ")\n",
    "\n",
    "# Comando para hacer el mapeo (insercción de datos del IDEA4RC.csv a OMOP)\n",
    "curOMOP = conn.cursor()\n",
    "config = {\n",
    "    'user': 'user', \n",
    "    'password': 'password',\n",
    "    'host': '127.0.0.1',\n",
    "    'database': 'idea4rc_dm',\n",
    "    'raise_on_warnings': True\n",
    "}\n",
    "\n",
    "conn2 = mysql.connector.connect(**config)\n",
    "curIDEA = conn2.cursor()"
   ]
  },
  {
   "cell_type": "markdown",
   "metadata": {},
   "source": [
    "### From ProcedureOccurrence to IDEA\n",
    "\n",
    "I do not know how to get the H&N stage since we do not have any concept id to help us and it is not clear which one in Athena would be the correct one. Same with Metastasis\n",
    "\n",
    "TO BE DONE"
   ]
  },
  {
   "cell_type": "code",
   "execution_count": null,
   "metadata": {},
   "outputs": [],
   "source": [
    "selectEpisodes = \"SELECT DISTINCT episode_id, episode_start_date FROM episode_event\"\n",
    "curOMOP.execute(selectEpisodes)\n",
    "episodes = curOMOP.fetchall()\n",
    "selectProcedureOccurrence = \"\"\"SELECT procedure_date, procedure_concept_id FROM procedure_occurrence INNER JOIN episode_event ON procedure_occurrence.visit_occurrence_id = episode_event.event_id\n",
    "WHERE episode_id = %s AND procedure_concept_id IN (4301351,4315400,4217482,4181193)\"\"\"\n",
    "episodeIDEA=\"\"\"\n",
    "    SELECT id FROM cancer_episode WHERE patient = %s AND start_date = %s\"\"\"\n",
    "insert= \"\"\"INSERT INTO surgery (episode_event, procedure_concept_id, visit_occurrence_id) VALUES (%s, %s, %s)\"\"\"\n",
    "for episode in episodes:\n",
    "    curIDEA.execute(episodeIDEA, (episode[0], episode[1]))\n",
    "    episode_id = curIDEA.fetchone()\n",
    "    curOMOP.execute(selectProcedureOccurrence, (episode_id[0]))\n",
    "    procedures = curOMOP.fetchall()"
   ]
  },
  {
   "cell_type": "markdown",
   "metadata": {},
   "source": [
    "### From Measurement to IDEA\n",
    "Here we find a similar problem, since we need to find those "
   ]
  },
  {
   "cell_type": "code",
   "execution_count": null,
   "metadata": {},
   "outputs": [],
   "source": []
  }
 ],
 "metadata": {
  "language_info": {
   "name": "python"
  }
 },
 "nbformat": 4,
 "nbformat_minor": 2
}
