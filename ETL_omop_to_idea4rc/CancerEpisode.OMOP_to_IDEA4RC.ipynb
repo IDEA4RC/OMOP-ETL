{
 "cells": [
  {
   "cell_type": "markdown",
   "metadata": {},
   "source": [
    "# From OMOP to IDEA4RC Cancer Episode"
   ]
  },
  {
   "cell_type": "code",
   "execution_count": null,
   "metadata": {},
   "outputs": [],
   "source": [
    "import mysql.connector\n",
    "import pandas as pd\n",
    "import psycopg2\n",
    "import random\n",
    "import numpy as np\n",
    "from datetime import datetime, timedelta"
   ]
  },
  {
   "cell_type": "code",
   "execution_count": null,
   "metadata": {},
   "outputs": [],
   "source": [
    "conn = psycopg2.connect(\n",
    "    dbname=\"omopdb\",\n",
    "    user=\"postgres\",\n",
    "    password=\"mysecretpassword\",\n",
    "    host=\"localhost\",\n",
    "    port=\"5432\"\n",
    ")\n",
    "\n",
    "curOMOP = conn.cursor()"
   ]
  },
  {
   "cell_type": "code",
   "execution_count": null,
   "metadata": {},
   "outputs": [],
   "source": [
    "config = {\n",
    "    'user': 'user', \n",
    "    'password': 'password',\n",
    "    'host': '127.0.0.1',\n",
    "    'database': 'idea4rc_dm',\n",
    "    'raise_on_warnings': True\n",
    "}\n",
    "\n",
    "conn2 = mysql.connector.connect(**config)\n",
    "curIDEA = conn2.cursor()"
   ]
  },
  {
   "cell_type": "markdown",
   "metadata": {},
   "source": [
    "# Doubts:\n",
    "\n",
    "How is the hash supposed to be created so it hashes to the same cancer episodes, with wrong diagnosis? how do we know if they are the same with OMOP?\n",
    "\n",
    "Version?"
   ]
  },
  {
   "cell_type": "markdown",
   "metadata": {},
   "source": [
    "### From Procedure Occurrence to Cancer Episode"
   ]
  },
  {
   "cell_type": "code",
   "execution_count": null,
   "metadata": {},
   "outputs": [],
   "source": [
    "query= \"\"\"\n",
    "    SELECT id\n",
    "    FROM patient;\n",
    "\"\"\"\n",
    "\n",
    "query2= \"\"\"\n",
    "    SELECT procedure_date, procedure_concept_id, provider_id \n",
    "    FROM procedure_occurrence WHERE patient_id = %s\n",
    "    AND procedure_concept_id IN (4171863,4321878,4321986,4228202,4279903);\n",
    "\"\"\"\n",
    "curOMOP.execute(query)\n",
    "\n",
    "results = curIDEA.fetchall()\n",
    "\n",
    "for row in results:\n",
    "    curIDEA.execute(query2, (row))\n",
    "    results2 = curIDEA.fetchall()\n",
    "    for row2 in results2:\n",
    "        query_insert= \"\"\"\n",
    "            INSERT INTO cancer_episode (patient_id, procedure_date, procedure_concept_id, provider_id)\n",
    "            VALUES (%s, %s, %s, %s)\n",
    "        \"\"\"\n",
    "        curIDEA.execute(query_insert, (row[0], row2[0], row2[1], row2[2]))"
   ]
  },
  {
   "cell_type": "markdown",
   "metadata": {},
   "source": [
    "### From Condition Occurrence to Cancer Episode"
   ]
  },
  {
   "cell_type": "markdown",
   "metadata": {},
   "source": [
    "for histology_adenocarcinoma, what should the code be for 'LOBULAR_CARCINOMA','SALIVARY_DUCT_CARCINOMA','MAMMARY_SECRETORY_CARCINOMA','MYOEPITHELIAL_CARCINOMA','EX_PLEOMORPHIC_ADENOCARCINOMA','SEBACEOUS_LYMPHADENOCARCINOMA', 'SALIVARY_GLAND','NASOPHARYNX_PAPILLARY_ADENOCARCINOMA'???. Also we have 10 codes which we don't find in the initdb.sql\n",
    "\n",
    "histology_neuroendocrine we have 2 codes we dont find in the initdb.sql\n",
    "\n",
    "histology_odontogenic_carcinoma 1 code we dont find in the db, and 'ODONTOGENIC_CARCINOMA','AMELOBLASTIC_CARCINOMA','DEDIFFERENTIATED_INTRAOSSEOUS_AMELOBLASTIC_CARCINOMA','DEDIFFERENTIATED_PERIPHERAL_AMELOBLASTIC_CARCINOMA','PRIMARY_INTRAOSSEOUS_CARCINOMA','INTRAOSSEOUS_CARCINOMA_DEVELOPED_ON_ODONTOGENIC_CYST'\n",
    "\n",
    "I believe these columns are missing: Histology subgroup Adenosquamous carcinoma, Histology subgroup Teratocarcinosarcoma, Histology subgroup NUT carcinoma, Histology subgroup HPV-related Multiphenotypic Sinonasal Carcinoma, Histology subgroup Olfactory neuroblastoma (esthesioneuroblastoma; esthesioneurocytoma; esthesioneuroepithelioma; olfactory placode tumor), \n",
    "\n",
    "\n"
   ]
  },
  {
   "cell_type": "code",
   "execution_count": null,
   "metadata": {},
   "outputs": [],
   "source": [
    "dictionary = {\n",
    "    'histology_squamous':[4078953, 4166826, 4206785, 4009590, 4247661, 4029973, 37156145, 4312219, 4052146, \n",
    "4175678, 4233949, 4191609, 37156145, 37204531, 37204532],\n",
    "    'histology_adenocarcinoma':[4097305, 37152526, 4050978, 4247921, 4238334, 4172953, 4022895, 4253608, \n",
    "4030121, 4164740, 4148292, 4146684, 4221403, 4224593, 4323699, 4029680, \n",
    "4321002, 4066512, 4182993, 4271564, 4212379, 4050978],\n",
    "    'histology_small_cell':[4307588, 4307589, 4307590, 4307591, 4307592, 4307593, 4307594, 4307595, 4307596]\n",
    "}\n",
    "\n",
    "histology_squamous = {\n",
    "    4078953: 'KERATINIZING_SQUAMOUS_CELL_CARCINOMA',\n",
    "    4166826: 'NON_KERATINIZING_SQUAMOUS_CELL_CARCINOMA',\n",
    "    4206785: 'SCHNEIDERIAN_CARCINOMA',\n",
    "    4009590: 'SPINDLE_CELLSQUAMOUS_CELL_CARCINOMA',\n",
    "    4247661: 'LYMPHOEPITHELIAL_CARCINOMA',\n",
    "    4029973: 'BASALOID_SQUAMOUS_CELL_CARCINOMA',\n",
    "    4233949: 'VERRUCOUS_SQUAMOUS_CELL_CARCINOMA',\n",
    "    4191609: 'PAPILLARY_SQUAMOUS_CELL_CARCINOMA',\n",
    "    37156145: 'SQUAMOUS_CELL_CARCINOMA',\n",
    "    37204531: 'SQUAMOUS_CELL_CARCINOMA_HPV_POSITIVE',\n",
    "    37204532: 'SQUAMOUS_CELL_CARCINOMA_HPV_NEGATIVE'\n",
    "}\n",
    "\n",
    "histology_adenocarcinoma = {\n",
    "    4097305: '???',\n",
    "    37152526: '???',\n",
    "    4050978: 'CYSTOADENOCARCINOMA',\n",
    "    4247921: 'MUCINOUS',\n",
    "    4238334: 'CERUMINOUS',\n",
    "    4172953: '???',\n",
    "    4022895: 'ADENOID_CYSTIC_CARCINOMA',\n",
    "    4253608: 'MUCOEPIDERMOID_CARCINOMA',\n",
    "    4030121: 'POLYMORPHOUS',\n",
    "    4164740: 'ACINAR_CELL_CARCINOMA',\n",
    "    4148292: 'CLEAR_CELL_CARCINOMA',\n",
    "    4146684: 'BASAL_CELL_ADENOCARCINOMA',\n",
    "    4221403: '???',\n",
    "    4224593: '???',\n",
    "    4323699: '???',\n",
    "    4029680: '???',\n",
    "    4321002: '???',\n",
    "    4066512: '???',\n",
    "    4182993: 'SEBACEOUS_ADENOCARCINOMA',\n",
    "    4271564: 'CARCINOSARCOMA',\n",
    "    4212379: 'OXYPHILIC_CARCINOMA',\n",
    "    4050978: '???'\n",
    "}\n",
    "\n",
    "histology_neuroendocrine= {\n",
    "    36714029:'SMCC',\n",
    "    37018672:'POORLY_DIFFERENTIATED_NEUROENDOCRINE_CARCINOMA',\n",
    "    4029971:'LARGE_CELL_NEUROENDOCRINE_CARCINOMA',\n",
    "    4133828:'???',\n",
    "    4133297:'???'\n",
    "}\n",
    "histology_odontogenic_carcinoma= {\n",
    "    4098585:'???',\n",
    "    37116966:'CLEAR_CELL_ODONTOGENIC_CARCINOMA',\n",
    "    4005818: 'GHOST_CELL_ODONTOGENIC_CARCINOMA'\n",
    "}\n",
    "\n",
    "histology_snuc= {\n",
    "    4243327:'SNUC'\n",
    "}\n",
    "\n",
    "\n",
    "\n"
   ]
  }
 ],
 "metadata": {
  "language_info": {
   "name": "python"
  }
 },
 "nbformat": 4,
 "nbformat_minor": 2
}
