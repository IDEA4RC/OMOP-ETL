{
 "cells": [
  {
   "cell_type": "markdown",
   "metadata": {},
   "source": [
    "# OMOP to Patient Follow Up IDEA4RC"
   ]
  },
  {
   "cell_type": "code",
   "execution_count": null,
   "metadata": {},
   "outputs": [],
   "source": [
    "import mysql.connector\n",
    "import pandas as pd\n",
    "import psycopg2\n",
    "import random\n",
    "import numpy as np\n",
    "from datetime import datetime, timedelta"
   ]
  },
  {
   "cell_type": "code",
   "execution_count": null,
   "metadata": {},
   "outputs": [],
   "source": [
    "conn = psycopg2.connect(\n",
    "    dbname=\"omopdb\",\n",
    "    user=\"postgres\",\n",
    "    password=\"mysecretpassword\",\n",
    "    host=\"localhost\",\n",
    "    port=\"5432\"\n",
    ")\n",
    "\n",
    "curOMOP = conn.cursor()"
   ]
  },
  {
   "cell_type": "code",
   "execution_count": null,
   "metadata": {},
   "outputs": [],
   "source": [
    "config = {\n",
    "    'user': 'user', \n",
    "    'password': 'password',\n",
    "    'host': '127.0.0.1',\n",
    "    'database': 'idea4rc_dm',\n",
    "    'raise_on_warnings': True\n",
    "}\n",
    "\n",
    "conn2 = mysql.connector.connect(**config)\n",
    "curIDEA = conn2.cursor()"
   ]
  },
  {
   "cell_type": "markdown",
   "metadata": {},
   "source": [
    "# PROBLEMS"
   ]
  },
  {
   "cell_type": "markdown",
   "metadata": {},
   "source": [
    "Here we do not have the code for the new cancer diagnosis in omop, so we can not find the date of the last cancer diagnosis. We need to check this. If this is in observation, then we need the Variable as Modifier.\n",
    "\n",
    "For the ALIVE, where do we find this data in OMOP? DEAD is in DEATH, even if we do not have the data of the reason (other caouse and unknown cause in OMOP???)\n",
    "\n",
    "How to \"new diagnosis\"??? \n",
    "\n",
    "\n"
   ]
  },
  {
   "cell_type": "code",
   "execution_count": null,
   "metadata": {},
   "outputs": [],
   "source": [
    "#I will simply use the codes episode_concept_id=32533 and episode_type_concept_id=32879\n",
    "\n",
    "query= \"\"\"\n",
    "    SELECT p.person_id\n",
    "    FROM person p;\n",
    "\"\"\"\n",
    "curOMOP.execute(query)\n",
    "insert= \"\"\"\n",
    "    INSERT INTO patient_follow_up (patient, date_of_new_cancer_diagnosis, last_contact, new_cancer_diagnosis, new_cancer_topography, patient_follow_up_date,status_at_last_follow_up)\n",
    "    VALUES (%s, %s, %s, %s, %s, %s);\n",
    "\"\"\"\n",
    "\n",
    "for person in persons:\n",
    "    person_id = person[0]\n",
    "    queryDeath = \"\"\"\n",
    "        SELECT death_date\n",
    "        FROM death\n",
    "        WHERE person_id = %s;\n",
    "    \"\"\"\n",
    "    curOMOP.execute(queryDeath, (person_id))\n",
    "    death_date = curOMOP.fetchone()\n",
    "    status_last_FU=\"\"\n",
    "    if death_date:\n",
    "        status_last_FU=\"DEATH\"      #FOR DEATH, HOW TO GET THE CAUSE OF DEATH?\n",
    "    else:    #this case is more complicated\n",
    "        queryAlive= \"\"\"\n",
    "            SELECT episode_start_date,  episode_concept_id\n",
    "            FROM episode\n",
    "            WHERE person_id = %s AND episode_concept_id IN (2946,32947,32949,32948)\n",
    "            AND episode_start_date>=(SELECT MAX (episode_start_date) FROM episode WHERE person_id = %s AND episode_concept_id IN (2946,32947,32949,32948) LIMIT 1);\n",
    "            LIMIT 1;´\n",
    "        \"\"\"\n",
    "        curOMOP.execute(queryAlive, (person_id,person_id))\n",
    "        last_episode = curOMOP.fetchone()\n",
    "        if last_episode:\n",
    "            status_last_FU = \"NED\" if last_episode[1] == 32946 else \"AWD\"\n",
    "    \n",
    "    dateQuery= \"\"\"\n",
    "        SELECT MAX (episode_start_date), MAX (episode_end_date)\n",
    "        FROM episode\n",
    "        WHERE person_id = %s;\n",
    "    \"\"\"\n",
    "    curIDEA.execute(dateQuery, (person_id))\n",
    "    last_episode = curIDEA.fetchone()\n",
    "    patient_follow_up_date = np.max(last_episode[0], last_episode[1])\n",
    "\n",
    "    dateVisit= \"\"\"\n",
    "        SELECT MAX(visit_start_date)\n",
    "        FROM visit_occurrence\n",
    "        WHERE person_id = %s;\n",
    "    \"\"\"\n",
    "    curOMOP.execute(dateVisit, (person_id))\n",
    "    last_visit = curOMOP.fetchone()\n",
    "    last_visit_date = last_visit[0]\n",
    "    last_FU=np.max(last_visit_date, patient_follow_up_date)\n",
    "    curIDEA.execute(insert, (person_id, ???, lastFU, ???,???,  last_visit_date, status_last_FU))\n",
    "\n",
    "    \n",
    "    \n",
    "\n",
    "        \n",
    "        \n"
   ]
  },
  {
   "cell_type": "code",
   "execution_count": null,
   "metadata": {},
   "outputs": [],
   "source": []
  }
 ],
 "metadata": {
  "language_info": {
   "name": "python"
  }
 },
 "nbformat": 4,
 "nbformat_minor": 2
}
