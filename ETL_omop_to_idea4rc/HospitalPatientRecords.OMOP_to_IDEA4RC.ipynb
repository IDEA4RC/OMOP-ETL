{
 "cells": [
  {
   "cell_type": "markdown",
   "id": "67952da4-cc39-4bfc-819b-744737441a02",
   "metadata": {},
   "source": [
    "# OMOP to Hospital Patient Records"
   ]
  },
  {
   "cell_type": "code",
   "execution_count": null,
   "id": "585ae3e9-2007-4ebc-baef-d551991b7332",
   "metadata": {},
   "outputs": [],
   "source": [
    "import mysql.connector\n",
    "import pandas as pd\n",
    "import psycopg2\n",
    "import random\n",
    "import numpy as np\n",
    "from datetime import datetime, timedelta"
   ]
  },
  {
   "cell_type": "code",
   "execution_count": null,
   "id": "bc5a4120-ff2e-4999-8ef6-6809de9f2f68",
   "metadata": {},
   "outputs": [],
   "source": [
    "conn = psycopg2.connect(\n",
    "    dbname=\"omopdb\",\n",
    "    user=\"postgres\",\n",
    "    password=\"mysecretpassword\",\n",
    "    host=\"localhost\",\n",
    "    port=\"5432\"\n",
    ")\n",
    "\n",
    "curOMOP = conn.cursor()"
   ]
  },
  {
   "cell_type": "code",
   "execution_count": null,
   "id": "db41bfbd-9a7d-401e-9ce7-1119f191fc50",
   "metadata": {},
   "outputs": [],
   "source": [
    "config = {\n",
    "    'user': 'user', \n",
    "    'password': 'password',\n",
    "    'host': '127.0.0.1',\n",
    "    'database': 'idea4rc_dm',\n",
    "    'raise_on_warnings': True\n",
    "}\n",
    "\n",
    "conn2 = mysql.connector.connect(**config)\n",
    "curIDEA = conn2.cursor()"
   ]
  },
  {
   "cell_type": "markdown",
   "id": "5bf0ad0e-237a-42a0-85d7-32844bdb4dea",
   "metadata": {},
   "source": [
    "### Visit Ocurrence to Hospital Patient Records"
   ]
  },
  {
   "cell_type": "code",
   "execution_count": null,
   "id": "8a18b312-e691-4ce3-bf0e-2f619a4526ba",
   "metadata": {},
   "outputs": [],
   "source": [
    "query=\"\"\"\n",
    "    SELECT \n",
    "        v.patient,\n",
    "        v.hospital,\n",
    "        MIN(v.date) AS earliest_date\n",
    "    FROM \n",
    "        visit_occurrence \n",
    "    WHERE visit_concept_id=38004515\n",
    "    GROUP BY \n",
    "        v.patient, \n",
    "        v.hospital;\n",
    "\"\"\"\n",
    "\n",
    "insert_query = \"\"\"\n",
    "    INSERT INTO hospital_data (id, date_of_first_contact_with_the_hospital, hospital_data, patient)\n",
    "    VALUES (%s, %s)\n",
    "\"\"\"\n",
    "\n",
    "curOMOP.execute(query)\n",
    "\n",
    "results = curOMOP.fetchall()\n",
    "\n",
    "for row in results:\n",
    "    newId = datetime.now().strftime('%Y%m%d%H%M%S') + str(uuid4())\n",
    "    date_of_first_contact_with_the_hospital=row[2]\n",
    "    hospital_data=row[1]\n",
    "    patient = row[0]\n",
    "    curIDEA.execute(insert_query, (newId, date_of_first_contact_with_the_hospital, hospital_data, patient))\n",
    "    conn2.commit()\n"
   ]
  }
 ],
 "metadata": {
  "kernelspec": {
   "display_name": "Python 3 (ipykernel)",
   "language": "python",
   "name": "python3"
  },
  "language_info": {
   "codemirror_mode": {
    "name": "ipython",
    "version": 3
   },
   "file_extension": ".py",
   "mimetype": "text/x-python",
   "name": "python",
   "nbconvert_exporter": "python",
   "pygments_lexer": "ipython3",
   "version": "3.10.12"
  }
 },
 "nbformat": 4,
 "nbformat_minor": 5
}
