{
 "cells": [
  {
   "cell_type": "markdown",
   "id": "7aa6e4b7-18cd-4021-b9fc-05bff73325f2",
   "metadata": {},
   "source": [
    "# OMOP to Patient"
   ]
  },
  {
   "cell_type": "code",
   "execution_count": null,
   "id": "41faf3a0-4aba-4920-9efc-6bc91021dcba",
   "metadata": {},
   "outputs": [],
   "source": [
    "import mysql.connector\n",
    "import pandas as pd\n",
    "import psycopg2\n",
    "import random\n",
    "import numpy as np\n",
    "from datetime import datetime, timedelta"
   ]
  },
  {
   "cell_type": "code",
   "execution_count": null,
   "id": "5a00f9ed-bf61-406f-90a4-b19e0b352fc7",
   "metadata": {},
   "outputs": [],
   "source": [
    "conn = psycopg2.connect(\n",
    "    dbname=\"omopdb\",\n",
    "    user=\"postgres\",\n",
    "    password=\"mysecretpassword\",\n",
    "    host=\"localhost\",\n",
    "    port=\"5432\"\n",
    ")\n",
    "\n",
    "# Comando para hacer el mapeo (insercción de datos del IDEA4RC.csv a OMOP)\n",
    "curOMOP = conn.cursor()"
   ]
  },
  {
   "cell_type": "code",
   "execution_count": null,
   "id": "017cfb9e-5bf6-4b6b-afd2-5518a6fd09ea",
   "metadata": {},
   "outputs": [],
   "source": [
    "config = {\n",
    "    'user': 'user', \n",
    "    'password': 'password',\n",
    "    'host': '127.0.0.1',\n",
    "    'database': 'idea4rc_dm',\n",
    "    'raise_on_warnings': True\n",
    "}\n",
    "\n",
    "conn2 = mysql.connector.connect(**config)\n",
    "curIDEA = conn2.cursor()"
   ]
  },
  {
   "cell_type": "markdown",
   "id": "645fded0-5044-4f6f-b25a-53678da81b8a",
   "metadata": {},
   "source": [
    "# Person to Patient"
   ]
  },
  {
   "cell_type": "code",
   "execution_count": null,
   "id": "8d54380a-2e4f-4386-ab7c-fd43edeeb6fe",
   "metadata": {},
   "outputs": [],
   "source": []
  }
 ],
 "metadata": {
  "kernelspec": {
   "display_name": "Python 3 (ipykernel)",
   "language": "python",
   "name": "python3"
  },
  "language_info": {
   "codemirror_mode": {
    "name": "ipython",
    "version": 3
   },
   "file_extension": ".py",
   "mimetype": "text/x-python",
   "name": "python",
   "nbconvert_exporter": "python",
   "pygments_lexer": "ipython3",
   "version": "3.10.12"
  }
 },
 "nbformat": 4,
 "nbformat_minor": 5
}
