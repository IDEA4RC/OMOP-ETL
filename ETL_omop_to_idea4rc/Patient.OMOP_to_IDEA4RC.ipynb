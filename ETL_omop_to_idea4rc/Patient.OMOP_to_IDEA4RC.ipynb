{
 "cells": [
  {
   "cell_type": "markdown",
   "id": "7aa6e4b7-18cd-4021-b9fc-05bff73325f2",
   "metadata": {},
   "source": [
    "# OMOP to Patient"
   ]
  },
  {
   "cell_type": "code",
   "execution_count": null,
   "id": "41faf3a0-4aba-4920-9efc-6bc91021dcba",
   "metadata": {},
   "outputs": [],
   "source": [
    "import mysql.connector\n",
    "import pandas as pd\n",
    "import psycopg2\n",
    "import random\n",
    "import numpy as np\n",
    "from datetime import datetime, timedelta"
   ]
  },
  {
   "cell_type": "code",
   "execution_count": null,
   "id": "5a00f9ed-bf61-406f-90a4-b19e0b352fc7",
   "metadata": {},
   "outputs": [],
   "source": [
    "conn = psycopg2.connect(\n",
    "    dbname=\"omopdb\",\n",
    "    user=\"postgres\",\n",
    "    password=\"mysecretpassword\",\n",
    "    host=\"localhost\",\n",
    "    port=\"5432\"\n",
    ")\n",
    "\n",
    "curOMOP = conn.cursor()"
   ]
  },
  {
   "cell_type": "code",
   "execution_count": null,
   "id": "017cfb9e-5bf6-4b6b-afd2-5518a6fd09ea",
   "metadata": {},
   "outputs": [],
   "source": [
    "config = {\n",
    "    'user': 'user', \n",
    "    'password': 'password',\n",
    "    'host': '127.0.0.1',\n",
    "    'database': 'idea4rc_dm',\n",
    "    'raise_on_warnings': True\n",
    "}\n",
    "\n",
    "conn2 = mysql.connector.connect(**config)\n",
    "curIDEA = conn2.cursor()"
   ]
  },
  {
   "cell_type": "markdown",
   "id": "645fded0-5044-4f6f-b25a-53678da81b8a",
   "metadata": {},
   "source": [
    "### Person to Patient"
   ]
  },
  {
   "cell_type": "code",
   "execution_count": 1,
   "id": "8d54380a-2e4f-4386-ab7c-fd43edeeb6fe",
   "metadata": {},
   "outputs": [
    {
     "ename": "SyntaxError",
     "evalue": "incomplete input (2615831892.py, line 1)",
     "output_type": "error",
     "traceback": [
      "\u001b[0;36m  Cell \u001b[0;32mIn[1], line 1\u001b[0;36m\u001b[0m\n\u001b[0;31m    query= \"\"\"\u001b[0m\n\u001b[0m           ^\u001b[0m\n\u001b[0;31mSyntaxError\u001b[0m\u001b[0;31m:\u001b[0m incomplete input\n"
     ]
    }
   ],
   "source": [
    "query= \"\"\"\n",
    "    SELECT p.person_id , p.gender_concept_id, p.race_concept_id, p.year_of_birth, p.location_id \n",
    "    FROM person p\n",
    "\"\"\"\n",
    "\n",
    "insert_query = \"\"\"\n",
    "    INSERT INTO patient (id, sex, race, birthYear, countryOfResidence)\n",
    "    VALUES (%s, %s, %s, %s, %s)\n",
    "\"\"\"\n",
    "curOMOP.execute(query)\n",
    "\n",
    "results = curOMOP.fetchall()\n",
    "\n",
    "for row in results:\n",
    "    id_person = row[0]\n",
    "    sex = row[1]\n",
    "    race = row[2]\n",
    "    birthYear = row[3]\n",
    "    countryOfResidence = row[4]\n",
    "    curIDEA.execute(insert_query, (id_person, sex, race, birthYear,countryOfResidence))\n",
    "    conn2.commit()\n",
    "    "
   ]
  },
  {
   "cell_type": "markdown",
   "id": "dfb3ecfe-f8f8-449c-8f44-b3a87d7b7213",
   "metadata": {},
   "source": [
    "### Observation to Patient"
   ]
  },
  {
   "cell_type": "code",
   "execution_count": null,
   "id": "d7263fd7-f2b5-4a7c-b21c-5face47c0859",
   "metadata": {},
   "outputs": [],
   "source": [
    "query= \"\"\"\n",
    "    SELECT o.person_id , \n",
    "    FROM observation o\n",
    "\"\"\"\n",
    "\n",
    "insert_query = \"\"\"\n",
    "    INSERT INTO patient (id, sex, race, birthYear, countryOfResidence)\n",
    "    VALUES (%s, %s, %s, %s, %s)\n",
    "\"\"\""
   ]
  }
 ],
 "metadata": {
  "kernelspec": {
   "display_name": "Python 3 (ipykernel)",
   "language": "python",
   "name": "python3"
  },
  "language_info": {
   "codemirror_mode": {
    "name": "ipython",
    "version": 3
   },
   "file_extension": ".py",
   "mimetype": "text/x-python",
   "name": "python",
   "nbconvert_exporter": "python",
   "pygments_lexer": "ipython3",
   "version": "3.10.12"
  }
 },
 "nbformat": 4,
 "nbformat_minor": 5
}
