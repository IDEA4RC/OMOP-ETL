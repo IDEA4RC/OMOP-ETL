{
 "cells": [
  {
   "cell_type": "markdown",
   "metadata": {},
   "source": [
    "# From OMOP to IDEA4RC Episode Event"
   ]
  },
  {
   "cell_type": "code",
   "execution_count": null,
   "metadata": {},
   "outputs": [],
   "source": [
    "import mysql.connector\n",
    "import pandas as pd\n",
    "import psycopg2\n",
    "import random\n",
    "import numpy as np\n",
    "from datetime import datetime, timedelta"
   ]
  },
  {
   "cell_type": "code",
   "execution_count": null,
   "metadata": {},
   "outputs": [],
   "source": [
    "conn = psycopg2.connect(\n",
    "    dbname=\"omopdb\",\n",
    "    user=\"postgres\",\n",
    "    password=\"mysecretpassword\",\n",
    "    host=\"localhost\",\n",
    "    port=\"5432\"\n",
    ")\n",
    "\n",
    "curOMOP = conn.cursor()"
   ]
  },
  {
   "cell_type": "code",
   "execution_count": null,
   "metadata": {},
   "outputs": [],
   "source": [
    "config = {\n",
    "    'user': 'user', \n",
    "    'password': 'password',\n",
    "    'host': '127.0.0.1',\n",
    "    'database': 'idea4rc_dm',\n",
    "    'raise_on_warnings': True\n",
    "}\n",
    "\n",
    "conn2 = mysql.connector.connect(**config)\n",
    "curIDEA = conn2.cursor()"
   ]
  },
  {
   "cell_type": "markdown",
   "metadata": {},
   "source": [
    "# Doubts"
   ]
  },
  {
   "cell_type": "code",
   "execution_count": null,
   "metadata": {},
   "outputs": [],
   "source": []
  },
  {
   "cell_type": "markdown",
   "metadata": {},
   "source": [
    "### OMOP to Episode Event\n",
    "\n",
    "What to do with Disease status because the db data does not match the tada in the excel.\n",
    "32946, 32947, 32949,32948=>'FIRST_EPISODE','PROGRESSION','RECURRENCE','STABLE_DISEASE'\n"
   ]
  },
  {
   "cell_type": "code",
   "execution_count": null,
   "metadata": {},
   "outputs": [],
   "source": [
    "queryGetEpisode=\"\"\"SELECT id FROM cancer_episode\n",
    "    WHERE patient_id=%s AND date_of_diagnosis=%s;\"\"\"\n",
    "\n",
    "selectAllQuery=\"\"\"SELECT person_id, episode_start_date, episode_parent_id, episode_id FROM episode \n",
    "    WHERE episode_parent_id IS NOT NULL AND episode_concept_id IN (32946, 32947, 32949,32948);\n",
    "\"\"\"  \n",
    "\n",
    "queryGetDataParentEpisode=\"\"\"SELECT episode_start_date FROM episode WHERE episode_id=%s;\"\"\"\n",
    "\n",
    "insertQuery=\"\"\"\n",
    "    INSERT INTO cancer_episode (date_of_episode, defined_at, event_type, cancer_episode) VALUES (%s, %s, %s, %s);\"\"\"\n",
    "queryDefinedAt=\"\"\"\n",
    "    SELECT care_site_id FROM provider WHERE provider_id IN(SELECT provider_id FROM procedure_occurrence\n",
    "    INNER JOIN episode_event ON procedure_occurence.procedure_id=episode_event.event_id WHERE event_id=%s AND episode_event_field_concept_id=1147129);\"\"\"\n",
    "\n",
    "curOMOP.execute(selectAllQuery)\n",
    "episodes = curOMOP.fetchall()\n",
    "for episode in episodes:\n",
    "    curOMOP.execute(queryGetDataParentEpisode, (episode[2]))\n",
    "    parentEpisodeDate = curOMOP.fetchone()\n",
    "    curIDEA.execute(queryGetEpisode, (episode[0], parentEpisodeDate[0]))\n",
    "    episodeId = curIDEA.fetchone()\n",
    "    curOMOP.execute(queryDefinedAt,(episode[3]))\n",
    "    care_site=curOMOP.fetchone()\n",
    "    curIDEA.execute(insertQuery, (episode[1], care_site, ???, episodeId[0]))\n",
    "\n",
    "\n",
    "conn2.commit()\n"
   ]
  },
  {
   "cell_type": "markdown",
   "metadata": {},
   "source": [
    "### Is diagnosis...?\n",
    "\n",
    "We need the measurement concept id to be able to do this"
   ]
  },
  {
   "cell_type": "code",
   "execution_count": null,
   "metadata": {},
   "outputs": [],
   "source": [
    "getMeasurementsIsWrongIsNew=\"\"\"\n",
    "    SELECT \n",
    "\"\"\""
   ]
  }
 ],
 "metadata": {
  "language_info": {
   "name": "python"
  }
 },
 "nbformat": 4,
 "nbformat_minor": 2
}
