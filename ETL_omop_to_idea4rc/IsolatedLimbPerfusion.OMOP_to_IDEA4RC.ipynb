{
 "cells": [
  {
   "cell_type": "markdown",
   "metadata": {},
   "source": [
    "# From OMOP to IDEA4RC Isolated Limb Perfusion"
   ]
  },
  {
   "cell_type": "code",
   "execution_count": null,
   "metadata": {},
   "outputs": [],
   "source": [
    "import mysql.connector\n",
    "import pandas as pd\n",
    "import psycopg2\n",
    "import random\n",
    "import numpy as np\n",
    "from datetime import datetime, timedelta\n",
    "from uuid import uuid4"
   ]
  },
  {
   "cell_type": "code",
   "execution_count": null,
   "metadata": {},
   "outputs": [],
   "source": [
    "conn = psycopg2.connect(\n",
    "    dbname=\"omopdb\",\n",
    "    user=\"postgres\",\n",
    "    password=\"mysecretpassword\",\n",
    "    host=\"localhost\",\n",
    "    port=\"5432\"\n",
    ")\n",
    "\n",
    "curOMOP = conn.cursor()\n",
    "config = {\n",
    "    'user': 'user', \n",
    "    'password': 'password',\n",
    "    'host': '127.0.0.1',\n",
    "    'database': 'idea4rc_dm',\n",
    "    'raise_on_warnings': True\n",
    "}\n",
    "\n",
    "conn2 = mysql.connector.connect(**config)\n",
    "curIDEA = conn2.cursor()"
   ]
  },
  {
   "cell_type": "markdown",
   "metadata": {},
   "source": [
    "### From Procedure Occurrence and Episode to Isolated Limb Perfusion"
   ]
  },
  {
   "cell_type": "code",
   "execution_count": null,
   "metadata": {},
   "outputs": [],
   "source": [
    "getProcedures=\"\"\"\n",
    "    SELECT procedure_occurrence_id, procedure_date, procedure_end_date, provider_id, person_id FROM procedure_occurrence WHERE procedure_concept_id=4019656;\n",
    "\"\"\"\n",
    "\n",
    "getCareSiteName=\"\"\"\n",
    "    SELECT care_site_name FROM care_site WHERE care_site_id IN (SELECT care_site_id FROM provider WHERE provider_id = %s);\n",
    "\"\"\"\n",
    "\n",
    "getResponse=\"\"\"\n",
    "    SELECT episode_concept_id FROM episode WHERE episode_id IN (SELECT episode_if FROM episode_event WERE event_id= %s AND episode_event_field_concept_id=1147082);\n",
    "\"\"\"\n",
    "insertIsolated=\"\"\"\n",
    "    INSERT INTO isolated_limb_perfusion (episode_event,end_date,start_date,treatment_response,type_of_local_treatment) VALUES (%s,%s,%s,%s,%s);\n",
    "\"\"\"\n",
    "\n",
    "getIDEAEpisode=\"\"\"\n",
    "    SELECT id FROM episode_event WHERE start_date=%s AND cancer_episode IN(SELECT id FROM cancer_episode WHERE patient_id=%s);\n",
    "\"\"\"\n",
    "curOMOP.execute(getProcedures)\n",
    "procedures = curOMOP.fetchall()\n",
    "\n",
    "for procedure in procedures:\n",
    "    procedure_occurrence_id = procedure[0]\n",
    "    procedure_date = procedure[1]\n",
    "    procedure_end_date = procedure[2]\n",
    "    provider_id = procedure[3]\n",
    "    curIDEA.execute(getCareSiteName, (provider_id))\n",
    "    care_site_name = curIDEA.fetchone()[0]\n",
    "    curOMOP.execute(getResponse, (procedure_occurrence_id))\n",
    "    response = curOMOP.fetchone()[0]\n",
    "    curIDEA.execute(getIDEAEpisode, (procedure_date, procedure[4]))\n",
    "    episode_event = curIDEA.fetchone()[0]\n",
    "    curOMOP.execute(insertIsolated, (episode_event, procedure_end_date, procedure_date, response, care_site_name))\n",
    "    conn.commit()\n",
    "    "
   ]
  }
 ],
 "metadata": {
  "language_info": {
   "name": "python"
  }
 },
 "nbformat": 4,
 "nbformat_minor": 2
}
