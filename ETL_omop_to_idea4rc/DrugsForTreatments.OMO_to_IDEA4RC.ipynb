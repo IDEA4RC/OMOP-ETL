{
 "cells": [
  {
   "cell_type": "markdown",
   "metadata": {},
   "source": [
    "# OMOP to Drugs For Treatments"
   ]
  },
  {
   "cell_type": "markdown",
   "metadata": {},
   "source": [
    "As in from IDEA4RC to OMOP, this is not clear yet and it is hard to understand the mapping in: https://docs.google.com/spreadsheets/d/1Vw1Dr2K4oG__cDQTutGaJhZvGUvQTLwc4qWreP6qMSs/edit?gid=634754097#gid=634754097 "
   ]
  },
  {
   "cell_type": "code",
   "execution_count": null,
   "metadata": {},
   "outputs": [],
   "source": [
    "import mysql.connector\n",
    "import pandas as pd\n",
    "import psycopg2\n",
    "import random\n",
    "import numpy as np\n",
    "from datetime import datetime, timedelta"
   ]
  },
  {
   "cell_type": "code",
   "execution_count": null,
   "metadata": {},
   "outputs": [],
   "source": [
    "conn = psycopg2.connect(\n",
    "    dbname=\"omopdb\",\n",
    "    user=\"postgres\",\n",
    "    password=\"mysecretpassword\",\n",
    "    host=\"localhost\",\n",
    "    port=\"5432\"\n",
    ")\n",
    "\n",
    "curOMOP = conn.cursor()\n",
    "\n",
    "config = {\n",
    "    'user': 'user', \n",
    "    'password': 'password',\n",
    "    'host': '127.0.0.1',\n",
    "    'database': 'idea4rc_dm',\n",
    "    'raise_on_warnings': True\n",
    "}\n",
    "\n",
    "conn2 = mysql.connector.connect(**config)\n",
    "curIDEA = conn2.cursor()"
   ]
  },
  {
   "cell_type": "code",
   "execution_count": null,
   "metadata": {},
   "outputs": [],
   "source": [
    "getProcedureOccurrenceType= \"\"\"\n",
    "    SELECT procedure_concept_id FROM procedure_occurrence\n",
    "    procedure_occurrence_id IN (SELECT event_id FROM episode_event WHERE episode_id=%s);\n",
    "\"\"\"\n",
    "\n",
    "queryAllExposures = \"\"\"\n",
    "    SELECT person_id, drug_concept_id, drug_exposure_start_date, drug_exposure_end_date, ep.episode_id FROM drug_exposure\n",
    "    INNER JOIN episode_event ep ON ep.event_id=drug_exposure.drug_exposure_id\n",
    "    WHERE episode_event_field_concept_id=1147094;\n",
    "\"\"\"\n",
    "\n",
    "queryGetOriginalEpisode= \"\"\"\n",
    "    SELECT episode_start_date, episode_end_date FROM episode_event WHERE id=%s;\n",
    "\"\"\"\n",
    "\n",
    "getParentId= \"\"\"\n",
    "    SELECT parent_id FROM episode WHERE episode_id=%s;\n",
    "\"\"\"\n",
    "\n",
    "curOMOP.execute(queryAllExposures)\n",
    "exposures=curOMOP.fetchall()\n",
    "\n",
    "\n",
    "for exposure in exposures:\n",
    "    curOMOP.execute(getProcedureOccurrenceType, (exposure[0], exposure[2, exposure[3]]))\n",
    "    type = curOMOP.fetchone()\n",
    "    table=None\n",
    "    if type in (912065,40310107,4273629):\n",
    "        table=\"systemic_treatment\"\n",
    "    elif type in (4137449,9177):\n",
    "        table=\"other_local_treatment\"\n",
    "    elif type == 4019656:\n",
    "        table=\"isolated_limb_perfusion\"\n",
    "    \n",
    "    sqlGetForeignKey = \"\"\"\n",
    "        SELECT id FROM {table} WHERE start_date=%s AND end_date=%s\n",
    "        AND episode_event IN (SELECT id FROM episode_event WHERE patient=%s);\n",
    "    \"\"\"\n",
    "    curOMOP.execute(getParentId, (exposure[4]))\n",
    "    parentId = curOMOP.fetchone()\n",
    "    curOMOP.execute(queryGetOriginalEpisode, (parentId))\n",
    "    episode = curOMOP.fetchone()\n",
    "    curIDEA.execute(sqlGetForeignKey.format(table=table), (episode[0], episode[1], exposure[0]))\n",
    "    foreignKey = curIDEA.fetchone()\n",
    "    insertQuery = \"\"\"\n",
    "        INSERT INTO drugs_for_treatments ({table},drug)\n",
    "        VALUES (%s, %s);\n",
    "    \"\"\"\n",
    "    curIDEA.execute(insertQuery.format(table=table), (foreignKey, exposure[1]))\n",
    "    conn2.commit()"
   ]
  },
  {
   "cell_type": "code",
   "execution_count": null,
   "metadata": {},
   "outputs": [],
   "source": []
  }
 ],
 "metadata": {
  "language_info": {
   "name": "python"
  }
 },
 "nbformat": 4,
 "nbformat_minor": 2
}
