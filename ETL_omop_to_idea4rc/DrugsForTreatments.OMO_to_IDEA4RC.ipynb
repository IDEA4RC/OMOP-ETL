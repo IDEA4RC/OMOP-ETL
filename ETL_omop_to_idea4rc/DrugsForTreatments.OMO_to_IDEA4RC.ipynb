{
 "cells": [
  {
   "cell_type": "markdown",
   "metadata": {},
   "source": [
    "# OMOP to Drugs For Treatments"
   ]
  },
  {
   "cell_type": "markdown",
   "metadata": {},
   "source": [
    "As in from IDEA4RC to OMOP, this is not clear yet and it is hard to understand the mapping in: https://docs.google.com/spreadsheets/d/1Vw1Dr2K4oG__cDQTutGaJhZvGUvQTLwc4qWreP6qMSs/edit?gid=634754097#gid=634754097 "
   ]
  },
  {
   "cell_type": "code",
   "execution_count": null,
   "metadata": {},
   "outputs": [],
   "source": [
    "import mysql.connector\n",
    "import pandas as pd\n",
    "import psycopg2\n",
    "import random\n",
    "import numpy as np\n",
    "from datetime import datetime, timedelta"
   ]
  },
  {
   "cell_type": "code",
   "execution_count": null,
   "metadata": {},
   "outputs": [],
   "source": [
    "conn = psycopg2.connect(\n",
    "    dbname=\"omopdb\",\n",
    "    user=\"postgres\",\n",
    "    password=\"mysecretpassword\",\n",
    "    host=\"localhost\",\n",
    "    port=\"5432\"\n",
    ")\n",
    "\n",
    "curOMOP = conn.cursor()\n",
    "\n",
    "config = {\n",
    "    'user': 'user', \n",
    "    'password': 'password',\n",
    "    'host': '127.0.0.1',\n",
    "    'database': 'idea4rc_dm',\n",
    "    'raise_on_warnings': True\n",
    "}\n",
    "\n",
    "conn2 = mysql.connector.connect(**config)\n",
    "curIDEA = conn2.cursor()"
   ]
  },
  {
   "cell_type": "code",
   "execution_count": null,
   "metadata": {},
   "outputs": [],
   "source": [
    "getProcedureOccurrenceType= \"\"\"\n",
    "    SELECT procedure_concept_id FROM procedure_occurrence\n",
    "    WHERE person_id = %s AND procedure_date=%s AND procedure_end_date=%s\n",
    "    LIMIT 1; \n",
    "\"\"\"\n",
    "\n",
    "queryAllExposures = \"\"\"\n",
    "    SELECT person_id, drug_concept_id, drug_exposure_start_date, drug_exposure_end_date FROM drug_exposure;\n",
    "\"\"\"\n",
    "\n",
    "curOMOP.execute(queryAllExposures)\n",
    "exposures=curOMOP.fetchall()\n",
    "\n",
    "\n",
    "for exposure in exposures:\n",
    "    curOMOP.execute(getProcedureOccurrenceType, (exposure[0], exposure[2, exposure[3]]))\n",
    "    type = curOMOP.fetchone()\n"
   ]
  }
 ],
 "metadata": {
  "language_info": {
   "name": "python"
  }
 },
 "nbformat": 4,
 "nbformat_minor": 2
}
