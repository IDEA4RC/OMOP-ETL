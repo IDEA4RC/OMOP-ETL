{
 "cells": [
  {
   "cell_type": "markdown",
   "metadata": {},
   "source": [
    "# From OMOP to IDEA4RC Radiotherapy NEED TO FINISH\n",
    "\n",
    "we have the problem with the neck and neck surgeries that still needs further calrification\n",
    "\n"
   ]
  },
  {
   "cell_type": "code",
   "execution_count": null,
   "metadata": {},
   "outputs": [],
   "source": [
    "import mysql.connector\n",
    "import pandas as pd\n",
    "import psycopg2\n",
    "import random\n",
    "import numpy as np\n",
    "from datetime import datetime, timedelta\n",
    "from uuid import uuid4"
   ]
  },
  {
   "cell_type": "code",
   "execution_count": null,
   "metadata": {},
   "outputs": [],
   "source": [
    "conn = psycopg2.connect(\n",
    "    dbname=\"omopdb\",\n",
    "    user=\"postgres\",\n",
    "    password=\"mysecretpassword\",\n",
    "    host=\"localhost\",\n",
    "    port=\"5432\"\n",
    ")\n",
    "\n",
    "curOMOP = conn.cursor()\n",
    "config = {\n",
    "    'user': 'user', \n",
    "    'password': 'password',\n",
    "    'host': '127.0.0.1',\n",
    "    'database': 'idea4rc_dm',\n",
    "    'raise_on_warnings': True\n",
    "}\n",
    "\n",
    "conn2 = mysql.connector.connect(**config)\n",
    "curIDEA = conn2.cursor()"
   ]
  },
  {
   "cell_type": "markdown",
   "metadata": {},
   "source": [
    "### From OMOP to Radiotherapy\n",
    "\n",
    "We will be doing all the steps at once so it is more simple\n",
    "\n",
    "WHAT TO DO WITH THE CUSTOM CODES?"
   ]
  },
  {
   "cell_type": "code",
   "execution_count": null,
   "metadata": {},
   "outputs": [],
   "source": [
    "selectProcedures=\"\"\"\n",
    "SELECT \n",
    "    procedure_occurrence_id, procedure_concept_id, procedure_date \n",
    "    FROM procedure_occurrence\n",
    "    WHERE procedure_concept_id IN (4059384, 4058775);\n",
    "\"\"\"\n",
    "\n",
    "selectEpisodeData=\"\"\"\n",
    "    SELECT episode_concept_id, parent_episode_id FROM episode WHERE episode_id IN (\n",
    "    SELECT episode_id FROM episode_event WHERE event_id=%s AND episode_event_field_concept_id=1147082);\n",
    "\"\"\"\n",
    "\n",
    "selectDataParentEpisode=\"\"\"\n",
    "    SELECT episode_start_date FROM episode WHERE episode_id=%s;\n",
    "\"\"\"\n",
    "\n",
    "selectEpisodeEventIDEA=\"\"\"\n",
    "    SELECT id FROM episode_event WHERE cancer_episode IN (\n",
    "    SELECT id FROM cancer_episode WHERE patient_id=%s AND date_of_diagnosis=%s);\n",
    "\"\"\"\n",
    "\n",
    "measurementsConceptIds={\n",
    "    \"primaryOnly\":(4301351,4315400,4217482,4181193),\n",
    "    \"neckOnly\":None,#THIS SHOULD NOT BE A MEASUREMENT\n",
    "    \"primaryAndIpsilateralNeck\":,\n",
    "    \"primaryAndBilateralNeck\",\n",
    "    \"distantMetastasis\",\n",
    "    \"lung\",\n",
    "    \"mediastinum\",\n",
    "    \"bone\",\n",
    "    \"softTissue\",\n",
    "    \"liver\",\n",
    "    \"treatmentCompletedAsPlanned\",\n",
    "    \"beamQuality\":(607996,4165039,607995,4024005,4012485,4161415,4058601,4077953),\n",
    "    \"otherSpecify\":????,\n",
    "    \"treatmentTechnique\":(603132,37156151,40480519,603135,3662120,4215577,37156211,4077990),\n",
    "    \"totalDoseGy\":????????, #integer\n",
    "    \"numberOfFractions\":4037631,  #integer\n",
    "    \"adaptiveRt\",\n",
    "    \"igrt\"\n",
    "}"
   ]
  }
 ],
 "metadata": {
  "language_info": {
   "name": "python"
  }
 },
 "nbformat": 4,
 "nbformat_minor": 2
}
