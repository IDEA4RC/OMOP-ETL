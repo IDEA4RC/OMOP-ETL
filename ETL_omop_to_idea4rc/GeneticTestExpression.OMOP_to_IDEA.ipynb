{
 "cells": [
  {
   "cell_type": "markdown",
   "metadata": {},
   "source": [
    "# Genetic Test Expression from OMOP to IDEA"
   ]
  },
  {
   "cell_type": "code",
   "execution_count": null,
   "metadata": {},
   "outputs": [],
   "source": [
    "import mysql.connector\n",
    "import pandas as pd\n",
    "import psycopg2\n",
    "import random\n",
    "import numpy as np\n",
    "from datetime import datetime, timedelta"
   ]
  },
  {
   "cell_type": "code",
   "execution_count": null,
   "metadata": {},
   "outputs": [],
   "source": [
    "conn = psycopg2.connect(\n",
    "    dbname=\"omopdb\",\n",
    "    user=\"postgres\",\n",
    "    password=\"mysecretpassword\",\n",
    "    host=\"localhost\",\n",
    "    port=\"5432\"\n",
    ")\n",
    "\n",
    "curOMOP = conn.cursor()\n",
    "config = {\n",
    "    'user': 'user', \n",
    "    'password': 'password',\n",
    "    'host': '127.0.0.1',\n",
    "    'database': 'idea4rc_dm',\n",
    "    'raise_on_warnings': True\n",
    "}\n",
    "\n",
    "conn2 = mysql.connector.connect(**config)\n",
    "curIDEA = conn2.cursor()"
   ]
  },
  {
   "cell_type": "markdown",
   "metadata": {},
   "source": []
  },
  {
   "cell_type": "code",
   "execution_count": null,
   "metadata": {},
   "outputs": [],
   "source": [
    "vocabs = {\n",
    "    \"gene_expression_analysis_performed\": 44808037,\n",
    "    \"gene_mutation_analysis_performed\": 4038339,\n",
    "    \"tests_for_chromosome_translocations_performed\": 4039364,\n",
    "    \"ngs_performed\": 40485067,\n",
    "    \"pcr_test_performed\": 40482792,\n",
    "    \"immunohistochemistry_performed\": 4035726,\n",
    "    \"ct_dna_performed\": 19387013,\n",
    "}\n",
    "\n",
    "columns = {\n",
    "    \"gene_expression_analysis_performed\": \"date_of_gene_expression\",\n",
    "    \"gene_mutation_analysis_performed\": \"date_of_gene_mutation\",\n",
    "    \"tests_for_chromosome_translocations_performed\": \"date_of_translocation\",\n",
    "    \"ngs_performed\": \"date_of_ngs\",\n",
    "    \"pcr_test_performed\": \"date_of_pcr\",\n",
    "    \"immunohistochemistry_performed\": \"date_of_immunohistochemistry\",\n",
    "    \"ct_dna_performed\": \"date_of_ct_dna\"\n",
    "}\n",
    "\n",
    "selectProcOcurr = \"\"\"SELECT person_id, procedure_date,  FROM procedure_occurrence \n",
    "    INNER JOIN visit_occurrence ON procedure_occurrence.visit_occurrence_id = visit_occurrence.visit_occurrence_id\n",
    "    WHERE procedure_concept_id=%s\"\"\"\n",
    "\n",
    "def insert(colName,value,date,dateCol,idLine):\n",
    "    updt=\"UPDATE genetic_test_expression SET {colName} = %s AND {dateCol} = %s WHERE id=%s\"\n",
    "    curIDEA.execute(updt,(value,date,idLine))\n",
    "    conn2.commit()\n",
    "\n",
    "for column in vocabs.keys():\n",
    "    curIDEA.execute(selectProcOcurr,(vocabs[column]))\n",
    "    for row in curIDEA.fetchall():\n",
    "        idLine = row[0]\n",
    "        date = row[1]\n",
    "        value = random.choice([0,1])\n",
    "        insert(column,value,date,columns[column],idLine)"
   ]
  }
 ],
 "metadata": {
  "language_info": {
   "name": "python"
  }
 },
 "nbformat": 4,
 "nbformat_minor": 2
}
