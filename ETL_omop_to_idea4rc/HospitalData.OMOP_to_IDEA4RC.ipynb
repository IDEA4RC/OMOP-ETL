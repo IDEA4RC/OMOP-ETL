{
 "cells": [
  {
   "cell_type": "markdown",
   "id": "4ab38b29-1fb6-40fe-96ab-f1e5d666176a",
   "metadata": {},
   "source": [
    "# OMOP to Patient"
   ]
  },
  {
   "cell_type": "code",
   "execution_count": 1,
   "id": "b1523442-1669-4cb2-8afb-b2f95a92c1e6",
   "metadata": {},
   "outputs": [
    {
     "ename": "ModuleNotFoundError",
     "evalue": "No module named 'mysql'",
     "output_type": "error",
     "traceback": [
      "\u001b[0;31m---------------------------------------------------------------------------\u001b[0m",
      "\u001b[0;31mModuleNotFoundError\u001b[0m                       Traceback (most recent call last)",
      "Cell \u001b[0;32mIn[1], line 1\u001b[0m\n\u001b[0;32m----> 1\u001b[0m \u001b[38;5;28;01mimport\u001b[39;00m \u001b[38;5;21;01mmysql\u001b[39;00m\u001b[38;5;21;01m.\u001b[39;00m\u001b[38;5;21;01mconnector\u001b[39;00m\n\u001b[1;32m      2\u001b[0m \u001b[38;5;28;01mimport\u001b[39;00m \u001b[38;5;21;01mpandas\u001b[39;00m \u001b[38;5;28;01mas\u001b[39;00m \u001b[38;5;21;01mpd\u001b[39;00m\n\u001b[1;32m      3\u001b[0m \u001b[38;5;28;01mimport\u001b[39;00m \u001b[38;5;21;01mpsycopg2\u001b[39;00m\n",
      "\u001b[0;31mModuleNotFoundError\u001b[0m: No module named 'mysql'"
     ]
    }
   ],
   "source": [
    "import mysql.connector\n",
    "import pandas as pd\n",
    "import psycopg2\n",
    "import random\n",
    "import numpy as np\n",
    "from datetime import datetime, timedelta"
   ]
  },
  {
   "cell_type": "code",
   "execution_count": null,
   "id": "55b46559-8890-402d-a1a0-b10e07016527",
   "metadata": {},
   "outputs": [],
   "source": [
    "conn = psycopg2.connect(\n",
    "    dbname=\"omopdb\",\n",
    "    user=\"postgres\",\n",
    "    password=\"mysecretpassword\",\n",
    "    host=\"localhost\",\n",
    "    port=\"5432\"\n",
    ")\n",
    "\n",
    "curOMOP = conn.cursor()"
   ]
  },
  {
   "cell_type": "code",
   "execution_count": null,
   "id": "d6712a77-11ed-4b1e-ac00-de87f3a33153",
   "metadata": {},
   "outputs": [],
   "source": [
    "config = {\n",
    "    'user': 'user', \n",
    "    'password': 'password',\n",
    "    'host': '127.0.0.1',\n",
    "    'database': 'idea4rc_dm',\n",
    "    'raise_on_warnings': True\n",
    "}\n",
    "\n",
    "conn2 = mysql.connector.connect(**config)\n",
    "curIDEA = conn2.cursor()"
   ]
  },
  {
   "cell_type": "markdown",
   "id": "42275b0e-189e-4895-af7e-c177f6ddd6d7",
   "metadata": {},
   "source": [
    "### Care Site to Hospital Data"
   ]
  },
  {
   "cell_type": "code",
   "execution_count": null,
   "id": "bffdac54-9354-4beb-aef4-8fb8ab6b218d",
   "metadata": {},
   "outputs": [],
   "source": [
    "query= \"\"\"\n",
    "    SELECT c.care_site_id, c.care_site_name \n",
    "    FROM care_site c\n",
    "\"\"\"\n",
    "\n",
    "insert_query = \"\"\"\n",
    "    INSERT INTO hospital_data (id, hospital_name)\n",
    "    VALUES (%s, %s)\n",
    "\"\"\"\n",
    "\n",
    "curOMOP.execute(query)\n",
    "\n",
    "results = curOMOP.fetchall()\n",
    "\n",
    "for row in results:\n",
    "    id_hospital = row[0]\n",
    "    hospital_name = row[1]\n",
    "    curIDEA.execute(insert_query, (id_hospital, hospital_name))\n",
    "    conn2.commit()"
   ]
  }
 ],
 "metadata": {
  "kernelspec": {
   "display_name": "Python 3 (ipykernel)",
   "language": "python",
   "name": "python3"
  },
  "language_info": {
   "codemirror_mode": {
    "name": "ipython",
    "version": 3
   },
   "file_extension": ".py",
   "mimetype": "text/x-python",
   "name": "python",
   "nbconvert_exporter": "python",
   "pygments_lexer": "ipython3",
   "version": "3.10.12"
  }
 },
 "nbformat": 4,
 "nbformat_minor": 5
}
